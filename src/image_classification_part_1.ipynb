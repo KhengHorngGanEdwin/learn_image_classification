{
 "cells": [
  {
   "cell_type": "markdown",
   "metadata": {},
   "source": [
    "# Image Classification"
   ]
  },
  {
   "cell_type": "markdown",
   "metadata": {},
   "source": [
    "## Intro to Image Classification\n",
    "\n",
    "**Responsible Person: Akshi**\n",
    "\n",
    "**Estimated Duration: 15 mins**\n",
    "\n",
    "### What is Image Classification?\n",
    "\n",
    "Image classification is the process of determining what is shown in an image.\n",
    "\n",
    "[Silicon Valley - Hot Dog Not Hot Dog](https://www.youtube.com/watch?v=ACmydtFDTGs)\n",
    "\n",
    "We can use deep learning to do this for us. When classifying images using deep learning, we use a convolutional neural network (CNN). CNNs are specifically designed to process images. For this session, we will steer clear of the theory behind CNN's and focus on the practical stuff.\n",
    "\n",
    "![https://www.google.ca/url?sa=i&rct=j&q=&esrc=s&source=images&cd=&cad=rja&uact=8&ved=2ahUKEwi5gPbtgofdAhUVIDQIHaWvCvgQjRx6BAgBEAU&url=https%3A%2F%2Fgithub.com%2Ftavgreen%2Flanduse_classification&psig=AOvVaw0a9VXQ-t1Hm1QcJnpfawaa&ust=1535245687702429](../additional/img/number_3_cnn.png)\n",
    "\n",
    "## How do CNNs learn to classify?\n",
    "\n",
    "First we need to decide what we want to teach our model.\n",
    "\n",
    "Do we want our model to correctly identify:\n",
    "\n",
    "* Cats and dogs?\n",
    "\n",
    "* Different types of cats?\n",
    "\n",
    "* Different types of dogs?\n",
    "\n",
    "* Different types of flowers?\n",
    "\n",
    "* Everything?\n",
    "\n",
    "CNNs work in a similar way as a human brain (inspired by the way the visual cortex works). If we, as humans, are exposed to something new, it takes time for us to learn what it is.\n",
    "\n",
    "### Can you identify this berry?\n",
    "\n",
    "![](../additional/img/Wild_red_baneberry_1.jpg)\n",
    "\n",
    "If our brain hasn't been exposed to to something, classification becomes a guessing game. This applies to deep learning as well.\n",
    "\n",
    "We need to teach our model what different berries look like.\n",
    "\n",
    "\n",
    "\n",
    "\n",
    "We need to train our model what the difference is between the different classes.\n",
    "\n",
    "After training, when the model is faced with a new image that it hasn't seen before, it needs to decide for itself what is most likely shown in the image.\n",
    "\n",
    "![](../additional/img/cat_dog.png)\n",
    "\n",
    "![](../additional/img/cat_dog_2.jpg)"
   ]
  },
  {
   "cell_type": "markdown",
   "metadata": {},
   "source": [
    "## Model Training / Retraining\n",
    "\n",
    "**Responsible Person: Xinbin**\n",
    "\n",
    "**Estimated Duration: 15 mins**\n",
    "\n",
    "### Notes\n",
    "\n",
    "* All attendees to image same image dataset\n",
    "\n",
    "* Hyperparameters to be constant\n",
    "\n",
    "* Explain pretrained architechture\n",
    "\n",
    "* Explain transfer learning (how general image features are being used)\n",
    "\n",
    "* Give a simplified explanation of the bottleneck layer and softmamx. Can talk about how it relates to probabilities and how the class with the highest probability is most likely the correct class."
   ]
  },
  {
   "cell_type": "markdown",
   "metadata": {},
   "source": [
    "## Tensorboard\n",
    "\n",
    "**Responsible Person: Johannes**\n",
    "\n",
    "**Estimated Duration: 10 mins**\n",
    "\n"
   ]
  },
  {
   "cell_type": "code",
   "execution_count": 16,
   "metadata": {},
   "outputs": [
    {
     "data": {
      "text/plain": [
       "['image_classification_part_1.ipynb', 'scripts']"
      ]
     },
     "execution_count": 16,
     "metadata": {},
     "output_type": "execute_result"
    }
   ],
   "source": [
    "%system ls"
   ]
  },
  {
   "cell_type": "code",
   "execution_count": 7,
   "metadata": {},
   "outputs": [
    {
     "name": "stdout",
     "output_type": "stream",
     "text": [
      "INFO:tensorflow:Looking for images in 'cat'\n"
     ]
    },
    {
     "name": "stderr",
     "output_type": "stream",
     "text": [
      "INFO:tensorflow:Looking for images in 'cat'\n"
     ]
    },
    {
     "name": "stdout",
     "output_type": "stream",
     "text": [
      "INFO:tensorflow:Looking for images in 'dog'\n"
     ]
    },
    {
     "name": "stderr",
     "output_type": "stream",
     "text": [
      "INFO:tensorflow:Looking for images in 'dog'\n"
     ]
    },
    {
     "name": "stdout",
     "output_type": "stream",
     "text": [
      "INFO:tensorflow:Initialize variable module/MobilenetV1/Conv2d_0/BatchNorm/beta:0 from checkpoint b'/tmp/tfhub_modules/14d65617a151aa220a82c2a2c5ad68d504abbccf/variables/variables' with MobilenetV1/Conv2d_0/BatchNorm/beta\n"
     ]
    },
    {
     "name": "stderr",
     "output_type": "stream",
     "text": [
      "INFO:tensorflow:Initialize variable module/MobilenetV1/Conv2d_0/BatchNorm/beta:0 from checkpoint b'/tmp/tfhub_modules/14d65617a151aa220a82c2a2c5ad68d504abbccf/variables/variables' with MobilenetV1/Conv2d_0/BatchNorm/beta\n"
     ]
    },
    {
     "name": "stdout",
     "output_type": "stream",
     "text": [
      "INFO:tensorflow:Initialize variable module/MobilenetV1/Conv2d_0/BatchNorm/gamma:0 from checkpoint b'/tmp/tfhub_modules/14d65617a151aa220a82c2a2c5ad68d504abbccf/variables/variables' with MobilenetV1/Conv2d_0/BatchNorm/gamma\n"
     ]
    },
    {
     "name": "stderr",
     "output_type": "stream",
     "text": [
      "INFO:tensorflow:Initialize variable module/MobilenetV1/Conv2d_0/BatchNorm/gamma:0 from checkpoint b'/tmp/tfhub_modules/14d65617a151aa220a82c2a2c5ad68d504abbccf/variables/variables' with MobilenetV1/Conv2d_0/BatchNorm/gamma\n"
     ]
    },
    {
     "name": "stdout",
     "output_type": "stream",
     "text": [
      "INFO:tensorflow:Initialize variable module/MobilenetV1/Conv2d_0/BatchNorm/moving_mean:0 from checkpoint b'/tmp/tfhub_modules/14d65617a151aa220a82c2a2c5ad68d504abbccf/variables/variables' with MobilenetV1/Conv2d_0/BatchNorm/moving_mean\n"
     ]
    },
    {
     "name": "stderr",
     "output_type": "stream",
     "text": [
      "INFO:tensorflow:Initialize variable module/MobilenetV1/Conv2d_0/BatchNorm/moving_mean:0 from checkpoint b'/tmp/tfhub_modules/14d65617a151aa220a82c2a2c5ad68d504abbccf/variables/variables' with MobilenetV1/Conv2d_0/BatchNorm/moving_mean\n"
     ]
    },
    {
     "name": "stdout",
     "output_type": "stream",
     "text": [
      "INFO:tensorflow:Initialize variable module/MobilenetV1/Conv2d_0/BatchNorm/moving_variance:0 from checkpoint b'/tmp/tfhub_modules/14d65617a151aa220a82c2a2c5ad68d504abbccf/variables/variables' with MobilenetV1/Conv2d_0/BatchNorm/moving_variance\n"
     ]
    },
    {
     "name": "stderr",
     "output_type": "stream",
     "text": [
      "INFO:tensorflow:Initialize variable module/MobilenetV1/Conv2d_0/BatchNorm/moving_variance:0 from checkpoint b'/tmp/tfhub_modules/14d65617a151aa220a82c2a2c5ad68d504abbccf/variables/variables' with MobilenetV1/Conv2d_0/BatchNorm/moving_variance\n"
     ]
    },
    {
     "name": "stdout",
     "output_type": "stream",
     "text": [
      "INFO:tensorflow:Initialize variable module/MobilenetV1/Conv2d_0/weights:0 from checkpoint b'/tmp/tfhub_modules/14d65617a151aa220a82c2a2c5ad68d504abbccf/variables/variables' with MobilenetV1/Conv2d_0/weights\n"
     ]
    },
    {
     "name": "stderr",
     "output_type": "stream",
     "text": [
      "INFO:tensorflow:Initialize variable module/MobilenetV1/Conv2d_0/weights:0 from checkpoint b'/tmp/tfhub_modules/14d65617a151aa220a82c2a2c5ad68d504abbccf/variables/variables' with MobilenetV1/Conv2d_0/weights\n"
     ]
    },
    {
     "name": "stdout",
     "output_type": "stream",
     "text": [
      "INFO:tensorflow:Initialize variable module/MobilenetV1/Conv2d_10_depthwise/BatchNorm/beta:0 from checkpoint b'/tmp/tfhub_modules/14d65617a151aa220a82c2a2c5ad68d504abbccf/variables/variables' with MobilenetV1/Conv2d_10_depthwise/BatchNorm/beta\n"
     ]
    },
    {
     "name": "stderr",
     "output_type": "stream",
     "text": [
      "INFO:tensorflow:Initialize variable module/MobilenetV1/Conv2d_10_depthwise/BatchNorm/beta:0 from checkpoint b'/tmp/tfhub_modules/14d65617a151aa220a82c2a2c5ad68d504abbccf/variables/variables' with MobilenetV1/Conv2d_10_depthwise/BatchNorm/beta\n"
     ]
    },
    {
     "name": "stdout",
     "output_type": "stream",
     "text": [
      "INFO:tensorflow:Initialize variable module/MobilenetV1/Conv2d_10_depthwise/BatchNorm/gamma:0 from checkpoint b'/tmp/tfhub_modules/14d65617a151aa220a82c2a2c5ad68d504abbccf/variables/variables' with MobilenetV1/Conv2d_10_depthwise/BatchNorm/gamma\n"
     ]
    },
    {
     "name": "stderr",
     "output_type": "stream",
     "text": [
      "INFO:tensorflow:Initialize variable module/MobilenetV1/Conv2d_10_depthwise/BatchNorm/gamma:0 from checkpoint b'/tmp/tfhub_modules/14d65617a151aa220a82c2a2c5ad68d504abbccf/variables/variables' with MobilenetV1/Conv2d_10_depthwise/BatchNorm/gamma\n"
     ]
    },
    {
     "name": "stdout",
     "output_type": "stream",
     "text": [
      "INFO:tensorflow:Initialize variable module/MobilenetV1/Conv2d_10_depthwise/BatchNorm/moving_mean:0 from checkpoint b'/tmp/tfhub_modules/14d65617a151aa220a82c2a2c5ad68d504abbccf/variables/variables' with MobilenetV1/Conv2d_10_depthwise/BatchNorm/moving_mean\n"
     ]
    },
    {
     "name": "stderr",
     "output_type": "stream",
     "text": [
      "INFO:tensorflow:Initialize variable module/MobilenetV1/Conv2d_10_depthwise/BatchNorm/moving_mean:0 from checkpoint b'/tmp/tfhub_modules/14d65617a151aa220a82c2a2c5ad68d504abbccf/variables/variables' with MobilenetV1/Conv2d_10_depthwise/BatchNorm/moving_mean\n"
     ]
    },
    {
     "name": "stdout",
     "output_type": "stream",
     "text": [
      "INFO:tensorflow:Initialize variable module/MobilenetV1/Conv2d_10_depthwise/BatchNorm/moving_variance:0 from checkpoint b'/tmp/tfhub_modules/14d65617a151aa220a82c2a2c5ad68d504abbccf/variables/variables' with MobilenetV1/Conv2d_10_depthwise/BatchNorm/moving_variance\n"
     ]
    },
    {
     "name": "stderr",
     "output_type": "stream",
     "text": [
      "INFO:tensorflow:Initialize variable module/MobilenetV1/Conv2d_10_depthwise/BatchNorm/moving_variance:0 from checkpoint b'/tmp/tfhub_modules/14d65617a151aa220a82c2a2c5ad68d504abbccf/variables/variables' with MobilenetV1/Conv2d_10_depthwise/BatchNorm/moving_variance\n"
     ]
    },
    {
     "name": "stdout",
     "output_type": "stream",
     "text": [
      "INFO:tensorflow:Initialize variable module/MobilenetV1/Conv2d_10_depthwise/depthwise_weights:0 from checkpoint b'/tmp/tfhub_modules/14d65617a151aa220a82c2a2c5ad68d504abbccf/variables/variables' with MobilenetV1/Conv2d_10_depthwise/depthwise_weights\n"
     ]
    },
    {
     "name": "stderr",
     "output_type": "stream",
     "text": [
      "INFO:tensorflow:Initialize variable module/MobilenetV1/Conv2d_10_depthwise/depthwise_weights:0 from checkpoint b'/tmp/tfhub_modules/14d65617a151aa220a82c2a2c5ad68d504abbccf/variables/variables' with MobilenetV1/Conv2d_10_depthwise/depthwise_weights\n"
     ]
    },
    {
     "name": "stdout",
     "output_type": "stream",
     "text": [
      "INFO:tensorflow:Initialize variable module/MobilenetV1/Conv2d_10_pointwise/BatchNorm/beta:0 from checkpoint b'/tmp/tfhub_modules/14d65617a151aa220a82c2a2c5ad68d504abbccf/variables/variables' with MobilenetV1/Conv2d_10_pointwise/BatchNorm/beta\n"
     ]
    },
    {
     "name": "stderr",
     "output_type": "stream",
     "text": [
      "INFO:tensorflow:Initialize variable module/MobilenetV1/Conv2d_10_pointwise/BatchNorm/beta:0 from checkpoint b'/tmp/tfhub_modules/14d65617a151aa220a82c2a2c5ad68d504abbccf/variables/variables' with MobilenetV1/Conv2d_10_pointwise/BatchNorm/beta\n"
     ]
    },
    {
     "name": "stdout",
     "output_type": "stream",
     "text": [
      "INFO:tensorflow:Initialize variable module/MobilenetV1/Conv2d_10_pointwise/BatchNorm/gamma:0 from checkpoint b'/tmp/tfhub_modules/14d65617a151aa220a82c2a2c5ad68d504abbccf/variables/variables' with MobilenetV1/Conv2d_10_pointwise/BatchNorm/gamma\n"
     ]
    },
    {
     "name": "stderr",
     "output_type": "stream",
     "text": [
      "INFO:tensorflow:Initialize variable module/MobilenetV1/Conv2d_10_pointwise/BatchNorm/gamma:0 from checkpoint b'/tmp/tfhub_modules/14d65617a151aa220a82c2a2c5ad68d504abbccf/variables/variables' with MobilenetV1/Conv2d_10_pointwise/BatchNorm/gamma\n"
     ]
    },
    {
     "name": "stdout",
     "output_type": "stream",
     "text": [
      "INFO:tensorflow:Initialize variable module/MobilenetV1/Conv2d_10_pointwise/BatchNorm/moving_mean:0 from checkpoint b'/tmp/tfhub_modules/14d65617a151aa220a82c2a2c5ad68d504abbccf/variables/variables' with MobilenetV1/Conv2d_10_pointwise/BatchNorm/moving_mean\n"
     ]
    },
    {
     "name": "stderr",
     "output_type": "stream",
     "text": [
      "INFO:tensorflow:Initialize variable module/MobilenetV1/Conv2d_10_pointwise/BatchNorm/moving_mean:0 from checkpoint b'/tmp/tfhub_modules/14d65617a151aa220a82c2a2c5ad68d504abbccf/variables/variables' with MobilenetV1/Conv2d_10_pointwise/BatchNorm/moving_mean\n"
     ]
    },
    {
     "name": "stdout",
     "output_type": "stream",
     "text": [
      "INFO:tensorflow:Initialize variable module/MobilenetV1/Conv2d_10_pointwise/BatchNorm/moving_variance:0 from checkpoint b'/tmp/tfhub_modules/14d65617a151aa220a82c2a2c5ad68d504abbccf/variables/variables' with MobilenetV1/Conv2d_10_pointwise/BatchNorm/moving_variance\n"
     ]
    },
    {
     "name": "stderr",
     "output_type": "stream",
     "text": [
      "INFO:tensorflow:Initialize variable module/MobilenetV1/Conv2d_10_pointwise/BatchNorm/moving_variance:0 from checkpoint b'/tmp/tfhub_modules/14d65617a151aa220a82c2a2c5ad68d504abbccf/variables/variables' with MobilenetV1/Conv2d_10_pointwise/BatchNorm/moving_variance\n"
     ]
    },
    {
     "name": "stdout",
     "output_type": "stream",
     "text": [
      "INFO:tensorflow:Initialize variable module/MobilenetV1/Conv2d_10_pointwise/weights:0 from checkpoint b'/tmp/tfhub_modules/14d65617a151aa220a82c2a2c5ad68d504abbccf/variables/variables' with MobilenetV1/Conv2d_10_pointwise/weights\n"
     ]
    },
    {
     "name": "stderr",
     "output_type": "stream",
     "text": [
      "INFO:tensorflow:Initialize variable module/MobilenetV1/Conv2d_10_pointwise/weights:0 from checkpoint b'/tmp/tfhub_modules/14d65617a151aa220a82c2a2c5ad68d504abbccf/variables/variables' with MobilenetV1/Conv2d_10_pointwise/weights\n"
     ]
    },
    {
     "name": "stdout",
     "output_type": "stream",
     "text": [
      "INFO:tensorflow:Initialize variable module/MobilenetV1/Conv2d_11_depthwise/BatchNorm/beta:0 from checkpoint b'/tmp/tfhub_modules/14d65617a151aa220a82c2a2c5ad68d504abbccf/variables/variables' with MobilenetV1/Conv2d_11_depthwise/BatchNorm/beta\n"
     ]
    },
    {
     "name": "stderr",
     "output_type": "stream",
     "text": [
      "INFO:tensorflow:Initialize variable module/MobilenetV1/Conv2d_11_depthwise/BatchNorm/beta:0 from checkpoint b'/tmp/tfhub_modules/14d65617a151aa220a82c2a2c5ad68d504abbccf/variables/variables' with MobilenetV1/Conv2d_11_depthwise/BatchNorm/beta\n"
     ]
    },
    {
     "name": "stdout",
     "output_type": "stream",
     "text": [
      "INFO:tensorflow:Initialize variable module/MobilenetV1/Conv2d_11_depthwise/BatchNorm/gamma:0 from checkpoint b'/tmp/tfhub_modules/14d65617a151aa220a82c2a2c5ad68d504abbccf/variables/variables' with MobilenetV1/Conv2d_11_depthwise/BatchNorm/gamma\n"
     ]
    },
    {
     "name": "stderr",
     "output_type": "stream",
     "text": [
      "INFO:tensorflow:Initialize variable module/MobilenetV1/Conv2d_11_depthwise/BatchNorm/gamma:0 from checkpoint b'/tmp/tfhub_modules/14d65617a151aa220a82c2a2c5ad68d504abbccf/variables/variables' with MobilenetV1/Conv2d_11_depthwise/BatchNorm/gamma\n"
     ]
    },
    {
     "name": "stdout",
     "output_type": "stream",
     "text": [
      "INFO:tensorflow:Initialize variable module/MobilenetV1/Conv2d_11_depthwise/BatchNorm/moving_mean:0 from checkpoint b'/tmp/tfhub_modules/14d65617a151aa220a82c2a2c5ad68d504abbccf/variables/variables' with MobilenetV1/Conv2d_11_depthwise/BatchNorm/moving_mean\n"
     ]
    },
    {
     "name": "stderr",
     "output_type": "stream",
     "text": [
      "INFO:tensorflow:Initialize variable module/MobilenetV1/Conv2d_11_depthwise/BatchNorm/moving_mean:0 from checkpoint b'/tmp/tfhub_modules/14d65617a151aa220a82c2a2c5ad68d504abbccf/variables/variables' with MobilenetV1/Conv2d_11_depthwise/BatchNorm/moving_mean\n"
     ]
    },
    {
     "name": "stdout",
     "output_type": "stream",
     "text": [
      "INFO:tensorflow:Initialize variable module/MobilenetV1/Conv2d_11_depthwise/BatchNorm/moving_variance:0 from checkpoint b'/tmp/tfhub_modules/14d65617a151aa220a82c2a2c5ad68d504abbccf/variables/variables' with MobilenetV1/Conv2d_11_depthwise/BatchNorm/moving_variance\n"
     ]
    },
    {
     "name": "stderr",
     "output_type": "stream",
     "text": [
      "INFO:tensorflow:Initialize variable module/MobilenetV1/Conv2d_11_depthwise/BatchNorm/moving_variance:0 from checkpoint b'/tmp/tfhub_modules/14d65617a151aa220a82c2a2c5ad68d504abbccf/variables/variables' with MobilenetV1/Conv2d_11_depthwise/BatchNorm/moving_variance\n"
     ]
    },
    {
     "name": "stdout",
     "output_type": "stream",
     "text": [
      "INFO:tensorflow:Initialize variable module/MobilenetV1/Conv2d_11_depthwise/depthwise_weights:0 from checkpoint b'/tmp/tfhub_modules/14d65617a151aa220a82c2a2c5ad68d504abbccf/variables/variables' with MobilenetV1/Conv2d_11_depthwise/depthwise_weights\n"
     ]
    },
    {
     "name": "stderr",
     "output_type": "stream",
     "text": [
      "INFO:tensorflow:Initialize variable module/MobilenetV1/Conv2d_11_depthwise/depthwise_weights:0 from checkpoint b'/tmp/tfhub_modules/14d65617a151aa220a82c2a2c5ad68d504abbccf/variables/variables' with MobilenetV1/Conv2d_11_depthwise/depthwise_weights\n"
     ]
    },
    {
     "name": "stdout",
     "output_type": "stream",
     "text": [
      "INFO:tensorflow:Initialize variable module/MobilenetV1/Conv2d_11_pointwise/BatchNorm/beta:0 from checkpoint b'/tmp/tfhub_modules/14d65617a151aa220a82c2a2c5ad68d504abbccf/variables/variables' with MobilenetV1/Conv2d_11_pointwise/BatchNorm/beta\n"
     ]
    },
    {
     "name": "stderr",
     "output_type": "stream",
     "text": [
      "INFO:tensorflow:Initialize variable module/MobilenetV1/Conv2d_11_pointwise/BatchNorm/beta:0 from checkpoint b'/tmp/tfhub_modules/14d65617a151aa220a82c2a2c5ad68d504abbccf/variables/variables' with MobilenetV1/Conv2d_11_pointwise/BatchNorm/beta\n"
     ]
    },
    {
     "name": "stdout",
     "output_type": "stream",
     "text": [
      "INFO:tensorflow:Initialize variable module/MobilenetV1/Conv2d_11_pointwise/BatchNorm/gamma:0 from checkpoint b'/tmp/tfhub_modules/14d65617a151aa220a82c2a2c5ad68d504abbccf/variables/variables' with MobilenetV1/Conv2d_11_pointwise/BatchNorm/gamma\n"
     ]
    },
    {
     "name": "stderr",
     "output_type": "stream",
     "text": [
      "INFO:tensorflow:Initialize variable module/MobilenetV1/Conv2d_11_pointwise/BatchNorm/gamma:0 from checkpoint b'/tmp/tfhub_modules/14d65617a151aa220a82c2a2c5ad68d504abbccf/variables/variables' with MobilenetV1/Conv2d_11_pointwise/BatchNorm/gamma\n"
     ]
    },
    {
     "name": "stdout",
     "output_type": "stream",
     "text": [
      "INFO:tensorflow:Initialize variable module/MobilenetV1/Conv2d_11_pointwise/BatchNorm/moving_mean:0 from checkpoint b'/tmp/tfhub_modules/14d65617a151aa220a82c2a2c5ad68d504abbccf/variables/variables' with MobilenetV1/Conv2d_11_pointwise/BatchNorm/moving_mean\n"
     ]
    },
    {
     "name": "stderr",
     "output_type": "stream",
     "text": [
      "INFO:tensorflow:Initialize variable module/MobilenetV1/Conv2d_11_pointwise/BatchNorm/moving_mean:0 from checkpoint b'/tmp/tfhub_modules/14d65617a151aa220a82c2a2c5ad68d504abbccf/variables/variables' with MobilenetV1/Conv2d_11_pointwise/BatchNorm/moving_mean\n"
     ]
    },
    {
     "name": "stdout",
     "output_type": "stream",
     "text": [
      "INFO:tensorflow:Initialize variable module/MobilenetV1/Conv2d_11_pointwise/BatchNorm/moving_variance:0 from checkpoint b'/tmp/tfhub_modules/14d65617a151aa220a82c2a2c5ad68d504abbccf/variables/variables' with MobilenetV1/Conv2d_11_pointwise/BatchNorm/moving_variance\n"
     ]
    },
    {
     "name": "stderr",
     "output_type": "stream",
     "text": [
      "INFO:tensorflow:Initialize variable module/MobilenetV1/Conv2d_11_pointwise/BatchNorm/moving_variance:0 from checkpoint b'/tmp/tfhub_modules/14d65617a151aa220a82c2a2c5ad68d504abbccf/variables/variables' with MobilenetV1/Conv2d_11_pointwise/BatchNorm/moving_variance\n"
     ]
    },
    {
     "name": "stdout",
     "output_type": "stream",
     "text": [
      "INFO:tensorflow:Initialize variable module/MobilenetV1/Conv2d_11_pointwise/weights:0 from checkpoint b'/tmp/tfhub_modules/14d65617a151aa220a82c2a2c5ad68d504abbccf/variables/variables' with MobilenetV1/Conv2d_11_pointwise/weights\n"
     ]
    },
    {
     "name": "stderr",
     "output_type": "stream",
     "text": [
      "INFO:tensorflow:Initialize variable module/MobilenetV1/Conv2d_11_pointwise/weights:0 from checkpoint b'/tmp/tfhub_modules/14d65617a151aa220a82c2a2c5ad68d504abbccf/variables/variables' with MobilenetV1/Conv2d_11_pointwise/weights\n"
     ]
    },
    {
     "name": "stdout",
     "output_type": "stream",
     "text": [
      "INFO:tensorflow:Initialize variable module/MobilenetV1/Conv2d_12_depthwise/BatchNorm/beta:0 from checkpoint b'/tmp/tfhub_modules/14d65617a151aa220a82c2a2c5ad68d504abbccf/variables/variables' with MobilenetV1/Conv2d_12_depthwise/BatchNorm/beta\n"
     ]
    },
    {
     "name": "stderr",
     "output_type": "stream",
     "text": [
      "INFO:tensorflow:Initialize variable module/MobilenetV1/Conv2d_12_depthwise/BatchNorm/beta:0 from checkpoint b'/tmp/tfhub_modules/14d65617a151aa220a82c2a2c5ad68d504abbccf/variables/variables' with MobilenetV1/Conv2d_12_depthwise/BatchNorm/beta\n"
     ]
    },
    {
     "name": "stdout",
     "output_type": "stream",
     "text": [
      "INFO:tensorflow:Initialize variable module/MobilenetV1/Conv2d_12_depthwise/BatchNorm/gamma:0 from checkpoint b'/tmp/tfhub_modules/14d65617a151aa220a82c2a2c5ad68d504abbccf/variables/variables' with MobilenetV1/Conv2d_12_depthwise/BatchNorm/gamma\n"
     ]
    },
    {
     "name": "stderr",
     "output_type": "stream",
     "text": [
      "INFO:tensorflow:Initialize variable module/MobilenetV1/Conv2d_12_depthwise/BatchNorm/gamma:0 from checkpoint b'/tmp/tfhub_modules/14d65617a151aa220a82c2a2c5ad68d504abbccf/variables/variables' with MobilenetV1/Conv2d_12_depthwise/BatchNorm/gamma\n"
     ]
    },
    {
     "name": "stdout",
     "output_type": "stream",
     "text": [
      "INFO:tensorflow:Initialize variable module/MobilenetV1/Conv2d_12_depthwise/BatchNorm/moving_mean:0 from checkpoint b'/tmp/tfhub_modules/14d65617a151aa220a82c2a2c5ad68d504abbccf/variables/variables' with MobilenetV1/Conv2d_12_depthwise/BatchNorm/moving_mean\n"
     ]
    },
    {
     "name": "stderr",
     "output_type": "stream",
     "text": [
      "INFO:tensorflow:Initialize variable module/MobilenetV1/Conv2d_12_depthwise/BatchNorm/moving_mean:0 from checkpoint b'/tmp/tfhub_modules/14d65617a151aa220a82c2a2c5ad68d504abbccf/variables/variables' with MobilenetV1/Conv2d_12_depthwise/BatchNorm/moving_mean\n"
     ]
    },
    {
     "name": "stdout",
     "output_type": "stream",
     "text": [
      "INFO:tensorflow:Initialize variable module/MobilenetV1/Conv2d_12_depthwise/BatchNorm/moving_variance:0 from checkpoint b'/tmp/tfhub_modules/14d65617a151aa220a82c2a2c5ad68d504abbccf/variables/variables' with MobilenetV1/Conv2d_12_depthwise/BatchNorm/moving_variance\n"
     ]
    },
    {
     "name": "stderr",
     "output_type": "stream",
     "text": [
      "INFO:tensorflow:Initialize variable module/MobilenetV1/Conv2d_12_depthwise/BatchNorm/moving_variance:0 from checkpoint b'/tmp/tfhub_modules/14d65617a151aa220a82c2a2c5ad68d504abbccf/variables/variables' with MobilenetV1/Conv2d_12_depthwise/BatchNorm/moving_variance\n"
     ]
    },
    {
     "name": "stdout",
     "output_type": "stream",
     "text": [
      "INFO:tensorflow:Initialize variable module/MobilenetV1/Conv2d_12_depthwise/depthwise_weights:0 from checkpoint b'/tmp/tfhub_modules/14d65617a151aa220a82c2a2c5ad68d504abbccf/variables/variables' with MobilenetV1/Conv2d_12_depthwise/depthwise_weights\n"
     ]
    },
    {
     "name": "stderr",
     "output_type": "stream",
     "text": [
      "INFO:tensorflow:Initialize variable module/MobilenetV1/Conv2d_12_depthwise/depthwise_weights:0 from checkpoint b'/tmp/tfhub_modules/14d65617a151aa220a82c2a2c5ad68d504abbccf/variables/variables' with MobilenetV1/Conv2d_12_depthwise/depthwise_weights\n"
     ]
    },
    {
     "name": "stdout",
     "output_type": "stream",
     "text": [
      "INFO:tensorflow:Initialize variable module/MobilenetV1/Conv2d_12_pointwise/BatchNorm/beta:0 from checkpoint b'/tmp/tfhub_modules/14d65617a151aa220a82c2a2c5ad68d504abbccf/variables/variables' with MobilenetV1/Conv2d_12_pointwise/BatchNorm/beta\n"
     ]
    },
    {
     "name": "stderr",
     "output_type": "stream",
     "text": [
      "INFO:tensorflow:Initialize variable module/MobilenetV1/Conv2d_12_pointwise/BatchNorm/beta:0 from checkpoint b'/tmp/tfhub_modules/14d65617a151aa220a82c2a2c5ad68d504abbccf/variables/variables' with MobilenetV1/Conv2d_12_pointwise/BatchNorm/beta\n"
     ]
    },
    {
     "name": "stdout",
     "output_type": "stream",
     "text": [
      "INFO:tensorflow:Initialize variable module/MobilenetV1/Conv2d_12_pointwise/BatchNorm/gamma:0 from checkpoint b'/tmp/tfhub_modules/14d65617a151aa220a82c2a2c5ad68d504abbccf/variables/variables' with MobilenetV1/Conv2d_12_pointwise/BatchNorm/gamma\n"
     ]
    },
    {
     "name": "stderr",
     "output_type": "stream",
     "text": [
      "INFO:tensorflow:Initialize variable module/MobilenetV1/Conv2d_12_pointwise/BatchNorm/gamma:0 from checkpoint b'/tmp/tfhub_modules/14d65617a151aa220a82c2a2c5ad68d504abbccf/variables/variables' with MobilenetV1/Conv2d_12_pointwise/BatchNorm/gamma\n"
     ]
    },
    {
     "name": "stdout",
     "output_type": "stream",
     "text": [
      "INFO:tensorflow:Initialize variable module/MobilenetV1/Conv2d_12_pointwise/BatchNorm/moving_mean:0 from checkpoint b'/tmp/tfhub_modules/14d65617a151aa220a82c2a2c5ad68d504abbccf/variables/variables' with MobilenetV1/Conv2d_12_pointwise/BatchNorm/moving_mean\n"
     ]
    },
    {
     "name": "stderr",
     "output_type": "stream",
     "text": [
      "INFO:tensorflow:Initialize variable module/MobilenetV1/Conv2d_12_pointwise/BatchNorm/moving_mean:0 from checkpoint b'/tmp/tfhub_modules/14d65617a151aa220a82c2a2c5ad68d504abbccf/variables/variables' with MobilenetV1/Conv2d_12_pointwise/BatchNorm/moving_mean\n"
     ]
    },
    {
     "name": "stdout",
     "output_type": "stream",
     "text": [
      "INFO:tensorflow:Initialize variable module/MobilenetV1/Conv2d_12_pointwise/BatchNorm/moving_variance:0 from checkpoint b'/tmp/tfhub_modules/14d65617a151aa220a82c2a2c5ad68d504abbccf/variables/variables' with MobilenetV1/Conv2d_12_pointwise/BatchNorm/moving_variance\n"
     ]
    },
    {
     "name": "stderr",
     "output_type": "stream",
     "text": [
      "INFO:tensorflow:Initialize variable module/MobilenetV1/Conv2d_12_pointwise/BatchNorm/moving_variance:0 from checkpoint b'/tmp/tfhub_modules/14d65617a151aa220a82c2a2c5ad68d504abbccf/variables/variables' with MobilenetV1/Conv2d_12_pointwise/BatchNorm/moving_variance\n"
     ]
    },
    {
     "name": "stdout",
     "output_type": "stream",
     "text": [
      "INFO:tensorflow:Initialize variable module/MobilenetV1/Conv2d_12_pointwise/weights:0 from checkpoint b'/tmp/tfhub_modules/14d65617a151aa220a82c2a2c5ad68d504abbccf/variables/variables' with MobilenetV1/Conv2d_12_pointwise/weights\n"
     ]
    },
    {
     "name": "stderr",
     "output_type": "stream",
     "text": [
      "INFO:tensorflow:Initialize variable module/MobilenetV1/Conv2d_12_pointwise/weights:0 from checkpoint b'/tmp/tfhub_modules/14d65617a151aa220a82c2a2c5ad68d504abbccf/variables/variables' with MobilenetV1/Conv2d_12_pointwise/weights\n"
     ]
    },
    {
     "name": "stdout",
     "output_type": "stream",
     "text": [
      "INFO:tensorflow:Initialize variable module/MobilenetV1/Conv2d_13_depthwise/BatchNorm/beta:0 from checkpoint b'/tmp/tfhub_modules/14d65617a151aa220a82c2a2c5ad68d504abbccf/variables/variables' with MobilenetV1/Conv2d_13_depthwise/BatchNorm/beta\n"
     ]
    },
    {
     "name": "stderr",
     "output_type": "stream",
     "text": [
      "INFO:tensorflow:Initialize variable module/MobilenetV1/Conv2d_13_depthwise/BatchNorm/beta:0 from checkpoint b'/tmp/tfhub_modules/14d65617a151aa220a82c2a2c5ad68d504abbccf/variables/variables' with MobilenetV1/Conv2d_13_depthwise/BatchNorm/beta\n"
     ]
    },
    {
     "name": "stdout",
     "output_type": "stream",
     "text": [
      "INFO:tensorflow:Initialize variable module/MobilenetV1/Conv2d_13_depthwise/BatchNorm/gamma:0 from checkpoint b'/tmp/tfhub_modules/14d65617a151aa220a82c2a2c5ad68d504abbccf/variables/variables' with MobilenetV1/Conv2d_13_depthwise/BatchNorm/gamma\n"
     ]
    },
    {
     "name": "stderr",
     "output_type": "stream",
     "text": [
      "INFO:tensorflow:Initialize variable module/MobilenetV1/Conv2d_13_depthwise/BatchNorm/gamma:0 from checkpoint b'/tmp/tfhub_modules/14d65617a151aa220a82c2a2c5ad68d504abbccf/variables/variables' with MobilenetV1/Conv2d_13_depthwise/BatchNorm/gamma\n"
     ]
    },
    {
     "name": "stdout",
     "output_type": "stream",
     "text": [
      "INFO:tensorflow:Initialize variable module/MobilenetV1/Conv2d_13_depthwise/BatchNorm/moving_mean:0 from checkpoint b'/tmp/tfhub_modules/14d65617a151aa220a82c2a2c5ad68d504abbccf/variables/variables' with MobilenetV1/Conv2d_13_depthwise/BatchNorm/moving_mean\n"
     ]
    },
    {
     "name": "stderr",
     "output_type": "stream",
     "text": [
      "INFO:tensorflow:Initialize variable module/MobilenetV1/Conv2d_13_depthwise/BatchNorm/moving_mean:0 from checkpoint b'/tmp/tfhub_modules/14d65617a151aa220a82c2a2c5ad68d504abbccf/variables/variables' with MobilenetV1/Conv2d_13_depthwise/BatchNorm/moving_mean\n"
     ]
    },
    {
     "name": "stdout",
     "output_type": "stream",
     "text": [
      "INFO:tensorflow:Initialize variable module/MobilenetV1/Conv2d_13_depthwise/BatchNorm/moving_variance:0 from checkpoint b'/tmp/tfhub_modules/14d65617a151aa220a82c2a2c5ad68d504abbccf/variables/variables' with MobilenetV1/Conv2d_13_depthwise/BatchNorm/moving_variance\n"
     ]
    },
    {
     "name": "stderr",
     "output_type": "stream",
     "text": [
      "INFO:tensorflow:Initialize variable module/MobilenetV1/Conv2d_13_depthwise/BatchNorm/moving_variance:0 from checkpoint b'/tmp/tfhub_modules/14d65617a151aa220a82c2a2c5ad68d504abbccf/variables/variables' with MobilenetV1/Conv2d_13_depthwise/BatchNorm/moving_variance\n"
     ]
    },
    {
     "name": "stdout",
     "output_type": "stream",
     "text": [
      "INFO:tensorflow:Initialize variable module/MobilenetV1/Conv2d_13_depthwise/depthwise_weights:0 from checkpoint b'/tmp/tfhub_modules/14d65617a151aa220a82c2a2c5ad68d504abbccf/variables/variables' with MobilenetV1/Conv2d_13_depthwise/depthwise_weights\n"
     ]
    },
    {
     "name": "stderr",
     "output_type": "stream",
     "text": [
      "INFO:tensorflow:Initialize variable module/MobilenetV1/Conv2d_13_depthwise/depthwise_weights:0 from checkpoint b'/tmp/tfhub_modules/14d65617a151aa220a82c2a2c5ad68d504abbccf/variables/variables' with MobilenetV1/Conv2d_13_depthwise/depthwise_weights\n"
     ]
    },
    {
     "name": "stdout",
     "output_type": "stream",
     "text": [
      "INFO:tensorflow:Initialize variable module/MobilenetV1/Conv2d_13_pointwise/BatchNorm/beta:0 from checkpoint b'/tmp/tfhub_modules/14d65617a151aa220a82c2a2c5ad68d504abbccf/variables/variables' with MobilenetV1/Conv2d_13_pointwise/BatchNorm/beta\n"
     ]
    },
    {
     "name": "stderr",
     "output_type": "stream",
     "text": [
      "INFO:tensorflow:Initialize variable module/MobilenetV1/Conv2d_13_pointwise/BatchNorm/beta:0 from checkpoint b'/tmp/tfhub_modules/14d65617a151aa220a82c2a2c5ad68d504abbccf/variables/variables' with MobilenetV1/Conv2d_13_pointwise/BatchNorm/beta\n"
     ]
    },
    {
     "name": "stdout",
     "output_type": "stream",
     "text": [
      "INFO:tensorflow:Initialize variable module/MobilenetV1/Conv2d_13_pointwise/BatchNorm/gamma:0 from checkpoint b'/tmp/tfhub_modules/14d65617a151aa220a82c2a2c5ad68d504abbccf/variables/variables' with MobilenetV1/Conv2d_13_pointwise/BatchNorm/gamma\n"
     ]
    },
    {
     "name": "stderr",
     "output_type": "stream",
     "text": [
      "INFO:tensorflow:Initialize variable module/MobilenetV1/Conv2d_13_pointwise/BatchNorm/gamma:0 from checkpoint b'/tmp/tfhub_modules/14d65617a151aa220a82c2a2c5ad68d504abbccf/variables/variables' with MobilenetV1/Conv2d_13_pointwise/BatchNorm/gamma\n"
     ]
    },
    {
     "name": "stdout",
     "output_type": "stream",
     "text": [
      "INFO:tensorflow:Initialize variable module/MobilenetV1/Conv2d_13_pointwise/BatchNorm/moving_mean:0 from checkpoint b'/tmp/tfhub_modules/14d65617a151aa220a82c2a2c5ad68d504abbccf/variables/variables' with MobilenetV1/Conv2d_13_pointwise/BatchNorm/moving_mean\n"
     ]
    },
    {
     "name": "stderr",
     "output_type": "stream",
     "text": [
      "INFO:tensorflow:Initialize variable module/MobilenetV1/Conv2d_13_pointwise/BatchNorm/moving_mean:0 from checkpoint b'/tmp/tfhub_modules/14d65617a151aa220a82c2a2c5ad68d504abbccf/variables/variables' with MobilenetV1/Conv2d_13_pointwise/BatchNorm/moving_mean\n"
     ]
    },
    {
     "name": "stdout",
     "output_type": "stream",
     "text": [
      "INFO:tensorflow:Initialize variable module/MobilenetV1/Conv2d_13_pointwise/BatchNorm/moving_variance:0 from checkpoint b'/tmp/tfhub_modules/14d65617a151aa220a82c2a2c5ad68d504abbccf/variables/variables' with MobilenetV1/Conv2d_13_pointwise/BatchNorm/moving_variance\n"
     ]
    },
    {
     "name": "stderr",
     "output_type": "stream",
     "text": [
      "INFO:tensorflow:Initialize variable module/MobilenetV1/Conv2d_13_pointwise/BatchNorm/moving_variance:0 from checkpoint b'/tmp/tfhub_modules/14d65617a151aa220a82c2a2c5ad68d504abbccf/variables/variables' with MobilenetV1/Conv2d_13_pointwise/BatchNorm/moving_variance\n"
     ]
    },
    {
     "name": "stdout",
     "output_type": "stream",
     "text": [
      "INFO:tensorflow:Initialize variable module/MobilenetV1/Conv2d_13_pointwise/weights:0 from checkpoint b'/tmp/tfhub_modules/14d65617a151aa220a82c2a2c5ad68d504abbccf/variables/variables' with MobilenetV1/Conv2d_13_pointwise/weights\n"
     ]
    },
    {
     "name": "stderr",
     "output_type": "stream",
     "text": [
      "INFO:tensorflow:Initialize variable module/MobilenetV1/Conv2d_13_pointwise/weights:0 from checkpoint b'/tmp/tfhub_modules/14d65617a151aa220a82c2a2c5ad68d504abbccf/variables/variables' with MobilenetV1/Conv2d_13_pointwise/weights\n"
     ]
    },
    {
     "name": "stdout",
     "output_type": "stream",
     "text": [
      "INFO:tensorflow:Initialize variable module/MobilenetV1/Conv2d_1_depthwise/BatchNorm/beta:0 from checkpoint b'/tmp/tfhub_modules/14d65617a151aa220a82c2a2c5ad68d504abbccf/variables/variables' with MobilenetV1/Conv2d_1_depthwise/BatchNorm/beta\n"
     ]
    },
    {
     "name": "stderr",
     "output_type": "stream",
     "text": [
      "INFO:tensorflow:Initialize variable module/MobilenetV1/Conv2d_1_depthwise/BatchNorm/beta:0 from checkpoint b'/tmp/tfhub_modules/14d65617a151aa220a82c2a2c5ad68d504abbccf/variables/variables' with MobilenetV1/Conv2d_1_depthwise/BatchNorm/beta\n"
     ]
    },
    {
     "name": "stdout",
     "output_type": "stream",
     "text": [
      "INFO:tensorflow:Initialize variable module/MobilenetV1/Conv2d_1_depthwise/BatchNorm/gamma:0 from checkpoint b'/tmp/tfhub_modules/14d65617a151aa220a82c2a2c5ad68d504abbccf/variables/variables' with MobilenetV1/Conv2d_1_depthwise/BatchNorm/gamma\n"
     ]
    },
    {
     "name": "stderr",
     "output_type": "stream",
     "text": [
      "INFO:tensorflow:Initialize variable module/MobilenetV1/Conv2d_1_depthwise/BatchNorm/gamma:0 from checkpoint b'/tmp/tfhub_modules/14d65617a151aa220a82c2a2c5ad68d504abbccf/variables/variables' with MobilenetV1/Conv2d_1_depthwise/BatchNorm/gamma\n"
     ]
    },
    {
     "name": "stdout",
     "output_type": "stream",
     "text": [
      "INFO:tensorflow:Initialize variable module/MobilenetV1/Conv2d_1_depthwise/BatchNorm/moving_mean:0 from checkpoint b'/tmp/tfhub_modules/14d65617a151aa220a82c2a2c5ad68d504abbccf/variables/variables' with MobilenetV1/Conv2d_1_depthwise/BatchNorm/moving_mean\n"
     ]
    },
    {
     "name": "stderr",
     "output_type": "stream",
     "text": [
      "INFO:tensorflow:Initialize variable module/MobilenetV1/Conv2d_1_depthwise/BatchNorm/moving_mean:0 from checkpoint b'/tmp/tfhub_modules/14d65617a151aa220a82c2a2c5ad68d504abbccf/variables/variables' with MobilenetV1/Conv2d_1_depthwise/BatchNorm/moving_mean\n"
     ]
    },
    {
     "name": "stdout",
     "output_type": "stream",
     "text": [
      "INFO:tensorflow:Initialize variable module/MobilenetV1/Conv2d_1_depthwise/BatchNorm/moving_variance:0 from checkpoint b'/tmp/tfhub_modules/14d65617a151aa220a82c2a2c5ad68d504abbccf/variables/variables' with MobilenetV1/Conv2d_1_depthwise/BatchNorm/moving_variance\n"
     ]
    },
    {
     "name": "stderr",
     "output_type": "stream",
     "text": [
      "INFO:tensorflow:Initialize variable module/MobilenetV1/Conv2d_1_depthwise/BatchNorm/moving_variance:0 from checkpoint b'/tmp/tfhub_modules/14d65617a151aa220a82c2a2c5ad68d504abbccf/variables/variables' with MobilenetV1/Conv2d_1_depthwise/BatchNorm/moving_variance\n"
     ]
    },
    {
     "name": "stdout",
     "output_type": "stream",
     "text": [
      "INFO:tensorflow:Initialize variable module/MobilenetV1/Conv2d_1_depthwise/depthwise_weights:0 from checkpoint b'/tmp/tfhub_modules/14d65617a151aa220a82c2a2c5ad68d504abbccf/variables/variables' with MobilenetV1/Conv2d_1_depthwise/depthwise_weights\n"
     ]
    },
    {
     "name": "stderr",
     "output_type": "stream",
     "text": [
      "INFO:tensorflow:Initialize variable module/MobilenetV1/Conv2d_1_depthwise/depthwise_weights:0 from checkpoint b'/tmp/tfhub_modules/14d65617a151aa220a82c2a2c5ad68d504abbccf/variables/variables' with MobilenetV1/Conv2d_1_depthwise/depthwise_weights\n"
     ]
    },
    {
     "name": "stdout",
     "output_type": "stream",
     "text": [
      "INFO:tensorflow:Initialize variable module/MobilenetV1/Conv2d_1_pointwise/BatchNorm/beta:0 from checkpoint b'/tmp/tfhub_modules/14d65617a151aa220a82c2a2c5ad68d504abbccf/variables/variables' with MobilenetV1/Conv2d_1_pointwise/BatchNorm/beta\n"
     ]
    },
    {
     "name": "stderr",
     "output_type": "stream",
     "text": [
      "INFO:tensorflow:Initialize variable module/MobilenetV1/Conv2d_1_pointwise/BatchNorm/beta:0 from checkpoint b'/tmp/tfhub_modules/14d65617a151aa220a82c2a2c5ad68d504abbccf/variables/variables' with MobilenetV1/Conv2d_1_pointwise/BatchNorm/beta\n"
     ]
    },
    {
     "name": "stdout",
     "output_type": "stream",
     "text": [
      "INFO:tensorflow:Initialize variable module/MobilenetV1/Conv2d_1_pointwise/BatchNorm/gamma:0 from checkpoint b'/tmp/tfhub_modules/14d65617a151aa220a82c2a2c5ad68d504abbccf/variables/variables' with MobilenetV1/Conv2d_1_pointwise/BatchNorm/gamma\n"
     ]
    },
    {
     "name": "stderr",
     "output_type": "stream",
     "text": [
      "INFO:tensorflow:Initialize variable module/MobilenetV1/Conv2d_1_pointwise/BatchNorm/gamma:0 from checkpoint b'/tmp/tfhub_modules/14d65617a151aa220a82c2a2c5ad68d504abbccf/variables/variables' with MobilenetV1/Conv2d_1_pointwise/BatchNorm/gamma\n"
     ]
    },
    {
     "name": "stdout",
     "output_type": "stream",
     "text": [
      "INFO:tensorflow:Initialize variable module/MobilenetV1/Conv2d_1_pointwise/BatchNorm/moving_mean:0 from checkpoint b'/tmp/tfhub_modules/14d65617a151aa220a82c2a2c5ad68d504abbccf/variables/variables' with MobilenetV1/Conv2d_1_pointwise/BatchNorm/moving_mean\n"
     ]
    },
    {
     "name": "stderr",
     "output_type": "stream",
     "text": [
      "INFO:tensorflow:Initialize variable module/MobilenetV1/Conv2d_1_pointwise/BatchNorm/moving_mean:0 from checkpoint b'/tmp/tfhub_modules/14d65617a151aa220a82c2a2c5ad68d504abbccf/variables/variables' with MobilenetV1/Conv2d_1_pointwise/BatchNorm/moving_mean\n"
     ]
    },
    {
     "name": "stdout",
     "output_type": "stream",
     "text": [
      "INFO:tensorflow:Initialize variable module/MobilenetV1/Conv2d_1_pointwise/BatchNorm/moving_variance:0 from checkpoint b'/tmp/tfhub_modules/14d65617a151aa220a82c2a2c5ad68d504abbccf/variables/variables' with MobilenetV1/Conv2d_1_pointwise/BatchNorm/moving_variance\n"
     ]
    },
    {
     "name": "stderr",
     "output_type": "stream",
     "text": [
      "INFO:tensorflow:Initialize variable module/MobilenetV1/Conv2d_1_pointwise/BatchNorm/moving_variance:0 from checkpoint b'/tmp/tfhub_modules/14d65617a151aa220a82c2a2c5ad68d504abbccf/variables/variables' with MobilenetV1/Conv2d_1_pointwise/BatchNorm/moving_variance\n"
     ]
    },
    {
     "name": "stdout",
     "output_type": "stream",
     "text": [
      "INFO:tensorflow:Initialize variable module/MobilenetV1/Conv2d_1_pointwise/weights:0 from checkpoint b'/tmp/tfhub_modules/14d65617a151aa220a82c2a2c5ad68d504abbccf/variables/variables' with MobilenetV1/Conv2d_1_pointwise/weights\n"
     ]
    },
    {
     "name": "stderr",
     "output_type": "stream",
     "text": [
      "INFO:tensorflow:Initialize variable module/MobilenetV1/Conv2d_1_pointwise/weights:0 from checkpoint b'/tmp/tfhub_modules/14d65617a151aa220a82c2a2c5ad68d504abbccf/variables/variables' with MobilenetV1/Conv2d_1_pointwise/weights\n"
     ]
    },
    {
     "name": "stdout",
     "output_type": "stream",
     "text": [
      "INFO:tensorflow:Initialize variable module/MobilenetV1/Conv2d_2_depthwise/BatchNorm/beta:0 from checkpoint b'/tmp/tfhub_modules/14d65617a151aa220a82c2a2c5ad68d504abbccf/variables/variables' with MobilenetV1/Conv2d_2_depthwise/BatchNorm/beta\n"
     ]
    },
    {
     "name": "stderr",
     "output_type": "stream",
     "text": [
      "INFO:tensorflow:Initialize variable module/MobilenetV1/Conv2d_2_depthwise/BatchNorm/beta:0 from checkpoint b'/tmp/tfhub_modules/14d65617a151aa220a82c2a2c5ad68d504abbccf/variables/variables' with MobilenetV1/Conv2d_2_depthwise/BatchNorm/beta\n"
     ]
    },
    {
     "name": "stdout",
     "output_type": "stream",
     "text": [
      "INFO:tensorflow:Initialize variable module/MobilenetV1/Conv2d_2_depthwise/BatchNorm/gamma:0 from checkpoint b'/tmp/tfhub_modules/14d65617a151aa220a82c2a2c5ad68d504abbccf/variables/variables' with MobilenetV1/Conv2d_2_depthwise/BatchNorm/gamma\n"
     ]
    },
    {
     "name": "stderr",
     "output_type": "stream",
     "text": [
      "INFO:tensorflow:Initialize variable module/MobilenetV1/Conv2d_2_depthwise/BatchNorm/gamma:0 from checkpoint b'/tmp/tfhub_modules/14d65617a151aa220a82c2a2c5ad68d504abbccf/variables/variables' with MobilenetV1/Conv2d_2_depthwise/BatchNorm/gamma\n"
     ]
    },
    {
     "name": "stdout",
     "output_type": "stream",
     "text": [
      "INFO:tensorflow:Initialize variable module/MobilenetV1/Conv2d_2_depthwise/BatchNorm/moving_mean:0 from checkpoint b'/tmp/tfhub_modules/14d65617a151aa220a82c2a2c5ad68d504abbccf/variables/variables' with MobilenetV1/Conv2d_2_depthwise/BatchNorm/moving_mean\n"
     ]
    },
    {
     "name": "stderr",
     "output_type": "stream",
     "text": [
      "INFO:tensorflow:Initialize variable module/MobilenetV1/Conv2d_2_depthwise/BatchNorm/moving_mean:0 from checkpoint b'/tmp/tfhub_modules/14d65617a151aa220a82c2a2c5ad68d504abbccf/variables/variables' with MobilenetV1/Conv2d_2_depthwise/BatchNorm/moving_mean\n"
     ]
    },
    {
     "name": "stdout",
     "output_type": "stream",
     "text": [
      "INFO:tensorflow:Initialize variable module/MobilenetV1/Conv2d_2_depthwise/BatchNorm/moving_variance:0 from checkpoint b'/tmp/tfhub_modules/14d65617a151aa220a82c2a2c5ad68d504abbccf/variables/variables' with MobilenetV1/Conv2d_2_depthwise/BatchNorm/moving_variance\n"
     ]
    },
    {
     "name": "stderr",
     "output_type": "stream",
     "text": [
      "INFO:tensorflow:Initialize variable module/MobilenetV1/Conv2d_2_depthwise/BatchNorm/moving_variance:0 from checkpoint b'/tmp/tfhub_modules/14d65617a151aa220a82c2a2c5ad68d504abbccf/variables/variables' with MobilenetV1/Conv2d_2_depthwise/BatchNorm/moving_variance\n"
     ]
    },
    {
     "name": "stdout",
     "output_type": "stream",
     "text": [
      "INFO:tensorflow:Initialize variable module/MobilenetV1/Conv2d_2_depthwise/depthwise_weights:0 from checkpoint b'/tmp/tfhub_modules/14d65617a151aa220a82c2a2c5ad68d504abbccf/variables/variables' with MobilenetV1/Conv2d_2_depthwise/depthwise_weights\n"
     ]
    },
    {
     "name": "stderr",
     "output_type": "stream",
     "text": [
      "INFO:tensorflow:Initialize variable module/MobilenetV1/Conv2d_2_depthwise/depthwise_weights:0 from checkpoint b'/tmp/tfhub_modules/14d65617a151aa220a82c2a2c5ad68d504abbccf/variables/variables' with MobilenetV1/Conv2d_2_depthwise/depthwise_weights\n"
     ]
    },
    {
     "name": "stdout",
     "output_type": "stream",
     "text": [
      "INFO:tensorflow:Initialize variable module/MobilenetV1/Conv2d_2_pointwise/BatchNorm/beta:0 from checkpoint b'/tmp/tfhub_modules/14d65617a151aa220a82c2a2c5ad68d504abbccf/variables/variables' with MobilenetV1/Conv2d_2_pointwise/BatchNorm/beta\n"
     ]
    },
    {
     "name": "stderr",
     "output_type": "stream",
     "text": [
      "INFO:tensorflow:Initialize variable module/MobilenetV1/Conv2d_2_pointwise/BatchNorm/beta:0 from checkpoint b'/tmp/tfhub_modules/14d65617a151aa220a82c2a2c5ad68d504abbccf/variables/variables' with MobilenetV1/Conv2d_2_pointwise/BatchNorm/beta\n"
     ]
    },
    {
     "name": "stdout",
     "output_type": "stream",
     "text": [
      "INFO:tensorflow:Initialize variable module/MobilenetV1/Conv2d_2_pointwise/BatchNorm/gamma:0 from checkpoint b'/tmp/tfhub_modules/14d65617a151aa220a82c2a2c5ad68d504abbccf/variables/variables' with MobilenetV1/Conv2d_2_pointwise/BatchNorm/gamma\n"
     ]
    },
    {
     "name": "stderr",
     "output_type": "stream",
     "text": [
      "INFO:tensorflow:Initialize variable module/MobilenetV1/Conv2d_2_pointwise/BatchNorm/gamma:0 from checkpoint b'/tmp/tfhub_modules/14d65617a151aa220a82c2a2c5ad68d504abbccf/variables/variables' with MobilenetV1/Conv2d_2_pointwise/BatchNorm/gamma\n"
     ]
    },
    {
     "name": "stdout",
     "output_type": "stream",
     "text": [
      "INFO:tensorflow:Initialize variable module/MobilenetV1/Conv2d_2_pointwise/BatchNorm/moving_mean:0 from checkpoint b'/tmp/tfhub_modules/14d65617a151aa220a82c2a2c5ad68d504abbccf/variables/variables' with MobilenetV1/Conv2d_2_pointwise/BatchNorm/moving_mean\n"
     ]
    },
    {
     "name": "stderr",
     "output_type": "stream",
     "text": [
      "INFO:tensorflow:Initialize variable module/MobilenetV1/Conv2d_2_pointwise/BatchNorm/moving_mean:0 from checkpoint b'/tmp/tfhub_modules/14d65617a151aa220a82c2a2c5ad68d504abbccf/variables/variables' with MobilenetV1/Conv2d_2_pointwise/BatchNorm/moving_mean\n"
     ]
    },
    {
     "name": "stdout",
     "output_type": "stream",
     "text": [
      "INFO:tensorflow:Initialize variable module/MobilenetV1/Conv2d_2_pointwise/BatchNorm/moving_variance:0 from checkpoint b'/tmp/tfhub_modules/14d65617a151aa220a82c2a2c5ad68d504abbccf/variables/variables' with MobilenetV1/Conv2d_2_pointwise/BatchNorm/moving_variance\n"
     ]
    },
    {
     "name": "stderr",
     "output_type": "stream",
     "text": [
      "INFO:tensorflow:Initialize variable module/MobilenetV1/Conv2d_2_pointwise/BatchNorm/moving_variance:0 from checkpoint b'/tmp/tfhub_modules/14d65617a151aa220a82c2a2c5ad68d504abbccf/variables/variables' with MobilenetV1/Conv2d_2_pointwise/BatchNorm/moving_variance\n"
     ]
    },
    {
     "name": "stdout",
     "output_type": "stream",
     "text": [
      "INFO:tensorflow:Initialize variable module/MobilenetV1/Conv2d_2_pointwise/weights:0 from checkpoint b'/tmp/tfhub_modules/14d65617a151aa220a82c2a2c5ad68d504abbccf/variables/variables' with MobilenetV1/Conv2d_2_pointwise/weights\n"
     ]
    },
    {
     "name": "stderr",
     "output_type": "stream",
     "text": [
      "INFO:tensorflow:Initialize variable module/MobilenetV1/Conv2d_2_pointwise/weights:0 from checkpoint b'/tmp/tfhub_modules/14d65617a151aa220a82c2a2c5ad68d504abbccf/variables/variables' with MobilenetV1/Conv2d_2_pointwise/weights\n"
     ]
    },
    {
     "name": "stdout",
     "output_type": "stream",
     "text": [
      "INFO:tensorflow:Initialize variable module/MobilenetV1/Conv2d_3_depthwise/BatchNorm/beta:0 from checkpoint b'/tmp/tfhub_modules/14d65617a151aa220a82c2a2c5ad68d504abbccf/variables/variables' with MobilenetV1/Conv2d_3_depthwise/BatchNorm/beta\n"
     ]
    },
    {
     "name": "stderr",
     "output_type": "stream",
     "text": [
      "INFO:tensorflow:Initialize variable module/MobilenetV1/Conv2d_3_depthwise/BatchNorm/beta:0 from checkpoint b'/tmp/tfhub_modules/14d65617a151aa220a82c2a2c5ad68d504abbccf/variables/variables' with MobilenetV1/Conv2d_3_depthwise/BatchNorm/beta\n"
     ]
    },
    {
     "name": "stdout",
     "output_type": "stream",
     "text": [
      "INFO:tensorflow:Initialize variable module/MobilenetV1/Conv2d_3_depthwise/BatchNorm/gamma:0 from checkpoint b'/tmp/tfhub_modules/14d65617a151aa220a82c2a2c5ad68d504abbccf/variables/variables' with MobilenetV1/Conv2d_3_depthwise/BatchNorm/gamma\n"
     ]
    },
    {
     "name": "stderr",
     "output_type": "stream",
     "text": [
      "INFO:tensorflow:Initialize variable module/MobilenetV1/Conv2d_3_depthwise/BatchNorm/gamma:0 from checkpoint b'/tmp/tfhub_modules/14d65617a151aa220a82c2a2c5ad68d504abbccf/variables/variables' with MobilenetV1/Conv2d_3_depthwise/BatchNorm/gamma\n"
     ]
    },
    {
     "name": "stdout",
     "output_type": "stream",
     "text": [
      "INFO:tensorflow:Initialize variable module/MobilenetV1/Conv2d_3_depthwise/BatchNorm/moving_mean:0 from checkpoint b'/tmp/tfhub_modules/14d65617a151aa220a82c2a2c5ad68d504abbccf/variables/variables' with MobilenetV1/Conv2d_3_depthwise/BatchNorm/moving_mean\n"
     ]
    },
    {
     "name": "stderr",
     "output_type": "stream",
     "text": [
      "INFO:tensorflow:Initialize variable module/MobilenetV1/Conv2d_3_depthwise/BatchNorm/moving_mean:0 from checkpoint b'/tmp/tfhub_modules/14d65617a151aa220a82c2a2c5ad68d504abbccf/variables/variables' with MobilenetV1/Conv2d_3_depthwise/BatchNorm/moving_mean\n"
     ]
    },
    {
     "name": "stdout",
     "output_type": "stream",
     "text": [
      "INFO:tensorflow:Initialize variable module/MobilenetV1/Conv2d_3_depthwise/BatchNorm/moving_variance:0 from checkpoint b'/tmp/tfhub_modules/14d65617a151aa220a82c2a2c5ad68d504abbccf/variables/variables' with MobilenetV1/Conv2d_3_depthwise/BatchNorm/moving_variance\n"
     ]
    },
    {
     "name": "stderr",
     "output_type": "stream",
     "text": [
      "INFO:tensorflow:Initialize variable module/MobilenetV1/Conv2d_3_depthwise/BatchNorm/moving_variance:0 from checkpoint b'/tmp/tfhub_modules/14d65617a151aa220a82c2a2c5ad68d504abbccf/variables/variables' with MobilenetV1/Conv2d_3_depthwise/BatchNorm/moving_variance\n"
     ]
    },
    {
     "name": "stdout",
     "output_type": "stream",
     "text": [
      "INFO:tensorflow:Initialize variable module/MobilenetV1/Conv2d_3_depthwise/depthwise_weights:0 from checkpoint b'/tmp/tfhub_modules/14d65617a151aa220a82c2a2c5ad68d504abbccf/variables/variables' with MobilenetV1/Conv2d_3_depthwise/depthwise_weights\n"
     ]
    },
    {
     "name": "stderr",
     "output_type": "stream",
     "text": [
      "INFO:tensorflow:Initialize variable module/MobilenetV1/Conv2d_3_depthwise/depthwise_weights:0 from checkpoint b'/tmp/tfhub_modules/14d65617a151aa220a82c2a2c5ad68d504abbccf/variables/variables' with MobilenetV1/Conv2d_3_depthwise/depthwise_weights\n"
     ]
    },
    {
     "name": "stdout",
     "output_type": "stream",
     "text": [
      "INFO:tensorflow:Initialize variable module/MobilenetV1/Conv2d_3_pointwise/BatchNorm/beta:0 from checkpoint b'/tmp/tfhub_modules/14d65617a151aa220a82c2a2c5ad68d504abbccf/variables/variables' with MobilenetV1/Conv2d_3_pointwise/BatchNorm/beta\n"
     ]
    },
    {
     "name": "stderr",
     "output_type": "stream",
     "text": [
      "INFO:tensorflow:Initialize variable module/MobilenetV1/Conv2d_3_pointwise/BatchNorm/beta:0 from checkpoint b'/tmp/tfhub_modules/14d65617a151aa220a82c2a2c5ad68d504abbccf/variables/variables' with MobilenetV1/Conv2d_3_pointwise/BatchNorm/beta\n"
     ]
    },
    {
     "name": "stdout",
     "output_type": "stream",
     "text": [
      "INFO:tensorflow:Initialize variable module/MobilenetV1/Conv2d_3_pointwise/BatchNorm/gamma:0 from checkpoint b'/tmp/tfhub_modules/14d65617a151aa220a82c2a2c5ad68d504abbccf/variables/variables' with MobilenetV1/Conv2d_3_pointwise/BatchNorm/gamma\n"
     ]
    },
    {
     "name": "stderr",
     "output_type": "stream",
     "text": [
      "INFO:tensorflow:Initialize variable module/MobilenetV1/Conv2d_3_pointwise/BatchNorm/gamma:0 from checkpoint b'/tmp/tfhub_modules/14d65617a151aa220a82c2a2c5ad68d504abbccf/variables/variables' with MobilenetV1/Conv2d_3_pointwise/BatchNorm/gamma\n"
     ]
    },
    {
     "name": "stdout",
     "output_type": "stream",
     "text": [
      "INFO:tensorflow:Initialize variable module/MobilenetV1/Conv2d_3_pointwise/BatchNorm/moving_mean:0 from checkpoint b'/tmp/tfhub_modules/14d65617a151aa220a82c2a2c5ad68d504abbccf/variables/variables' with MobilenetV1/Conv2d_3_pointwise/BatchNorm/moving_mean\n"
     ]
    },
    {
     "name": "stderr",
     "output_type": "stream",
     "text": [
      "INFO:tensorflow:Initialize variable module/MobilenetV1/Conv2d_3_pointwise/BatchNorm/moving_mean:0 from checkpoint b'/tmp/tfhub_modules/14d65617a151aa220a82c2a2c5ad68d504abbccf/variables/variables' with MobilenetV1/Conv2d_3_pointwise/BatchNorm/moving_mean\n"
     ]
    },
    {
     "name": "stdout",
     "output_type": "stream",
     "text": [
      "INFO:tensorflow:Initialize variable module/MobilenetV1/Conv2d_3_pointwise/BatchNorm/moving_variance:0 from checkpoint b'/tmp/tfhub_modules/14d65617a151aa220a82c2a2c5ad68d504abbccf/variables/variables' with MobilenetV1/Conv2d_3_pointwise/BatchNorm/moving_variance\n"
     ]
    },
    {
     "name": "stderr",
     "output_type": "stream",
     "text": [
      "INFO:tensorflow:Initialize variable module/MobilenetV1/Conv2d_3_pointwise/BatchNorm/moving_variance:0 from checkpoint b'/tmp/tfhub_modules/14d65617a151aa220a82c2a2c5ad68d504abbccf/variables/variables' with MobilenetV1/Conv2d_3_pointwise/BatchNorm/moving_variance\n"
     ]
    },
    {
     "name": "stdout",
     "output_type": "stream",
     "text": [
      "INFO:tensorflow:Initialize variable module/MobilenetV1/Conv2d_3_pointwise/weights:0 from checkpoint b'/tmp/tfhub_modules/14d65617a151aa220a82c2a2c5ad68d504abbccf/variables/variables' with MobilenetV1/Conv2d_3_pointwise/weights\n"
     ]
    },
    {
     "name": "stderr",
     "output_type": "stream",
     "text": [
      "INFO:tensorflow:Initialize variable module/MobilenetV1/Conv2d_3_pointwise/weights:0 from checkpoint b'/tmp/tfhub_modules/14d65617a151aa220a82c2a2c5ad68d504abbccf/variables/variables' with MobilenetV1/Conv2d_3_pointwise/weights\n"
     ]
    },
    {
     "name": "stdout",
     "output_type": "stream",
     "text": [
      "INFO:tensorflow:Initialize variable module/MobilenetV1/Conv2d_4_depthwise/BatchNorm/beta:0 from checkpoint b'/tmp/tfhub_modules/14d65617a151aa220a82c2a2c5ad68d504abbccf/variables/variables' with MobilenetV1/Conv2d_4_depthwise/BatchNorm/beta\n"
     ]
    },
    {
     "name": "stderr",
     "output_type": "stream",
     "text": [
      "INFO:tensorflow:Initialize variable module/MobilenetV1/Conv2d_4_depthwise/BatchNorm/beta:0 from checkpoint b'/tmp/tfhub_modules/14d65617a151aa220a82c2a2c5ad68d504abbccf/variables/variables' with MobilenetV1/Conv2d_4_depthwise/BatchNorm/beta\n"
     ]
    },
    {
     "name": "stdout",
     "output_type": "stream",
     "text": [
      "INFO:tensorflow:Initialize variable module/MobilenetV1/Conv2d_4_depthwise/BatchNorm/gamma:0 from checkpoint b'/tmp/tfhub_modules/14d65617a151aa220a82c2a2c5ad68d504abbccf/variables/variables' with MobilenetV1/Conv2d_4_depthwise/BatchNorm/gamma\n"
     ]
    },
    {
     "name": "stderr",
     "output_type": "stream",
     "text": [
      "INFO:tensorflow:Initialize variable module/MobilenetV1/Conv2d_4_depthwise/BatchNorm/gamma:0 from checkpoint b'/tmp/tfhub_modules/14d65617a151aa220a82c2a2c5ad68d504abbccf/variables/variables' with MobilenetV1/Conv2d_4_depthwise/BatchNorm/gamma\n"
     ]
    },
    {
     "name": "stdout",
     "output_type": "stream",
     "text": [
      "INFO:tensorflow:Initialize variable module/MobilenetV1/Conv2d_4_depthwise/BatchNorm/moving_mean:0 from checkpoint b'/tmp/tfhub_modules/14d65617a151aa220a82c2a2c5ad68d504abbccf/variables/variables' with MobilenetV1/Conv2d_4_depthwise/BatchNorm/moving_mean\n"
     ]
    },
    {
     "name": "stderr",
     "output_type": "stream",
     "text": [
      "INFO:tensorflow:Initialize variable module/MobilenetV1/Conv2d_4_depthwise/BatchNorm/moving_mean:0 from checkpoint b'/tmp/tfhub_modules/14d65617a151aa220a82c2a2c5ad68d504abbccf/variables/variables' with MobilenetV1/Conv2d_4_depthwise/BatchNorm/moving_mean\n"
     ]
    },
    {
     "name": "stdout",
     "output_type": "stream",
     "text": [
      "INFO:tensorflow:Initialize variable module/MobilenetV1/Conv2d_4_depthwise/BatchNorm/moving_variance:0 from checkpoint b'/tmp/tfhub_modules/14d65617a151aa220a82c2a2c5ad68d504abbccf/variables/variables' with MobilenetV1/Conv2d_4_depthwise/BatchNorm/moving_variance\n"
     ]
    },
    {
     "name": "stderr",
     "output_type": "stream",
     "text": [
      "INFO:tensorflow:Initialize variable module/MobilenetV1/Conv2d_4_depthwise/BatchNorm/moving_variance:0 from checkpoint b'/tmp/tfhub_modules/14d65617a151aa220a82c2a2c5ad68d504abbccf/variables/variables' with MobilenetV1/Conv2d_4_depthwise/BatchNorm/moving_variance\n"
     ]
    },
    {
     "name": "stdout",
     "output_type": "stream",
     "text": [
      "INFO:tensorflow:Initialize variable module/MobilenetV1/Conv2d_4_depthwise/depthwise_weights:0 from checkpoint b'/tmp/tfhub_modules/14d65617a151aa220a82c2a2c5ad68d504abbccf/variables/variables' with MobilenetV1/Conv2d_4_depthwise/depthwise_weights\n"
     ]
    },
    {
     "name": "stderr",
     "output_type": "stream",
     "text": [
      "INFO:tensorflow:Initialize variable module/MobilenetV1/Conv2d_4_depthwise/depthwise_weights:0 from checkpoint b'/tmp/tfhub_modules/14d65617a151aa220a82c2a2c5ad68d504abbccf/variables/variables' with MobilenetV1/Conv2d_4_depthwise/depthwise_weights\n"
     ]
    },
    {
     "name": "stdout",
     "output_type": "stream",
     "text": [
      "INFO:tensorflow:Initialize variable module/MobilenetV1/Conv2d_4_pointwise/BatchNorm/beta:0 from checkpoint b'/tmp/tfhub_modules/14d65617a151aa220a82c2a2c5ad68d504abbccf/variables/variables' with MobilenetV1/Conv2d_4_pointwise/BatchNorm/beta\n"
     ]
    },
    {
     "name": "stderr",
     "output_type": "stream",
     "text": [
      "INFO:tensorflow:Initialize variable module/MobilenetV1/Conv2d_4_pointwise/BatchNorm/beta:0 from checkpoint b'/tmp/tfhub_modules/14d65617a151aa220a82c2a2c5ad68d504abbccf/variables/variables' with MobilenetV1/Conv2d_4_pointwise/BatchNorm/beta\n"
     ]
    },
    {
     "name": "stdout",
     "output_type": "stream",
     "text": [
      "INFO:tensorflow:Initialize variable module/MobilenetV1/Conv2d_4_pointwise/BatchNorm/gamma:0 from checkpoint b'/tmp/tfhub_modules/14d65617a151aa220a82c2a2c5ad68d504abbccf/variables/variables' with MobilenetV1/Conv2d_4_pointwise/BatchNorm/gamma\n"
     ]
    },
    {
     "name": "stderr",
     "output_type": "stream",
     "text": [
      "INFO:tensorflow:Initialize variable module/MobilenetV1/Conv2d_4_pointwise/BatchNorm/gamma:0 from checkpoint b'/tmp/tfhub_modules/14d65617a151aa220a82c2a2c5ad68d504abbccf/variables/variables' with MobilenetV1/Conv2d_4_pointwise/BatchNorm/gamma\n"
     ]
    },
    {
     "name": "stdout",
     "output_type": "stream",
     "text": [
      "INFO:tensorflow:Initialize variable module/MobilenetV1/Conv2d_4_pointwise/BatchNorm/moving_mean:0 from checkpoint b'/tmp/tfhub_modules/14d65617a151aa220a82c2a2c5ad68d504abbccf/variables/variables' with MobilenetV1/Conv2d_4_pointwise/BatchNorm/moving_mean\n"
     ]
    },
    {
     "name": "stderr",
     "output_type": "stream",
     "text": [
      "INFO:tensorflow:Initialize variable module/MobilenetV1/Conv2d_4_pointwise/BatchNorm/moving_mean:0 from checkpoint b'/tmp/tfhub_modules/14d65617a151aa220a82c2a2c5ad68d504abbccf/variables/variables' with MobilenetV1/Conv2d_4_pointwise/BatchNorm/moving_mean\n"
     ]
    },
    {
     "name": "stdout",
     "output_type": "stream",
     "text": [
      "INFO:tensorflow:Initialize variable module/MobilenetV1/Conv2d_4_pointwise/BatchNorm/moving_variance:0 from checkpoint b'/tmp/tfhub_modules/14d65617a151aa220a82c2a2c5ad68d504abbccf/variables/variables' with MobilenetV1/Conv2d_4_pointwise/BatchNorm/moving_variance\n"
     ]
    },
    {
     "name": "stderr",
     "output_type": "stream",
     "text": [
      "INFO:tensorflow:Initialize variable module/MobilenetV1/Conv2d_4_pointwise/BatchNorm/moving_variance:0 from checkpoint b'/tmp/tfhub_modules/14d65617a151aa220a82c2a2c5ad68d504abbccf/variables/variables' with MobilenetV1/Conv2d_4_pointwise/BatchNorm/moving_variance\n"
     ]
    },
    {
     "name": "stdout",
     "output_type": "stream",
     "text": [
      "INFO:tensorflow:Initialize variable module/MobilenetV1/Conv2d_4_pointwise/weights:0 from checkpoint b'/tmp/tfhub_modules/14d65617a151aa220a82c2a2c5ad68d504abbccf/variables/variables' with MobilenetV1/Conv2d_4_pointwise/weights\n"
     ]
    },
    {
     "name": "stderr",
     "output_type": "stream",
     "text": [
      "INFO:tensorflow:Initialize variable module/MobilenetV1/Conv2d_4_pointwise/weights:0 from checkpoint b'/tmp/tfhub_modules/14d65617a151aa220a82c2a2c5ad68d504abbccf/variables/variables' with MobilenetV1/Conv2d_4_pointwise/weights\n"
     ]
    },
    {
     "name": "stdout",
     "output_type": "stream",
     "text": [
      "INFO:tensorflow:Initialize variable module/MobilenetV1/Conv2d_5_depthwise/BatchNorm/beta:0 from checkpoint b'/tmp/tfhub_modules/14d65617a151aa220a82c2a2c5ad68d504abbccf/variables/variables' with MobilenetV1/Conv2d_5_depthwise/BatchNorm/beta\n"
     ]
    },
    {
     "name": "stderr",
     "output_type": "stream",
     "text": [
      "INFO:tensorflow:Initialize variable module/MobilenetV1/Conv2d_5_depthwise/BatchNorm/beta:0 from checkpoint b'/tmp/tfhub_modules/14d65617a151aa220a82c2a2c5ad68d504abbccf/variables/variables' with MobilenetV1/Conv2d_5_depthwise/BatchNorm/beta\n"
     ]
    },
    {
     "name": "stdout",
     "output_type": "stream",
     "text": [
      "INFO:tensorflow:Initialize variable module/MobilenetV1/Conv2d_5_depthwise/BatchNorm/gamma:0 from checkpoint b'/tmp/tfhub_modules/14d65617a151aa220a82c2a2c5ad68d504abbccf/variables/variables' with MobilenetV1/Conv2d_5_depthwise/BatchNorm/gamma\n"
     ]
    },
    {
     "name": "stderr",
     "output_type": "stream",
     "text": [
      "INFO:tensorflow:Initialize variable module/MobilenetV1/Conv2d_5_depthwise/BatchNorm/gamma:0 from checkpoint b'/tmp/tfhub_modules/14d65617a151aa220a82c2a2c5ad68d504abbccf/variables/variables' with MobilenetV1/Conv2d_5_depthwise/BatchNorm/gamma\n"
     ]
    },
    {
     "name": "stdout",
     "output_type": "stream",
     "text": [
      "INFO:tensorflow:Initialize variable module/MobilenetV1/Conv2d_5_depthwise/BatchNorm/moving_mean:0 from checkpoint b'/tmp/tfhub_modules/14d65617a151aa220a82c2a2c5ad68d504abbccf/variables/variables' with MobilenetV1/Conv2d_5_depthwise/BatchNorm/moving_mean\n"
     ]
    },
    {
     "name": "stderr",
     "output_type": "stream",
     "text": [
      "INFO:tensorflow:Initialize variable module/MobilenetV1/Conv2d_5_depthwise/BatchNorm/moving_mean:0 from checkpoint b'/tmp/tfhub_modules/14d65617a151aa220a82c2a2c5ad68d504abbccf/variables/variables' with MobilenetV1/Conv2d_5_depthwise/BatchNorm/moving_mean\n"
     ]
    },
    {
     "name": "stdout",
     "output_type": "stream",
     "text": [
      "INFO:tensorflow:Initialize variable module/MobilenetV1/Conv2d_5_depthwise/BatchNorm/moving_variance:0 from checkpoint b'/tmp/tfhub_modules/14d65617a151aa220a82c2a2c5ad68d504abbccf/variables/variables' with MobilenetV1/Conv2d_5_depthwise/BatchNorm/moving_variance\n"
     ]
    },
    {
     "name": "stderr",
     "output_type": "stream",
     "text": [
      "INFO:tensorflow:Initialize variable module/MobilenetV1/Conv2d_5_depthwise/BatchNorm/moving_variance:0 from checkpoint b'/tmp/tfhub_modules/14d65617a151aa220a82c2a2c5ad68d504abbccf/variables/variables' with MobilenetV1/Conv2d_5_depthwise/BatchNorm/moving_variance\n"
     ]
    },
    {
     "name": "stdout",
     "output_type": "stream",
     "text": [
      "INFO:tensorflow:Initialize variable module/MobilenetV1/Conv2d_5_depthwise/depthwise_weights:0 from checkpoint b'/tmp/tfhub_modules/14d65617a151aa220a82c2a2c5ad68d504abbccf/variables/variables' with MobilenetV1/Conv2d_5_depthwise/depthwise_weights\n"
     ]
    },
    {
     "name": "stderr",
     "output_type": "stream",
     "text": [
      "INFO:tensorflow:Initialize variable module/MobilenetV1/Conv2d_5_depthwise/depthwise_weights:0 from checkpoint b'/tmp/tfhub_modules/14d65617a151aa220a82c2a2c5ad68d504abbccf/variables/variables' with MobilenetV1/Conv2d_5_depthwise/depthwise_weights\n"
     ]
    },
    {
     "name": "stdout",
     "output_type": "stream",
     "text": [
      "INFO:tensorflow:Initialize variable module/MobilenetV1/Conv2d_5_pointwise/BatchNorm/beta:0 from checkpoint b'/tmp/tfhub_modules/14d65617a151aa220a82c2a2c5ad68d504abbccf/variables/variables' with MobilenetV1/Conv2d_5_pointwise/BatchNorm/beta\n"
     ]
    },
    {
     "name": "stderr",
     "output_type": "stream",
     "text": [
      "INFO:tensorflow:Initialize variable module/MobilenetV1/Conv2d_5_pointwise/BatchNorm/beta:0 from checkpoint b'/tmp/tfhub_modules/14d65617a151aa220a82c2a2c5ad68d504abbccf/variables/variables' with MobilenetV1/Conv2d_5_pointwise/BatchNorm/beta\n"
     ]
    },
    {
     "name": "stdout",
     "output_type": "stream",
     "text": [
      "INFO:tensorflow:Initialize variable module/MobilenetV1/Conv2d_5_pointwise/BatchNorm/gamma:0 from checkpoint b'/tmp/tfhub_modules/14d65617a151aa220a82c2a2c5ad68d504abbccf/variables/variables' with MobilenetV1/Conv2d_5_pointwise/BatchNorm/gamma\n"
     ]
    },
    {
     "name": "stderr",
     "output_type": "stream",
     "text": [
      "INFO:tensorflow:Initialize variable module/MobilenetV1/Conv2d_5_pointwise/BatchNorm/gamma:0 from checkpoint b'/tmp/tfhub_modules/14d65617a151aa220a82c2a2c5ad68d504abbccf/variables/variables' with MobilenetV1/Conv2d_5_pointwise/BatchNorm/gamma\n"
     ]
    },
    {
     "name": "stdout",
     "output_type": "stream",
     "text": [
      "INFO:tensorflow:Initialize variable module/MobilenetV1/Conv2d_5_pointwise/BatchNorm/moving_mean:0 from checkpoint b'/tmp/tfhub_modules/14d65617a151aa220a82c2a2c5ad68d504abbccf/variables/variables' with MobilenetV1/Conv2d_5_pointwise/BatchNorm/moving_mean\n"
     ]
    },
    {
     "name": "stderr",
     "output_type": "stream",
     "text": [
      "INFO:tensorflow:Initialize variable module/MobilenetV1/Conv2d_5_pointwise/BatchNorm/moving_mean:0 from checkpoint b'/tmp/tfhub_modules/14d65617a151aa220a82c2a2c5ad68d504abbccf/variables/variables' with MobilenetV1/Conv2d_5_pointwise/BatchNorm/moving_mean\n"
     ]
    },
    {
     "name": "stdout",
     "output_type": "stream",
     "text": [
      "INFO:tensorflow:Initialize variable module/MobilenetV1/Conv2d_5_pointwise/BatchNorm/moving_variance:0 from checkpoint b'/tmp/tfhub_modules/14d65617a151aa220a82c2a2c5ad68d504abbccf/variables/variables' with MobilenetV1/Conv2d_5_pointwise/BatchNorm/moving_variance\n"
     ]
    },
    {
     "name": "stderr",
     "output_type": "stream",
     "text": [
      "INFO:tensorflow:Initialize variable module/MobilenetV1/Conv2d_5_pointwise/BatchNorm/moving_variance:0 from checkpoint b'/tmp/tfhub_modules/14d65617a151aa220a82c2a2c5ad68d504abbccf/variables/variables' with MobilenetV1/Conv2d_5_pointwise/BatchNorm/moving_variance\n"
     ]
    },
    {
     "name": "stdout",
     "output_type": "stream",
     "text": [
      "INFO:tensorflow:Initialize variable module/MobilenetV1/Conv2d_5_pointwise/weights:0 from checkpoint b'/tmp/tfhub_modules/14d65617a151aa220a82c2a2c5ad68d504abbccf/variables/variables' with MobilenetV1/Conv2d_5_pointwise/weights\n"
     ]
    },
    {
     "name": "stderr",
     "output_type": "stream",
     "text": [
      "INFO:tensorflow:Initialize variable module/MobilenetV1/Conv2d_5_pointwise/weights:0 from checkpoint b'/tmp/tfhub_modules/14d65617a151aa220a82c2a2c5ad68d504abbccf/variables/variables' with MobilenetV1/Conv2d_5_pointwise/weights\n"
     ]
    },
    {
     "name": "stdout",
     "output_type": "stream",
     "text": [
      "INFO:tensorflow:Initialize variable module/MobilenetV1/Conv2d_6_depthwise/BatchNorm/beta:0 from checkpoint b'/tmp/tfhub_modules/14d65617a151aa220a82c2a2c5ad68d504abbccf/variables/variables' with MobilenetV1/Conv2d_6_depthwise/BatchNorm/beta\n"
     ]
    },
    {
     "name": "stderr",
     "output_type": "stream",
     "text": [
      "INFO:tensorflow:Initialize variable module/MobilenetV1/Conv2d_6_depthwise/BatchNorm/beta:0 from checkpoint b'/tmp/tfhub_modules/14d65617a151aa220a82c2a2c5ad68d504abbccf/variables/variables' with MobilenetV1/Conv2d_6_depthwise/BatchNorm/beta\n"
     ]
    },
    {
     "name": "stdout",
     "output_type": "stream",
     "text": [
      "INFO:tensorflow:Initialize variable module/MobilenetV1/Conv2d_6_depthwise/BatchNorm/gamma:0 from checkpoint b'/tmp/tfhub_modules/14d65617a151aa220a82c2a2c5ad68d504abbccf/variables/variables' with MobilenetV1/Conv2d_6_depthwise/BatchNorm/gamma\n"
     ]
    },
    {
     "name": "stderr",
     "output_type": "stream",
     "text": [
      "INFO:tensorflow:Initialize variable module/MobilenetV1/Conv2d_6_depthwise/BatchNorm/gamma:0 from checkpoint b'/tmp/tfhub_modules/14d65617a151aa220a82c2a2c5ad68d504abbccf/variables/variables' with MobilenetV1/Conv2d_6_depthwise/BatchNorm/gamma\n"
     ]
    },
    {
     "name": "stdout",
     "output_type": "stream",
     "text": [
      "INFO:tensorflow:Initialize variable module/MobilenetV1/Conv2d_6_depthwise/BatchNorm/moving_mean:0 from checkpoint b'/tmp/tfhub_modules/14d65617a151aa220a82c2a2c5ad68d504abbccf/variables/variables' with MobilenetV1/Conv2d_6_depthwise/BatchNorm/moving_mean\n"
     ]
    },
    {
     "name": "stderr",
     "output_type": "stream",
     "text": [
      "INFO:tensorflow:Initialize variable module/MobilenetV1/Conv2d_6_depthwise/BatchNorm/moving_mean:0 from checkpoint b'/tmp/tfhub_modules/14d65617a151aa220a82c2a2c5ad68d504abbccf/variables/variables' with MobilenetV1/Conv2d_6_depthwise/BatchNorm/moving_mean\n"
     ]
    },
    {
     "name": "stdout",
     "output_type": "stream",
     "text": [
      "INFO:tensorflow:Initialize variable module/MobilenetV1/Conv2d_6_depthwise/BatchNorm/moving_variance:0 from checkpoint b'/tmp/tfhub_modules/14d65617a151aa220a82c2a2c5ad68d504abbccf/variables/variables' with MobilenetV1/Conv2d_6_depthwise/BatchNorm/moving_variance\n"
     ]
    },
    {
     "name": "stderr",
     "output_type": "stream",
     "text": [
      "INFO:tensorflow:Initialize variable module/MobilenetV1/Conv2d_6_depthwise/BatchNorm/moving_variance:0 from checkpoint b'/tmp/tfhub_modules/14d65617a151aa220a82c2a2c5ad68d504abbccf/variables/variables' with MobilenetV1/Conv2d_6_depthwise/BatchNorm/moving_variance\n"
     ]
    },
    {
     "name": "stdout",
     "output_type": "stream",
     "text": [
      "INFO:tensorflow:Initialize variable module/MobilenetV1/Conv2d_6_depthwise/depthwise_weights:0 from checkpoint b'/tmp/tfhub_modules/14d65617a151aa220a82c2a2c5ad68d504abbccf/variables/variables' with MobilenetV1/Conv2d_6_depthwise/depthwise_weights\n"
     ]
    },
    {
     "name": "stderr",
     "output_type": "stream",
     "text": [
      "INFO:tensorflow:Initialize variable module/MobilenetV1/Conv2d_6_depthwise/depthwise_weights:0 from checkpoint b'/tmp/tfhub_modules/14d65617a151aa220a82c2a2c5ad68d504abbccf/variables/variables' with MobilenetV1/Conv2d_6_depthwise/depthwise_weights\n"
     ]
    },
    {
     "name": "stdout",
     "output_type": "stream",
     "text": [
      "INFO:tensorflow:Initialize variable module/MobilenetV1/Conv2d_6_pointwise/BatchNorm/beta:0 from checkpoint b'/tmp/tfhub_modules/14d65617a151aa220a82c2a2c5ad68d504abbccf/variables/variables' with MobilenetV1/Conv2d_6_pointwise/BatchNorm/beta\n"
     ]
    },
    {
     "name": "stderr",
     "output_type": "stream",
     "text": [
      "INFO:tensorflow:Initialize variable module/MobilenetV1/Conv2d_6_pointwise/BatchNorm/beta:0 from checkpoint b'/tmp/tfhub_modules/14d65617a151aa220a82c2a2c5ad68d504abbccf/variables/variables' with MobilenetV1/Conv2d_6_pointwise/BatchNorm/beta\n"
     ]
    },
    {
     "name": "stdout",
     "output_type": "stream",
     "text": [
      "INFO:tensorflow:Initialize variable module/MobilenetV1/Conv2d_6_pointwise/BatchNorm/gamma:0 from checkpoint b'/tmp/tfhub_modules/14d65617a151aa220a82c2a2c5ad68d504abbccf/variables/variables' with MobilenetV1/Conv2d_6_pointwise/BatchNorm/gamma\n"
     ]
    },
    {
     "name": "stderr",
     "output_type": "stream",
     "text": [
      "INFO:tensorflow:Initialize variable module/MobilenetV1/Conv2d_6_pointwise/BatchNorm/gamma:0 from checkpoint b'/tmp/tfhub_modules/14d65617a151aa220a82c2a2c5ad68d504abbccf/variables/variables' with MobilenetV1/Conv2d_6_pointwise/BatchNorm/gamma\n"
     ]
    },
    {
     "name": "stdout",
     "output_type": "stream",
     "text": [
      "INFO:tensorflow:Initialize variable module/MobilenetV1/Conv2d_6_pointwise/BatchNorm/moving_mean:0 from checkpoint b'/tmp/tfhub_modules/14d65617a151aa220a82c2a2c5ad68d504abbccf/variables/variables' with MobilenetV1/Conv2d_6_pointwise/BatchNorm/moving_mean\n"
     ]
    },
    {
     "name": "stderr",
     "output_type": "stream",
     "text": [
      "INFO:tensorflow:Initialize variable module/MobilenetV1/Conv2d_6_pointwise/BatchNorm/moving_mean:0 from checkpoint b'/tmp/tfhub_modules/14d65617a151aa220a82c2a2c5ad68d504abbccf/variables/variables' with MobilenetV1/Conv2d_6_pointwise/BatchNorm/moving_mean\n"
     ]
    },
    {
     "name": "stdout",
     "output_type": "stream",
     "text": [
      "INFO:tensorflow:Initialize variable module/MobilenetV1/Conv2d_6_pointwise/BatchNorm/moving_variance:0 from checkpoint b'/tmp/tfhub_modules/14d65617a151aa220a82c2a2c5ad68d504abbccf/variables/variables' with MobilenetV1/Conv2d_6_pointwise/BatchNorm/moving_variance\n"
     ]
    },
    {
     "name": "stderr",
     "output_type": "stream",
     "text": [
      "INFO:tensorflow:Initialize variable module/MobilenetV1/Conv2d_6_pointwise/BatchNorm/moving_variance:0 from checkpoint b'/tmp/tfhub_modules/14d65617a151aa220a82c2a2c5ad68d504abbccf/variables/variables' with MobilenetV1/Conv2d_6_pointwise/BatchNorm/moving_variance\n"
     ]
    },
    {
     "name": "stdout",
     "output_type": "stream",
     "text": [
      "INFO:tensorflow:Initialize variable module/MobilenetV1/Conv2d_6_pointwise/weights:0 from checkpoint b'/tmp/tfhub_modules/14d65617a151aa220a82c2a2c5ad68d504abbccf/variables/variables' with MobilenetV1/Conv2d_6_pointwise/weights\n"
     ]
    },
    {
     "name": "stderr",
     "output_type": "stream",
     "text": [
      "INFO:tensorflow:Initialize variable module/MobilenetV1/Conv2d_6_pointwise/weights:0 from checkpoint b'/tmp/tfhub_modules/14d65617a151aa220a82c2a2c5ad68d504abbccf/variables/variables' with MobilenetV1/Conv2d_6_pointwise/weights\n"
     ]
    },
    {
     "name": "stdout",
     "output_type": "stream",
     "text": [
      "INFO:tensorflow:Initialize variable module/MobilenetV1/Conv2d_7_depthwise/BatchNorm/beta:0 from checkpoint b'/tmp/tfhub_modules/14d65617a151aa220a82c2a2c5ad68d504abbccf/variables/variables' with MobilenetV1/Conv2d_7_depthwise/BatchNorm/beta\n"
     ]
    },
    {
     "name": "stderr",
     "output_type": "stream",
     "text": [
      "INFO:tensorflow:Initialize variable module/MobilenetV1/Conv2d_7_depthwise/BatchNorm/beta:0 from checkpoint b'/tmp/tfhub_modules/14d65617a151aa220a82c2a2c5ad68d504abbccf/variables/variables' with MobilenetV1/Conv2d_7_depthwise/BatchNorm/beta\n"
     ]
    },
    {
     "name": "stdout",
     "output_type": "stream",
     "text": [
      "INFO:tensorflow:Initialize variable module/MobilenetV1/Conv2d_7_depthwise/BatchNorm/gamma:0 from checkpoint b'/tmp/tfhub_modules/14d65617a151aa220a82c2a2c5ad68d504abbccf/variables/variables' with MobilenetV1/Conv2d_7_depthwise/BatchNorm/gamma\n"
     ]
    },
    {
     "name": "stderr",
     "output_type": "stream",
     "text": [
      "INFO:tensorflow:Initialize variable module/MobilenetV1/Conv2d_7_depthwise/BatchNorm/gamma:0 from checkpoint b'/tmp/tfhub_modules/14d65617a151aa220a82c2a2c5ad68d504abbccf/variables/variables' with MobilenetV1/Conv2d_7_depthwise/BatchNorm/gamma\n"
     ]
    },
    {
     "name": "stdout",
     "output_type": "stream",
     "text": [
      "INFO:tensorflow:Initialize variable module/MobilenetV1/Conv2d_7_depthwise/BatchNorm/moving_mean:0 from checkpoint b'/tmp/tfhub_modules/14d65617a151aa220a82c2a2c5ad68d504abbccf/variables/variables' with MobilenetV1/Conv2d_7_depthwise/BatchNorm/moving_mean\n"
     ]
    },
    {
     "name": "stderr",
     "output_type": "stream",
     "text": [
      "INFO:tensorflow:Initialize variable module/MobilenetV1/Conv2d_7_depthwise/BatchNorm/moving_mean:0 from checkpoint b'/tmp/tfhub_modules/14d65617a151aa220a82c2a2c5ad68d504abbccf/variables/variables' with MobilenetV1/Conv2d_7_depthwise/BatchNorm/moving_mean\n"
     ]
    },
    {
     "name": "stdout",
     "output_type": "stream",
     "text": [
      "INFO:tensorflow:Initialize variable module/MobilenetV1/Conv2d_7_depthwise/BatchNorm/moving_variance:0 from checkpoint b'/tmp/tfhub_modules/14d65617a151aa220a82c2a2c5ad68d504abbccf/variables/variables' with MobilenetV1/Conv2d_7_depthwise/BatchNorm/moving_variance\n"
     ]
    },
    {
     "name": "stderr",
     "output_type": "stream",
     "text": [
      "INFO:tensorflow:Initialize variable module/MobilenetV1/Conv2d_7_depthwise/BatchNorm/moving_variance:0 from checkpoint b'/tmp/tfhub_modules/14d65617a151aa220a82c2a2c5ad68d504abbccf/variables/variables' with MobilenetV1/Conv2d_7_depthwise/BatchNorm/moving_variance\n"
     ]
    },
    {
     "name": "stdout",
     "output_type": "stream",
     "text": [
      "INFO:tensorflow:Initialize variable module/MobilenetV1/Conv2d_7_depthwise/depthwise_weights:0 from checkpoint b'/tmp/tfhub_modules/14d65617a151aa220a82c2a2c5ad68d504abbccf/variables/variables' with MobilenetV1/Conv2d_7_depthwise/depthwise_weights\n"
     ]
    },
    {
     "name": "stderr",
     "output_type": "stream",
     "text": [
      "INFO:tensorflow:Initialize variable module/MobilenetV1/Conv2d_7_depthwise/depthwise_weights:0 from checkpoint b'/tmp/tfhub_modules/14d65617a151aa220a82c2a2c5ad68d504abbccf/variables/variables' with MobilenetV1/Conv2d_7_depthwise/depthwise_weights\n"
     ]
    },
    {
     "name": "stdout",
     "output_type": "stream",
     "text": [
      "INFO:tensorflow:Initialize variable module/MobilenetV1/Conv2d_7_pointwise/BatchNorm/beta:0 from checkpoint b'/tmp/tfhub_modules/14d65617a151aa220a82c2a2c5ad68d504abbccf/variables/variables' with MobilenetV1/Conv2d_7_pointwise/BatchNorm/beta\n"
     ]
    },
    {
     "name": "stderr",
     "output_type": "stream",
     "text": [
      "INFO:tensorflow:Initialize variable module/MobilenetV1/Conv2d_7_pointwise/BatchNorm/beta:0 from checkpoint b'/tmp/tfhub_modules/14d65617a151aa220a82c2a2c5ad68d504abbccf/variables/variables' with MobilenetV1/Conv2d_7_pointwise/BatchNorm/beta\n"
     ]
    },
    {
     "name": "stdout",
     "output_type": "stream",
     "text": [
      "INFO:tensorflow:Initialize variable module/MobilenetV1/Conv2d_7_pointwise/BatchNorm/gamma:0 from checkpoint b'/tmp/tfhub_modules/14d65617a151aa220a82c2a2c5ad68d504abbccf/variables/variables' with MobilenetV1/Conv2d_7_pointwise/BatchNorm/gamma\n"
     ]
    },
    {
     "name": "stderr",
     "output_type": "stream",
     "text": [
      "INFO:tensorflow:Initialize variable module/MobilenetV1/Conv2d_7_pointwise/BatchNorm/gamma:0 from checkpoint b'/tmp/tfhub_modules/14d65617a151aa220a82c2a2c5ad68d504abbccf/variables/variables' with MobilenetV1/Conv2d_7_pointwise/BatchNorm/gamma\n"
     ]
    },
    {
     "name": "stdout",
     "output_type": "stream",
     "text": [
      "INFO:tensorflow:Initialize variable module/MobilenetV1/Conv2d_7_pointwise/BatchNorm/moving_mean:0 from checkpoint b'/tmp/tfhub_modules/14d65617a151aa220a82c2a2c5ad68d504abbccf/variables/variables' with MobilenetV1/Conv2d_7_pointwise/BatchNorm/moving_mean\n"
     ]
    },
    {
     "name": "stderr",
     "output_type": "stream",
     "text": [
      "INFO:tensorflow:Initialize variable module/MobilenetV1/Conv2d_7_pointwise/BatchNorm/moving_mean:0 from checkpoint b'/tmp/tfhub_modules/14d65617a151aa220a82c2a2c5ad68d504abbccf/variables/variables' with MobilenetV1/Conv2d_7_pointwise/BatchNorm/moving_mean\n"
     ]
    },
    {
     "name": "stdout",
     "output_type": "stream",
     "text": [
      "INFO:tensorflow:Initialize variable module/MobilenetV1/Conv2d_7_pointwise/BatchNorm/moving_variance:0 from checkpoint b'/tmp/tfhub_modules/14d65617a151aa220a82c2a2c5ad68d504abbccf/variables/variables' with MobilenetV1/Conv2d_7_pointwise/BatchNorm/moving_variance\n"
     ]
    },
    {
     "name": "stderr",
     "output_type": "stream",
     "text": [
      "INFO:tensorflow:Initialize variable module/MobilenetV1/Conv2d_7_pointwise/BatchNorm/moving_variance:0 from checkpoint b'/tmp/tfhub_modules/14d65617a151aa220a82c2a2c5ad68d504abbccf/variables/variables' with MobilenetV1/Conv2d_7_pointwise/BatchNorm/moving_variance\n"
     ]
    },
    {
     "name": "stdout",
     "output_type": "stream",
     "text": [
      "INFO:tensorflow:Initialize variable module/MobilenetV1/Conv2d_7_pointwise/weights:0 from checkpoint b'/tmp/tfhub_modules/14d65617a151aa220a82c2a2c5ad68d504abbccf/variables/variables' with MobilenetV1/Conv2d_7_pointwise/weights\n"
     ]
    },
    {
     "name": "stderr",
     "output_type": "stream",
     "text": [
      "INFO:tensorflow:Initialize variable module/MobilenetV1/Conv2d_7_pointwise/weights:0 from checkpoint b'/tmp/tfhub_modules/14d65617a151aa220a82c2a2c5ad68d504abbccf/variables/variables' with MobilenetV1/Conv2d_7_pointwise/weights\n"
     ]
    },
    {
     "name": "stdout",
     "output_type": "stream",
     "text": [
      "INFO:tensorflow:Initialize variable module/MobilenetV1/Conv2d_8_depthwise/BatchNorm/beta:0 from checkpoint b'/tmp/tfhub_modules/14d65617a151aa220a82c2a2c5ad68d504abbccf/variables/variables' with MobilenetV1/Conv2d_8_depthwise/BatchNorm/beta\n"
     ]
    },
    {
     "name": "stderr",
     "output_type": "stream",
     "text": [
      "INFO:tensorflow:Initialize variable module/MobilenetV1/Conv2d_8_depthwise/BatchNorm/beta:0 from checkpoint b'/tmp/tfhub_modules/14d65617a151aa220a82c2a2c5ad68d504abbccf/variables/variables' with MobilenetV1/Conv2d_8_depthwise/BatchNorm/beta\n"
     ]
    },
    {
     "name": "stdout",
     "output_type": "stream",
     "text": [
      "INFO:tensorflow:Initialize variable module/MobilenetV1/Conv2d_8_depthwise/BatchNorm/gamma:0 from checkpoint b'/tmp/tfhub_modules/14d65617a151aa220a82c2a2c5ad68d504abbccf/variables/variables' with MobilenetV1/Conv2d_8_depthwise/BatchNorm/gamma\n"
     ]
    },
    {
     "name": "stderr",
     "output_type": "stream",
     "text": [
      "INFO:tensorflow:Initialize variable module/MobilenetV1/Conv2d_8_depthwise/BatchNorm/gamma:0 from checkpoint b'/tmp/tfhub_modules/14d65617a151aa220a82c2a2c5ad68d504abbccf/variables/variables' with MobilenetV1/Conv2d_8_depthwise/BatchNorm/gamma\n"
     ]
    },
    {
     "name": "stdout",
     "output_type": "stream",
     "text": [
      "INFO:tensorflow:Initialize variable module/MobilenetV1/Conv2d_8_depthwise/BatchNorm/moving_mean:0 from checkpoint b'/tmp/tfhub_modules/14d65617a151aa220a82c2a2c5ad68d504abbccf/variables/variables' with MobilenetV1/Conv2d_8_depthwise/BatchNorm/moving_mean\n"
     ]
    },
    {
     "name": "stderr",
     "output_type": "stream",
     "text": [
      "INFO:tensorflow:Initialize variable module/MobilenetV1/Conv2d_8_depthwise/BatchNorm/moving_mean:0 from checkpoint b'/tmp/tfhub_modules/14d65617a151aa220a82c2a2c5ad68d504abbccf/variables/variables' with MobilenetV1/Conv2d_8_depthwise/BatchNorm/moving_mean\n"
     ]
    },
    {
     "name": "stdout",
     "output_type": "stream",
     "text": [
      "INFO:tensorflow:Initialize variable module/MobilenetV1/Conv2d_8_depthwise/BatchNorm/moving_variance:0 from checkpoint b'/tmp/tfhub_modules/14d65617a151aa220a82c2a2c5ad68d504abbccf/variables/variables' with MobilenetV1/Conv2d_8_depthwise/BatchNorm/moving_variance\n"
     ]
    },
    {
     "name": "stderr",
     "output_type": "stream",
     "text": [
      "INFO:tensorflow:Initialize variable module/MobilenetV1/Conv2d_8_depthwise/BatchNorm/moving_variance:0 from checkpoint b'/tmp/tfhub_modules/14d65617a151aa220a82c2a2c5ad68d504abbccf/variables/variables' with MobilenetV1/Conv2d_8_depthwise/BatchNorm/moving_variance\n"
     ]
    },
    {
     "name": "stdout",
     "output_type": "stream",
     "text": [
      "INFO:tensorflow:Initialize variable module/MobilenetV1/Conv2d_8_depthwise/depthwise_weights:0 from checkpoint b'/tmp/tfhub_modules/14d65617a151aa220a82c2a2c5ad68d504abbccf/variables/variables' with MobilenetV1/Conv2d_8_depthwise/depthwise_weights\n"
     ]
    },
    {
     "name": "stderr",
     "output_type": "stream",
     "text": [
      "INFO:tensorflow:Initialize variable module/MobilenetV1/Conv2d_8_depthwise/depthwise_weights:0 from checkpoint b'/tmp/tfhub_modules/14d65617a151aa220a82c2a2c5ad68d504abbccf/variables/variables' with MobilenetV1/Conv2d_8_depthwise/depthwise_weights\n"
     ]
    },
    {
     "name": "stdout",
     "output_type": "stream",
     "text": [
      "INFO:tensorflow:Initialize variable module/MobilenetV1/Conv2d_8_pointwise/BatchNorm/beta:0 from checkpoint b'/tmp/tfhub_modules/14d65617a151aa220a82c2a2c5ad68d504abbccf/variables/variables' with MobilenetV1/Conv2d_8_pointwise/BatchNorm/beta\n"
     ]
    },
    {
     "name": "stderr",
     "output_type": "stream",
     "text": [
      "INFO:tensorflow:Initialize variable module/MobilenetV1/Conv2d_8_pointwise/BatchNorm/beta:0 from checkpoint b'/tmp/tfhub_modules/14d65617a151aa220a82c2a2c5ad68d504abbccf/variables/variables' with MobilenetV1/Conv2d_8_pointwise/BatchNorm/beta\n"
     ]
    },
    {
     "name": "stdout",
     "output_type": "stream",
     "text": [
      "INFO:tensorflow:Initialize variable module/MobilenetV1/Conv2d_8_pointwise/BatchNorm/gamma:0 from checkpoint b'/tmp/tfhub_modules/14d65617a151aa220a82c2a2c5ad68d504abbccf/variables/variables' with MobilenetV1/Conv2d_8_pointwise/BatchNorm/gamma\n"
     ]
    },
    {
     "name": "stderr",
     "output_type": "stream",
     "text": [
      "INFO:tensorflow:Initialize variable module/MobilenetV1/Conv2d_8_pointwise/BatchNorm/gamma:0 from checkpoint b'/tmp/tfhub_modules/14d65617a151aa220a82c2a2c5ad68d504abbccf/variables/variables' with MobilenetV1/Conv2d_8_pointwise/BatchNorm/gamma\n"
     ]
    },
    {
     "name": "stdout",
     "output_type": "stream",
     "text": [
      "INFO:tensorflow:Initialize variable module/MobilenetV1/Conv2d_8_pointwise/BatchNorm/moving_mean:0 from checkpoint b'/tmp/tfhub_modules/14d65617a151aa220a82c2a2c5ad68d504abbccf/variables/variables' with MobilenetV1/Conv2d_8_pointwise/BatchNorm/moving_mean\n"
     ]
    },
    {
     "name": "stderr",
     "output_type": "stream",
     "text": [
      "INFO:tensorflow:Initialize variable module/MobilenetV1/Conv2d_8_pointwise/BatchNorm/moving_mean:0 from checkpoint b'/tmp/tfhub_modules/14d65617a151aa220a82c2a2c5ad68d504abbccf/variables/variables' with MobilenetV1/Conv2d_8_pointwise/BatchNorm/moving_mean\n"
     ]
    },
    {
     "name": "stdout",
     "output_type": "stream",
     "text": [
      "INFO:tensorflow:Initialize variable module/MobilenetV1/Conv2d_8_pointwise/BatchNorm/moving_variance:0 from checkpoint b'/tmp/tfhub_modules/14d65617a151aa220a82c2a2c5ad68d504abbccf/variables/variables' with MobilenetV1/Conv2d_8_pointwise/BatchNorm/moving_variance\n"
     ]
    },
    {
     "name": "stderr",
     "output_type": "stream",
     "text": [
      "INFO:tensorflow:Initialize variable module/MobilenetV1/Conv2d_8_pointwise/BatchNorm/moving_variance:0 from checkpoint b'/tmp/tfhub_modules/14d65617a151aa220a82c2a2c5ad68d504abbccf/variables/variables' with MobilenetV1/Conv2d_8_pointwise/BatchNorm/moving_variance\n"
     ]
    },
    {
     "name": "stdout",
     "output_type": "stream",
     "text": [
      "INFO:tensorflow:Initialize variable module/MobilenetV1/Conv2d_8_pointwise/weights:0 from checkpoint b'/tmp/tfhub_modules/14d65617a151aa220a82c2a2c5ad68d504abbccf/variables/variables' with MobilenetV1/Conv2d_8_pointwise/weights\n"
     ]
    },
    {
     "name": "stderr",
     "output_type": "stream",
     "text": [
      "INFO:tensorflow:Initialize variable module/MobilenetV1/Conv2d_8_pointwise/weights:0 from checkpoint b'/tmp/tfhub_modules/14d65617a151aa220a82c2a2c5ad68d504abbccf/variables/variables' with MobilenetV1/Conv2d_8_pointwise/weights\n"
     ]
    },
    {
     "name": "stdout",
     "output_type": "stream",
     "text": [
      "INFO:tensorflow:Initialize variable module/MobilenetV1/Conv2d_9_depthwise/BatchNorm/beta:0 from checkpoint b'/tmp/tfhub_modules/14d65617a151aa220a82c2a2c5ad68d504abbccf/variables/variables' with MobilenetV1/Conv2d_9_depthwise/BatchNorm/beta\n"
     ]
    },
    {
     "name": "stderr",
     "output_type": "stream",
     "text": [
      "INFO:tensorflow:Initialize variable module/MobilenetV1/Conv2d_9_depthwise/BatchNorm/beta:0 from checkpoint b'/tmp/tfhub_modules/14d65617a151aa220a82c2a2c5ad68d504abbccf/variables/variables' with MobilenetV1/Conv2d_9_depthwise/BatchNorm/beta\n"
     ]
    },
    {
     "name": "stdout",
     "output_type": "stream",
     "text": [
      "INFO:tensorflow:Initialize variable module/MobilenetV1/Conv2d_9_depthwise/BatchNorm/gamma:0 from checkpoint b'/tmp/tfhub_modules/14d65617a151aa220a82c2a2c5ad68d504abbccf/variables/variables' with MobilenetV1/Conv2d_9_depthwise/BatchNorm/gamma\n"
     ]
    },
    {
     "name": "stderr",
     "output_type": "stream",
     "text": [
      "INFO:tensorflow:Initialize variable module/MobilenetV1/Conv2d_9_depthwise/BatchNorm/gamma:0 from checkpoint b'/tmp/tfhub_modules/14d65617a151aa220a82c2a2c5ad68d504abbccf/variables/variables' with MobilenetV1/Conv2d_9_depthwise/BatchNorm/gamma\n"
     ]
    },
    {
     "name": "stdout",
     "output_type": "stream",
     "text": [
      "INFO:tensorflow:Initialize variable module/MobilenetV1/Conv2d_9_depthwise/BatchNorm/moving_mean:0 from checkpoint b'/tmp/tfhub_modules/14d65617a151aa220a82c2a2c5ad68d504abbccf/variables/variables' with MobilenetV1/Conv2d_9_depthwise/BatchNorm/moving_mean\n"
     ]
    },
    {
     "name": "stderr",
     "output_type": "stream",
     "text": [
      "INFO:tensorflow:Initialize variable module/MobilenetV1/Conv2d_9_depthwise/BatchNorm/moving_mean:0 from checkpoint b'/tmp/tfhub_modules/14d65617a151aa220a82c2a2c5ad68d504abbccf/variables/variables' with MobilenetV1/Conv2d_9_depthwise/BatchNorm/moving_mean\n"
     ]
    },
    {
     "name": "stdout",
     "output_type": "stream",
     "text": [
      "INFO:tensorflow:Initialize variable module/MobilenetV1/Conv2d_9_depthwise/BatchNorm/moving_variance:0 from checkpoint b'/tmp/tfhub_modules/14d65617a151aa220a82c2a2c5ad68d504abbccf/variables/variables' with MobilenetV1/Conv2d_9_depthwise/BatchNorm/moving_variance\n"
     ]
    },
    {
     "name": "stderr",
     "output_type": "stream",
     "text": [
      "INFO:tensorflow:Initialize variable module/MobilenetV1/Conv2d_9_depthwise/BatchNorm/moving_variance:0 from checkpoint b'/tmp/tfhub_modules/14d65617a151aa220a82c2a2c5ad68d504abbccf/variables/variables' with MobilenetV1/Conv2d_9_depthwise/BatchNorm/moving_variance\n"
     ]
    },
    {
     "name": "stdout",
     "output_type": "stream",
     "text": [
      "INFO:tensorflow:Initialize variable module/MobilenetV1/Conv2d_9_depthwise/depthwise_weights:0 from checkpoint b'/tmp/tfhub_modules/14d65617a151aa220a82c2a2c5ad68d504abbccf/variables/variables' with MobilenetV1/Conv2d_9_depthwise/depthwise_weights\n"
     ]
    },
    {
     "name": "stderr",
     "output_type": "stream",
     "text": [
      "INFO:tensorflow:Initialize variable module/MobilenetV1/Conv2d_9_depthwise/depthwise_weights:0 from checkpoint b'/tmp/tfhub_modules/14d65617a151aa220a82c2a2c5ad68d504abbccf/variables/variables' with MobilenetV1/Conv2d_9_depthwise/depthwise_weights\n"
     ]
    },
    {
     "name": "stdout",
     "output_type": "stream",
     "text": [
      "INFO:tensorflow:Initialize variable module/MobilenetV1/Conv2d_9_pointwise/BatchNorm/beta:0 from checkpoint b'/tmp/tfhub_modules/14d65617a151aa220a82c2a2c5ad68d504abbccf/variables/variables' with MobilenetV1/Conv2d_9_pointwise/BatchNorm/beta\n"
     ]
    },
    {
     "name": "stderr",
     "output_type": "stream",
     "text": [
      "INFO:tensorflow:Initialize variable module/MobilenetV1/Conv2d_9_pointwise/BatchNorm/beta:0 from checkpoint b'/tmp/tfhub_modules/14d65617a151aa220a82c2a2c5ad68d504abbccf/variables/variables' with MobilenetV1/Conv2d_9_pointwise/BatchNorm/beta\n"
     ]
    },
    {
     "name": "stdout",
     "output_type": "stream",
     "text": [
      "INFO:tensorflow:Initialize variable module/MobilenetV1/Conv2d_9_pointwise/BatchNorm/gamma:0 from checkpoint b'/tmp/tfhub_modules/14d65617a151aa220a82c2a2c5ad68d504abbccf/variables/variables' with MobilenetV1/Conv2d_9_pointwise/BatchNorm/gamma\n"
     ]
    },
    {
     "name": "stderr",
     "output_type": "stream",
     "text": [
      "INFO:tensorflow:Initialize variable module/MobilenetV1/Conv2d_9_pointwise/BatchNorm/gamma:0 from checkpoint b'/tmp/tfhub_modules/14d65617a151aa220a82c2a2c5ad68d504abbccf/variables/variables' with MobilenetV1/Conv2d_9_pointwise/BatchNorm/gamma\n"
     ]
    },
    {
     "name": "stdout",
     "output_type": "stream",
     "text": [
      "INFO:tensorflow:Initialize variable module/MobilenetV1/Conv2d_9_pointwise/BatchNorm/moving_mean:0 from checkpoint b'/tmp/tfhub_modules/14d65617a151aa220a82c2a2c5ad68d504abbccf/variables/variables' with MobilenetV1/Conv2d_9_pointwise/BatchNorm/moving_mean\n"
     ]
    },
    {
     "name": "stderr",
     "output_type": "stream",
     "text": [
      "INFO:tensorflow:Initialize variable module/MobilenetV1/Conv2d_9_pointwise/BatchNorm/moving_mean:0 from checkpoint b'/tmp/tfhub_modules/14d65617a151aa220a82c2a2c5ad68d504abbccf/variables/variables' with MobilenetV1/Conv2d_9_pointwise/BatchNorm/moving_mean\n"
     ]
    },
    {
     "name": "stdout",
     "output_type": "stream",
     "text": [
      "INFO:tensorflow:Initialize variable module/MobilenetV1/Conv2d_9_pointwise/BatchNorm/moving_variance:0 from checkpoint b'/tmp/tfhub_modules/14d65617a151aa220a82c2a2c5ad68d504abbccf/variables/variables' with MobilenetV1/Conv2d_9_pointwise/BatchNorm/moving_variance\n"
     ]
    },
    {
     "name": "stderr",
     "output_type": "stream",
     "text": [
      "INFO:tensorflow:Initialize variable module/MobilenetV1/Conv2d_9_pointwise/BatchNorm/moving_variance:0 from checkpoint b'/tmp/tfhub_modules/14d65617a151aa220a82c2a2c5ad68d504abbccf/variables/variables' with MobilenetV1/Conv2d_9_pointwise/BatchNorm/moving_variance\n"
     ]
    },
    {
     "name": "stdout",
     "output_type": "stream",
     "text": [
      "INFO:tensorflow:Initialize variable module/MobilenetV1/Conv2d_9_pointwise/weights:0 from checkpoint b'/tmp/tfhub_modules/14d65617a151aa220a82c2a2c5ad68d504abbccf/variables/variables' with MobilenetV1/Conv2d_9_pointwise/weights\n"
     ]
    },
    {
     "name": "stderr",
     "output_type": "stream",
     "text": [
      "INFO:tensorflow:Initialize variable module/MobilenetV1/Conv2d_9_pointwise/weights:0 from checkpoint b'/tmp/tfhub_modules/14d65617a151aa220a82c2a2c5ad68d504abbccf/variables/variables' with MobilenetV1/Conv2d_9_pointwise/weights\n"
     ]
    },
    {
     "name": "stdout",
     "output_type": "stream",
     "text": [
      "INFO:tensorflow:100 bottleneck files created.\n"
     ]
    },
    {
     "name": "stderr",
     "output_type": "stream",
     "text": [
      "INFO:tensorflow:100 bottleneck files created.\n"
     ]
    },
    {
     "name": "stdout",
     "output_type": "stream",
     "text": [
      "INFO:tensorflow:2018-09-09 15:36:39.931898: Step 0: Train accuracy = 76.0%\n"
     ]
    },
    {
     "name": "stderr",
     "output_type": "stream",
     "text": [
      "INFO:tensorflow:2018-09-09 15:36:39.931898: Step 0: Train accuracy = 76.0%\n"
     ]
    },
    {
     "name": "stdout",
     "output_type": "stream",
     "text": [
      "INFO:tensorflow:2018-09-09 15:36:39.932963: Step 0: Cross entropy = 0.514283\n"
     ]
    },
    {
     "name": "stderr",
     "output_type": "stream",
     "text": [
      "INFO:tensorflow:2018-09-09 15:36:39.932963: Step 0: Cross entropy = 0.514283\n"
     ]
    },
    {
     "name": "stdout",
     "output_type": "stream",
     "text": [
      "INFO:tensorflow:2018-09-09 15:36:40.102635: Step 0: Validation accuracy = 62.0% (N=100)\n"
     ]
    },
    {
     "name": "stderr",
     "output_type": "stream",
     "text": [
      "INFO:tensorflow:2018-09-09 15:36:40.102635: Step 0: Validation accuracy = 62.0% (N=100)\n"
     ]
    },
    {
     "name": "stdout",
     "output_type": "stream",
     "text": [
      "INFO:tensorflow:2018-09-09 15:36:40.178574: Step 10: Train accuracy = 100.0%\n"
     ]
    },
    {
     "name": "stderr",
     "output_type": "stream",
     "text": [
      "INFO:tensorflow:2018-09-09 15:36:40.178574: Step 10: Train accuracy = 100.0%\n"
     ]
    },
    {
     "name": "stdout",
     "output_type": "stream",
     "text": [
      "INFO:tensorflow:2018-09-09 15:36:40.179352: Step 10: Cross entropy = 0.172058\n"
     ]
    },
    {
     "name": "stderr",
     "output_type": "stream",
     "text": [
      "INFO:tensorflow:2018-09-09 15:36:40.179352: Step 10: Cross entropy = 0.172058\n"
     ]
    },
    {
     "name": "stdout",
     "output_type": "stream",
     "text": [
      "INFO:tensorflow:2018-09-09 15:36:40.204985: Step 10: Validation accuracy = 91.0% (N=100)\n"
     ]
    },
    {
     "name": "stderr",
     "output_type": "stream",
     "text": [
      "INFO:tensorflow:2018-09-09 15:36:40.204985: Step 10: Validation accuracy = 91.0% (N=100)\n"
     ]
    },
    {
     "name": "stdout",
     "output_type": "stream",
     "text": [
      "INFO:tensorflow:2018-09-09 15:36:40.276908: Step 20: Train accuracy = 100.0%\n"
     ]
    },
    {
     "name": "stderr",
     "output_type": "stream",
     "text": [
      "INFO:tensorflow:2018-09-09 15:36:40.276908: Step 20: Train accuracy = 100.0%\n"
     ]
    },
    {
     "name": "stdout",
     "output_type": "stream",
     "text": [
      "INFO:tensorflow:2018-09-09 15:36:40.277664: Step 20: Cross entropy = 0.119627\n"
     ]
    },
    {
     "name": "stderr",
     "output_type": "stream",
     "text": [
      "INFO:tensorflow:2018-09-09 15:36:40.277664: Step 20: Cross entropy = 0.119627\n"
     ]
    },
    {
     "name": "stdout",
     "output_type": "stream",
     "text": [
      "INFO:tensorflow:2018-09-09 15:36:40.303479: Step 20: Validation accuracy = 100.0% (N=100)\n"
     ]
    },
    {
     "name": "stderr",
     "output_type": "stream",
     "text": [
      "INFO:tensorflow:2018-09-09 15:36:40.303479: Step 20: Validation accuracy = 100.0% (N=100)\n"
     ]
    },
    {
     "name": "stdout",
     "output_type": "stream",
     "text": [
      "INFO:tensorflow:2018-09-09 15:36:40.378243: Step 30: Train accuracy = 96.0%\n"
     ]
    },
    {
     "name": "stderr",
     "output_type": "stream",
     "text": [
      "INFO:tensorflow:2018-09-09 15:36:40.378243: Step 30: Train accuracy = 96.0%\n"
     ]
    },
    {
     "name": "stdout",
     "output_type": "stream",
     "text": [
      "INFO:tensorflow:2018-09-09 15:36:40.379131: Step 30: Cross entropy = 0.116023\n"
     ]
    },
    {
     "name": "stderr",
     "output_type": "stream",
     "text": [
      "INFO:tensorflow:2018-09-09 15:36:40.379131: Step 30: Cross entropy = 0.116023\n"
     ]
    },
    {
     "name": "stdout",
     "output_type": "stream",
     "text": [
      "INFO:tensorflow:2018-09-09 15:36:40.406633: Step 30: Validation accuracy = 100.0% (N=100)\n"
     ]
    },
    {
     "name": "stderr",
     "output_type": "stream",
     "text": [
      "INFO:tensorflow:2018-09-09 15:36:40.406633: Step 30: Validation accuracy = 100.0% (N=100)\n"
     ]
    },
    {
     "name": "stdout",
     "output_type": "stream",
     "text": [
      "INFO:tensorflow:2018-09-09 15:36:40.478775: Step 40: Train accuracy = 100.0%\n"
     ]
    },
    {
     "name": "stderr",
     "output_type": "stream",
     "text": [
      "INFO:tensorflow:2018-09-09 15:36:40.478775: Step 40: Train accuracy = 100.0%\n"
     ]
    },
    {
     "name": "stdout",
     "output_type": "stream",
     "text": [
      "INFO:tensorflow:2018-09-09 15:36:40.479744: Step 40: Cross entropy = 0.067889\n"
     ]
    },
    {
     "name": "stderr",
     "output_type": "stream",
     "text": [
      "INFO:tensorflow:2018-09-09 15:36:40.479744: Step 40: Cross entropy = 0.067889\n"
     ]
    },
    {
     "name": "stdout",
     "output_type": "stream",
     "text": [
      "INFO:tensorflow:2018-09-09 15:36:40.504889: Step 40: Validation accuracy = 100.0% (N=100)\n"
     ]
    },
    {
     "name": "stderr",
     "output_type": "stream",
     "text": [
      "INFO:tensorflow:2018-09-09 15:36:40.504889: Step 40: Validation accuracy = 100.0% (N=100)\n"
     ]
    },
    {
     "name": "stdout",
     "output_type": "stream",
     "text": [
      "INFO:tensorflow:2018-09-09 15:36:40.580195: Step 50: Train accuracy = 100.0%\n"
     ]
    },
    {
     "name": "stderr",
     "output_type": "stream",
     "text": [
      "INFO:tensorflow:2018-09-09 15:36:40.580195: Step 50: Train accuracy = 100.0%\n"
     ]
    },
    {
     "name": "stdout",
     "output_type": "stream",
     "text": [
      "INFO:tensorflow:2018-09-09 15:36:40.581106: Step 50: Cross entropy = 0.062163\n"
     ]
    },
    {
     "name": "stderr",
     "output_type": "stream",
     "text": [
      "INFO:tensorflow:2018-09-09 15:36:40.581106: Step 50: Cross entropy = 0.062163\n"
     ]
    },
    {
     "name": "stdout",
     "output_type": "stream",
     "text": [
      "INFO:tensorflow:2018-09-09 15:36:40.606843: Step 50: Validation accuracy = 94.0% (N=100)\n"
     ]
    },
    {
     "name": "stderr",
     "output_type": "stream",
     "text": [
      "INFO:tensorflow:2018-09-09 15:36:40.606843: Step 50: Validation accuracy = 94.0% (N=100)\n"
     ]
    },
    {
     "name": "stdout",
     "output_type": "stream",
     "text": [
      "INFO:tensorflow:2018-09-09 15:36:40.681450: Step 60: Train accuracy = 100.0%\n"
     ]
    },
    {
     "name": "stderr",
     "output_type": "stream",
     "text": [
      "INFO:tensorflow:2018-09-09 15:36:40.681450: Step 60: Train accuracy = 100.0%\n"
     ]
    },
    {
     "name": "stdout",
     "output_type": "stream",
     "text": [
      "INFO:tensorflow:2018-09-09 15:36:40.682547: Step 60: Cross entropy = 0.073127\n"
     ]
    },
    {
     "name": "stderr",
     "output_type": "stream",
     "text": [
      "INFO:tensorflow:2018-09-09 15:36:40.682547: Step 60: Cross entropy = 0.073127\n"
     ]
    },
    {
     "name": "stdout",
     "output_type": "stream",
     "text": [
      "INFO:tensorflow:2018-09-09 15:36:40.709934: Step 60: Validation accuracy = 94.0% (N=100)\n"
     ]
    },
    {
     "name": "stderr",
     "output_type": "stream",
     "text": [
      "INFO:tensorflow:2018-09-09 15:36:40.709934: Step 60: Validation accuracy = 94.0% (N=100)\n"
     ]
    },
    {
     "name": "stdout",
     "output_type": "stream",
     "text": [
      "INFO:tensorflow:2018-09-09 15:36:40.786249: Step 70: Train accuracy = 100.0%\n"
     ]
    },
    {
     "name": "stderr",
     "output_type": "stream",
     "text": [
      "INFO:tensorflow:2018-09-09 15:36:40.786249: Step 70: Train accuracy = 100.0%\n"
     ]
    },
    {
     "name": "stdout",
     "output_type": "stream",
     "text": [
      "INFO:tensorflow:2018-09-09 15:36:40.787244: Step 70: Cross entropy = 0.061715\n"
     ]
    },
    {
     "name": "stderr",
     "output_type": "stream",
     "text": [
      "INFO:tensorflow:2018-09-09 15:36:40.787244: Step 70: Cross entropy = 0.061715\n"
     ]
    },
    {
     "name": "stdout",
     "output_type": "stream",
     "text": [
      "INFO:tensorflow:2018-09-09 15:36:40.814630: Step 70: Validation accuracy = 100.0% (N=100)\n"
     ]
    },
    {
     "name": "stderr",
     "output_type": "stream",
     "text": [
      "INFO:tensorflow:2018-09-09 15:36:40.814630: Step 70: Validation accuracy = 100.0% (N=100)\n"
     ]
    },
    {
     "name": "stdout",
     "output_type": "stream",
     "text": [
      "INFO:tensorflow:2018-09-09 15:36:40.888130: Step 80: Train accuracy = 100.0%\n"
     ]
    },
    {
     "name": "stderr",
     "output_type": "stream",
     "text": [
      "INFO:tensorflow:2018-09-09 15:36:40.888130: Step 80: Train accuracy = 100.0%\n"
     ]
    },
    {
     "name": "stdout",
     "output_type": "stream",
     "text": [
      "INFO:tensorflow:2018-09-09 15:36:40.888883: Step 80: Cross entropy = 0.036916\n"
     ]
    },
    {
     "name": "stderr",
     "output_type": "stream",
     "text": [
      "INFO:tensorflow:2018-09-09 15:36:40.888883: Step 80: Cross entropy = 0.036916\n"
     ]
    },
    {
     "name": "stdout",
     "output_type": "stream",
     "text": [
      "INFO:tensorflow:2018-09-09 15:36:40.916870: Step 80: Validation accuracy = 89.0% (N=100)\n"
     ]
    },
    {
     "name": "stderr",
     "output_type": "stream",
     "text": [
      "INFO:tensorflow:2018-09-09 15:36:40.916870: Step 80: Validation accuracy = 89.0% (N=100)\n"
     ]
    },
    {
     "name": "stdout",
     "output_type": "stream",
     "text": [
      "INFO:tensorflow:2018-09-09 15:36:41.001562: Step 90: Train accuracy = 100.0%\n"
     ]
    },
    {
     "name": "stderr",
     "output_type": "stream",
     "text": [
      "INFO:tensorflow:2018-09-09 15:36:41.001562: Step 90: Train accuracy = 100.0%\n"
     ]
    },
    {
     "name": "stdout",
     "output_type": "stream",
     "text": [
      "INFO:tensorflow:2018-09-09 15:36:41.002399: Step 90: Cross entropy = 0.060442\n"
     ]
    },
    {
     "name": "stderr",
     "output_type": "stream",
     "text": [
      "INFO:tensorflow:2018-09-09 15:36:41.002399: Step 90: Cross entropy = 0.060442\n"
     ]
    },
    {
     "name": "stdout",
     "output_type": "stream",
     "text": [
      "INFO:tensorflow:2018-09-09 15:36:41.036800: Step 90: Validation accuracy = 100.0% (N=100)\n"
     ]
    },
    {
     "name": "stderr",
     "output_type": "stream",
     "text": [
      "INFO:tensorflow:2018-09-09 15:36:41.036800: Step 90: Validation accuracy = 100.0% (N=100)\n"
     ]
    },
    {
     "name": "stdout",
     "output_type": "stream",
     "text": [
      "INFO:tensorflow:2018-09-09 15:36:41.115832: Step 100: Train accuracy = 100.0%\n"
     ]
    },
    {
     "name": "stderr",
     "output_type": "stream",
     "text": [
      "INFO:tensorflow:2018-09-09 15:36:41.115832: Step 100: Train accuracy = 100.0%\n"
     ]
    },
    {
     "name": "stdout",
     "output_type": "stream",
     "text": [
      "INFO:tensorflow:2018-09-09 15:36:41.116600: Step 100: Cross entropy = 0.029202\n"
     ]
    },
    {
     "name": "stderr",
     "output_type": "stream",
     "text": [
      "INFO:tensorflow:2018-09-09 15:36:41.116600: Step 100: Cross entropy = 0.029202\n"
     ]
    },
    {
     "name": "stdout",
     "output_type": "stream",
     "text": [
      "INFO:tensorflow:2018-09-09 15:36:41.147578: Step 100: Validation accuracy = 95.0% (N=100)\n"
     ]
    },
    {
     "name": "stderr",
     "output_type": "stream",
     "text": [
      "INFO:tensorflow:2018-09-09 15:36:41.147578: Step 100: Validation accuracy = 95.0% (N=100)\n"
     ]
    },
    {
     "name": "stdout",
     "output_type": "stream",
     "text": [
      "INFO:tensorflow:2018-09-09 15:36:41.230818: Step 110: Train accuracy = 100.0%\n"
     ]
    },
    {
     "name": "stderr",
     "output_type": "stream",
     "text": [
      "INFO:tensorflow:2018-09-09 15:36:41.230818: Step 110: Train accuracy = 100.0%\n"
     ]
    },
    {
     "name": "stdout",
     "output_type": "stream",
     "text": [
      "INFO:tensorflow:2018-09-09 15:36:41.231925: Step 110: Cross entropy = 0.066617\n"
     ]
    },
    {
     "name": "stderr",
     "output_type": "stream",
     "text": [
      "INFO:tensorflow:2018-09-09 15:36:41.231925: Step 110: Cross entropy = 0.066617\n"
     ]
    },
    {
     "name": "stdout",
     "output_type": "stream",
     "text": [
      "INFO:tensorflow:2018-09-09 15:36:41.257143: Step 110: Validation accuracy = 95.0% (N=100)\n"
     ]
    },
    {
     "name": "stderr",
     "output_type": "stream",
     "text": [
      "INFO:tensorflow:2018-09-09 15:36:41.257143: Step 110: Validation accuracy = 95.0% (N=100)\n"
     ]
    },
    {
     "name": "stdout",
     "output_type": "stream",
     "text": [
      "INFO:tensorflow:2018-09-09 15:36:41.332772: Step 120: Train accuracy = 100.0%\n"
     ]
    },
    {
     "name": "stderr",
     "output_type": "stream",
     "text": [
      "INFO:tensorflow:2018-09-09 15:36:41.332772: Step 120: Train accuracy = 100.0%\n"
     ]
    },
    {
     "name": "stdout",
     "output_type": "stream",
     "text": [
      "INFO:tensorflow:2018-09-09 15:36:41.333644: Step 120: Cross entropy = 0.027299\n"
     ]
    },
    {
     "name": "stderr",
     "output_type": "stream",
     "text": [
      "INFO:tensorflow:2018-09-09 15:36:41.333644: Step 120: Cross entropy = 0.027299\n"
     ]
    },
    {
     "name": "stdout",
     "output_type": "stream",
     "text": [
      "INFO:tensorflow:2018-09-09 15:36:41.362266: Step 120: Validation accuracy = 94.0% (N=100)\n"
     ]
    },
    {
     "name": "stderr",
     "output_type": "stream",
     "text": [
      "INFO:tensorflow:2018-09-09 15:36:41.362266: Step 120: Validation accuracy = 94.0% (N=100)\n"
     ]
    },
    {
     "name": "stdout",
     "output_type": "stream",
     "text": [
      "INFO:tensorflow:2018-09-09 15:36:41.441507: Step 130: Train accuracy = 100.0%\n"
     ]
    },
    {
     "name": "stderr",
     "output_type": "stream",
     "text": [
      "INFO:tensorflow:2018-09-09 15:36:41.441507: Step 130: Train accuracy = 100.0%\n"
     ]
    },
    {
     "name": "stdout",
     "output_type": "stream",
     "text": [
      "INFO:tensorflow:2018-09-09 15:36:41.442372: Step 130: Cross entropy = 0.031019\n"
     ]
    },
    {
     "name": "stderr",
     "output_type": "stream",
     "text": [
      "INFO:tensorflow:2018-09-09 15:36:41.442372: Step 130: Cross entropy = 0.031019\n"
     ]
    },
    {
     "name": "stdout",
     "output_type": "stream",
     "text": [
      "INFO:tensorflow:2018-09-09 15:36:41.468543: Step 130: Validation accuracy = 100.0% (N=100)\n"
     ]
    },
    {
     "name": "stderr",
     "output_type": "stream",
     "text": [
      "INFO:tensorflow:2018-09-09 15:36:41.468543: Step 130: Validation accuracy = 100.0% (N=100)\n"
     ]
    },
    {
     "name": "stdout",
     "output_type": "stream",
     "text": [
      "INFO:tensorflow:2018-09-09 15:36:41.544605: Step 140: Train accuracy = 100.0%\n"
     ]
    },
    {
     "name": "stderr",
     "output_type": "stream",
     "text": [
      "INFO:tensorflow:2018-09-09 15:36:41.544605: Step 140: Train accuracy = 100.0%\n"
     ]
    },
    {
     "name": "stdout",
     "output_type": "stream",
     "text": [
      "INFO:tensorflow:2018-09-09 15:36:41.545430: Step 140: Cross entropy = 0.052650\n"
     ]
    },
    {
     "name": "stderr",
     "output_type": "stream",
     "text": [
      "INFO:tensorflow:2018-09-09 15:36:41.545430: Step 140: Cross entropy = 0.052650\n"
     ]
    },
    {
     "name": "stdout",
     "output_type": "stream",
     "text": [
      "INFO:tensorflow:2018-09-09 15:36:41.570391: Step 140: Validation accuracy = 100.0% (N=100)\n"
     ]
    },
    {
     "name": "stderr",
     "output_type": "stream",
     "text": [
      "INFO:tensorflow:2018-09-09 15:36:41.570391: Step 140: Validation accuracy = 100.0% (N=100)\n"
     ]
    },
    {
     "name": "stdout",
     "output_type": "stream",
     "text": [
      "INFO:tensorflow:2018-09-09 15:36:41.648195: Step 150: Train accuracy = 100.0%\n"
     ]
    },
    {
     "name": "stderr",
     "output_type": "stream",
     "text": [
      "INFO:tensorflow:2018-09-09 15:36:41.648195: Step 150: Train accuracy = 100.0%\n"
     ]
    },
    {
     "name": "stdout",
     "output_type": "stream",
     "text": [
      "INFO:tensorflow:2018-09-09 15:36:41.649316: Step 150: Cross entropy = 0.023445\n"
     ]
    },
    {
     "name": "stderr",
     "output_type": "stream",
     "text": [
      "INFO:tensorflow:2018-09-09 15:36:41.649316: Step 150: Cross entropy = 0.023445\n"
     ]
    },
    {
     "name": "stdout",
     "output_type": "stream",
     "text": [
      "INFO:tensorflow:2018-09-09 15:36:41.677371: Step 150: Validation accuracy = 100.0% (N=100)\n"
     ]
    },
    {
     "name": "stderr",
     "output_type": "stream",
     "text": [
      "INFO:tensorflow:2018-09-09 15:36:41.677371: Step 150: Validation accuracy = 100.0% (N=100)\n"
     ]
    },
    {
     "name": "stdout",
     "output_type": "stream",
     "text": [
      "INFO:tensorflow:2018-09-09 15:36:41.752578: Step 160: Train accuracy = 100.0%\n"
     ]
    },
    {
     "name": "stderr",
     "output_type": "stream",
     "text": [
      "INFO:tensorflow:2018-09-09 15:36:41.752578: Step 160: Train accuracy = 100.0%\n"
     ]
    },
    {
     "name": "stdout",
     "output_type": "stream",
     "text": [
      "INFO:tensorflow:2018-09-09 15:36:41.753559: Step 160: Cross entropy = 0.025600\n"
     ]
    },
    {
     "name": "stderr",
     "output_type": "stream",
     "text": [
      "INFO:tensorflow:2018-09-09 15:36:41.753559: Step 160: Cross entropy = 0.025600\n"
     ]
    },
    {
     "name": "stdout",
     "output_type": "stream",
     "text": [
      "INFO:tensorflow:2018-09-09 15:36:41.786861: Step 160: Validation accuracy = 100.0% (N=100)\n"
     ]
    },
    {
     "name": "stderr",
     "output_type": "stream",
     "text": [
      "INFO:tensorflow:2018-09-09 15:36:41.786861: Step 160: Validation accuracy = 100.0% (N=100)\n"
     ]
    },
    {
     "name": "stdout",
     "output_type": "stream",
     "text": [
      "INFO:tensorflow:2018-09-09 15:36:41.862234: Step 170: Train accuracy = 100.0%\n"
     ]
    },
    {
     "name": "stderr",
     "output_type": "stream",
     "text": [
      "INFO:tensorflow:2018-09-09 15:36:41.862234: Step 170: Train accuracy = 100.0%\n"
     ]
    },
    {
     "name": "stdout",
     "output_type": "stream",
     "text": [
      "INFO:tensorflow:2018-09-09 15:36:41.862990: Step 170: Cross entropy = 0.033357\n"
     ]
    },
    {
     "name": "stderr",
     "output_type": "stream",
     "text": [
      "INFO:tensorflow:2018-09-09 15:36:41.862990: Step 170: Cross entropy = 0.033357\n"
     ]
    },
    {
     "name": "stdout",
     "output_type": "stream",
     "text": [
      "INFO:tensorflow:2018-09-09 15:36:41.887549: Step 170: Validation accuracy = 100.0% (N=100)\n"
     ]
    },
    {
     "name": "stderr",
     "output_type": "stream",
     "text": [
      "INFO:tensorflow:2018-09-09 15:36:41.887549: Step 170: Validation accuracy = 100.0% (N=100)\n"
     ]
    },
    {
     "name": "stdout",
     "output_type": "stream",
     "text": [
      "INFO:tensorflow:2018-09-09 15:36:41.960588: Step 180: Train accuracy = 100.0%\n"
     ]
    },
    {
     "name": "stderr",
     "output_type": "stream",
     "text": [
      "INFO:tensorflow:2018-09-09 15:36:41.960588: Step 180: Train accuracy = 100.0%\n"
     ]
    },
    {
     "name": "stdout",
     "output_type": "stream",
     "text": [
      "INFO:tensorflow:2018-09-09 15:36:41.961374: Step 180: Cross entropy = 0.028754\n"
     ]
    },
    {
     "name": "stderr",
     "output_type": "stream",
     "text": [
      "INFO:tensorflow:2018-09-09 15:36:41.961374: Step 180: Cross entropy = 0.028754\n"
     ]
    },
    {
     "name": "stdout",
     "output_type": "stream",
     "text": [
      "INFO:tensorflow:2018-09-09 15:36:41.986627: Step 180: Validation accuracy = 100.0% (N=100)\n"
     ]
    },
    {
     "name": "stderr",
     "output_type": "stream",
     "text": [
      "INFO:tensorflow:2018-09-09 15:36:41.986627: Step 180: Validation accuracy = 100.0% (N=100)\n"
     ]
    },
    {
     "name": "stdout",
     "output_type": "stream",
     "text": [
      "INFO:tensorflow:2018-09-09 15:36:42.065838: Step 190: Train accuracy = 100.0%\n"
     ]
    },
    {
     "name": "stderr",
     "output_type": "stream",
     "text": [
      "INFO:tensorflow:2018-09-09 15:36:42.065838: Step 190: Train accuracy = 100.0%\n"
     ]
    },
    {
     "name": "stdout",
     "output_type": "stream",
     "text": [
      "INFO:tensorflow:2018-09-09 15:36:42.066755: Step 190: Cross entropy = 0.030131\n"
     ]
    },
    {
     "name": "stderr",
     "output_type": "stream",
     "text": [
      "INFO:tensorflow:2018-09-09 15:36:42.066755: Step 190: Cross entropy = 0.030131\n"
     ]
    },
    {
     "name": "stdout",
     "output_type": "stream",
     "text": [
      "INFO:tensorflow:2018-09-09 15:36:42.093045: Step 190: Validation accuracy = 100.0% (N=100)\n"
     ]
    },
    {
     "name": "stderr",
     "output_type": "stream",
     "text": [
      "INFO:tensorflow:2018-09-09 15:36:42.093045: Step 190: Validation accuracy = 100.0% (N=100)\n"
     ]
    },
    {
     "name": "stdout",
     "output_type": "stream",
     "text": [
      "INFO:tensorflow:2018-09-09 15:36:42.167652: Step 200: Train accuracy = 100.0%\n"
     ]
    },
    {
     "name": "stderr",
     "output_type": "stream",
     "text": [
      "INFO:tensorflow:2018-09-09 15:36:42.167652: Step 200: Train accuracy = 100.0%\n"
     ]
    },
    {
     "name": "stdout",
     "output_type": "stream",
     "text": [
      "INFO:tensorflow:2018-09-09 15:36:42.168491: Step 200: Cross entropy = 0.022443\n"
     ]
    },
    {
     "name": "stderr",
     "output_type": "stream",
     "text": [
      "INFO:tensorflow:2018-09-09 15:36:42.168491: Step 200: Cross entropy = 0.022443\n"
     ]
    },
    {
     "name": "stdout",
     "output_type": "stream",
     "text": [
      "INFO:tensorflow:2018-09-09 15:36:42.193604: Step 200: Validation accuracy = 100.0% (N=100)\n"
     ]
    },
    {
     "name": "stderr",
     "output_type": "stream",
     "text": [
      "INFO:tensorflow:2018-09-09 15:36:42.193604: Step 200: Validation accuracy = 100.0% (N=100)\n"
     ]
    },
    {
     "name": "stdout",
     "output_type": "stream",
     "text": [
      "INFO:tensorflow:2018-09-09 15:36:42.269955: Step 210: Train accuracy = 100.0%\n"
     ]
    },
    {
     "name": "stderr",
     "output_type": "stream",
     "text": [
      "INFO:tensorflow:2018-09-09 15:36:42.269955: Step 210: Train accuracy = 100.0%\n"
     ]
    },
    {
     "name": "stdout",
     "output_type": "stream",
     "text": [
      "INFO:tensorflow:2018-09-09 15:36:42.270769: Step 210: Cross entropy = 0.020027\n"
     ]
    },
    {
     "name": "stderr",
     "output_type": "stream",
     "text": [
      "INFO:tensorflow:2018-09-09 15:36:42.270769: Step 210: Cross entropy = 0.020027\n"
     ]
    },
    {
     "name": "stdout",
     "output_type": "stream",
     "text": [
      "INFO:tensorflow:2018-09-09 15:36:42.296183: Step 210: Validation accuracy = 100.0% (N=100)\n"
     ]
    },
    {
     "name": "stderr",
     "output_type": "stream",
     "text": [
      "INFO:tensorflow:2018-09-09 15:36:42.296183: Step 210: Validation accuracy = 100.0% (N=100)\n"
     ]
    },
    {
     "name": "stdout",
     "output_type": "stream",
     "text": [
      "INFO:tensorflow:2018-09-09 15:36:42.372445: Step 220: Train accuracy = 100.0%\n"
     ]
    },
    {
     "name": "stderr",
     "output_type": "stream",
     "text": [
      "INFO:tensorflow:2018-09-09 15:36:42.372445: Step 220: Train accuracy = 100.0%\n"
     ]
    },
    {
     "name": "stdout",
     "output_type": "stream",
     "text": [
      "INFO:tensorflow:2018-09-09 15:36:42.373212: Step 220: Cross entropy = 0.030840\n"
     ]
    },
    {
     "name": "stderr",
     "output_type": "stream",
     "text": [
      "INFO:tensorflow:2018-09-09 15:36:42.373212: Step 220: Cross entropy = 0.030840\n"
     ]
    },
    {
     "name": "stdout",
     "output_type": "stream",
     "text": [
      "INFO:tensorflow:2018-09-09 15:36:42.401621: Step 220: Validation accuracy = 92.0% (N=100)\n"
     ]
    },
    {
     "name": "stderr",
     "output_type": "stream",
     "text": [
      "INFO:tensorflow:2018-09-09 15:36:42.401621: Step 220: Validation accuracy = 92.0% (N=100)\n"
     ]
    },
    {
     "name": "stdout",
     "output_type": "stream",
     "text": [
      "INFO:tensorflow:2018-09-09 15:36:42.480319: Step 230: Train accuracy = 100.0%\n"
     ]
    },
    {
     "name": "stderr",
     "output_type": "stream",
     "text": [
      "INFO:tensorflow:2018-09-09 15:36:42.480319: Step 230: Train accuracy = 100.0%\n"
     ]
    },
    {
     "name": "stdout",
     "output_type": "stream",
     "text": [
      "INFO:tensorflow:2018-09-09 15:36:42.481502: Step 230: Cross entropy = 0.017819\n"
     ]
    },
    {
     "name": "stderr",
     "output_type": "stream",
     "text": [
      "INFO:tensorflow:2018-09-09 15:36:42.481502: Step 230: Cross entropy = 0.017819\n"
     ]
    },
    {
     "name": "stdout",
     "output_type": "stream",
     "text": [
      "INFO:tensorflow:2018-09-09 15:36:42.515444: Step 230: Validation accuracy = 100.0% (N=100)\n"
     ]
    },
    {
     "name": "stderr",
     "output_type": "stream",
     "text": [
      "INFO:tensorflow:2018-09-09 15:36:42.515444: Step 230: Validation accuracy = 100.0% (N=100)\n"
     ]
    },
    {
     "name": "stdout",
     "output_type": "stream",
     "text": [
      "INFO:tensorflow:2018-09-09 15:36:42.596910: Step 240: Train accuracy = 100.0%\n"
     ]
    },
    {
     "name": "stderr",
     "output_type": "stream",
     "text": [
      "INFO:tensorflow:2018-09-09 15:36:42.596910: Step 240: Train accuracy = 100.0%\n"
     ]
    },
    {
     "name": "stdout",
     "output_type": "stream",
     "text": [
      "INFO:tensorflow:2018-09-09 15:36:42.597674: Step 240: Cross entropy = 0.010576\n"
     ]
    },
    {
     "name": "stderr",
     "output_type": "stream",
     "text": [
      "INFO:tensorflow:2018-09-09 15:36:42.597674: Step 240: Cross entropy = 0.010576\n"
     ]
    },
    {
     "name": "stdout",
     "output_type": "stream",
     "text": [
      "INFO:tensorflow:2018-09-09 15:36:42.630541: Step 240: Validation accuracy = 90.0% (N=100)\n"
     ]
    },
    {
     "name": "stderr",
     "output_type": "stream",
     "text": [
      "INFO:tensorflow:2018-09-09 15:36:42.630541: Step 240: Validation accuracy = 90.0% (N=100)\n"
     ]
    },
    {
     "name": "stdout",
     "output_type": "stream",
     "text": [
      "INFO:tensorflow:2018-09-09 15:36:42.708594: Step 250: Train accuracy = 100.0%\n"
     ]
    },
    {
     "name": "stderr",
     "output_type": "stream",
     "text": [
      "INFO:tensorflow:2018-09-09 15:36:42.708594: Step 250: Train accuracy = 100.0%\n"
     ]
    },
    {
     "name": "stdout",
     "output_type": "stream",
     "text": [
      "INFO:tensorflow:2018-09-09 15:36:42.709412: Step 250: Cross entropy = 0.030501\n"
     ]
    },
    {
     "name": "stderr",
     "output_type": "stream",
     "text": [
      "INFO:tensorflow:2018-09-09 15:36:42.709412: Step 250: Cross entropy = 0.030501\n"
     ]
    },
    {
     "name": "stdout",
     "output_type": "stream",
     "text": [
      "INFO:tensorflow:2018-09-09 15:36:42.742389: Step 250: Validation accuracy = 93.0% (N=100)\n"
     ]
    },
    {
     "name": "stderr",
     "output_type": "stream",
     "text": [
      "INFO:tensorflow:2018-09-09 15:36:42.742389: Step 250: Validation accuracy = 93.0% (N=100)\n"
     ]
    },
    {
     "name": "stdout",
     "output_type": "stream",
     "text": [
      "INFO:tensorflow:2018-09-09 15:36:42.821768: Step 260: Train accuracy = 100.0%\n"
     ]
    },
    {
     "name": "stderr",
     "output_type": "stream",
     "text": [
      "INFO:tensorflow:2018-09-09 15:36:42.821768: Step 260: Train accuracy = 100.0%\n"
     ]
    },
    {
     "name": "stdout",
     "output_type": "stream",
     "text": [
      "INFO:tensorflow:2018-09-09 15:36:42.822622: Step 260: Cross entropy = 0.017826\n"
     ]
    },
    {
     "name": "stderr",
     "output_type": "stream",
     "text": [
      "INFO:tensorflow:2018-09-09 15:36:42.822622: Step 260: Cross entropy = 0.017826\n"
     ]
    },
    {
     "name": "stdout",
     "output_type": "stream",
     "text": [
      "INFO:tensorflow:2018-09-09 15:36:42.856609: Step 260: Validation accuracy = 100.0% (N=100)\n"
     ]
    },
    {
     "name": "stderr",
     "output_type": "stream",
     "text": [
      "INFO:tensorflow:2018-09-09 15:36:42.856609: Step 260: Validation accuracy = 100.0% (N=100)\n"
     ]
    },
    {
     "name": "stdout",
     "output_type": "stream",
     "text": [
      "INFO:tensorflow:2018-09-09 15:36:42.931726: Step 270: Train accuracy = 100.0%\n"
     ]
    },
    {
     "name": "stderr",
     "output_type": "stream",
     "text": [
      "INFO:tensorflow:2018-09-09 15:36:42.931726: Step 270: Train accuracy = 100.0%\n"
     ]
    },
    {
     "name": "stdout",
     "output_type": "stream",
     "text": [
      "INFO:tensorflow:2018-09-09 15:36:42.932567: Step 270: Cross entropy = 0.010376\n"
     ]
    },
    {
     "name": "stderr",
     "output_type": "stream",
     "text": [
      "INFO:tensorflow:2018-09-09 15:36:42.932567: Step 270: Cross entropy = 0.010376\n"
     ]
    },
    {
     "name": "stdout",
     "output_type": "stream",
     "text": [
      "INFO:tensorflow:2018-09-09 15:36:42.957644: Step 270: Validation accuracy = 100.0% (N=100)\n"
     ]
    },
    {
     "name": "stderr",
     "output_type": "stream",
     "text": [
      "INFO:tensorflow:2018-09-09 15:36:42.957644: Step 270: Validation accuracy = 100.0% (N=100)\n"
     ]
    },
    {
     "name": "stdout",
     "output_type": "stream",
     "text": [
      "INFO:tensorflow:2018-09-09 15:36:43.033697: Step 280: Train accuracy = 100.0%\n"
     ]
    },
    {
     "name": "stderr",
     "output_type": "stream",
     "text": [
      "INFO:tensorflow:2018-09-09 15:36:43.033697: Step 280: Train accuracy = 100.0%\n"
     ]
    },
    {
     "name": "stdout",
     "output_type": "stream",
     "text": [
      "INFO:tensorflow:2018-09-09 15:36:43.034645: Step 280: Cross entropy = 0.006027\n"
     ]
    },
    {
     "name": "stderr",
     "output_type": "stream",
     "text": [
      "INFO:tensorflow:2018-09-09 15:36:43.034645: Step 280: Cross entropy = 0.006027\n"
     ]
    },
    {
     "name": "stdout",
     "output_type": "stream",
     "text": [
      "INFO:tensorflow:2018-09-09 15:36:43.068377: Step 280: Validation accuracy = 100.0% (N=100)\n"
     ]
    },
    {
     "name": "stderr",
     "output_type": "stream",
     "text": [
      "INFO:tensorflow:2018-09-09 15:36:43.068377: Step 280: Validation accuracy = 100.0% (N=100)\n"
     ]
    },
    {
     "name": "stdout",
     "output_type": "stream",
     "text": [
      "INFO:tensorflow:2018-09-09 15:36:43.143012: Step 290: Train accuracy = 100.0%\n"
     ]
    },
    {
     "name": "stderr",
     "output_type": "stream",
     "text": [
      "INFO:tensorflow:2018-09-09 15:36:43.143012: Step 290: Train accuracy = 100.0%\n"
     ]
    },
    {
     "name": "stdout",
     "output_type": "stream",
     "text": [
      "INFO:tensorflow:2018-09-09 15:36:43.143932: Step 290: Cross entropy = 0.015610\n"
     ]
    },
    {
     "name": "stderr",
     "output_type": "stream",
     "text": [
      "INFO:tensorflow:2018-09-09 15:36:43.143932: Step 290: Cross entropy = 0.015610\n"
     ]
    },
    {
     "name": "stdout",
     "output_type": "stream",
     "text": [
      "INFO:tensorflow:2018-09-09 15:36:43.170468: Step 290: Validation accuracy = 100.0% (N=100)\n"
     ]
    },
    {
     "name": "stderr",
     "output_type": "stream",
     "text": [
      "INFO:tensorflow:2018-09-09 15:36:43.170468: Step 290: Validation accuracy = 100.0% (N=100)\n"
     ]
    },
    {
     "name": "stdout",
     "output_type": "stream",
     "text": [
      "INFO:tensorflow:2018-09-09 15:36:43.247828: Step 300: Train accuracy = 100.0%\n"
     ]
    },
    {
     "name": "stderr",
     "output_type": "stream",
     "text": [
      "INFO:tensorflow:2018-09-09 15:36:43.247828: Step 300: Train accuracy = 100.0%\n"
     ]
    },
    {
     "name": "stdout",
     "output_type": "stream",
     "text": [
      "INFO:tensorflow:2018-09-09 15:36:43.248612: Step 300: Cross entropy = 0.014244\n"
     ]
    },
    {
     "name": "stderr",
     "output_type": "stream",
     "text": [
      "INFO:tensorflow:2018-09-09 15:36:43.248612: Step 300: Cross entropy = 0.014244\n"
     ]
    },
    {
     "name": "stdout",
     "output_type": "stream",
     "text": [
      "INFO:tensorflow:2018-09-09 15:36:43.275336: Step 300: Validation accuracy = 93.0% (N=100)\n"
     ]
    },
    {
     "name": "stderr",
     "output_type": "stream",
     "text": [
      "INFO:tensorflow:2018-09-09 15:36:43.275336: Step 300: Validation accuracy = 93.0% (N=100)\n"
     ]
    },
    {
     "name": "stdout",
     "output_type": "stream",
     "text": [
      "INFO:tensorflow:2018-09-09 15:36:43.346815: Step 310: Train accuracy = 100.0%\n"
     ]
    },
    {
     "name": "stderr",
     "output_type": "stream",
     "text": [
      "INFO:tensorflow:2018-09-09 15:36:43.346815: Step 310: Train accuracy = 100.0%\n"
     ]
    },
    {
     "name": "stdout",
     "output_type": "stream",
     "text": [
      "INFO:tensorflow:2018-09-09 15:36:43.347775: Step 310: Cross entropy = 0.012350\n"
     ]
    },
    {
     "name": "stderr",
     "output_type": "stream",
     "text": [
      "INFO:tensorflow:2018-09-09 15:36:43.347775: Step 310: Cross entropy = 0.012350\n"
     ]
    },
    {
     "name": "stdout",
     "output_type": "stream",
     "text": [
      "INFO:tensorflow:2018-09-09 15:36:43.380183: Step 310: Validation accuracy = 100.0% (N=100)\n"
     ]
    },
    {
     "name": "stderr",
     "output_type": "stream",
     "text": [
      "INFO:tensorflow:2018-09-09 15:36:43.380183: Step 310: Validation accuracy = 100.0% (N=100)\n"
     ]
    },
    {
     "name": "stdout",
     "output_type": "stream",
     "text": [
      "INFO:tensorflow:2018-09-09 15:36:43.454855: Step 320: Train accuracy = 100.0%\n"
     ]
    },
    {
     "name": "stderr",
     "output_type": "stream",
     "text": [
      "INFO:tensorflow:2018-09-09 15:36:43.454855: Step 320: Train accuracy = 100.0%\n"
     ]
    },
    {
     "name": "stdout",
     "output_type": "stream",
     "text": [
      "INFO:tensorflow:2018-09-09 15:36:43.455814: Step 320: Cross entropy = 0.019281\n"
     ]
    },
    {
     "name": "stderr",
     "output_type": "stream",
     "text": [
      "INFO:tensorflow:2018-09-09 15:36:43.455814: Step 320: Cross entropy = 0.019281\n"
     ]
    },
    {
     "name": "stdout",
     "output_type": "stream",
     "text": [
      "INFO:tensorflow:2018-09-09 15:36:43.480580: Step 320: Validation accuracy = 95.0% (N=100)\n"
     ]
    },
    {
     "name": "stderr",
     "output_type": "stream",
     "text": [
      "INFO:tensorflow:2018-09-09 15:36:43.480580: Step 320: Validation accuracy = 95.0% (N=100)\n"
     ]
    },
    {
     "name": "stdout",
     "output_type": "stream",
     "text": [
      "INFO:tensorflow:2018-09-09 15:36:43.557365: Step 330: Train accuracy = 100.0%\n"
     ]
    },
    {
     "name": "stderr",
     "output_type": "stream",
     "text": [
      "INFO:tensorflow:2018-09-09 15:36:43.557365: Step 330: Train accuracy = 100.0%\n"
     ]
    },
    {
     "name": "stdout",
     "output_type": "stream",
     "text": [
      "INFO:tensorflow:2018-09-09 15:36:43.558309: Step 330: Cross entropy = 0.012228\n"
     ]
    },
    {
     "name": "stderr",
     "output_type": "stream",
     "text": [
      "INFO:tensorflow:2018-09-09 15:36:43.558309: Step 330: Cross entropy = 0.012228\n"
     ]
    },
    {
     "name": "stdout",
     "output_type": "stream",
     "text": [
      "INFO:tensorflow:2018-09-09 15:36:43.594971: Step 330: Validation accuracy = 92.0% (N=100)\n"
     ]
    },
    {
     "name": "stderr",
     "output_type": "stream",
     "text": [
      "INFO:tensorflow:2018-09-09 15:36:43.594971: Step 330: Validation accuracy = 92.0% (N=100)\n"
     ]
    },
    {
     "name": "stdout",
     "output_type": "stream",
     "text": [
      "INFO:tensorflow:2018-09-09 15:36:43.690194: Step 340: Train accuracy = 100.0%\n"
     ]
    },
    {
     "name": "stderr",
     "output_type": "stream",
     "text": [
      "INFO:tensorflow:2018-09-09 15:36:43.690194: Step 340: Train accuracy = 100.0%\n"
     ]
    },
    {
     "name": "stdout",
     "output_type": "stream",
     "text": [
      "INFO:tensorflow:2018-09-09 15:36:43.691195: Step 340: Cross entropy = 0.017460\n"
     ]
    },
    {
     "name": "stderr",
     "output_type": "stream",
     "text": [
      "INFO:tensorflow:2018-09-09 15:36:43.691195: Step 340: Cross entropy = 0.017460\n"
     ]
    },
    {
     "name": "stdout",
     "output_type": "stream",
     "text": [
      "INFO:tensorflow:2018-09-09 15:36:43.718229: Step 340: Validation accuracy = 100.0% (N=100)\n"
     ]
    },
    {
     "name": "stderr",
     "output_type": "stream",
     "text": [
      "INFO:tensorflow:2018-09-09 15:36:43.718229: Step 340: Validation accuracy = 100.0% (N=100)\n"
     ]
    },
    {
     "name": "stdout",
     "output_type": "stream",
     "text": [
      "INFO:tensorflow:2018-09-09 15:36:43.795673: Step 350: Train accuracy = 100.0%\n"
     ]
    },
    {
     "name": "stderr",
     "output_type": "stream",
     "text": [
      "INFO:tensorflow:2018-09-09 15:36:43.795673: Step 350: Train accuracy = 100.0%\n"
     ]
    },
    {
     "name": "stdout",
     "output_type": "stream",
     "text": [
      "INFO:tensorflow:2018-09-09 15:36:43.796791: Step 350: Cross entropy = 0.012183\n"
     ]
    },
    {
     "name": "stderr",
     "output_type": "stream",
     "text": [
      "INFO:tensorflow:2018-09-09 15:36:43.796791: Step 350: Cross entropy = 0.012183\n"
     ]
    },
    {
     "name": "stdout",
     "output_type": "stream",
     "text": [
      "INFO:tensorflow:2018-09-09 15:36:43.825679: Step 350: Validation accuracy = 100.0% (N=100)\n"
     ]
    },
    {
     "name": "stderr",
     "output_type": "stream",
     "text": [
      "INFO:tensorflow:2018-09-09 15:36:43.825679: Step 350: Validation accuracy = 100.0% (N=100)\n"
     ]
    },
    {
     "name": "stdout",
     "output_type": "stream",
     "text": [
      "INFO:tensorflow:2018-09-09 15:36:43.903354: Step 360: Train accuracy = 100.0%\n"
     ]
    },
    {
     "name": "stderr",
     "output_type": "stream",
     "text": [
      "INFO:tensorflow:2018-09-09 15:36:43.903354: Step 360: Train accuracy = 100.0%\n"
     ]
    },
    {
     "name": "stdout",
     "output_type": "stream",
     "text": [
      "INFO:tensorflow:2018-09-09 15:36:43.904431: Step 360: Cross entropy = 0.020233\n"
     ]
    },
    {
     "name": "stderr",
     "output_type": "stream",
     "text": [
      "INFO:tensorflow:2018-09-09 15:36:43.904431: Step 360: Cross entropy = 0.020233\n"
     ]
    },
    {
     "name": "stdout",
     "output_type": "stream",
     "text": [
      "INFO:tensorflow:2018-09-09 15:36:43.930694: Step 360: Validation accuracy = 100.0% (N=100)\n"
     ]
    },
    {
     "name": "stderr",
     "output_type": "stream",
     "text": [
      "INFO:tensorflow:2018-09-09 15:36:43.930694: Step 360: Validation accuracy = 100.0% (N=100)\n"
     ]
    },
    {
     "name": "stdout",
     "output_type": "stream",
     "text": [
      "INFO:tensorflow:2018-09-09 15:36:44.007074: Step 370: Train accuracy = 100.0%\n"
     ]
    },
    {
     "name": "stderr",
     "output_type": "stream",
     "text": [
      "INFO:tensorflow:2018-09-09 15:36:44.007074: Step 370: Train accuracy = 100.0%\n"
     ]
    },
    {
     "name": "stdout",
     "output_type": "stream",
     "text": [
      "INFO:tensorflow:2018-09-09 15:36:44.008133: Step 370: Cross entropy = 0.008297\n"
     ]
    },
    {
     "name": "stderr",
     "output_type": "stream",
     "text": [
      "INFO:tensorflow:2018-09-09 15:36:44.008133: Step 370: Cross entropy = 0.008297\n"
     ]
    },
    {
     "name": "stdout",
     "output_type": "stream",
     "text": [
      "INFO:tensorflow:2018-09-09 15:36:44.045462: Step 370: Validation accuracy = 100.0% (N=100)\n"
     ]
    },
    {
     "name": "stderr",
     "output_type": "stream",
     "text": [
      "INFO:tensorflow:2018-09-09 15:36:44.045462: Step 370: Validation accuracy = 100.0% (N=100)\n"
     ]
    },
    {
     "name": "stdout",
     "output_type": "stream",
     "text": [
      "INFO:tensorflow:2018-09-09 15:36:44.131973: Step 380: Train accuracy = 100.0%\n"
     ]
    },
    {
     "name": "stderr",
     "output_type": "stream",
     "text": [
      "INFO:tensorflow:2018-09-09 15:36:44.131973: Step 380: Train accuracy = 100.0%\n"
     ]
    },
    {
     "name": "stdout",
     "output_type": "stream",
     "text": [
      "INFO:tensorflow:2018-09-09 15:36:44.133087: Step 380: Cross entropy = 0.002644\n"
     ]
    },
    {
     "name": "stderr",
     "output_type": "stream",
     "text": [
      "INFO:tensorflow:2018-09-09 15:36:44.133087: Step 380: Cross entropy = 0.002644\n"
     ]
    },
    {
     "name": "stdout",
     "output_type": "stream",
     "text": [
      "INFO:tensorflow:2018-09-09 15:36:44.160961: Step 380: Validation accuracy = 100.0% (N=100)\n"
     ]
    },
    {
     "name": "stderr",
     "output_type": "stream",
     "text": [
      "INFO:tensorflow:2018-09-09 15:36:44.160961: Step 380: Validation accuracy = 100.0% (N=100)\n"
     ]
    },
    {
     "name": "stdout",
     "output_type": "stream",
     "text": [
      "INFO:tensorflow:2018-09-09 15:36:44.235839: Step 390: Train accuracy = 100.0%\n"
     ]
    },
    {
     "name": "stderr",
     "output_type": "stream",
     "text": [
      "INFO:tensorflow:2018-09-09 15:36:44.235839: Step 390: Train accuracy = 100.0%\n"
     ]
    },
    {
     "name": "stdout",
     "output_type": "stream",
     "text": [
      "INFO:tensorflow:2018-09-09 15:36:44.236631: Step 390: Cross entropy = 0.018030\n"
     ]
    },
    {
     "name": "stderr",
     "output_type": "stream",
     "text": [
      "INFO:tensorflow:2018-09-09 15:36:44.236631: Step 390: Cross entropy = 0.018030\n"
     ]
    },
    {
     "name": "stdout",
     "output_type": "stream",
     "text": [
      "INFO:tensorflow:2018-09-09 15:36:44.262656: Step 390: Validation accuracy = 95.0% (N=100)\n"
     ]
    },
    {
     "name": "stderr",
     "output_type": "stream",
     "text": [
      "INFO:tensorflow:2018-09-09 15:36:44.262656: Step 390: Validation accuracy = 95.0% (N=100)\n"
     ]
    },
    {
     "name": "stdout",
     "output_type": "stream",
     "text": [
      "INFO:tensorflow:2018-09-09 15:36:44.340730: Step 400: Train accuracy = 100.0%\n"
     ]
    },
    {
     "name": "stderr",
     "output_type": "stream",
     "text": [
      "INFO:tensorflow:2018-09-09 15:36:44.340730: Step 400: Train accuracy = 100.0%\n"
     ]
    },
    {
     "name": "stdout",
     "output_type": "stream",
     "text": [
      "INFO:tensorflow:2018-09-09 15:36:44.341477: Step 400: Cross entropy = 0.007972\n"
     ]
    },
    {
     "name": "stderr",
     "output_type": "stream",
     "text": [
      "INFO:tensorflow:2018-09-09 15:36:44.341477: Step 400: Cross entropy = 0.007972\n"
     ]
    },
    {
     "name": "stdout",
     "output_type": "stream",
     "text": [
      "INFO:tensorflow:2018-09-09 15:36:44.366271: Step 400: Validation accuracy = 100.0% (N=100)\n"
     ]
    },
    {
     "name": "stderr",
     "output_type": "stream",
     "text": [
      "INFO:tensorflow:2018-09-09 15:36:44.366271: Step 400: Validation accuracy = 100.0% (N=100)\n"
     ]
    },
    {
     "name": "stdout",
     "output_type": "stream",
     "text": [
      "INFO:tensorflow:2018-09-09 15:36:44.444107: Step 410: Train accuracy = 100.0%\n"
     ]
    },
    {
     "name": "stderr",
     "output_type": "stream",
     "text": [
      "INFO:tensorflow:2018-09-09 15:36:44.444107: Step 410: Train accuracy = 100.0%\n"
     ]
    },
    {
     "name": "stdout",
     "output_type": "stream",
     "text": [
      "INFO:tensorflow:2018-09-09 15:36:44.444882: Step 410: Cross entropy = 0.013686\n"
     ]
    },
    {
     "name": "stderr",
     "output_type": "stream",
     "text": [
      "INFO:tensorflow:2018-09-09 15:36:44.444882: Step 410: Cross entropy = 0.013686\n"
     ]
    },
    {
     "name": "stdout",
     "output_type": "stream",
     "text": [
      "INFO:tensorflow:2018-09-09 15:36:44.470324: Step 410: Validation accuracy = 100.0% (N=100)\n"
     ]
    },
    {
     "name": "stderr",
     "output_type": "stream",
     "text": [
      "INFO:tensorflow:2018-09-09 15:36:44.470324: Step 410: Validation accuracy = 100.0% (N=100)\n"
     ]
    },
    {
     "name": "stdout",
     "output_type": "stream",
     "text": [
      "INFO:tensorflow:2018-09-09 15:36:44.545718: Step 420: Train accuracy = 100.0%\n"
     ]
    },
    {
     "name": "stderr",
     "output_type": "stream",
     "text": [
      "INFO:tensorflow:2018-09-09 15:36:44.545718: Step 420: Train accuracy = 100.0%\n"
     ]
    },
    {
     "name": "stdout",
     "output_type": "stream",
     "text": [
      "INFO:tensorflow:2018-09-09 15:36:44.546616: Step 420: Cross entropy = 0.016807\n"
     ]
    },
    {
     "name": "stderr",
     "output_type": "stream",
     "text": [
      "INFO:tensorflow:2018-09-09 15:36:44.546616: Step 420: Cross entropy = 0.016807\n"
     ]
    },
    {
     "name": "stdout",
     "output_type": "stream",
     "text": [
      "INFO:tensorflow:2018-09-09 15:36:44.572306: Step 420: Validation accuracy = 100.0% (N=100)\n"
     ]
    },
    {
     "name": "stderr",
     "output_type": "stream",
     "text": [
      "INFO:tensorflow:2018-09-09 15:36:44.572306: Step 420: Validation accuracy = 100.0% (N=100)\n"
     ]
    },
    {
     "name": "stdout",
     "output_type": "stream",
     "text": [
      "INFO:tensorflow:2018-09-09 15:36:44.645784: Step 430: Train accuracy = 100.0%\n"
     ]
    },
    {
     "name": "stderr",
     "output_type": "stream",
     "text": [
      "INFO:tensorflow:2018-09-09 15:36:44.645784: Step 430: Train accuracy = 100.0%\n"
     ]
    },
    {
     "name": "stdout",
     "output_type": "stream",
     "text": [
      "INFO:tensorflow:2018-09-09 15:36:44.646609: Step 430: Cross entropy = 0.004175\n"
     ]
    },
    {
     "name": "stderr",
     "output_type": "stream",
     "text": [
      "INFO:tensorflow:2018-09-09 15:36:44.646609: Step 430: Cross entropy = 0.004175\n"
     ]
    },
    {
     "name": "stdout",
     "output_type": "stream",
     "text": [
      "INFO:tensorflow:2018-09-09 15:36:44.679363: Step 430: Validation accuracy = 100.0% (N=100)\n"
     ]
    },
    {
     "name": "stderr",
     "output_type": "stream",
     "text": [
      "INFO:tensorflow:2018-09-09 15:36:44.679363: Step 430: Validation accuracy = 100.0% (N=100)\n"
     ]
    },
    {
     "name": "stdout",
     "output_type": "stream",
     "text": [
      "INFO:tensorflow:2018-09-09 15:36:44.751885: Step 440: Train accuracy = 100.0%\n"
     ]
    },
    {
     "name": "stderr",
     "output_type": "stream",
     "text": [
      "INFO:tensorflow:2018-09-09 15:36:44.751885: Step 440: Train accuracy = 100.0%\n"
     ]
    },
    {
     "name": "stdout",
     "output_type": "stream",
     "text": [
      "INFO:tensorflow:2018-09-09 15:36:44.752781: Step 440: Cross entropy = 0.011751\n"
     ]
    },
    {
     "name": "stderr",
     "output_type": "stream",
     "text": [
      "INFO:tensorflow:2018-09-09 15:36:44.752781: Step 440: Cross entropy = 0.011751\n"
     ]
    },
    {
     "name": "stdout",
     "output_type": "stream",
     "text": [
      "INFO:tensorflow:2018-09-09 15:36:44.780883: Step 440: Validation accuracy = 100.0% (N=100)\n"
     ]
    },
    {
     "name": "stderr",
     "output_type": "stream",
     "text": [
      "INFO:tensorflow:2018-09-09 15:36:44.780883: Step 440: Validation accuracy = 100.0% (N=100)\n"
     ]
    },
    {
     "name": "stdout",
     "output_type": "stream",
     "text": [
      "INFO:tensorflow:2018-09-09 15:36:44.852831: Step 450: Train accuracy = 100.0%\n"
     ]
    },
    {
     "name": "stderr",
     "output_type": "stream",
     "text": [
      "INFO:tensorflow:2018-09-09 15:36:44.852831: Step 450: Train accuracy = 100.0%\n"
     ]
    },
    {
     "name": "stdout",
     "output_type": "stream",
     "text": [
      "INFO:tensorflow:2018-09-09 15:36:44.853670: Step 450: Cross entropy = 0.017758\n"
     ]
    },
    {
     "name": "stderr",
     "output_type": "stream",
     "text": [
      "INFO:tensorflow:2018-09-09 15:36:44.853670: Step 450: Cross entropy = 0.017758\n"
     ]
    },
    {
     "name": "stdout",
     "output_type": "stream",
     "text": [
      "INFO:tensorflow:2018-09-09 15:36:44.879636: Step 450: Validation accuracy = 100.0% (N=100)\n"
     ]
    },
    {
     "name": "stderr",
     "output_type": "stream",
     "text": [
      "INFO:tensorflow:2018-09-09 15:36:44.879636: Step 450: Validation accuracy = 100.0% (N=100)\n"
     ]
    },
    {
     "name": "stdout",
     "output_type": "stream",
     "text": [
      "INFO:tensorflow:2018-09-09 15:36:44.954852: Step 460: Train accuracy = 100.0%\n"
     ]
    },
    {
     "name": "stderr",
     "output_type": "stream",
     "text": [
      "INFO:tensorflow:2018-09-09 15:36:44.954852: Step 460: Train accuracy = 100.0%\n"
     ]
    },
    {
     "name": "stdout",
     "output_type": "stream",
     "text": [
      "INFO:tensorflow:2018-09-09 15:36:44.956400: Step 460: Cross entropy = 0.008526\n"
     ]
    },
    {
     "name": "stderr",
     "output_type": "stream",
     "text": [
      "INFO:tensorflow:2018-09-09 15:36:44.956400: Step 460: Cross entropy = 0.008526\n"
     ]
    },
    {
     "name": "stdout",
     "output_type": "stream",
     "text": [
      "INFO:tensorflow:2018-09-09 15:36:44.983596: Step 460: Validation accuracy = 96.0% (N=100)\n"
     ]
    },
    {
     "name": "stderr",
     "output_type": "stream",
     "text": [
      "INFO:tensorflow:2018-09-09 15:36:44.983596: Step 460: Validation accuracy = 96.0% (N=100)\n"
     ]
    },
    {
     "name": "stdout",
     "output_type": "stream",
     "text": [
      "INFO:tensorflow:2018-09-09 15:36:45.062126: Step 470: Train accuracy = 100.0%\n"
     ]
    },
    {
     "name": "stderr",
     "output_type": "stream",
     "text": [
      "INFO:tensorflow:2018-09-09 15:36:45.062126: Step 470: Train accuracy = 100.0%\n"
     ]
    },
    {
     "name": "stdout",
     "output_type": "stream",
     "text": [
      "INFO:tensorflow:2018-09-09 15:36:45.062872: Step 470: Cross entropy = 0.012839\n"
     ]
    },
    {
     "name": "stderr",
     "output_type": "stream",
     "text": [
      "INFO:tensorflow:2018-09-09 15:36:45.062872: Step 470: Cross entropy = 0.012839\n"
     ]
    },
    {
     "name": "stdout",
     "output_type": "stream",
     "text": [
      "INFO:tensorflow:2018-09-09 15:36:45.089871: Step 470: Validation accuracy = 100.0% (N=100)\n"
     ]
    },
    {
     "name": "stderr",
     "output_type": "stream",
     "text": [
      "INFO:tensorflow:2018-09-09 15:36:45.089871: Step 470: Validation accuracy = 100.0% (N=100)\n"
     ]
    },
    {
     "name": "stdout",
     "output_type": "stream",
     "text": [
      "INFO:tensorflow:2018-09-09 15:36:45.163373: Step 480: Train accuracy = 100.0%\n"
     ]
    },
    {
     "name": "stderr",
     "output_type": "stream",
     "text": [
      "INFO:tensorflow:2018-09-09 15:36:45.163373: Step 480: Train accuracy = 100.0%\n"
     ]
    },
    {
     "name": "stdout",
     "output_type": "stream",
     "text": [
      "INFO:tensorflow:2018-09-09 15:36:45.164270: Step 480: Cross entropy = 0.002614\n"
     ]
    },
    {
     "name": "stderr",
     "output_type": "stream",
     "text": [
      "INFO:tensorflow:2018-09-09 15:36:45.164270: Step 480: Cross entropy = 0.002614\n"
     ]
    },
    {
     "name": "stdout",
     "output_type": "stream",
     "text": [
      "INFO:tensorflow:2018-09-09 15:36:45.198504: Step 480: Validation accuracy = 96.0% (N=100)\n"
     ]
    },
    {
     "name": "stderr",
     "output_type": "stream",
     "text": [
      "INFO:tensorflow:2018-09-09 15:36:45.198504: Step 480: Validation accuracy = 96.0% (N=100)\n"
     ]
    },
    {
     "name": "stdout",
     "output_type": "stream",
     "text": [
      "INFO:tensorflow:2018-09-09 15:36:45.275639: Step 490: Train accuracy = 100.0%\n"
     ]
    },
    {
     "name": "stderr",
     "output_type": "stream",
     "text": [
      "INFO:tensorflow:2018-09-09 15:36:45.275639: Step 490: Train accuracy = 100.0%\n"
     ]
    },
    {
     "name": "stdout",
     "output_type": "stream",
     "text": [
      "INFO:tensorflow:2018-09-09 15:36:45.276503: Step 490: Cross entropy = 0.012680\n"
     ]
    },
    {
     "name": "stderr",
     "output_type": "stream",
     "text": [
      "INFO:tensorflow:2018-09-09 15:36:45.276503: Step 490: Cross entropy = 0.012680\n"
     ]
    },
    {
     "name": "stdout",
     "output_type": "stream",
     "text": [
      "INFO:tensorflow:2018-09-09 15:36:45.302574: Step 490: Validation accuracy = 100.0% (N=100)\n"
     ]
    },
    {
     "name": "stderr",
     "output_type": "stream",
     "text": [
      "INFO:tensorflow:2018-09-09 15:36:45.302574: Step 490: Validation accuracy = 100.0% (N=100)\n"
     ]
    },
    {
     "name": "stdout",
     "output_type": "stream",
     "text": [
      "INFO:tensorflow:2018-09-09 15:36:45.377105: Step 500: Train accuracy = 100.0%\n"
     ]
    },
    {
     "name": "stderr",
     "output_type": "stream",
     "text": [
      "INFO:tensorflow:2018-09-09 15:36:45.377105: Step 500: Train accuracy = 100.0%\n"
     ]
    },
    {
     "name": "stdout",
     "output_type": "stream",
     "text": [
      "INFO:tensorflow:2018-09-09 15:36:45.378019: Step 500: Cross entropy = 0.015926\n"
     ]
    },
    {
     "name": "stderr",
     "output_type": "stream",
     "text": [
      "INFO:tensorflow:2018-09-09 15:36:45.378019: Step 500: Cross entropy = 0.015926\n"
     ]
    },
    {
     "name": "stdout",
     "output_type": "stream",
     "text": [
      "INFO:tensorflow:2018-09-09 15:36:45.404206: Step 500: Validation accuracy = 100.0% (N=100)\n"
     ]
    },
    {
     "name": "stderr",
     "output_type": "stream",
     "text": [
      "INFO:tensorflow:2018-09-09 15:36:45.404206: Step 500: Validation accuracy = 100.0% (N=100)\n"
     ]
    },
    {
     "name": "stdout",
     "output_type": "stream",
     "text": [
      "INFO:tensorflow:2018-09-09 15:36:45.478293: Step 510: Train accuracy = 100.0%\n"
     ]
    },
    {
     "name": "stderr",
     "output_type": "stream",
     "text": [
      "INFO:tensorflow:2018-09-09 15:36:45.478293: Step 510: Train accuracy = 100.0%\n"
     ]
    },
    {
     "name": "stdout",
     "output_type": "stream",
     "text": [
      "INFO:tensorflow:2018-09-09 15:36:45.479113: Step 510: Cross entropy = 0.012694\n"
     ]
    },
    {
     "name": "stderr",
     "output_type": "stream",
     "text": [
      "INFO:tensorflow:2018-09-09 15:36:45.479113: Step 510: Cross entropy = 0.012694\n"
     ]
    },
    {
     "name": "stdout",
     "output_type": "stream",
     "text": [
      "INFO:tensorflow:2018-09-09 15:36:45.507403: Step 510: Validation accuracy = 100.0% (N=100)\n"
     ]
    },
    {
     "name": "stderr",
     "output_type": "stream",
     "text": [
      "INFO:tensorflow:2018-09-09 15:36:45.507403: Step 510: Validation accuracy = 100.0% (N=100)\n"
     ]
    },
    {
     "name": "stdout",
     "output_type": "stream",
     "text": [
      "INFO:tensorflow:2018-09-09 15:36:45.583913: Step 520: Train accuracy = 100.0%\n"
     ]
    },
    {
     "name": "stderr",
     "output_type": "stream",
     "text": [
      "INFO:tensorflow:2018-09-09 15:36:45.583913: Step 520: Train accuracy = 100.0%\n"
     ]
    },
    {
     "name": "stdout",
     "output_type": "stream",
     "text": [
      "INFO:tensorflow:2018-09-09 15:36:45.584689: Step 520: Cross entropy = 0.007848\n"
     ]
    },
    {
     "name": "stderr",
     "output_type": "stream",
     "text": [
      "INFO:tensorflow:2018-09-09 15:36:45.584689: Step 520: Cross entropy = 0.007848\n"
     ]
    },
    {
     "name": "stdout",
     "output_type": "stream",
     "text": [
      "INFO:tensorflow:2018-09-09 15:36:45.620980: Step 520: Validation accuracy = 100.0% (N=100)\n"
     ]
    },
    {
     "name": "stderr",
     "output_type": "stream",
     "text": [
      "INFO:tensorflow:2018-09-09 15:36:45.620980: Step 520: Validation accuracy = 100.0% (N=100)\n"
     ]
    },
    {
     "name": "stdout",
     "output_type": "stream",
     "text": [
      "INFO:tensorflow:2018-09-09 15:36:45.696177: Step 530: Train accuracy = 100.0%\n"
     ]
    },
    {
     "name": "stderr",
     "output_type": "stream",
     "text": [
      "INFO:tensorflow:2018-09-09 15:36:45.696177: Step 530: Train accuracy = 100.0%\n"
     ]
    },
    {
     "name": "stdout",
     "output_type": "stream",
     "text": [
      "INFO:tensorflow:2018-09-09 15:36:45.697277: Step 530: Cross entropy = 0.004752\n"
     ]
    },
    {
     "name": "stderr",
     "output_type": "stream",
     "text": [
      "INFO:tensorflow:2018-09-09 15:36:45.697277: Step 530: Cross entropy = 0.004752\n"
     ]
    },
    {
     "name": "stdout",
     "output_type": "stream",
     "text": [
      "INFO:tensorflow:2018-09-09 15:36:45.727034: Step 530: Validation accuracy = 100.0% (N=100)\n"
     ]
    },
    {
     "name": "stderr",
     "output_type": "stream",
     "text": [
      "INFO:tensorflow:2018-09-09 15:36:45.727034: Step 530: Validation accuracy = 100.0% (N=100)\n"
     ]
    },
    {
     "name": "stdout",
     "output_type": "stream",
     "text": [
      "INFO:tensorflow:2018-09-09 15:36:45.803585: Step 540: Train accuracy = 100.0%\n"
     ]
    },
    {
     "name": "stderr",
     "output_type": "stream",
     "text": [
      "INFO:tensorflow:2018-09-09 15:36:45.803585: Step 540: Train accuracy = 100.0%\n"
     ]
    },
    {
     "name": "stdout",
     "output_type": "stream",
     "text": [
      "INFO:tensorflow:2018-09-09 15:36:45.804474: Step 540: Cross entropy = 0.008810\n"
     ]
    },
    {
     "name": "stderr",
     "output_type": "stream",
     "text": [
      "INFO:tensorflow:2018-09-09 15:36:45.804474: Step 540: Cross entropy = 0.008810\n"
     ]
    },
    {
     "name": "stdout",
     "output_type": "stream",
     "text": [
      "INFO:tensorflow:2018-09-09 15:36:45.837373: Step 540: Validation accuracy = 100.0% (N=100)\n"
     ]
    },
    {
     "name": "stderr",
     "output_type": "stream",
     "text": [
      "INFO:tensorflow:2018-09-09 15:36:45.837373: Step 540: Validation accuracy = 100.0% (N=100)\n"
     ]
    },
    {
     "name": "stdout",
     "output_type": "stream",
     "text": [
      "INFO:tensorflow:2018-09-09 15:36:45.915629: Step 550: Train accuracy = 100.0%\n"
     ]
    },
    {
     "name": "stderr",
     "output_type": "stream",
     "text": [
      "INFO:tensorflow:2018-09-09 15:36:45.915629: Step 550: Train accuracy = 100.0%\n"
     ]
    },
    {
     "name": "stdout",
     "output_type": "stream",
     "text": [
      "INFO:tensorflow:2018-09-09 15:36:45.916461: Step 550: Cross entropy = 0.006196\n"
     ]
    },
    {
     "name": "stderr",
     "output_type": "stream",
     "text": [
      "INFO:tensorflow:2018-09-09 15:36:45.916461: Step 550: Cross entropy = 0.006196\n"
     ]
    },
    {
     "name": "stdout",
     "output_type": "stream",
     "text": [
      "INFO:tensorflow:2018-09-09 15:36:45.945232: Step 550: Validation accuracy = 100.0% (N=100)\n"
     ]
    },
    {
     "name": "stderr",
     "output_type": "stream",
     "text": [
      "INFO:tensorflow:2018-09-09 15:36:45.945232: Step 550: Validation accuracy = 100.0% (N=100)\n"
     ]
    },
    {
     "name": "stdout",
     "output_type": "stream",
     "text": [
      "INFO:tensorflow:2018-09-09 15:36:46.028040: Step 560: Train accuracy = 100.0%\n"
     ]
    },
    {
     "name": "stderr",
     "output_type": "stream",
     "text": [
      "INFO:tensorflow:2018-09-09 15:36:46.028040: Step 560: Train accuracy = 100.0%\n"
     ]
    },
    {
     "name": "stdout",
     "output_type": "stream",
     "text": [
      "INFO:tensorflow:2018-09-09 15:36:46.029089: Step 560: Cross entropy = 0.005131\n"
     ]
    },
    {
     "name": "stderr",
     "output_type": "stream",
     "text": [
      "INFO:tensorflow:2018-09-09 15:36:46.029089: Step 560: Cross entropy = 0.005131\n"
     ]
    },
    {
     "name": "stdout",
     "output_type": "stream",
     "text": [
      "INFO:tensorflow:2018-09-09 15:36:46.066089: Step 560: Validation accuracy = 100.0% (N=100)\n"
     ]
    },
    {
     "name": "stderr",
     "output_type": "stream",
     "text": [
      "INFO:tensorflow:2018-09-09 15:36:46.066089: Step 560: Validation accuracy = 100.0% (N=100)\n"
     ]
    },
    {
     "name": "stdout",
     "output_type": "stream",
     "text": [
      "INFO:tensorflow:2018-09-09 15:36:46.143479: Step 570: Train accuracy = 100.0%\n"
     ]
    },
    {
     "name": "stderr",
     "output_type": "stream",
     "text": [
      "INFO:tensorflow:2018-09-09 15:36:46.143479: Step 570: Train accuracy = 100.0%\n"
     ]
    },
    {
     "name": "stdout",
     "output_type": "stream",
     "text": [
      "INFO:tensorflow:2018-09-09 15:36:46.144303: Step 570: Cross entropy = 0.010630\n"
     ]
    },
    {
     "name": "stderr",
     "output_type": "stream",
     "text": [
      "INFO:tensorflow:2018-09-09 15:36:46.144303: Step 570: Cross entropy = 0.010630\n"
     ]
    },
    {
     "name": "stdout",
     "output_type": "stream",
     "text": [
      "INFO:tensorflow:2018-09-09 15:36:46.172533: Step 570: Validation accuracy = 100.0% (N=100)\n"
     ]
    },
    {
     "name": "stderr",
     "output_type": "stream",
     "text": [
      "INFO:tensorflow:2018-09-09 15:36:46.172533: Step 570: Validation accuracy = 100.0% (N=100)\n"
     ]
    },
    {
     "name": "stdout",
     "output_type": "stream",
     "text": [
      "INFO:tensorflow:2018-09-09 15:36:46.247357: Step 580: Train accuracy = 100.0%\n"
     ]
    },
    {
     "name": "stderr",
     "output_type": "stream",
     "text": [
      "INFO:tensorflow:2018-09-09 15:36:46.247357: Step 580: Train accuracy = 100.0%\n"
     ]
    },
    {
     "name": "stdout",
     "output_type": "stream",
     "text": [
      "INFO:tensorflow:2018-09-09 15:36:46.248258: Step 580: Cross entropy = 0.006306\n"
     ]
    },
    {
     "name": "stderr",
     "output_type": "stream",
     "text": [
      "INFO:tensorflow:2018-09-09 15:36:46.248258: Step 580: Cross entropy = 0.006306\n"
     ]
    },
    {
     "name": "stdout",
     "output_type": "stream",
     "text": [
      "INFO:tensorflow:2018-09-09 15:36:46.272916: Step 580: Validation accuracy = 100.0% (N=100)\n"
     ]
    },
    {
     "name": "stderr",
     "output_type": "stream",
     "text": [
      "INFO:tensorflow:2018-09-09 15:36:46.272916: Step 580: Validation accuracy = 100.0% (N=100)\n"
     ]
    },
    {
     "name": "stdout",
     "output_type": "stream",
     "text": [
      "INFO:tensorflow:2018-09-09 15:36:46.349168: Step 590: Train accuracy = 100.0%\n"
     ]
    },
    {
     "name": "stderr",
     "output_type": "stream",
     "text": [
      "INFO:tensorflow:2018-09-09 15:36:46.349168: Step 590: Train accuracy = 100.0%\n"
     ]
    },
    {
     "name": "stdout",
     "output_type": "stream",
     "text": [
      "INFO:tensorflow:2018-09-09 15:36:46.350027: Step 590: Cross entropy = 0.009154\n"
     ]
    },
    {
     "name": "stderr",
     "output_type": "stream",
     "text": [
      "INFO:tensorflow:2018-09-09 15:36:46.350027: Step 590: Cross entropy = 0.009154\n"
     ]
    },
    {
     "name": "stdout",
     "output_type": "stream",
     "text": [
      "INFO:tensorflow:2018-09-09 15:36:46.377501: Step 590: Validation accuracy = 100.0% (N=100)\n"
     ]
    },
    {
     "name": "stderr",
     "output_type": "stream",
     "text": [
      "INFO:tensorflow:2018-09-09 15:36:46.377501: Step 590: Validation accuracy = 100.0% (N=100)\n"
     ]
    },
    {
     "name": "stdout",
     "output_type": "stream",
     "text": [
      "INFO:tensorflow:2018-09-09 15:36:46.459642: Step 600: Train accuracy = 100.0%\n"
     ]
    },
    {
     "name": "stderr",
     "output_type": "stream",
     "text": [
      "INFO:tensorflow:2018-09-09 15:36:46.459642: Step 600: Train accuracy = 100.0%\n"
     ]
    },
    {
     "name": "stdout",
     "output_type": "stream",
     "text": [
      "INFO:tensorflow:2018-09-09 15:36:46.460533: Step 600: Cross entropy = 0.006958\n"
     ]
    },
    {
     "name": "stderr",
     "output_type": "stream",
     "text": [
      "INFO:tensorflow:2018-09-09 15:36:46.460533: Step 600: Cross entropy = 0.006958\n"
     ]
    },
    {
     "name": "stdout",
     "output_type": "stream",
     "text": [
      "INFO:tensorflow:2018-09-09 15:36:46.486372: Step 600: Validation accuracy = 100.0% (N=100)\n"
     ]
    },
    {
     "name": "stderr",
     "output_type": "stream",
     "text": [
      "INFO:tensorflow:2018-09-09 15:36:46.486372: Step 600: Validation accuracy = 100.0% (N=100)\n"
     ]
    },
    {
     "name": "stdout",
     "output_type": "stream",
     "text": [
      "INFO:tensorflow:2018-09-09 15:36:46.559360: Step 610: Train accuracy = 100.0%\n"
     ]
    },
    {
     "name": "stderr",
     "output_type": "stream",
     "text": [
      "INFO:tensorflow:2018-09-09 15:36:46.559360: Step 610: Train accuracy = 100.0%\n"
     ]
    },
    {
     "name": "stdout",
     "output_type": "stream",
     "text": [
      "INFO:tensorflow:2018-09-09 15:36:46.560580: Step 610: Cross entropy = 0.006135\n"
     ]
    },
    {
     "name": "stderr",
     "output_type": "stream",
     "text": [
      "INFO:tensorflow:2018-09-09 15:36:46.560580: Step 610: Cross entropy = 0.006135\n"
     ]
    },
    {
     "name": "stdout",
     "output_type": "stream",
     "text": [
      "INFO:tensorflow:2018-09-09 15:36:46.586482: Step 610: Validation accuracy = 100.0% (N=100)\n"
     ]
    },
    {
     "name": "stderr",
     "output_type": "stream",
     "text": [
      "INFO:tensorflow:2018-09-09 15:36:46.586482: Step 610: Validation accuracy = 100.0% (N=100)\n"
     ]
    },
    {
     "name": "stdout",
     "output_type": "stream",
     "text": [
      "INFO:tensorflow:2018-09-09 15:36:46.663329: Step 620: Train accuracy = 100.0%\n"
     ]
    },
    {
     "name": "stderr",
     "output_type": "stream",
     "text": [
      "INFO:tensorflow:2018-09-09 15:36:46.663329: Step 620: Train accuracy = 100.0%\n"
     ]
    },
    {
     "name": "stdout",
     "output_type": "stream",
     "text": [
      "INFO:tensorflow:2018-09-09 15:36:46.664373: Step 620: Cross entropy = 0.007189\n"
     ]
    },
    {
     "name": "stderr",
     "output_type": "stream",
     "text": [
      "INFO:tensorflow:2018-09-09 15:36:46.664373: Step 620: Cross entropy = 0.007189\n"
     ]
    },
    {
     "name": "stdout",
     "output_type": "stream",
     "text": [
      "INFO:tensorflow:2018-09-09 15:36:46.693296: Step 620: Validation accuracy = 100.0% (N=100)\n"
     ]
    },
    {
     "name": "stderr",
     "output_type": "stream",
     "text": [
      "INFO:tensorflow:2018-09-09 15:36:46.693296: Step 620: Validation accuracy = 100.0% (N=100)\n"
     ]
    },
    {
     "name": "stdout",
     "output_type": "stream",
     "text": [
      "INFO:tensorflow:2018-09-09 15:36:46.766885: Step 630: Train accuracy = 100.0%\n"
     ]
    },
    {
     "name": "stderr",
     "output_type": "stream",
     "text": [
      "INFO:tensorflow:2018-09-09 15:36:46.766885: Step 630: Train accuracy = 100.0%\n"
     ]
    },
    {
     "name": "stdout",
     "output_type": "stream",
     "text": [
      "INFO:tensorflow:2018-09-09 15:36:46.767853: Step 630: Cross entropy = 0.010455\n"
     ]
    },
    {
     "name": "stderr",
     "output_type": "stream",
     "text": [
      "INFO:tensorflow:2018-09-09 15:36:46.767853: Step 630: Cross entropy = 0.010455\n"
     ]
    },
    {
     "name": "stdout",
     "output_type": "stream",
     "text": [
      "INFO:tensorflow:2018-09-09 15:36:46.797618: Step 630: Validation accuracy = 100.0% (N=100)\n"
     ]
    },
    {
     "name": "stderr",
     "output_type": "stream",
     "text": [
      "INFO:tensorflow:2018-09-09 15:36:46.797618: Step 630: Validation accuracy = 100.0% (N=100)\n"
     ]
    },
    {
     "name": "stdout",
     "output_type": "stream",
     "text": [
      "INFO:tensorflow:2018-09-09 15:36:46.871626: Step 640: Train accuracy = 100.0%\n"
     ]
    },
    {
     "name": "stderr",
     "output_type": "stream",
     "text": [
      "INFO:tensorflow:2018-09-09 15:36:46.871626: Step 640: Train accuracy = 100.0%\n"
     ]
    },
    {
     "name": "stdout",
     "output_type": "stream",
     "text": [
      "INFO:tensorflow:2018-09-09 15:36:46.872906: Step 640: Cross entropy = 0.011848\n"
     ]
    },
    {
     "name": "stderr",
     "output_type": "stream",
     "text": [
      "INFO:tensorflow:2018-09-09 15:36:46.872906: Step 640: Cross entropy = 0.011848\n"
     ]
    },
    {
     "name": "stdout",
     "output_type": "stream",
     "text": [
      "INFO:tensorflow:2018-09-09 15:36:46.900189: Step 640: Validation accuracy = 100.0% (N=100)\n"
     ]
    },
    {
     "name": "stderr",
     "output_type": "stream",
     "text": [
      "INFO:tensorflow:2018-09-09 15:36:46.900189: Step 640: Validation accuracy = 100.0% (N=100)\n"
     ]
    },
    {
     "name": "stdout",
     "output_type": "stream",
     "text": [
      "INFO:tensorflow:2018-09-09 15:36:46.977361: Step 650: Train accuracy = 100.0%\n"
     ]
    },
    {
     "name": "stderr",
     "output_type": "stream",
     "text": [
      "INFO:tensorflow:2018-09-09 15:36:46.977361: Step 650: Train accuracy = 100.0%\n"
     ]
    },
    {
     "name": "stdout",
     "output_type": "stream",
     "text": [
      "INFO:tensorflow:2018-09-09 15:36:46.978595: Step 650: Cross entropy = 0.012171\n"
     ]
    },
    {
     "name": "stderr",
     "output_type": "stream",
     "text": [
      "INFO:tensorflow:2018-09-09 15:36:46.978595: Step 650: Cross entropy = 0.012171\n"
     ]
    },
    {
     "name": "stdout",
     "output_type": "stream",
     "text": [
      "INFO:tensorflow:2018-09-09 15:36:47.006545: Step 650: Validation accuracy = 100.0% (N=100)\n"
     ]
    },
    {
     "name": "stderr",
     "output_type": "stream",
     "text": [
      "INFO:tensorflow:2018-09-09 15:36:47.006545: Step 650: Validation accuracy = 100.0% (N=100)\n"
     ]
    },
    {
     "name": "stdout",
     "output_type": "stream",
     "text": [
      "INFO:tensorflow:2018-09-09 15:36:47.080798: Step 660: Train accuracy = 100.0%\n"
     ]
    },
    {
     "name": "stderr",
     "output_type": "stream",
     "text": [
      "INFO:tensorflow:2018-09-09 15:36:47.080798: Step 660: Train accuracy = 100.0%\n"
     ]
    },
    {
     "name": "stdout",
     "output_type": "stream",
     "text": [
      "INFO:tensorflow:2018-09-09 15:36:47.081841: Step 660: Cross entropy = 0.004932\n"
     ]
    },
    {
     "name": "stderr",
     "output_type": "stream",
     "text": [
      "INFO:tensorflow:2018-09-09 15:36:47.081841: Step 660: Cross entropy = 0.004932\n"
     ]
    },
    {
     "name": "stdout",
     "output_type": "stream",
     "text": [
      "INFO:tensorflow:2018-09-09 15:36:47.106761: Step 660: Validation accuracy = 100.0% (N=100)\n"
     ]
    },
    {
     "name": "stderr",
     "output_type": "stream",
     "text": [
      "INFO:tensorflow:2018-09-09 15:36:47.106761: Step 660: Validation accuracy = 100.0% (N=100)\n"
     ]
    },
    {
     "name": "stdout",
     "output_type": "stream",
     "text": [
      "INFO:tensorflow:2018-09-09 15:36:47.181236: Step 670: Train accuracy = 100.0%\n"
     ]
    },
    {
     "name": "stderr",
     "output_type": "stream",
     "text": [
      "INFO:tensorflow:2018-09-09 15:36:47.181236: Step 670: Train accuracy = 100.0%\n"
     ]
    },
    {
     "name": "stdout",
     "output_type": "stream",
     "text": [
      "INFO:tensorflow:2018-09-09 15:36:47.182484: Step 670: Cross entropy = 0.009588\n"
     ]
    },
    {
     "name": "stderr",
     "output_type": "stream",
     "text": [
      "INFO:tensorflow:2018-09-09 15:36:47.182484: Step 670: Cross entropy = 0.009588\n"
     ]
    },
    {
     "name": "stdout",
     "output_type": "stream",
     "text": [
      "INFO:tensorflow:2018-09-09 15:36:47.207110: Step 670: Validation accuracy = 100.0% (N=100)\n"
     ]
    },
    {
     "name": "stderr",
     "output_type": "stream",
     "text": [
      "INFO:tensorflow:2018-09-09 15:36:47.207110: Step 670: Validation accuracy = 100.0% (N=100)\n"
     ]
    },
    {
     "name": "stdout",
     "output_type": "stream",
     "text": [
      "INFO:tensorflow:2018-09-09 15:36:47.281577: Step 680: Train accuracy = 100.0%\n"
     ]
    },
    {
     "name": "stderr",
     "output_type": "stream",
     "text": [
      "INFO:tensorflow:2018-09-09 15:36:47.281577: Step 680: Train accuracy = 100.0%\n"
     ]
    },
    {
     "name": "stdout",
     "output_type": "stream",
     "text": [
      "INFO:tensorflow:2018-09-09 15:36:47.282498: Step 680: Cross entropy = 0.007714\n"
     ]
    },
    {
     "name": "stderr",
     "output_type": "stream",
     "text": [
      "INFO:tensorflow:2018-09-09 15:36:47.282498: Step 680: Cross entropy = 0.007714\n"
     ]
    },
    {
     "name": "stdout",
     "output_type": "stream",
     "text": [
      "INFO:tensorflow:2018-09-09 15:36:47.307399: Step 680: Validation accuracy = 100.0% (N=100)\n"
     ]
    },
    {
     "name": "stderr",
     "output_type": "stream",
     "text": [
      "INFO:tensorflow:2018-09-09 15:36:47.307399: Step 680: Validation accuracy = 100.0% (N=100)\n"
     ]
    },
    {
     "name": "stdout",
     "output_type": "stream",
     "text": [
      "INFO:tensorflow:2018-09-09 15:36:47.385876: Step 690: Train accuracy = 100.0%\n"
     ]
    },
    {
     "name": "stderr",
     "output_type": "stream",
     "text": [
      "INFO:tensorflow:2018-09-09 15:36:47.385876: Step 690: Train accuracy = 100.0%\n"
     ]
    },
    {
     "name": "stdout",
     "output_type": "stream",
     "text": [
      "INFO:tensorflow:2018-09-09 15:36:47.386746: Step 690: Cross entropy = 0.011579\n"
     ]
    },
    {
     "name": "stderr",
     "output_type": "stream",
     "text": [
      "INFO:tensorflow:2018-09-09 15:36:47.386746: Step 690: Cross entropy = 0.011579\n"
     ]
    },
    {
     "name": "stdout",
     "output_type": "stream",
     "text": [
      "INFO:tensorflow:2018-09-09 15:36:47.421630: Step 690: Validation accuracy = 100.0% (N=100)\n"
     ]
    },
    {
     "name": "stderr",
     "output_type": "stream",
     "text": [
      "INFO:tensorflow:2018-09-09 15:36:47.421630: Step 690: Validation accuracy = 100.0% (N=100)\n"
     ]
    },
    {
     "name": "stdout",
     "output_type": "stream",
     "text": [
      "INFO:tensorflow:2018-09-09 15:36:47.495100: Step 700: Train accuracy = 100.0%\n"
     ]
    },
    {
     "name": "stderr",
     "output_type": "stream",
     "text": [
      "INFO:tensorflow:2018-09-09 15:36:47.495100: Step 700: Train accuracy = 100.0%\n"
     ]
    },
    {
     "name": "stdout",
     "output_type": "stream",
     "text": [
      "INFO:tensorflow:2018-09-09 15:36:47.495862: Step 700: Cross entropy = 0.008473\n"
     ]
    },
    {
     "name": "stderr",
     "output_type": "stream",
     "text": [
      "INFO:tensorflow:2018-09-09 15:36:47.495862: Step 700: Cross entropy = 0.008473\n"
     ]
    },
    {
     "name": "stdout",
     "output_type": "stream",
     "text": [
      "INFO:tensorflow:2018-09-09 15:36:47.530342: Step 700: Validation accuracy = 100.0% (N=100)\n"
     ]
    },
    {
     "name": "stderr",
     "output_type": "stream",
     "text": [
      "INFO:tensorflow:2018-09-09 15:36:47.530342: Step 700: Validation accuracy = 100.0% (N=100)\n"
     ]
    },
    {
     "name": "stdout",
     "output_type": "stream",
     "text": [
      "INFO:tensorflow:2018-09-09 15:36:47.606019: Step 710: Train accuracy = 100.0%\n"
     ]
    },
    {
     "name": "stderr",
     "output_type": "stream",
     "text": [
      "INFO:tensorflow:2018-09-09 15:36:47.606019: Step 710: Train accuracy = 100.0%\n"
     ]
    },
    {
     "name": "stdout",
     "output_type": "stream",
     "text": [
      "INFO:tensorflow:2018-09-09 15:36:47.606844: Step 710: Cross entropy = 0.008897\n"
     ]
    },
    {
     "name": "stderr",
     "output_type": "stream",
     "text": [
      "INFO:tensorflow:2018-09-09 15:36:47.606844: Step 710: Cross entropy = 0.008897\n"
     ]
    },
    {
     "name": "stdout",
     "output_type": "stream",
     "text": [
      "INFO:tensorflow:2018-09-09 15:36:47.633172: Step 710: Validation accuracy = 100.0% (N=100)\n"
     ]
    },
    {
     "name": "stderr",
     "output_type": "stream",
     "text": [
      "INFO:tensorflow:2018-09-09 15:36:47.633172: Step 710: Validation accuracy = 100.0% (N=100)\n"
     ]
    },
    {
     "name": "stdout",
     "output_type": "stream",
     "text": [
      "INFO:tensorflow:2018-09-09 15:36:47.706831: Step 720: Train accuracy = 100.0%\n"
     ]
    },
    {
     "name": "stderr",
     "output_type": "stream",
     "text": [
      "INFO:tensorflow:2018-09-09 15:36:47.706831: Step 720: Train accuracy = 100.0%\n"
     ]
    },
    {
     "name": "stdout",
     "output_type": "stream",
     "text": [
      "INFO:tensorflow:2018-09-09 15:36:47.707613: Step 720: Cross entropy = 0.005591\n"
     ]
    },
    {
     "name": "stderr",
     "output_type": "stream",
     "text": [
      "INFO:tensorflow:2018-09-09 15:36:47.707613: Step 720: Cross entropy = 0.005591\n"
     ]
    },
    {
     "name": "stdout",
     "output_type": "stream",
     "text": [
      "INFO:tensorflow:2018-09-09 15:36:47.734542: Step 720: Validation accuracy = 100.0% (N=100)\n"
     ]
    },
    {
     "name": "stderr",
     "output_type": "stream",
     "text": [
      "INFO:tensorflow:2018-09-09 15:36:47.734542: Step 720: Validation accuracy = 100.0% (N=100)\n"
     ]
    },
    {
     "name": "stdout",
     "output_type": "stream",
     "text": [
      "INFO:tensorflow:2018-09-09 15:36:47.810900: Step 730: Train accuracy = 100.0%\n"
     ]
    },
    {
     "name": "stderr",
     "output_type": "stream",
     "text": [
      "INFO:tensorflow:2018-09-09 15:36:47.810900: Step 730: Train accuracy = 100.0%\n"
     ]
    },
    {
     "name": "stdout",
     "output_type": "stream",
     "text": [
      "INFO:tensorflow:2018-09-09 15:36:47.811794: Step 730: Cross entropy = 0.007403\n"
     ]
    },
    {
     "name": "stderr",
     "output_type": "stream",
     "text": [
      "INFO:tensorflow:2018-09-09 15:36:47.811794: Step 730: Cross entropy = 0.007403\n"
     ]
    },
    {
     "name": "stdout",
     "output_type": "stream",
     "text": [
      "INFO:tensorflow:2018-09-09 15:36:47.837376: Step 730: Validation accuracy = 100.0% (N=100)\n"
     ]
    },
    {
     "name": "stderr",
     "output_type": "stream",
     "text": [
      "INFO:tensorflow:2018-09-09 15:36:47.837376: Step 730: Validation accuracy = 100.0% (N=100)\n"
     ]
    },
    {
     "name": "stdout",
     "output_type": "stream",
     "text": [
      "INFO:tensorflow:2018-09-09 15:36:47.908551: Step 740: Train accuracy = 100.0%\n"
     ]
    },
    {
     "name": "stderr",
     "output_type": "stream",
     "text": [
      "INFO:tensorflow:2018-09-09 15:36:47.908551: Step 740: Train accuracy = 100.0%\n"
     ]
    },
    {
     "name": "stdout",
     "output_type": "stream",
     "text": [
      "INFO:tensorflow:2018-09-09 15:36:47.909309: Step 740: Cross entropy = 0.005709\n"
     ]
    },
    {
     "name": "stderr",
     "output_type": "stream",
     "text": [
      "INFO:tensorflow:2018-09-09 15:36:47.909309: Step 740: Cross entropy = 0.005709\n"
     ]
    },
    {
     "name": "stdout",
     "output_type": "stream",
     "text": [
      "INFO:tensorflow:2018-09-09 15:36:47.945289: Step 740: Validation accuracy = 100.0% (N=100)\n"
     ]
    },
    {
     "name": "stderr",
     "output_type": "stream",
     "text": [
      "INFO:tensorflow:2018-09-09 15:36:47.945289: Step 740: Validation accuracy = 100.0% (N=100)\n"
     ]
    },
    {
     "name": "stdout",
     "output_type": "stream",
     "text": [
      "INFO:tensorflow:2018-09-09 15:36:48.024314: Step 750: Train accuracy = 100.0%\n"
     ]
    },
    {
     "name": "stderr",
     "output_type": "stream",
     "text": [
      "INFO:tensorflow:2018-09-09 15:36:48.024314: Step 750: Train accuracy = 100.0%\n"
     ]
    },
    {
     "name": "stdout",
     "output_type": "stream",
     "text": [
      "INFO:tensorflow:2018-09-09 15:36:48.025957: Step 750: Cross entropy = 0.006640\n"
     ]
    },
    {
     "name": "stderr",
     "output_type": "stream",
     "text": [
      "INFO:tensorflow:2018-09-09 15:36:48.025957: Step 750: Cross entropy = 0.006640\n"
     ]
    },
    {
     "name": "stdout",
     "output_type": "stream",
     "text": [
      "INFO:tensorflow:2018-09-09 15:36:48.062742: Step 750: Validation accuracy = 100.0% (N=100)\n"
     ]
    },
    {
     "name": "stderr",
     "output_type": "stream",
     "text": [
      "INFO:tensorflow:2018-09-09 15:36:48.062742: Step 750: Validation accuracy = 100.0% (N=100)\n"
     ]
    },
    {
     "name": "stdout",
     "output_type": "stream",
     "text": [
      "INFO:tensorflow:2018-09-09 15:36:48.137513: Step 760: Train accuracy = 100.0%\n"
     ]
    },
    {
     "name": "stderr",
     "output_type": "stream",
     "text": [
      "INFO:tensorflow:2018-09-09 15:36:48.137513: Step 760: Train accuracy = 100.0%\n"
     ]
    },
    {
     "name": "stdout",
     "output_type": "stream",
     "text": [
      "INFO:tensorflow:2018-09-09 15:36:48.138559: Step 760: Cross entropy = 0.007158\n"
     ]
    },
    {
     "name": "stderr",
     "output_type": "stream",
     "text": [
      "INFO:tensorflow:2018-09-09 15:36:48.138559: Step 760: Cross entropy = 0.007158\n"
     ]
    },
    {
     "name": "stdout",
     "output_type": "stream",
     "text": [
      "INFO:tensorflow:2018-09-09 15:36:48.165278: Step 760: Validation accuracy = 100.0% (N=100)\n"
     ]
    },
    {
     "name": "stderr",
     "output_type": "stream",
     "text": [
      "INFO:tensorflow:2018-09-09 15:36:48.165278: Step 760: Validation accuracy = 100.0% (N=100)\n"
     ]
    },
    {
     "name": "stdout",
     "output_type": "stream",
     "text": [
      "INFO:tensorflow:2018-09-09 15:36:48.247280: Step 770: Train accuracy = 100.0%\n"
     ]
    },
    {
     "name": "stderr",
     "output_type": "stream",
     "text": [
      "INFO:tensorflow:2018-09-09 15:36:48.247280: Step 770: Train accuracy = 100.0%\n"
     ]
    },
    {
     "name": "stdout",
     "output_type": "stream",
     "text": [
      "INFO:tensorflow:2018-09-09 15:36:48.248171: Step 770: Cross entropy = 0.002904\n"
     ]
    },
    {
     "name": "stderr",
     "output_type": "stream",
     "text": [
      "INFO:tensorflow:2018-09-09 15:36:48.248171: Step 770: Cross entropy = 0.002904\n"
     ]
    },
    {
     "name": "stdout",
     "output_type": "stream",
     "text": [
      "INFO:tensorflow:2018-09-09 15:36:48.273185: Step 770: Validation accuracy = 100.0% (N=100)\n"
     ]
    },
    {
     "name": "stderr",
     "output_type": "stream",
     "text": [
      "INFO:tensorflow:2018-09-09 15:36:48.273185: Step 770: Validation accuracy = 100.0% (N=100)\n"
     ]
    },
    {
     "name": "stdout",
     "output_type": "stream",
     "text": [
      "INFO:tensorflow:2018-09-09 15:36:48.345689: Step 780: Train accuracy = 100.0%\n"
     ]
    },
    {
     "name": "stderr",
     "output_type": "stream",
     "text": [
      "INFO:tensorflow:2018-09-09 15:36:48.345689: Step 780: Train accuracy = 100.0%\n"
     ]
    },
    {
     "name": "stdout",
     "output_type": "stream",
     "text": [
      "INFO:tensorflow:2018-09-09 15:36:48.346696: Step 780: Cross entropy = 0.004070\n"
     ]
    },
    {
     "name": "stderr",
     "output_type": "stream",
     "text": [
      "INFO:tensorflow:2018-09-09 15:36:48.346696: Step 780: Cross entropy = 0.004070\n"
     ]
    },
    {
     "name": "stdout",
     "output_type": "stream",
     "text": [
      "INFO:tensorflow:2018-09-09 15:36:48.382776: Step 780: Validation accuracy = 100.0% (N=100)\n"
     ]
    },
    {
     "name": "stderr",
     "output_type": "stream",
     "text": [
      "INFO:tensorflow:2018-09-09 15:36:48.382776: Step 780: Validation accuracy = 100.0% (N=100)\n"
     ]
    },
    {
     "name": "stdout",
     "output_type": "stream",
     "text": [
      "INFO:tensorflow:2018-09-09 15:36:48.461624: Step 790: Train accuracy = 100.0%\n"
     ]
    },
    {
     "name": "stderr",
     "output_type": "stream",
     "text": [
      "INFO:tensorflow:2018-09-09 15:36:48.461624: Step 790: Train accuracy = 100.0%\n"
     ]
    },
    {
     "name": "stdout",
     "output_type": "stream",
     "text": [
      "INFO:tensorflow:2018-09-09 15:36:48.462381: Step 790: Cross entropy = 0.007008\n"
     ]
    },
    {
     "name": "stderr",
     "output_type": "stream",
     "text": [
      "INFO:tensorflow:2018-09-09 15:36:48.462381: Step 790: Cross entropy = 0.007008\n"
     ]
    },
    {
     "name": "stdout",
     "output_type": "stream",
     "text": [
      "INFO:tensorflow:2018-09-09 15:36:48.488505: Step 790: Validation accuracy = 100.0% (N=100)\n"
     ]
    },
    {
     "name": "stderr",
     "output_type": "stream",
     "text": [
      "INFO:tensorflow:2018-09-09 15:36:48.488505: Step 790: Validation accuracy = 100.0% (N=100)\n"
     ]
    },
    {
     "name": "stdout",
     "output_type": "stream",
     "text": [
      "INFO:tensorflow:2018-09-09 15:36:48.561431: Step 800: Train accuracy = 100.0%\n"
     ]
    },
    {
     "name": "stderr",
     "output_type": "stream",
     "text": [
      "INFO:tensorflow:2018-09-09 15:36:48.561431: Step 800: Train accuracy = 100.0%\n"
     ]
    },
    {
     "name": "stdout",
     "output_type": "stream",
     "text": [
      "INFO:tensorflow:2018-09-09 15:36:48.562274: Step 800: Cross entropy = 0.007483\n"
     ]
    },
    {
     "name": "stderr",
     "output_type": "stream",
     "text": [
      "INFO:tensorflow:2018-09-09 15:36:48.562274: Step 800: Cross entropy = 0.007483\n"
     ]
    },
    {
     "name": "stdout",
     "output_type": "stream",
     "text": [
      "INFO:tensorflow:2018-09-09 15:36:48.588135: Step 800: Validation accuracy = 100.0% (N=100)\n"
     ]
    },
    {
     "name": "stderr",
     "output_type": "stream",
     "text": [
      "INFO:tensorflow:2018-09-09 15:36:48.588135: Step 800: Validation accuracy = 100.0% (N=100)\n"
     ]
    },
    {
     "name": "stdout",
     "output_type": "stream",
     "text": [
      "INFO:tensorflow:2018-09-09 15:36:48.667574: Step 810: Train accuracy = 100.0%\n"
     ]
    },
    {
     "name": "stderr",
     "output_type": "stream",
     "text": [
      "INFO:tensorflow:2018-09-09 15:36:48.667574: Step 810: Train accuracy = 100.0%\n"
     ]
    },
    {
     "name": "stdout",
     "output_type": "stream",
     "text": [
      "INFO:tensorflow:2018-09-09 15:36:48.668506: Step 810: Cross entropy = 0.004245\n"
     ]
    },
    {
     "name": "stderr",
     "output_type": "stream",
     "text": [
      "INFO:tensorflow:2018-09-09 15:36:48.668506: Step 810: Cross entropy = 0.004245\n"
     ]
    },
    {
     "name": "stdout",
     "output_type": "stream",
     "text": [
      "INFO:tensorflow:2018-09-09 15:36:48.693794: Step 810: Validation accuracy = 100.0% (N=100)\n"
     ]
    },
    {
     "name": "stderr",
     "output_type": "stream",
     "text": [
      "INFO:tensorflow:2018-09-09 15:36:48.693794: Step 810: Validation accuracy = 100.0% (N=100)\n"
     ]
    },
    {
     "name": "stdout",
     "output_type": "stream",
     "text": [
      "INFO:tensorflow:2018-09-09 15:36:48.766634: Step 820: Train accuracy = 100.0%\n"
     ]
    },
    {
     "name": "stderr",
     "output_type": "stream",
     "text": [
      "INFO:tensorflow:2018-09-09 15:36:48.766634: Step 820: Train accuracy = 100.0%\n"
     ]
    },
    {
     "name": "stdout",
     "output_type": "stream",
     "text": [
      "INFO:tensorflow:2018-09-09 15:36:48.767384: Step 820: Cross entropy = 0.004479\n"
     ]
    },
    {
     "name": "stderr",
     "output_type": "stream",
     "text": [
      "INFO:tensorflow:2018-09-09 15:36:48.767384: Step 820: Cross entropy = 0.004479\n"
     ]
    },
    {
     "name": "stdout",
     "output_type": "stream",
     "text": [
      "INFO:tensorflow:2018-09-09 15:36:48.795724: Step 820: Validation accuracy = 100.0% (N=100)\n"
     ]
    },
    {
     "name": "stderr",
     "output_type": "stream",
     "text": [
      "INFO:tensorflow:2018-09-09 15:36:48.795724: Step 820: Validation accuracy = 100.0% (N=100)\n"
     ]
    },
    {
     "name": "stdout",
     "output_type": "stream",
     "text": [
      "INFO:tensorflow:2018-09-09 15:36:48.883787: Step 830: Train accuracy = 100.0%\n"
     ]
    },
    {
     "name": "stderr",
     "output_type": "stream",
     "text": [
      "INFO:tensorflow:2018-09-09 15:36:48.883787: Step 830: Train accuracy = 100.0%\n"
     ]
    },
    {
     "name": "stdout",
     "output_type": "stream",
     "text": [
      "INFO:tensorflow:2018-09-09 15:36:48.884826: Step 830: Cross entropy = 0.004006\n"
     ]
    },
    {
     "name": "stderr",
     "output_type": "stream",
     "text": [
      "INFO:tensorflow:2018-09-09 15:36:48.884826: Step 830: Cross entropy = 0.004006\n"
     ]
    },
    {
     "name": "stdout",
     "output_type": "stream",
     "text": [
      "INFO:tensorflow:2018-09-09 15:36:48.917747: Step 830: Validation accuracy = 100.0% (N=100)\n"
     ]
    },
    {
     "name": "stderr",
     "output_type": "stream",
     "text": [
      "INFO:tensorflow:2018-09-09 15:36:48.917747: Step 830: Validation accuracy = 100.0% (N=100)\n"
     ]
    },
    {
     "name": "stdout",
     "output_type": "stream",
     "text": [
      "INFO:tensorflow:2018-09-09 15:36:49.004671: Step 840: Train accuracy = 100.0%\n"
     ]
    },
    {
     "name": "stderr",
     "output_type": "stream",
     "text": [
      "INFO:tensorflow:2018-09-09 15:36:49.004671: Step 840: Train accuracy = 100.0%\n"
     ]
    },
    {
     "name": "stdout",
     "output_type": "stream",
     "text": [
      "INFO:tensorflow:2018-09-09 15:36:49.006154: Step 840: Cross entropy = 0.002169\n"
     ]
    },
    {
     "name": "stderr",
     "output_type": "stream",
     "text": [
      "INFO:tensorflow:2018-09-09 15:36:49.006154: Step 840: Cross entropy = 0.002169\n"
     ]
    },
    {
     "name": "stdout",
     "output_type": "stream",
     "text": [
      "INFO:tensorflow:2018-09-09 15:36:49.034142: Step 840: Validation accuracy = 100.0% (N=100)\n"
     ]
    },
    {
     "name": "stderr",
     "output_type": "stream",
     "text": [
      "INFO:tensorflow:2018-09-09 15:36:49.034142: Step 840: Validation accuracy = 100.0% (N=100)\n"
     ]
    },
    {
     "name": "stdout",
     "output_type": "stream",
     "text": [
      "INFO:tensorflow:2018-09-09 15:36:49.110550: Step 850: Train accuracy = 100.0%\n"
     ]
    },
    {
     "name": "stderr",
     "output_type": "stream",
     "text": [
      "INFO:tensorflow:2018-09-09 15:36:49.110550: Step 850: Train accuracy = 100.0%\n"
     ]
    },
    {
     "name": "stdout",
     "output_type": "stream",
     "text": [
      "INFO:tensorflow:2018-09-09 15:36:49.111621: Step 850: Cross entropy = 0.005569\n"
     ]
    },
    {
     "name": "stderr",
     "output_type": "stream",
     "text": [
      "INFO:tensorflow:2018-09-09 15:36:49.111621: Step 850: Cross entropy = 0.005569\n"
     ]
    },
    {
     "name": "stdout",
     "output_type": "stream",
     "text": [
      "INFO:tensorflow:2018-09-09 15:36:49.136883: Step 850: Validation accuracy = 100.0% (N=100)\n"
     ]
    },
    {
     "name": "stderr",
     "output_type": "stream",
     "text": [
      "INFO:tensorflow:2018-09-09 15:36:49.136883: Step 850: Validation accuracy = 100.0% (N=100)\n"
     ]
    },
    {
     "name": "stdout",
     "output_type": "stream",
     "text": [
      "INFO:tensorflow:2018-09-09 15:36:49.209937: Step 860: Train accuracy = 100.0%\n"
     ]
    },
    {
     "name": "stderr",
     "output_type": "stream",
     "text": [
      "INFO:tensorflow:2018-09-09 15:36:49.209937: Step 860: Train accuracy = 100.0%\n"
     ]
    },
    {
     "name": "stdout",
     "output_type": "stream",
     "text": [
      "INFO:tensorflow:2018-09-09 15:36:49.210808: Step 860: Cross entropy = 0.005643\n"
     ]
    },
    {
     "name": "stderr",
     "output_type": "stream",
     "text": [
      "INFO:tensorflow:2018-09-09 15:36:49.210808: Step 860: Cross entropy = 0.005643\n"
     ]
    },
    {
     "name": "stdout",
     "output_type": "stream",
     "text": [
      "INFO:tensorflow:2018-09-09 15:36:49.236289: Step 860: Validation accuracy = 100.0% (N=100)\n"
     ]
    },
    {
     "name": "stderr",
     "output_type": "stream",
     "text": [
      "INFO:tensorflow:2018-09-09 15:36:49.236289: Step 860: Validation accuracy = 100.0% (N=100)\n"
     ]
    },
    {
     "name": "stdout",
     "output_type": "stream",
     "text": [
      "INFO:tensorflow:2018-09-09 15:36:49.311401: Step 870: Train accuracy = 100.0%\n"
     ]
    },
    {
     "name": "stderr",
     "output_type": "stream",
     "text": [
      "INFO:tensorflow:2018-09-09 15:36:49.311401: Step 870: Train accuracy = 100.0%\n"
     ]
    },
    {
     "name": "stdout",
     "output_type": "stream",
     "text": [
      "INFO:tensorflow:2018-09-09 15:36:49.312428: Step 870: Cross entropy = 0.008974\n"
     ]
    },
    {
     "name": "stderr",
     "output_type": "stream",
     "text": [
      "INFO:tensorflow:2018-09-09 15:36:49.312428: Step 870: Cross entropy = 0.008974\n"
     ]
    },
    {
     "name": "stdout",
     "output_type": "stream",
     "text": [
      "INFO:tensorflow:2018-09-09 15:36:49.338609: Step 870: Validation accuracy = 100.0% (N=100)\n"
     ]
    },
    {
     "name": "stderr",
     "output_type": "stream",
     "text": [
      "INFO:tensorflow:2018-09-09 15:36:49.338609: Step 870: Validation accuracy = 100.0% (N=100)\n"
     ]
    },
    {
     "name": "stdout",
     "output_type": "stream",
     "text": [
      "INFO:tensorflow:2018-09-09 15:36:49.418447: Step 880: Train accuracy = 100.0%\n"
     ]
    },
    {
     "name": "stderr",
     "output_type": "stream",
     "text": [
      "INFO:tensorflow:2018-09-09 15:36:49.418447: Step 880: Train accuracy = 100.0%\n"
     ]
    },
    {
     "name": "stdout",
     "output_type": "stream",
     "text": [
      "INFO:tensorflow:2018-09-09 15:36:49.419786: Step 880: Cross entropy = 0.004456\n"
     ]
    },
    {
     "name": "stderr",
     "output_type": "stream",
     "text": [
      "INFO:tensorflow:2018-09-09 15:36:49.419786: Step 880: Cross entropy = 0.004456\n"
     ]
    },
    {
     "name": "stdout",
     "output_type": "stream",
     "text": [
      "INFO:tensorflow:2018-09-09 15:36:49.446207: Step 880: Validation accuracy = 100.0% (N=100)\n"
     ]
    },
    {
     "name": "stderr",
     "output_type": "stream",
     "text": [
      "INFO:tensorflow:2018-09-09 15:36:49.446207: Step 880: Validation accuracy = 100.0% (N=100)\n"
     ]
    },
    {
     "name": "stdout",
     "output_type": "stream",
     "text": [
      "INFO:tensorflow:2018-09-09 15:36:49.521057: Step 890: Train accuracy = 100.0%\n"
     ]
    },
    {
     "name": "stderr",
     "output_type": "stream",
     "text": [
      "INFO:tensorflow:2018-09-09 15:36:49.521057: Step 890: Train accuracy = 100.0%\n"
     ]
    },
    {
     "name": "stdout",
     "output_type": "stream",
     "text": [
      "INFO:tensorflow:2018-09-09 15:36:49.521920: Step 890: Cross entropy = 0.006883\n"
     ]
    },
    {
     "name": "stderr",
     "output_type": "stream",
     "text": [
      "INFO:tensorflow:2018-09-09 15:36:49.521920: Step 890: Cross entropy = 0.006883\n"
     ]
    },
    {
     "name": "stdout",
     "output_type": "stream",
     "text": [
      "INFO:tensorflow:2018-09-09 15:36:49.548889: Step 890: Validation accuracy = 100.0% (N=100)\n"
     ]
    },
    {
     "name": "stderr",
     "output_type": "stream",
     "text": [
      "INFO:tensorflow:2018-09-09 15:36:49.548889: Step 890: Validation accuracy = 100.0% (N=100)\n"
     ]
    },
    {
     "name": "stdout",
     "output_type": "stream",
     "text": [
      "INFO:tensorflow:2018-09-09 15:36:49.623513: Step 900: Train accuracy = 100.0%\n"
     ]
    },
    {
     "name": "stderr",
     "output_type": "stream",
     "text": [
      "INFO:tensorflow:2018-09-09 15:36:49.623513: Step 900: Train accuracy = 100.0%\n"
     ]
    },
    {
     "name": "stdout",
     "output_type": "stream",
     "text": [
      "INFO:tensorflow:2018-09-09 15:36:49.624312: Step 900: Cross entropy = 0.002728\n"
     ]
    },
    {
     "name": "stderr",
     "output_type": "stream",
     "text": [
      "INFO:tensorflow:2018-09-09 15:36:49.624312: Step 900: Cross entropy = 0.002728\n"
     ]
    },
    {
     "name": "stdout",
     "output_type": "stream",
     "text": [
      "INFO:tensorflow:2018-09-09 15:36:49.650027: Step 900: Validation accuracy = 100.0% (N=100)\n"
     ]
    },
    {
     "name": "stderr",
     "output_type": "stream",
     "text": [
      "INFO:tensorflow:2018-09-09 15:36:49.650027: Step 900: Validation accuracy = 100.0% (N=100)\n"
     ]
    },
    {
     "name": "stdout",
     "output_type": "stream",
     "text": [
      "INFO:tensorflow:2018-09-09 15:36:49.727552: Step 910: Train accuracy = 100.0%\n"
     ]
    },
    {
     "name": "stderr",
     "output_type": "stream",
     "text": [
      "INFO:tensorflow:2018-09-09 15:36:49.727552: Step 910: Train accuracy = 100.0%\n"
     ]
    },
    {
     "name": "stdout",
     "output_type": "stream",
     "text": [
      "INFO:tensorflow:2018-09-09 15:36:49.728377: Step 910: Cross entropy = 0.004570\n"
     ]
    },
    {
     "name": "stderr",
     "output_type": "stream",
     "text": [
      "INFO:tensorflow:2018-09-09 15:36:49.728377: Step 910: Cross entropy = 0.004570\n"
     ]
    },
    {
     "name": "stdout",
     "output_type": "stream",
     "text": [
      "INFO:tensorflow:2018-09-09 15:36:49.755576: Step 910: Validation accuracy = 100.0% (N=100)\n"
     ]
    },
    {
     "name": "stderr",
     "output_type": "stream",
     "text": [
      "INFO:tensorflow:2018-09-09 15:36:49.755576: Step 910: Validation accuracy = 100.0% (N=100)\n"
     ]
    },
    {
     "name": "stdout",
     "output_type": "stream",
     "text": [
      "INFO:tensorflow:2018-09-09 15:36:49.832304: Step 920: Train accuracy = 100.0%\n"
     ]
    },
    {
     "name": "stderr",
     "output_type": "stream",
     "text": [
      "INFO:tensorflow:2018-09-09 15:36:49.832304: Step 920: Train accuracy = 100.0%\n"
     ]
    },
    {
     "name": "stdout",
     "output_type": "stream",
     "text": [
      "INFO:tensorflow:2018-09-09 15:36:49.833126: Step 920: Cross entropy = 0.005195\n"
     ]
    },
    {
     "name": "stderr",
     "output_type": "stream",
     "text": [
      "INFO:tensorflow:2018-09-09 15:36:49.833126: Step 920: Cross entropy = 0.005195\n"
     ]
    },
    {
     "name": "stdout",
     "output_type": "stream",
     "text": [
      "INFO:tensorflow:2018-09-09 15:36:49.869670: Step 920: Validation accuracy = 100.0% (N=100)\n"
     ]
    },
    {
     "name": "stderr",
     "output_type": "stream",
     "text": [
      "INFO:tensorflow:2018-09-09 15:36:49.869670: Step 920: Validation accuracy = 100.0% (N=100)\n"
     ]
    },
    {
     "name": "stdout",
     "output_type": "stream",
     "text": [
      "INFO:tensorflow:2018-09-09 15:36:49.944536: Step 930: Train accuracy = 100.0%\n"
     ]
    },
    {
     "name": "stderr",
     "output_type": "stream",
     "text": [
      "INFO:tensorflow:2018-09-09 15:36:49.944536: Step 930: Train accuracy = 100.0%\n"
     ]
    },
    {
     "name": "stdout",
     "output_type": "stream",
     "text": [
      "INFO:tensorflow:2018-09-09 15:36:49.945643: Step 930: Cross entropy = 0.002161\n"
     ]
    },
    {
     "name": "stderr",
     "output_type": "stream",
     "text": [
      "INFO:tensorflow:2018-09-09 15:36:49.945643: Step 930: Cross entropy = 0.002161\n"
     ]
    },
    {
     "name": "stdout",
     "output_type": "stream",
     "text": [
      "INFO:tensorflow:2018-09-09 15:36:49.971765: Step 930: Validation accuracy = 100.0% (N=100)\n"
     ]
    },
    {
     "name": "stderr",
     "output_type": "stream",
     "text": [
      "INFO:tensorflow:2018-09-09 15:36:49.971765: Step 930: Validation accuracy = 100.0% (N=100)\n"
     ]
    },
    {
     "name": "stdout",
     "output_type": "stream",
     "text": [
      "INFO:tensorflow:2018-09-09 15:36:50.052004: Step 940: Train accuracy = 100.0%\n"
     ]
    },
    {
     "name": "stderr",
     "output_type": "stream",
     "text": [
      "INFO:tensorflow:2018-09-09 15:36:50.052004: Step 940: Train accuracy = 100.0%\n"
     ]
    },
    {
     "name": "stdout",
     "output_type": "stream",
     "text": [
      "INFO:tensorflow:2018-09-09 15:36:50.053184: Step 940: Cross entropy = 0.005431\n"
     ]
    },
    {
     "name": "stderr",
     "output_type": "stream",
     "text": [
      "INFO:tensorflow:2018-09-09 15:36:50.053184: Step 940: Cross entropy = 0.005431\n"
     ]
    },
    {
     "name": "stdout",
     "output_type": "stream",
     "text": [
      "INFO:tensorflow:2018-09-09 15:36:50.080030: Step 940: Validation accuracy = 100.0% (N=100)\n"
     ]
    },
    {
     "name": "stderr",
     "output_type": "stream",
     "text": [
      "INFO:tensorflow:2018-09-09 15:36:50.080030: Step 940: Validation accuracy = 100.0% (N=100)\n"
     ]
    },
    {
     "name": "stdout",
     "output_type": "stream",
     "text": [
      "INFO:tensorflow:2018-09-09 15:36:50.158684: Step 950: Train accuracy = 100.0%\n"
     ]
    },
    {
     "name": "stderr",
     "output_type": "stream",
     "text": [
      "INFO:tensorflow:2018-09-09 15:36:50.158684: Step 950: Train accuracy = 100.0%\n"
     ]
    },
    {
     "name": "stdout",
     "output_type": "stream",
     "text": [
      "INFO:tensorflow:2018-09-09 15:36:50.159600: Step 950: Cross entropy = 0.006047\n"
     ]
    },
    {
     "name": "stderr",
     "output_type": "stream",
     "text": [
      "INFO:tensorflow:2018-09-09 15:36:50.159600: Step 950: Cross entropy = 0.006047\n"
     ]
    },
    {
     "name": "stdout",
     "output_type": "stream",
     "text": [
      "INFO:tensorflow:2018-09-09 15:36:50.186284: Step 950: Validation accuracy = 100.0% (N=100)\n"
     ]
    },
    {
     "name": "stderr",
     "output_type": "stream",
     "text": [
      "INFO:tensorflow:2018-09-09 15:36:50.186284: Step 950: Validation accuracy = 100.0% (N=100)\n"
     ]
    },
    {
     "name": "stdout",
     "output_type": "stream",
     "text": [
      "INFO:tensorflow:2018-09-09 15:36:50.262386: Step 960: Train accuracy = 100.0%\n"
     ]
    },
    {
     "name": "stderr",
     "output_type": "stream",
     "text": [
      "INFO:tensorflow:2018-09-09 15:36:50.262386: Step 960: Train accuracy = 100.0%\n"
     ]
    },
    {
     "name": "stdout",
     "output_type": "stream",
     "text": [
      "INFO:tensorflow:2018-09-09 15:36:50.263259: Step 960: Cross entropy = 0.004208\n"
     ]
    },
    {
     "name": "stderr",
     "output_type": "stream",
     "text": [
      "INFO:tensorflow:2018-09-09 15:36:50.263259: Step 960: Cross entropy = 0.004208\n"
     ]
    },
    {
     "name": "stdout",
     "output_type": "stream",
     "text": [
      "INFO:tensorflow:2018-09-09 15:36:50.288986: Step 960: Validation accuracy = 100.0% (N=100)\n"
     ]
    },
    {
     "name": "stderr",
     "output_type": "stream",
     "text": [
      "INFO:tensorflow:2018-09-09 15:36:50.288986: Step 960: Validation accuracy = 100.0% (N=100)\n"
     ]
    },
    {
     "name": "stdout",
     "output_type": "stream",
     "text": [
      "INFO:tensorflow:2018-09-09 15:36:50.398236: Step 970: Train accuracy = 100.0%\n"
     ]
    },
    {
     "name": "stderr",
     "output_type": "stream",
     "text": [
      "INFO:tensorflow:2018-09-09 15:36:50.398236: Step 970: Train accuracy = 100.0%\n"
     ]
    },
    {
     "name": "stdout",
     "output_type": "stream",
     "text": [
      "INFO:tensorflow:2018-09-09 15:36:50.399241: Step 970: Cross entropy = 0.007338\n"
     ]
    },
    {
     "name": "stderr",
     "output_type": "stream",
     "text": [
      "INFO:tensorflow:2018-09-09 15:36:50.399241: Step 970: Cross entropy = 0.007338\n"
     ]
    },
    {
     "name": "stdout",
     "output_type": "stream",
     "text": [
      "INFO:tensorflow:2018-09-09 15:36:50.430743: Step 970: Validation accuracy = 100.0% (N=100)\n"
     ]
    },
    {
     "name": "stderr",
     "output_type": "stream",
     "text": [
      "INFO:tensorflow:2018-09-09 15:36:50.430743: Step 970: Validation accuracy = 100.0% (N=100)\n"
     ]
    },
    {
     "name": "stdout",
     "output_type": "stream",
     "text": [
      "INFO:tensorflow:2018-09-09 15:36:50.513694: Step 980: Train accuracy = 100.0%\n"
     ]
    },
    {
     "name": "stderr",
     "output_type": "stream",
     "text": [
      "INFO:tensorflow:2018-09-09 15:36:50.513694: Step 980: Train accuracy = 100.0%\n"
     ]
    },
    {
     "name": "stdout",
     "output_type": "stream",
     "text": [
      "INFO:tensorflow:2018-09-09 15:36:50.514495: Step 980: Cross entropy = 0.005670\n"
     ]
    },
    {
     "name": "stderr",
     "output_type": "stream",
     "text": [
      "INFO:tensorflow:2018-09-09 15:36:50.514495: Step 980: Cross entropy = 0.005670\n"
     ]
    },
    {
     "name": "stdout",
     "output_type": "stream",
     "text": [
      "INFO:tensorflow:2018-09-09 15:36:50.554744: Step 980: Validation accuracy = 100.0% (N=100)\n"
     ]
    },
    {
     "name": "stderr",
     "output_type": "stream",
     "text": [
      "INFO:tensorflow:2018-09-09 15:36:50.554744: Step 980: Validation accuracy = 100.0% (N=100)\n"
     ]
    },
    {
     "name": "stdout",
     "output_type": "stream",
     "text": [
      "INFO:tensorflow:2018-09-09 15:36:50.634484: Step 990: Train accuracy = 100.0%\n"
     ]
    },
    {
     "name": "stderr",
     "output_type": "stream",
     "text": [
      "INFO:tensorflow:2018-09-09 15:36:50.634484: Step 990: Train accuracy = 100.0%\n"
     ]
    },
    {
     "name": "stdout",
     "output_type": "stream",
     "text": [
      "INFO:tensorflow:2018-09-09 15:36:50.635344: Step 990: Cross entropy = 0.004583\n"
     ]
    },
    {
     "name": "stderr",
     "output_type": "stream",
     "text": [
      "INFO:tensorflow:2018-09-09 15:36:50.635344: Step 990: Cross entropy = 0.004583\n"
     ]
    },
    {
     "name": "stdout",
     "output_type": "stream",
     "text": [
      "INFO:tensorflow:2018-09-09 15:36:50.661441: Step 990: Validation accuracy = 100.0% (N=100)\n"
     ]
    },
    {
     "name": "stderr",
     "output_type": "stream",
     "text": [
      "INFO:tensorflow:2018-09-09 15:36:50.661441: Step 990: Validation accuracy = 100.0% (N=100)\n"
     ]
    },
    {
     "name": "stdout",
     "output_type": "stream",
     "text": [
      "INFO:tensorflow:2018-09-09 15:36:50.732026: Step 999: Train accuracy = 100.0%\n"
     ]
    },
    {
     "name": "stderr",
     "output_type": "stream",
     "text": [
      "INFO:tensorflow:2018-09-09 15:36:50.732026: Step 999: Train accuracy = 100.0%\n"
     ]
    },
    {
     "name": "stdout",
     "output_type": "stream",
     "text": [
      "INFO:tensorflow:2018-09-09 15:36:50.733081: Step 999: Cross entropy = 0.005200\n"
     ]
    },
    {
     "name": "stderr",
     "output_type": "stream",
     "text": [
      "INFO:tensorflow:2018-09-09 15:36:50.733081: Step 999: Cross entropy = 0.005200\n"
     ]
    },
    {
     "name": "stdout",
     "output_type": "stream",
     "text": [
      "INFO:tensorflow:2018-09-09 15:36:50.759305: Step 999: Validation accuracy = 100.0% (N=100)\n"
     ]
    },
    {
     "name": "stderr",
     "output_type": "stream",
     "text": [
      "INFO:tensorflow:2018-09-09 15:36:50.759305: Step 999: Validation accuracy = 100.0% (N=100)\n"
     ]
    },
    {
     "name": "stdout",
     "output_type": "stream",
     "text": [
      "INFO:tensorflow:Initialize variable module/MobilenetV1/Conv2d_0/BatchNorm/beta:0 from checkpoint b'/tmp/tfhub_modules/14d65617a151aa220a82c2a2c5ad68d504abbccf/variables/variables' with MobilenetV1/Conv2d_0/BatchNorm/beta\n"
     ]
    },
    {
     "name": "stderr",
     "output_type": "stream",
     "text": [
      "INFO:tensorflow:Initialize variable module/MobilenetV1/Conv2d_0/BatchNorm/beta:0 from checkpoint b'/tmp/tfhub_modules/14d65617a151aa220a82c2a2c5ad68d504abbccf/variables/variables' with MobilenetV1/Conv2d_0/BatchNorm/beta\n"
     ]
    },
    {
     "name": "stdout",
     "output_type": "stream",
     "text": [
      "INFO:tensorflow:Initialize variable module/MobilenetV1/Conv2d_0/BatchNorm/gamma:0 from checkpoint b'/tmp/tfhub_modules/14d65617a151aa220a82c2a2c5ad68d504abbccf/variables/variables' with MobilenetV1/Conv2d_0/BatchNorm/gamma\n"
     ]
    },
    {
     "name": "stderr",
     "output_type": "stream",
     "text": [
      "INFO:tensorflow:Initialize variable module/MobilenetV1/Conv2d_0/BatchNorm/gamma:0 from checkpoint b'/tmp/tfhub_modules/14d65617a151aa220a82c2a2c5ad68d504abbccf/variables/variables' with MobilenetV1/Conv2d_0/BatchNorm/gamma\n"
     ]
    },
    {
     "name": "stdout",
     "output_type": "stream",
     "text": [
      "INFO:tensorflow:Initialize variable module/MobilenetV1/Conv2d_0/BatchNorm/moving_mean:0 from checkpoint b'/tmp/tfhub_modules/14d65617a151aa220a82c2a2c5ad68d504abbccf/variables/variables' with MobilenetV1/Conv2d_0/BatchNorm/moving_mean\n"
     ]
    },
    {
     "name": "stderr",
     "output_type": "stream",
     "text": [
      "INFO:tensorflow:Initialize variable module/MobilenetV1/Conv2d_0/BatchNorm/moving_mean:0 from checkpoint b'/tmp/tfhub_modules/14d65617a151aa220a82c2a2c5ad68d504abbccf/variables/variables' with MobilenetV1/Conv2d_0/BatchNorm/moving_mean\n"
     ]
    },
    {
     "name": "stdout",
     "output_type": "stream",
     "text": [
      "INFO:tensorflow:Initialize variable module/MobilenetV1/Conv2d_0/BatchNorm/moving_variance:0 from checkpoint b'/tmp/tfhub_modules/14d65617a151aa220a82c2a2c5ad68d504abbccf/variables/variables' with MobilenetV1/Conv2d_0/BatchNorm/moving_variance\n"
     ]
    },
    {
     "name": "stderr",
     "output_type": "stream",
     "text": [
      "INFO:tensorflow:Initialize variable module/MobilenetV1/Conv2d_0/BatchNorm/moving_variance:0 from checkpoint b'/tmp/tfhub_modules/14d65617a151aa220a82c2a2c5ad68d504abbccf/variables/variables' with MobilenetV1/Conv2d_0/BatchNorm/moving_variance\n"
     ]
    },
    {
     "name": "stdout",
     "output_type": "stream",
     "text": [
      "INFO:tensorflow:Initialize variable module/MobilenetV1/Conv2d_0/weights:0 from checkpoint b'/tmp/tfhub_modules/14d65617a151aa220a82c2a2c5ad68d504abbccf/variables/variables' with MobilenetV1/Conv2d_0/weights\n"
     ]
    },
    {
     "name": "stderr",
     "output_type": "stream",
     "text": [
      "INFO:tensorflow:Initialize variable module/MobilenetV1/Conv2d_0/weights:0 from checkpoint b'/tmp/tfhub_modules/14d65617a151aa220a82c2a2c5ad68d504abbccf/variables/variables' with MobilenetV1/Conv2d_0/weights\n"
     ]
    },
    {
     "name": "stdout",
     "output_type": "stream",
     "text": [
      "INFO:tensorflow:Initialize variable module/MobilenetV1/Conv2d_10_depthwise/BatchNorm/beta:0 from checkpoint b'/tmp/tfhub_modules/14d65617a151aa220a82c2a2c5ad68d504abbccf/variables/variables' with MobilenetV1/Conv2d_10_depthwise/BatchNorm/beta\n"
     ]
    },
    {
     "name": "stderr",
     "output_type": "stream",
     "text": [
      "INFO:tensorflow:Initialize variable module/MobilenetV1/Conv2d_10_depthwise/BatchNorm/beta:0 from checkpoint b'/tmp/tfhub_modules/14d65617a151aa220a82c2a2c5ad68d504abbccf/variables/variables' with MobilenetV1/Conv2d_10_depthwise/BatchNorm/beta\n"
     ]
    },
    {
     "name": "stdout",
     "output_type": "stream",
     "text": [
      "INFO:tensorflow:Initialize variable module/MobilenetV1/Conv2d_10_depthwise/BatchNorm/gamma:0 from checkpoint b'/tmp/tfhub_modules/14d65617a151aa220a82c2a2c5ad68d504abbccf/variables/variables' with MobilenetV1/Conv2d_10_depthwise/BatchNorm/gamma\n"
     ]
    },
    {
     "name": "stderr",
     "output_type": "stream",
     "text": [
      "INFO:tensorflow:Initialize variable module/MobilenetV1/Conv2d_10_depthwise/BatchNorm/gamma:0 from checkpoint b'/tmp/tfhub_modules/14d65617a151aa220a82c2a2c5ad68d504abbccf/variables/variables' with MobilenetV1/Conv2d_10_depthwise/BatchNorm/gamma\n"
     ]
    },
    {
     "name": "stdout",
     "output_type": "stream",
     "text": [
      "INFO:tensorflow:Initialize variable module/MobilenetV1/Conv2d_10_depthwise/BatchNorm/moving_mean:0 from checkpoint b'/tmp/tfhub_modules/14d65617a151aa220a82c2a2c5ad68d504abbccf/variables/variables' with MobilenetV1/Conv2d_10_depthwise/BatchNorm/moving_mean\n"
     ]
    },
    {
     "name": "stderr",
     "output_type": "stream",
     "text": [
      "INFO:tensorflow:Initialize variable module/MobilenetV1/Conv2d_10_depthwise/BatchNorm/moving_mean:0 from checkpoint b'/tmp/tfhub_modules/14d65617a151aa220a82c2a2c5ad68d504abbccf/variables/variables' with MobilenetV1/Conv2d_10_depthwise/BatchNorm/moving_mean\n"
     ]
    },
    {
     "name": "stdout",
     "output_type": "stream",
     "text": [
      "INFO:tensorflow:Initialize variable module/MobilenetV1/Conv2d_10_depthwise/BatchNorm/moving_variance:0 from checkpoint b'/tmp/tfhub_modules/14d65617a151aa220a82c2a2c5ad68d504abbccf/variables/variables' with MobilenetV1/Conv2d_10_depthwise/BatchNorm/moving_variance\n"
     ]
    },
    {
     "name": "stderr",
     "output_type": "stream",
     "text": [
      "INFO:tensorflow:Initialize variable module/MobilenetV1/Conv2d_10_depthwise/BatchNorm/moving_variance:0 from checkpoint b'/tmp/tfhub_modules/14d65617a151aa220a82c2a2c5ad68d504abbccf/variables/variables' with MobilenetV1/Conv2d_10_depthwise/BatchNorm/moving_variance\n"
     ]
    },
    {
     "name": "stdout",
     "output_type": "stream",
     "text": [
      "INFO:tensorflow:Initialize variable module/MobilenetV1/Conv2d_10_depthwise/depthwise_weights:0 from checkpoint b'/tmp/tfhub_modules/14d65617a151aa220a82c2a2c5ad68d504abbccf/variables/variables' with MobilenetV1/Conv2d_10_depthwise/depthwise_weights\n"
     ]
    },
    {
     "name": "stderr",
     "output_type": "stream",
     "text": [
      "INFO:tensorflow:Initialize variable module/MobilenetV1/Conv2d_10_depthwise/depthwise_weights:0 from checkpoint b'/tmp/tfhub_modules/14d65617a151aa220a82c2a2c5ad68d504abbccf/variables/variables' with MobilenetV1/Conv2d_10_depthwise/depthwise_weights\n"
     ]
    },
    {
     "name": "stdout",
     "output_type": "stream",
     "text": [
      "INFO:tensorflow:Initialize variable module/MobilenetV1/Conv2d_10_pointwise/BatchNorm/beta:0 from checkpoint b'/tmp/tfhub_modules/14d65617a151aa220a82c2a2c5ad68d504abbccf/variables/variables' with MobilenetV1/Conv2d_10_pointwise/BatchNorm/beta\n"
     ]
    },
    {
     "name": "stderr",
     "output_type": "stream",
     "text": [
      "INFO:tensorflow:Initialize variable module/MobilenetV1/Conv2d_10_pointwise/BatchNorm/beta:0 from checkpoint b'/tmp/tfhub_modules/14d65617a151aa220a82c2a2c5ad68d504abbccf/variables/variables' with MobilenetV1/Conv2d_10_pointwise/BatchNorm/beta\n"
     ]
    },
    {
     "name": "stdout",
     "output_type": "stream",
     "text": [
      "INFO:tensorflow:Initialize variable module/MobilenetV1/Conv2d_10_pointwise/BatchNorm/gamma:0 from checkpoint b'/tmp/tfhub_modules/14d65617a151aa220a82c2a2c5ad68d504abbccf/variables/variables' with MobilenetV1/Conv2d_10_pointwise/BatchNorm/gamma\n"
     ]
    },
    {
     "name": "stderr",
     "output_type": "stream",
     "text": [
      "INFO:tensorflow:Initialize variable module/MobilenetV1/Conv2d_10_pointwise/BatchNorm/gamma:0 from checkpoint b'/tmp/tfhub_modules/14d65617a151aa220a82c2a2c5ad68d504abbccf/variables/variables' with MobilenetV1/Conv2d_10_pointwise/BatchNorm/gamma\n"
     ]
    },
    {
     "name": "stdout",
     "output_type": "stream",
     "text": [
      "INFO:tensorflow:Initialize variable module/MobilenetV1/Conv2d_10_pointwise/BatchNorm/moving_mean:0 from checkpoint b'/tmp/tfhub_modules/14d65617a151aa220a82c2a2c5ad68d504abbccf/variables/variables' with MobilenetV1/Conv2d_10_pointwise/BatchNorm/moving_mean\n"
     ]
    },
    {
     "name": "stderr",
     "output_type": "stream",
     "text": [
      "INFO:tensorflow:Initialize variable module/MobilenetV1/Conv2d_10_pointwise/BatchNorm/moving_mean:0 from checkpoint b'/tmp/tfhub_modules/14d65617a151aa220a82c2a2c5ad68d504abbccf/variables/variables' with MobilenetV1/Conv2d_10_pointwise/BatchNorm/moving_mean\n"
     ]
    },
    {
     "name": "stdout",
     "output_type": "stream",
     "text": [
      "INFO:tensorflow:Initialize variable module/MobilenetV1/Conv2d_10_pointwise/BatchNorm/moving_variance:0 from checkpoint b'/tmp/tfhub_modules/14d65617a151aa220a82c2a2c5ad68d504abbccf/variables/variables' with MobilenetV1/Conv2d_10_pointwise/BatchNorm/moving_variance\n"
     ]
    },
    {
     "name": "stderr",
     "output_type": "stream",
     "text": [
      "INFO:tensorflow:Initialize variable module/MobilenetV1/Conv2d_10_pointwise/BatchNorm/moving_variance:0 from checkpoint b'/tmp/tfhub_modules/14d65617a151aa220a82c2a2c5ad68d504abbccf/variables/variables' with MobilenetV1/Conv2d_10_pointwise/BatchNorm/moving_variance\n"
     ]
    },
    {
     "name": "stdout",
     "output_type": "stream",
     "text": [
      "INFO:tensorflow:Initialize variable module/MobilenetV1/Conv2d_10_pointwise/weights:0 from checkpoint b'/tmp/tfhub_modules/14d65617a151aa220a82c2a2c5ad68d504abbccf/variables/variables' with MobilenetV1/Conv2d_10_pointwise/weights\n"
     ]
    },
    {
     "name": "stderr",
     "output_type": "stream",
     "text": [
      "INFO:tensorflow:Initialize variable module/MobilenetV1/Conv2d_10_pointwise/weights:0 from checkpoint b'/tmp/tfhub_modules/14d65617a151aa220a82c2a2c5ad68d504abbccf/variables/variables' with MobilenetV1/Conv2d_10_pointwise/weights\n"
     ]
    },
    {
     "name": "stdout",
     "output_type": "stream",
     "text": [
      "INFO:tensorflow:Initialize variable module/MobilenetV1/Conv2d_11_depthwise/BatchNorm/beta:0 from checkpoint b'/tmp/tfhub_modules/14d65617a151aa220a82c2a2c5ad68d504abbccf/variables/variables' with MobilenetV1/Conv2d_11_depthwise/BatchNorm/beta\n"
     ]
    },
    {
     "name": "stderr",
     "output_type": "stream",
     "text": [
      "INFO:tensorflow:Initialize variable module/MobilenetV1/Conv2d_11_depthwise/BatchNorm/beta:0 from checkpoint b'/tmp/tfhub_modules/14d65617a151aa220a82c2a2c5ad68d504abbccf/variables/variables' with MobilenetV1/Conv2d_11_depthwise/BatchNorm/beta\n"
     ]
    },
    {
     "name": "stdout",
     "output_type": "stream",
     "text": [
      "INFO:tensorflow:Initialize variable module/MobilenetV1/Conv2d_11_depthwise/BatchNorm/gamma:0 from checkpoint b'/tmp/tfhub_modules/14d65617a151aa220a82c2a2c5ad68d504abbccf/variables/variables' with MobilenetV1/Conv2d_11_depthwise/BatchNorm/gamma\n"
     ]
    },
    {
     "name": "stderr",
     "output_type": "stream",
     "text": [
      "INFO:tensorflow:Initialize variable module/MobilenetV1/Conv2d_11_depthwise/BatchNorm/gamma:0 from checkpoint b'/tmp/tfhub_modules/14d65617a151aa220a82c2a2c5ad68d504abbccf/variables/variables' with MobilenetV1/Conv2d_11_depthwise/BatchNorm/gamma\n"
     ]
    },
    {
     "name": "stdout",
     "output_type": "stream",
     "text": [
      "INFO:tensorflow:Initialize variable module/MobilenetV1/Conv2d_11_depthwise/BatchNorm/moving_mean:0 from checkpoint b'/tmp/tfhub_modules/14d65617a151aa220a82c2a2c5ad68d504abbccf/variables/variables' with MobilenetV1/Conv2d_11_depthwise/BatchNorm/moving_mean\n"
     ]
    },
    {
     "name": "stderr",
     "output_type": "stream",
     "text": [
      "INFO:tensorflow:Initialize variable module/MobilenetV1/Conv2d_11_depthwise/BatchNorm/moving_mean:0 from checkpoint b'/tmp/tfhub_modules/14d65617a151aa220a82c2a2c5ad68d504abbccf/variables/variables' with MobilenetV1/Conv2d_11_depthwise/BatchNorm/moving_mean\n"
     ]
    },
    {
     "name": "stdout",
     "output_type": "stream",
     "text": [
      "INFO:tensorflow:Initialize variable module/MobilenetV1/Conv2d_11_depthwise/BatchNorm/moving_variance:0 from checkpoint b'/tmp/tfhub_modules/14d65617a151aa220a82c2a2c5ad68d504abbccf/variables/variables' with MobilenetV1/Conv2d_11_depthwise/BatchNorm/moving_variance\n"
     ]
    },
    {
     "name": "stderr",
     "output_type": "stream",
     "text": [
      "INFO:tensorflow:Initialize variable module/MobilenetV1/Conv2d_11_depthwise/BatchNorm/moving_variance:0 from checkpoint b'/tmp/tfhub_modules/14d65617a151aa220a82c2a2c5ad68d504abbccf/variables/variables' with MobilenetV1/Conv2d_11_depthwise/BatchNorm/moving_variance\n"
     ]
    },
    {
     "name": "stdout",
     "output_type": "stream",
     "text": [
      "INFO:tensorflow:Initialize variable module/MobilenetV1/Conv2d_11_depthwise/depthwise_weights:0 from checkpoint b'/tmp/tfhub_modules/14d65617a151aa220a82c2a2c5ad68d504abbccf/variables/variables' with MobilenetV1/Conv2d_11_depthwise/depthwise_weights\n"
     ]
    },
    {
     "name": "stderr",
     "output_type": "stream",
     "text": [
      "INFO:tensorflow:Initialize variable module/MobilenetV1/Conv2d_11_depthwise/depthwise_weights:0 from checkpoint b'/tmp/tfhub_modules/14d65617a151aa220a82c2a2c5ad68d504abbccf/variables/variables' with MobilenetV1/Conv2d_11_depthwise/depthwise_weights\n"
     ]
    },
    {
     "name": "stdout",
     "output_type": "stream",
     "text": [
      "INFO:tensorflow:Initialize variable module/MobilenetV1/Conv2d_11_pointwise/BatchNorm/beta:0 from checkpoint b'/tmp/tfhub_modules/14d65617a151aa220a82c2a2c5ad68d504abbccf/variables/variables' with MobilenetV1/Conv2d_11_pointwise/BatchNorm/beta\n"
     ]
    },
    {
     "name": "stderr",
     "output_type": "stream",
     "text": [
      "INFO:tensorflow:Initialize variable module/MobilenetV1/Conv2d_11_pointwise/BatchNorm/beta:0 from checkpoint b'/tmp/tfhub_modules/14d65617a151aa220a82c2a2c5ad68d504abbccf/variables/variables' with MobilenetV1/Conv2d_11_pointwise/BatchNorm/beta\n"
     ]
    },
    {
     "name": "stdout",
     "output_type": "stream",
     "text": [
      "INFO:tensorflow:Initialize variable module/MobilenetV1/Conv2d_11_pointwise/BatchNorm/gamma:0 from checkpoint b'/tmp/tfhub_modules/14d65617a151aa220a82c2a2c5ad68d504abbccf/variables/variables' with MobilenetV1/Conv2d_11_pointwise/BatchNorm/gamma\n"
     ]
    },
    {
     "name": "stderr",
     "output_type": "stream",
     "text": [
      "INFO:tensorflow:Initialize variable module/MobilenetV1/Conv2d_11_pointwise/BatchNorm/gamma:0 from checkpoint b'/tmp/tfhub_modules/14d65617a151aa220a82c2a2c5ad68d504abbccf/variables/variables' with MobilenetV1/Conv2d_11_pointwise/BatchNorm/gamma\n"
     ]
    },
    {
     "name": "stdout",
     "output_type": "stream",
     "text": [
      "INFO:tensorflow:Initialize variable module/MobilenetV1/Conv2d_11_pointwise/BatchNorm/moving_mean:0 from checkpoint b'/tmp/tfhub_modules/14d65617a151aa220a82c2a2c5ad68d504abbccf/variables/variables' with MobilenetV1/Conv2d_11_pointwise/BatchNorm/moving_mean\n"
     ]
    },
    {
     "name": "stderr",
     "output_type": "stream",
     "text": [
      "INFO:tensorflow:Initialize variable module/MobilenetV1/Conv2d_11_pointwise/BatchNorm/moving_mean:0 from checkpoint b'/tmp/tfhub_modules/14d65617a151aa220a82c2a2c5ad68d504abbccf/variables/variables' with MobilenetV1/Conv2d_11_pointwise/BatchNorm/moving_mean\n"
     ]
    },
    {
     "name": "stdout",
     "output_type": "stream",
     "text": [
      "INFO:tensorflow:Initialize variable module/MobilenetV1/Conv2d_11_pointwise/BatchNorm/moving_variance:0 from checkpoint b'/tmp/tfhub_modules/14d65617a151aa220a82c2a2c5ad68d504abbccf/variables/variables' with MobilenetV1/Conv2d_11_pointwise/BatchNorm/moving_variance\n"
     ]
    },
    {
     "name": "stderr",
     "output_type": "stream",
     "text": [
      "INFO:tensorflow:Initialize variable module/MobilenetV1/Conv2d_11_pointwise/BatchNorm/moving_variance:0 from checkpoint b'/tmp/tfhub_modules/14d65617a151aa220a82c2a2c5ad68d504abbccf/variables/variables' with MobilenetV1/Conv2d_11_pointwise/BatchNorm/moving_variance\n"
     ]
    },
    {
     "name": "stdout",
     "output_type": "stream",
     "text": [
      "INFO:tensorflow:Initialize variable module/MobilenetV1/Conv2d_11_pointwise/weights:0 from checkpoint b'/tmp/tfhub_modules/14d65617a151aa220a82c2a2c5ad68d504abbccf/variables/variables' with MobilenetV1/Conv2d_11_pointwise/weights\n"
     ]
    },
    {
     "name": "stderr",
     "output_type": "stream",
     "text": [
      "INFO:tensorflow:Initialize variable module/MobilenetV1/Conv2d_11_pointwise/weights:0 from checkpoint b'/tmp/tfhub_modules/14d65617a151aa220a82c2a2c5ad68d504abbccf/variables/variables' with MobilenetV1/Conv2d_11_pointwise/weights\n"
     ]
    },
    {
     "name": "stdout",
     "output_type": "stream",
     "text": [
      "INFO:tensorflow:Initialize variable module/MobilenetV1/Conv2d_12_depthwise/BatchNorm/beta:0 from checkpoint b'/tmp/tfhub_modules/14d65617a151aa220a82c2a2c5ad68d504abbccf/variables/variables' with MobilenetV1/Conv2d_12_depthwise/BatchNorm/beta\n"
     ]
    },
    {
     "name": "stderr",
     "output_type": "stream",
     "text": [
      "INFO:tensorflow:Initialize variable module/MobilenetV1/Conv2d_12_depthwise/BatchNorm/beta:0 from checkpoint b'/tmp/tfhub_modules/14d65617a151aa220a82c2a2c5ad68d504abbccf/variables/variables' with MobilenetV1/Conv2d_12_depthwise/BatchNorm/beta\n"
     ]
    },
    {
     "name": "stdout",
     "output_type": "stream",
     "text": [
      "INFO:tensorflow:Initialize variable module/MobilenetV1/Conv2d_12_depthwise/BatchNorm/gamma:0 from checkpoint b'/tmp/tfhub_modules/14d65617a151aa220a82c2a2c5ad68d504abbccf/variables/variables' with MobilenetV1/Conv2d_12_depthwise/BatchNorm/gamma\n"
     ]
    },
    {
     "name": "stderr",
     "output_type": "stream",
     "text": [
      "INFO:tensorflow:Initialize variable module/MobilenetV1/Conv2d_12_depthwise/BatchNorm/gamma:0 from checkpoint b'/tmp/tfhub_modules/14d65617a151aa220a82c2a2c5ad68d504abbccf/variables/variables' with MobilenetV1/Conv2d_12_depthwise/BatchNorm/gamma\n"
     ]
    },
    {
     "name": "stdout",
     "output_type": "stream",
     "text": [
      "INFO:tensorflow:Initialize variable module/MobilenetV1/Conv2d_12_depthwise/BatchNorm/moving_mean:0 from checkpoint b'/tmp/tfhub_modules/14d65617a151aa220a82c2a2c5ad68d504abbccf/variables/variables' with MobilenetV1/Conv2d_12_depthwise/BatchNorm/moving_mean\n"
     ]
    },
    {
     "name": "stderr",
     "output_type": "stream",
     "text": [
      "INFO:tensorflow:Initialize variable module/MobilenetV1/Conv2d_12_depthwise/BatchNorm/moving_mean:0 from checkpoint b'/tmp/tfhub_modules/14d65617a151aa220a82c2a2c5ad68d504abbccf/variables/variables' with MobilenetV1/Conv2d_12_depthwise/BatchNorm/moving_mean\n"
     ]
    },
    {
     "name": "stdout",
     "output_type": "stream",
     "text": [
      "INFO:tensorflow:Initialize variable module/MobilenetV1/Conv2d_12_depthwise/BatchNorm/moving_variance:0 from checkpoint b'/tmp/tfhub_modules/14d65617a151aa220a82c2a2c5ad68d504abbccf/variables/variables' with MobilenetV1/Conv2d_12_depthwise/BatchNorm/moving_variance\n"
     ]
    },
    {
     "name": "stderr",
     "output_type": "stream",
     "text": [
      "INFO:tensorflow:Initialize variable module/MobilenetV1/Conv2d_12_depthwise/BatchNorm/moving_variance:0 from checkpoint b'/tmp/tfhub_modules/14d65617a151aa220a82c2a2c5ad68d504abbccf/variables/variables' with MobilenetV1/Conv2d_12_depthwise/BatchNorm/moving_variance\n"
     ]
    },
    {
     "name": "stdout",
     "output_type": "stream",
     "text": [
      "INFO:tensorflow:Initialize variable module/MobilenetV1/Conv2d_12_depthwise/depthwise_weights:0 from checkpoint b'/tmp/tfhub_modules/14d65617a151aa220a82c2a2c5ad68d504abbccf/variables/variables' with MobilenetV1/Conv2d_12_depthwise/depthwise_weights\n"
     ]
    },
    {
     "name": "stderr",
     "output_type": "stream",
     "text": [
      "INFO:tensorflow:Initialize variable module/MobilenetV1/Conv2d_12_depthwise/depthwise_weights:0 from checkpoint b'/tmp/tfhub_modules/14d65617a151aa220a82c2a2c5ad68d504abbccf/variables/variables' with MobilenetV1/Conv2d_12_depthwise/depthwise_weights\n"
     ]
    },
    {
     "name": "stdout",
     "output_type": "stream",
     "text": [
      "INFO:tensorflow:Initialize variable module/MobilenetV1/Conv2d_12_pointwise/BatchNorm/beta:0 from checkpoint b'/tmp/tfhub_modules/14d65617a151aa220a82c2a2c5ad68d504abbccf/variables/variables' with MobilenetV1/Conv2d_12_pointwise/BatchNorm/beta\n"
     ]
    },
    {
     "name": "stderr",
     "output_type": "stream",
     "text": [
      "INFO:tensorflow:Initialize variable module/MobilenetV1/Conv2d_12_pointwise/BatchNorm/beta:0 from checkpoint b'/tmp/tfhub_modules/14d65617a151aa220a82c2a2c5ad68d504abbccf/variables/variables' with MobilenetV1/Conv2d_12_pointwise/BatchNorm/beta\n"
     ]
    },
    {
     "name": "stdout",
     "output_type": "stream",
     "text": [
      "INFO:tensorflow:Initialize variable module/MobilenetV1/Conv2d_12_pointwise/BatchNorm/gamma:0 from checkpoint b'/tmp/tfhub_modules/14d65617a151aa220a82c2a2c5ad68d504abbccf/variables/variables' with MobilenetV1/Conv2d_12_pointwise/BatchNorm/gamma\n"
     ]
    },
    {
     "name": "stderr",
     "output_type": "stream",
     "text": [
      "INFO:tensorflow:Initialize variable module/MobilenetV1/Conv2d_12_pointwise/BatchNorm/gamma:0 from checkpoint b'/tmp/tfhub_modules/14d65617a151aa220a82c2a2c5ad68d504abbccf/variables/variables' with MobilenetV1/Conv2d_12_pointwise/BatchNorm/gamma\n"
     ]
    },
    {
     "name": "stdout",
     "output_type": "stream",
     "text": [
      "INFO:tensorflow:Initialize variable module/MobilenetV1/Conv2d_12_pointwise/BatchNorm/moving_mean:0 from checkpoint b'/tmp/tfhub_modules/14d65617a151aa220a82c2a2c5ad68d504abbccf/variables/variables' with MobilenetV1/Conv2d_12_pointwise/BatchNorm/moving_mean\n"
     ]
    },
    {
     "name": "stderr",
     "output_type": "stream",
     "text": [
      "INFO:tensorflow:Initialize variable module/MobilenetV1/Conv2d_12_pointwise/BatchNorm/moving_mean:0 from checkpoint b'/tmp/tfhub_modules/14d65617a151aa220a82c2a2c5ad68d504abbccf/variables/variables' with MobilenetV1/Conv2d_12_pointwise/BatchNorm/moving_mean\n"
     ]
    },
    {
     "name": "stdout",
     "output_type": "stream",
     "text": [
      "INFO:tensorflow:Initialize variable module/MobilenetV1/Conv2d_12_pointwise/BatchNorm/moving_variance:0 from checkpoint b'/tmp/tfhub_modules/14d65617a151aa220a82c2a2c5ad68d504abbccf/variables/variables' with MobilenetV1/Conv2d_12_pointwise/BatchNorm/moving_variance\n"
     ]
    },
    {
     "name": "stderr",
     "output_type": "stream",
     "text": [
      "INFO:tensorflow:Initialize variable module/MobilenetV1/Conv2d_12_pointwise/BatchNorm/moving_variance:0 from checkpoint b'/tmp/tfhub_modules/14d65617a151aa220a82c2a2c5ad68d504abbccf/variables/variables' with MobilenetV1/Conv2d_12_pointwise/BatchNorm/moving_variance\n"
     ]
    },
    {
     "name": "stdout",
     "output_type": "stream",
     "text": [
      "INFO:tensorflow:Initialize variable module/MobilenetV1/Conv2d_12_pointwise/weights:0 from checkpoint b'/tmp/tfhub_modules/14d65617a151aa220a82c2a2c5ad68d504abbccf/variables/variables' with MobilenetV1/Conv2d_12_pointwise/weights\n"
     ]
    },
    {
     "name": "stderr",
     "output_type": "stream",
     "text": [
      "INFO:tensorflow:Initialize variable module/MobilenetV1/Conv2d_12_pointwise/weights:0 from checkpoint b'/tmp/tfhub_modules/14d65617a151aa220a82c2a2c5ad68d504abbccf/variables/variables' with MobilenetV1/Conv2d_12_pointwise/weights\n"
     ]
    },
    {
     "name": "stdout",
     "output_type": "stream",
     "text": [
      "INFO:tensorflow:Initialize variable module/MobilenetV1/Conv2d_13_depthwise/BatchNorm/beta:0 from checkpoint b'/tmp/tfhub_modules/14d65617a151aa220a82c2a2c5ad68d504abbccf/variables/variables' with MobilenetV1/Conv2d_13_depthwise/BatchNorm/beta\n"
     ]
    },
    {
     "name": "stderr",
     "output_type": "stream",
     "text": [
      "INFO:tensorflow:Initialize variable module/MobilenetV1/Conv2d_13_depthwise/BatchNorm/beta:0 from checkpoint b'/tmp/tfhub_modules/14d65617a151aa220a82c2a2c5ad68d504abbccf/variables/variables' with MobilenetV1/Conv2d_13_depthwise/BatchNorm/beta\n"
     ]
    },
    {
     "name": "stdout",
     "output_type": "stream",
     "text": [
      "INFO:tensorflow:Initialize variable module/MobilenetV1/Conv2d_13_depthwise/BatchNorm/gamma:0 from checkpoint b'/tmp/tfhub_modules/14d65617a151aa220a82c2a2c5ad68d504abbccf/variables/variables' with MobilenetV1/Conv2d_13_depthwise/BatchNorm/gamma\n"
     ]
    },
    {
     "name": "stderr",
     "output_type": "stream",
     "text": [
      "INFO:tensorflow:Initialize variable module/MobilenetV1/Conv2d_13_depthwise/BatchNorm/gamma:0 from checkpoint b'/tmp/tfhub_modules/14d65617a151aa220a82c2a2c5ad68d504abbccf/variables/variables' with MobilenetV1/Conv2d_13_depthwise/BatchNorm/gamma\n"
     ]
    },
    {
     "name": "stdout",
     "output_type": "stream",
     "text": [
      "INFO:tensorflow:Initialize variable module/MobilenetV1/Conv2d_13_depthwise/BatchNorm/moving_mean:0 from checkpoint b'/tmp/tfhub_modules/14d65617a151aa220a82c2a2c5ad68d504abbccf/variables/variables' with MobilenetV1/Conv2d_13_depthwise/BatchNorm/moving_mean\n"
     ]
    },
    {
     "name": "stderr",
     "output_type": "stream",
     "text": [
      "INFO:tensorflow:Initialize variable module/MobilenetV1/Conv2d_13_depthwise/BatchNorm/moving_mean:0 from checkpoint b'/tmp/tfhub_modules/14d65617a151aa220a82c2a2c5ad68d504abbccf/variables/variables' with MobilenetV1/Conv2d_13_depthwise/BatchNorm/moving_mean\n"
     ]
    },
    {
     "name": "stdout",
     "output_type": "stream",
     "text": [
      "INFO:tensorflow:Initialize variable module/MobilenetV1/Conv2d_13_depthwise/BatchNorm/moving_variance:0 from checkpoint b'/tmp/tfhub_modules/14d65617a151aa220a82c2a2c5ad68d504abbccf/variables/variables' with MobilenetV1/Conv2d_13_depthwise/BatchNorm/moving_variance\n"
     ]
    },
    {
     "name": "stderr",
     "output_type": "stream",
     "text": [
      "INFO:tensorflow:Initialize variable module/MobilenetV1/Conv2d_13_depthwise/BatchNorm/moving_variance:0 from checkpoint b'/tmp/tfhub_modules/14d65617a151aa220a82c2a2c5ad68d504abbccf/variables/variables' with MobilenetV1/Conv2d_13_depthwise/BatchNorm/moving_variance\n"
     ]
    },
    {
     "name": "stdout",
     "output_type": "stream",
     "text": [
      "INFO:tensorflow:Initialize variable module/MobilenetV1/Conv2d_13_depthwise/depthwise_weights:0 from checkpoint b'/tmp/tfhub_modules/14d65617a151aa220a82c2a2c5ad68d504abbccf/variables/variables' with MobilenetV1/Conv2d_13_depthwise/depthwise_weights\n"
     ]
    },
    {
     "name": "stderr",
     "output_type": "stream",
     "text": [
      "INFO:tensorflow:Initialize variable module/MobilenetV1/Conv2d_13_depthwise/depthwise_weights:0 from checkpoint b'/tmp/tfhub_modules/14d65617a151aa220a82c2a2c5ad68d504abbccf/variables/variables' with MobilenetV1/Conv2d_13_depthwise/depthwise_weights\n"
     ]
    },
    {
     "name": "stdout",
     "output_type": "stream",
     "text": [
      "INFO:tensorflow:Initialize variable module/MobilenetV1/Conv2d_13_pointwise/BatchNorm/beta:0 from checkpoint b'/tmp/tfhub_modules/14d65617a151aa220a82c2a2c5ad68d504abbccf/variables/variables' with MobilenetV1/Conv2d_13_pointwise/BatchNorm/beta\n"
     ]
    },
    {
     "name": "stderr",
     "output_type": "stream",
     "text": [
      "INFO:tensorflow:Initialize variable module/MobilenetV1/Conv2d_13_pointwise/BatchNorm/beta:0 from checkpoint b'/tmp/tfhub_modules/14d65617a151aa220a82c2a2c5ad68d504abbccf/variables/variables' with MobilenetV1/Conv2d_13_pointwise/BatchNorm/beta\n"
     ]
    },
    {
     "name": "stdout",
     "output_type": "stream",
     "text": [
      "INFO:tensorflow:Initialize variable module/MobilenetV1/Conv2d_13_pointwise/BatchNorm/gamma:0 from checkpoint b'/tmp/tfhub_modules/14d65617a151aa220a82c2a2c5ad68d504abbccf/variables/variables' with MobilenetV1/Conv2d_13_pointwise/BatchNorm/gamma\n"
     ]
    },
    {
     "name": "stderr",
     "output_type": "stream",
     "text": [
      "INFO:tensorflow:Initialize variable module/MobilenetV1/Conv2d_13_pointwise/BatchNorm/gamma:0 from checkpoint b'/tmp/tfhub_modules/14d65617a151aa220a82c2a2c5ad68d504abbccf/variables/variables' with MobilenetV1/Conv2d_13_pointwise/BatchNorm/gamma\n"
     ]
    },
    {
     "name": "stdout",
     "output_type": "stream",
     "text": [
      "INFO:tensorflow:Initialize variable module/MobilenetV1/Conv2d_13_pointwise/BatchNorm/moving_mean:0 from checkpoint b'/tmp/tfhub_modules/14d65617a151aa220a82c2a2c5ad68d504abbccf/variables/variables' with MobilenetV1/Conv2d_13_pointwise/BatchNorm/moving_mean\n"
     ]
    },
    {
     "name": "stderr",
     "output_type": "stream",
     "text": [
      "INFO:tensorflow:Initialize variable module/MobilenetV1/Conv2d_13_pointwise/BatchNorm/moving_mean:0 from checkpoint b'/tmp/tfhub_modules/14d65617a151aa220a82c2a2c5ad68d504abbccf/variables/variables' with MobilenetV1/Conv2d_13_pointwise/BatchNorm/moving_mean\n"
     ]
    },
    {
     "name": "stdout",
     "output_type": "stream",
     "text": [
      "INFO:tensorflow:Initialize variable module/MobilenetV1/Conv2d_13_pointwise/BatchNorm/moving_variance:0 from checkpoint b'/tmp/tfhub_modules/14d65617a151aa220a82c2a2c5ad68d504abbccf/variables/variables' with MobilenetV1/Conv2d_13_pointwise/BatchNorm/moving_variance\n"
     ]
    },
    {
     "name": "stderr",
     "output_type": "stream",
     "text": [
      "INFO:tensorflow:Initialize variable module/MobilenetV1/Conv2d_13_pointwise/BatchNorm/moving_variance:0 from checkpoint b'/tmp/tfhub_modules/14d65617a151aa220a82c2a2c5ad68d504abbccf/variables/variables' with MobilenetV1/Conv2d_13_pointwise/BatchNorm/moving_variance\n"
     ]
    },
    {
     "name": "stdout",
     "output_type": "stream",
     "text": [
      "INFO:tensorflow:Initialize variable module/MobilenetV1/Conv2d_13_pointwise/weights:0 from checkpoint b'/tmp/tfhub_modules/14d65617a151aa220a82c2a2c5ad68d504abbccf/variables/variables' with MobilenetV1/Conv2d_13_pointwise/weights\n"
     ]
    },
    {
     "name": "stderr",
     "output_type": "stream",
     "text": [
      "INFO:tensorflow:Initialize variable module/MobilenetV1/Conv2d_13_pointwise/weights:0 from checkpoint b'/tmp/tfhub_modules/14d65617a151aa220a82c2a2c5ad68d504abbccf/variables/variables' with MobilenetV1/Conv2d_13_pointwise/weights\n"
     ]
    },
    {
     "name": "stdout",
     "output_type": "stream",
     "text": [
      "INFO:tensorflow:Initialize variable module/MobilenetV1/Conv2d_1_depthwise/BatchNorm/beta:0 from checkpoint b'/tmp/tfhub_modules/14d65617a151aa220a82c2a2c5ad68d504abbccf/variables/variables' with MobilenetV1/Conv2d_1_depthwise/BatchNorm/beta\n"
     ]
    },
    {
     "name": "stderr",
     "output_type": "stream",
     "text": [
      "INFO:tensorflow:Initialize variable module/MobilenetV1/Conv2d_1_depthwise/BatchNorm/beta:0 from checkpoint b'/tmp/tfhub_modules/14d65617a151aa220a82c2a2c5ad68d504abbccf/variables/variables' with MobilenetV1/Conv2d_1_depthwise/BatchNorm/beta\n"
     ]
    },
    {
     "name": "stdout",
     "output_type": "stream",
     "text": [
      "INFO:tensorflow:Initialize variable module/MobilenetV1/Conv2d_1_depthwise/BatchNorm/gamma:0 from checkpoint b'/tmp/tfhub_modules/14d65617a151aa220a82c2a2c5ad68d504abbccf/variables/variables' with MobilenetV1/Conv2d_1_depthwise/BatchNorm/gamma\n"
     ]
    },
    {
     "name": "stderr",
     "output_type": "stream",
     "text": [
      "INFO:tensorflow:Initialize variable module/MobilenetV1/Conv2d_1_depthwise/BatchNorm/gamma:0 from checkpoint b'/tmp/tfhub_modules/14d65617a151aa220a82c2a2c5ad68d504abbccf/variables/variables' with MobilenetV1/Conv2d_1_depthwise/BatchNorm/gamma\n"
     ]
    },
    {
     "name": "stdout",
     "output_type": "stream",
     "text": [
      "INFO:tensorflow:Initialize variable module/MobilenetV1/Conv2d_1_depthwise/BatchNorm/moving_mean:0 from checkpoint b'/tmp/tfhub_modules/14d65617a151aa220a82c2a2c5ad68d504abbccf/variables/variables' with MobilenetV1/Conv2d_1_depthwise/BatchNorm/moving_mean\n"
     ]
    },
    {
     "name": "stderr",
     "output_type": "stream",
     "text": [
      "INFO:tensorflow:Initialize variable module/MobilenetV1/Conv2d_1_depthwise/BatchNorm/moving_mean:0 from checkpoint b'/tmp/tfhub_modules/14d65617a151aa220a82c2a2c5ad68d504abbccf/variables/variables' with MobilenetV1/Conv2d_1_depthwise/BatchNorm/moving_mean\n"
     ]
    },
    {
     "name": "stdout",
     "output_type": "stream",
     "text": [
      "INFO:tensorflow:Initialize variable module/MobilenetV1/Conv2d_1_depthwise/BatchNorm/moving_variance:0 from checkpoint b'/tmp/tfhub_modules/14d65617a151aa220a82c2a2c5ad68d504abbccf/variables/variables' with MobilenetV1/Conv2d_1_depthwise/BatchNorm/moving_variance\n"
     ]
    },
    {
     "name": "stderr",
     "output_type": "stream",
     "text": [
      "INFO:tensorflow:Initialize variable module/MobilenetV1/Conv2d_1_depthwise/BatchNorm/moving_variance:0 from checkpoint b'/tmp/tfhub_modules/14d65617a151aa220a82c2a2c5ad68d504abbccf/variables/variables' with MobilenetV1/Conv2d_1_depthwise/BatchNorm/moving_variance\n"
     ]
    },
    {
     "name": "stdout",
     "output_type": "stream",
     "text": [
      "INFO:tensorflow:Initialize variable module/MobilenetV1/Conv2d_1_depthwise/depthwise_weights:0 from checkpoint b'/tmp/tfhub_modules/14d65617a151aa220a82c2a2c5ad68d504abbccf/variables/variables' with MobilenetV1/Conv2d_1_depthwise/depthwise_weights\n"
     ]
    },
    {
     "name": "stderr",
     "output_type": "stream",
     "text": [
      "INFO:tensorflow:Initialize variable module/MobilenetV1/Conv2d_1_depthwise/depthwise_weights:0 from checkpoint b'/tmp/tfhub_modules/14d65617a151aa220a82c2a2c5ad68d504abbccf/variables/variables' with MobilenetV1/Conv2d_1_depthwise/depthwise_weights\n"
     ]
    },
    {
     "name": "stdout",
     "output_type": "stream",
     "text": [
      "INFO:tensorflow:Initialize variable module/MobilenetV1/Conv2d_1_pointwise/BatchNorm/beta:0 from checkpoint b'/tmp/tfhub_modules/14d65617a151aa220a82c2a2c5ad68d504abbccf/variables/variables' with MobilenetV1/Conv2d_1_pointwise/BatchNorm/beta\n"
     ]
    },
    {
     "name": "stderr",
     "output_type": "stream",
     "text": [
      "INFO:tensorflow:Initialize variable module/MobilenetV1/Conv2d_1_pointwise/BatchNorm/beta:0 from checkpoint b'/tmp/tfhub_modules/14d65617a151aa220a82c2a2c5ad68d504abbccf/variables/variables' with MobilenetV1/Conv2d_1_pointwise/BatchNorm/beta\n"
     ]
    },
    {
     "name": "stdout",
     "output_type": "stream",
     "text": [
      "INFO:tensorflow:Initialize variable module/MobilenetV1/Conv2d_1_pointwise/BatchNorm/gamma:0 from checkpoint b'/tmp/tfhub_modules/14d65617a151aa220a82c2a2c5ad68d504abbccf/variables/variables' with MobilenetV1/Conv2d_1_pointwise/BatchNorm/gamma\n"
     ]
    },
    {
     "name": "stderr",
     "output_type": "stream",
     "text": [
      "INFO:tensorflow:Initialize variable module/MobilenetV1/Conv2d_1_pointwise/BatchNorm/gamma:0 from checkpoint b'/tmp/tfhub_modules/14d65617a151aa220a82c2a2c5ad68d504abbccf/variables/variables' with MobilenetV1/Conv2d_1_pointwise/BatchNorm/gamma\n"
     ]
    },
    {
     "name": "stdout",
     "output_type": "stream",
     "text": [
      "INFO:tensorflow:Initialize variable module/MobilenetV1/Conv2d_1_pointwise/BatchNorm/moving_mean:0 from checkpoint b'/tmp/tfhub_modules/14d65617a151aa220a82c2a2c5ad68d504abbccf/variables/variables' with MobilenetV1/Conv2d_1_pointwise/BatchNorm/moving_mean\n"
     ]
    },
    {
     "name": "stderr",
     "output_type": "stream",
     "text": [
      "INFO:tensorflow:Initialize variable module/MobilenetV1/Conv2d_1_pointwise/BatchNorm/moving_mean:0 from checkpoint b'/tmp/tfhub_modules/14d65617a151aa220a82c2a2c5ad68d504abbccf/variables/variables' with MobilenetV1/Conv2d_1_pointwise/BatchNorm/moving_mean\n"
     ]
    },
    {
     "name": "stdout",
     "output_type": "stream",
     "text": [
      "INFO:tensorflow:Initialize variable module/MobilenetV1/Conv2d_1_pointwise/BatchNorm/moving_variance:0 from checkpoint b'/tmp/tfhub_modules/14d65617a151aa220a82c2a2c5ad68d504abbccf/variables/variables' with MobilenetV1/Conv2d_1_pointwise/BatchNorm/moving_variance\n"
     ]
    },
    {
     "name": "stderr",
     "output_type": "stream",
     "text": [
      "INFO:tensorflow:Initialize variable module/MobilenetV1/Conv2d_1_pointwise/BatchNorm/moving_variance:0 from checkpoint b'/tmp/tfhub_modules/14d65617a151aa220a82c2a2c5ad68d504abbccf/variables/variables' with MobilenetV1/Conv2d_1_pointwise/BatchNorm/moving_variance\n"
     ]
    },
    {
     "name": "stdout",
     "output_type": "stream",
     "text": [
      "INFO:tensorflow:Initialize variable module/MobilenetV1/Conv2d_1_pointwise/weights:0 from checkpoint b'/tmp/tfhub_modules/14d65617a151aa220a82c2a2c5ad68d504abbccf/variables/variables' with MobilenetV1/Conv2d_1_pointwise/weights\n"
     ]
    },
    {
     "name": "stderr",
     "output_type": "stream",
     "text": [
      "INFO:tensorflow:Initialize variable module/MobilenetV1/Conv2d_1_pointwise/weights:0 from checkpoint b'/tmp/tfhub_modules/14d65617a151aa220a82c2a2c5ad68d504abbccf/variables/variables' with MobilenetV1/Conv2d_1_pointwise/weights\n"
     ]
    },
    {
     "name": "stdout",
     "output_type": "stream",
     "text": [
      "INFO:tensorflow:Initialize variable module/MobilenetV1/Conv2d_2_depthwise/BatchNorm/beta:0 from checkpoint b'/tmp/tfhub_modules/14d65617a151aa220a82c2a2c5ad68d504abbccf/variables/variables' with MobilenetV1/Conv2d_2_depthwise/BatchNorm/beta\n"
     ]
    },
    {
     "name": "stderr",
     "output_type": "stream",
     "text": [
      "INFO:tensorflow:Initialize variable module/MobilenetV1/Conv2d_2_depthwise/BatchNorm/beta:0 from checkpoint b'/tmp/tfhub_modules/14d65617a151aa220a82c2a2c5ad68d504abbccf/variables/variables' with MobilenetV1/Conv2d_2_depthwise/BatchNorm/beta\n"
     ]
    },
    {
     "name": "stdout",
     "output_type": "stream",
     "text": [
      "INFO:tensorflow:Initialize variable module/MobilenetV1/Conv2d_2_depthwise/BatchNorm/gamma:0 from checkpoint b'/tmp/tfhub_modules/14d65617a151aa220a82c2a2c5ad68d504abbccf/variables/variables' with MobilenetV1/Conv2d_2_depthwise/BatchNorm/gamma\n"
     ]
    },
    {
     "name": "stderr",
     "output_type": "stream",
     "text": [
      "INFO:tensorflow:Initialize variable module/MobilenetV1/Conv2d_2_depthwise/BatchNorm/gamma:0 from checkpoint b'/tmp/tfhub_modules/14d65617a151aa220a82c2a2c5ad68d504abbccf/variables/variables' with MobilenetV1/Conv2d_2_depthwise/BatchNorm/gamma\n"
     ]
    },
    {
     "name": "stdout",
     "output_type": "stream",
     "text": [
      "INFO:tensorflow:Initialize variable module/MobilenetV1/Conv2d_2_depthwise/BatchNorm/moving_mean:0 from checkpoint b'/tmp/tfhub_modules/14d65617a151aa220a82c2a2c5ad68d504abbccf/variables/variables' with MobilenetV1/Conv2d_2_depthwise/BatchNorm/moving_mean\n"
     ]
    },
    {
     "name": "stderr",
     "output_type": "stream",
     "text": [
      "INFO:tensorflow:Initialize variable module/MobilenetV1/Conv2d_2_depthwise/BatchNorm/moving_mean:0 from checkpoint b'/tmp/tfhub_modules/14d65617a151aa220a82c2a2c5ad68d504abbccf/variables/variables' with MobilenetV1/Conv2d_2_depthwise/BatchNorm/moving_mean\n"
     ]
    },
    {
     "name": "stdout",
     "output_type": "stream",
     "text": [
      "INFO:tensorflow:Initialize variable module/MobilenetV1/Conv2d_2_depthwise/BatchNorm/moving_variance:0 from checkpoint b'/tmp/tfhub_modules/14d65617a151aa220a82c2a2c5ad68d504abbccf/variables/variables' with MobilenetV1/Conv2d_2_depthwise/BatchNorm/moving_variance\n"
     ]
    },
    {
     "name": "stderr",
     "output_type": "stream",
     "text": [
      "INFO:tensorflow:Initialize variable module/MobilenetV1/Conv2d_2_depthwise/BatchNorm/moving_variance:0 from checkpoint b'/tmp/tfhub_modules/14d65617a151aa220a82c2a2c5ad68d504abbccf/variables/variables' with MobilenetV1/Conv2d_2_depthwise/BatchNorm/moving_variance\n"
     ]
    },
    {
     "name": "stdout",
     "output_type": "stream",
     "text": [
      "INFO:tensorflow:Initialize variable module/MobilenetV1/Conv2d_2_depthwise/depthwise_weights:0 from checkpoint b'/tmp/tfhub_modules/14d65617a151aa220a82c2a2c5ad68d504abbccf/variables/variables' with MobilenetV1/Conv2d_2_depthwise/depthwise_weights\n"
     ]
    },
    {
     "name": "stderr",
     "output_type": "stream",
     "text": [
      "INFO:tensorflow:Initialize variable module/MobilenetV1/Conv2d_2_depthwise/depthwise_weights:0 from checkpoint b'/tmp/tfhub_modules/14d65617a151aa220a82c2a2c5ad68d504abbccf/variables/variables' with MobilenetV1/Conv2d_2_depthwise/depthwise_weights\n"
     ]
    },
    {
     "name": "stdout",
     "output_type": "stream",
     "text": [
      "INFO:tensorflow:Initialize variable module/MobilenetV1/Conv2d_2_pointwise/BatchNorm/beta:0 from checkpoint b'/tmp/tfhub_modules/14d65617a151aa220a82c2a2c5ad68d504abbccf/variables/variables' with MobilenetV1/Conv2d_2_pointwise/BatchNorm/beta\n"
     ]
    },
    {
     "name": "stderr",
     "output_type": "stream",
     "text": [
      "INFO:tensorflow:Initialize variable module/MobilenetV1/Conv2d_2_pointwise/BatchNorm/beta:0 from checkpoint b'/tmp/tfhub_modules/14d65617a151aa220a82c2a2c5ad68d504abbccf/variables/variables' with MobilenetV1/Conv2d_2_pointwise/BatchNorm/beta\n"
     ]
    },
    {
     "name": "stdout",
     "output_type": "stream",
     "text": [
      "INFO:tensorflow:Initialize variable module/MobilenetV1/Conv2d_2_pointwise/BatchNorm/gamma:0 from checkpoint b'/tmp/tfhub_modules/14d65617a151aa220a82c2a2c5ad68d504abbccf/variables/variables' with MobilenetV1/Conv2d_2_pointwise/BatchNorm/gamma\n"
     ]
    },
    {
     "name": "stderr",
     "output_type": "stream",
     "text": [
      "INFO:tensorflow:Initialize variable module/MobilenetV1/Conv2d_2_pointwise/BatchNorm/gamma:0 from checkpoint b'/tmp/tfhub_modules/14d65617a151aa220a82c2a2c5ad68d504abbccf/variables/variables' with MobilenetV1/Conv2d_2_pointwise/BatchNorm/gamma\n"
     ]
    },
    {
     "name": "stdout",
     "output_type": "stream",
     "text": [
      "INFO:tensorflow:Initialize variable module/MobilenetV1/Conv2d_2_pointwise/BatchNorm/moving_mean:0 from checkpoint b'/tmp/tfhub_modules/14d65617a151aa220a82c2a2c5ad68d504abbccf/variables/variables' with MobilenetV1/Conv2d_2_pointwise/BatchNorm/moving_mean\n"
     ]
    },
    {
     "name": "stderr",
     "output_type": "stream",
     "text": [
      "INFO:tensorflow:Initialize variable module/MobilenetV1/Conv2d_2_pointwise/BatchNorm/moving_mean:0 from checkpoint b'/tmp/tfhub_modules/14d65617a151aa220a82c2a2c5ad68d504abbccf/variables/variables' with MobilenetV1/Conv2d_2_pointwise/BatchNorm/moving_mean\n"
     ]
    },
    {
     "name": "stdout",
     "output_type": "stream",
     "text": [
      "INFO:tensorflow:Initialize variable module/MobilenetV1/Conv2d_2_pointwise/BatchNorm/moving_variance:0 from checkpoint b'/tmp/tfhub_modules/14d65617a151aa220a82c2a2c5ad68d504abbccf/variables/variables' with MobilenetV1/Conv2d_2_pointwise/BatchNorm/moving_variance\n"
     ]
    },
    {
     "name": "stderr",
     "output_type": "stream",
     "text": [
      "INFO:tensorflow:Initialize variable module/MobilenetV1/Conv2d_2_pointwise/BatchNorm/moving_variance:0 from checkpoint b'/tmp/tfhub_modules/14d65617a151aa220a82c2a2c5ad68d504abbccf/variables/variables' with MobilenetV1/Conv2d_2_pointwise/BatchNorm/moving_variance\n"
     ]
    },
    {
     "name": "stdout",
     "output_type": "stream",
     "text": [
      "INFO:tensorflow:Initialize variable module/MobilenetV1/Conv2d_2_pointwise/weights:0 from checkpoint b'/tmp/tfhub_modules/14d65617a151aa220a82c2a2c5ad68d504abbccf/variables/variables' with MobilenetV1/Conv2d_2_pointwise/weights\n"
     ]
    },
    {
     "name": "stderr",
     "output_type": "stream",
     "text": [
      "INFO:tensorflow:Initialize variable module/MobilenetV1/Conv2d_2_pointwise/weights:0 from checkpoint b'/tmp/tfhub_modules/14d65617a151aa220a82c2a2c5ad68d504abbccf/variables/variables' with MobilenetV1/Conv2d_2_pointwise/weights\n"
     ]
    },
    {
     "name": "stdout",
     "output_type": "stream",
     "text": [
      "INFO:tensorflow:Initialize variable module/MobilenetV1/Conv2d_3_depthwise/BatchNorm/beta:0 from checkpoint b'/tmp/tfhub_modules/14d65617a151aa220a82c2a2c5ad68d504abbccf/variables/variables' with MobilenetV1/Conv2d_3_depthwise/BatchNorm/beta\n"
     ]
    },
    {
     "name": "stderr",
     "output_type": "stream",
     "text": [
      "INFO:tensorflow:Initialize variable module/MobilenetV1/Conv2d_3_depthwise/BatchNorm/beta:0 from checkpoint b'/tmp/tfhub_modules/14d65617a151aa220a82c2a2c5ad68d504abbccf/variables/variables' with MobilenetV1/Conv2d_3_depthwise/BatchNorm/beta\n"
     ]
    },
    {
     "name": "stdout",
     "output_type": "stream",
     "text": [
      "INFO:tensorflow:Initialize variable module/MobilenetV1/Conv2d_3_depthwise/BatchNorm/gamma:0 from checkpoint b'/tmp/tfhub_modules/14d65617a151aa220a82c2a2c5ad68d504abbccf/variables/variables' with MobilenetV1/Conv2d_3_depthwise/BatchNorm/gamma\n"
     ]
    },
    {
     "name": "stderr",
     "output_type": "stream",
     "text": [
      "INFO:tensorflow:Initialize variable module/MobilenetV1/Conv2d_3_depthwise/BatchNorm/gamma:0 from checkpoint b'/tmp/tfhub_modules/14d65617a151aa220a82c2a2c5ad68d504abbccf/variables/variables' with MobilenetV1/Conv2d_3_depthwise/BatchNorm/gamma\n"
     ]
    },
    {
     "name": "stdout",
     "output_type": "stream",
     "text": [
      "INFO:tensorflow:Initialize variable module/MobilenetV1/Conv2d_3_depthwise/BatchNorm/moving_mean:0 from checkpoint b'/tmp/tfhub_modules/14d65617a151aa220a82c2a2c5ad68d504abbccf/variables/variables' with MobilenetV1/Conv2d_3_depthwise/BatchNorm/moving_mean\n"
     ]
    },
    {
     "name": "stderr",
     "output_type": "stream",
     "text": [
      "INFO:tensorflow:Initialize variable module/MobilenetV1/Conv2d_3_depthwise/BatchNorm/moving_mean:0 from checkpoint b'/tmp/tfhub_modules/14d65617a151aa220a82c2a2c5ad68d504abbccf/variables/variables' with MobilenetV1/Conv2d_3_depthwise/BatchNorm/moving_mean\n"
     ]
    },
    {
     "name": "stdout",
     "output_type": "stream",
     "text": [
      "INFO:tensorflow:Initialize variable module/MobilenetV1/Conv2d_3_depthwise/BatchNorm/moving_variance:0 from checkpoint b'/tmp/tfhub_modules/14d65617a151aa220a82c2a2c5ad68d504abbccf/variables/variables' with MobilenetV1/Conv2d_3_depthwise/BatchNorm/moving_variance\n"
     ]
    },
    {
     "name": "stderr",
     "output_type": "stream",
     "text": [
      "INFO:tensorflow:Initialize variable module/MobilenetV1/Conv2d_3_depthwise/BatchNorm/moving_variance:0 from checkpoint b'/tmp/tfhub_modules/14d65617a151aa220a82c2a2c5ad68d504abbccf/variables/variables' with MobilenetV1/Conv2d_3_depthwise/BatchNorm/moving_variance\n"
     ]
    },
    {
     "name": "stdout",
     "output_type": "stream",
     "text": [
      "INFO:tensorflow:Initialize variable module/MobilenetV1/Conv2d_3_depthwise/depthwise_weights:0 from checkpoint b'/tmp/tfhub_modules/14d65617a151aa220a82c2a2c5ad68d504abbccf/variables/variables' with MobilenetV1/Conv2d_3_depthwise/depthwise_weights\n"
     ]
    },
    {
     "name": "stderr",
     "output_type": "stream",
     "text": [
      "INFO:tensorflow:Initialize variable module/MobilenetV1/Conv2d_3_depthwise/depthwise_weights:0 from checkpoint b'/tmp/tfhub_modules/14d65617a151aa220a82c2a2c5ad68d504abbccf/variables/variables' with MobilenetV1/Conv2d_3_depthwise/depthwise_weights\n"
     ]
    },
    {
     "name": "stdout",
     "output_type": "stream",
     "text": [
      "INFO:tensorflow:Initialize variable module/MobilenetV1/Conv2d_3_pointwise/BatchNorm/beta:0 from checkpoint b'/tmp/tfhub_modules/14d65617a151aa220a82c2a2c5ad68d504abbccf/variables/variables' with MobilenetV1/Conv2d_3_pointwise/BatchNorm/beta\n"
     ]
    },
    {
     "name": "stderr",
     "output_type": "stream",
     "text": [
      "INFO:tensorflow:Initialize variable module/MobilenetV1/Conv2d_3_pointwise/BatchNorm/beta:0 from checkpoint b'/tmp/tfhub_modules/14d65617a151aa220a82c2a2c5ad68d504abbccf/variables/variables' with MobilenetV1/Conv2d_3_pointwise/BatchNorm/beta\n"
     ]
    },
    {
     "name": "stdout",
     "output_type": "stream",
     "text": [
      "INFO:tensorflow:Initialize variable module/MobilenetV1/Conv2d_3_pointwise/BatchNorm/gamma:0 from checkpoint b'/tmp/tfhub_modules/14d65617a151aa220a82c2a2c5ad68d504abbccf/variables/variables' with MobilenetV1/Conv2d_3_pointwise/BatchNorm/gamma\n"
     ]
    },
    {
     "name": "stderr",
     "output_type": "stream",
     "text": [
      "INFO:tensorflow:Initialize variable module/MobilenetV1/Conv2d_3_pointwise/BatchNorm/gamma:0 from checkpoint b'/tmp/tfhub_modules/14d65617a151aa220a82c2a2c5ad68d504abbccf/variables/variables' with MobilenetV1/Conv2d_3_pointwise/BatchNorm/gamma\n"
     ]
    },
    {
     "name": "stdout",
     "output_type": "stream",
     "text": [
      "INFO:tensorflow:Initialize variable module/MobilenetV1/Conv2d_3_pointwise/BatchNorm/moving_mean:0 from checkpoint b'/tmp/tfhub_modules/14d65617a151aa220a82c2a2c5ad68d504abbccf/variables/variables' with MobilenetV1/Conv2d_3_pointwise/BatchNorm/moving_mean\n"
     ]
    },
    {
     "name": "stderr",
     "output_type": "stream",
     "text": [
      "INFO:tensorflow:Initialize variable module/MobilenetV1/Conv2d_3_pointwise/BatchNorm/moving_mean:0 from checkpoint b'/tmp/tfhub_modules/14d65617a151aa220a82c2a2c5ad68d504abbccf/variables/variables' with MobilenetV1/Conv2d_3_pointwise/BatchNorm/moving_mean\n"
     ]
    },
    {
     "name": "stdout",
     "output_type": "stream",
     "text": [
      "INFO:tensorflow:Initialize variable module/MobilenetV1/Conv2d_3_pointwise/BatchNorm/moving_variance:0 from checkpoint b'/tmp/tfhub_modules/14d65617a151aa220a82c2a2c5ad68d504abbccf/variables/variables' with MobilenetV1/Conv2d_3_pointwise/BatchNorm/moving_variance\n"
     ]
    },
    {
     "name": "stderr",
     "output_type": "stream",
     "text": [
      "INFO:tensorflow:Initialize variable module/MobilenetV1/Conv2d_3_pointwise/BatchNorm/moving_variance:0 from checkpoint b'/tmp/tfhub_modules/14d65617a151aa220a82c2a2c5ad68d504abbccf/variables/variables' with MobilenetV1/Conv2d_3_pointwise/BatchNorm/moving_variance\n"
     ]
    },
    {
     "name": "stdout",
     "output_type": "stream",
     "text": [
      "INFO:tensorflow:Initialize variable module/MobilenetV1/Conv2d_3_pointwise/weights:0 from checkpoint b'/tmp/tfhub_modules/14d65617a151aa220a82c2a2c5ad68d504abbccf/variables/variables' with MobilenetV1/Conv2d_3_pointwise/weights\n"
     ]
    },
    {
     "name": "stderr",
     "output_type": "stream",
     "text": [
      "INFO:tensorflow:Initialize variable module/MobilenetV1/Conv2d_3_pointwise/weights:0 from checkpoint b'/tmp/tfhub_modules/14d65617a151aa220a82c2a2c5ad68d504abbccf/variables/variables' with MobilenetV1/Conv2d_3_pointwise/weights\n"
     ]
    },
    {
     "name": "stdout",
     "output_type": "stream",
     "text": [
      "INFO:tensorflow:Initialize variable module/MobilenetV1/Conv2d_4_depthwise/BatchNorm/beta:0 from checkpoint b'/tmp/tfhub_modules/14d65617a151aa220a82c2a2c5ad68d504abbccf/variables/variables' with MobilenetV1/Conv2d_4_depthwise/BatchNorm/beta\n"
     ]
    },
    {
     "name": "stderr",
     "output_type": "stream",
     "text": [
      "INFO:tensorflow:Initialize variable module/MobilenetV1/Conv2d_4_depthwise/BatchNorm/beta:0 from checkpoint b'/tmp/tfhub_modules/14d65617a151aa220a82c2a2c5ad68d504abbccf/variables/variables' with MobilenetV1/Conv2d_4_depthwise/BatchNorm/beta\n"
     ]
    },
    {
     "name": "stdout",
     "output_type": "stream",
     "text": [
      "INFO:tensorflow:Initialize variable module/MobilenetV1/Conv2d_4_depthwise/BatchNorm/gamma:0 from checkpoint b'/tmp/tfhub_modules/14d65617a151aa220a82c2a2c5ad68d504abbccf/variables/variables' with MobilenetV1/Conv2d_4_depthwise/BatchNorm/gamma\n"
     ]
    },
    {
     "name": "stderr",
     "output_type": "stream",
     "text": [
      "INFO:tensorflow:Initialize variable module/MobilenetV1/Conv2d_4_depthwise/BatchNorm/gamma:0 from checkpoint b'/tmp/tfhub_modules/14d65617a151aa220a82c2a2c5ad68d504abbccf/variables/variables' with MobilenetV1/Conv2d_4_depthwise/BatchNorm/gamma\n"
     ]
    },
    {
     "name": "stdout",
     "output_type": "stream",
     "text": [
      "INFO:tensorflow:Initialize variable module/MobilenetV1/Conv2d_4_depthwise/BatchNorm/moving_mean:0 from checkpoint b'/tmp/tfhub_modules/14d65617a151aa220a82c2a2c5ad68d504abbccf/variables/variables' with MobilenetV1/Conv2d_4_depthwise/BatchNorm/moving_mean\n"
     ]
    },
    {
     "name": "stderr",
     "output_type": "stream",
     "text": [
      "INFO:tensorflow:Initialize variable module/MobilenetV1/Conv2d_4_depthwise/BatchNorm/moving_mean:0 from checkpoint b'/tmp/tfhub_modules/14d65617a151aa220a82c2a2c5ad68d504abbccf/variables/variables' with MobilenetV1/Conv2d_4_depthwise/BatchNorm/moving_mean\n"
     ]
    },
    {
     "name": "stdout",
     "output_type": "stream",
     "text": [
      "INFO:tensorflow:Initialize variable module/MobilenetV1/Conv2d_4_depthwise/BatchNorm/moving_variance:0 from checkpoint b'/tmp/tfhub_modules/14d65617a151aa220a82c2a2c5ad68d504abbccf/variables/variables' with MobilenetV1/Conv2d_4_depthwise/BatchNorm/moving_variance\n"
     ]
    },
    {
     "name": "stderr",
     "output_type": "stream",
     "text": [
      "INFO:tensorflow:Initialize variable module/MobilenetV1/Conv2d_4_depthwise/BatchNorm/moving_variance:0 from checkpoint b'/tmp/tfhub_modules/14d65617a151aa220a82c2a2c5ad68d504abbccf/variables/variables' with MobilenetV1/Conv2d_4_depthwise/BatchNorm/moving_variance\n"
     ]
    },
    {
     "name": "stdout",
     "output_type": "stream",
     "text": [
      "INFO:tensorflow:Initialize variable module/MobilenetV1/Conv2d_4_depthwise/depthwise_weights:0 from checkpoint b'/tmp/tfhub_modules/14d65617a151aa220a82c2a2c5ad68d504abbccf/variables/variables' with MobilenetV1/Conv2d_4_depthwise/depthwise_weights\n"
     ]
    },
    {
     "name": "stderr",
     "output_type": "stream",
     "text": [
      "INFO:tensorflow:Initialize variable module/MobilenetV1/Conv2d_4_depthwise/depthwise_weights:0 from checkpoint b'/tmp/tfhub_modules/14d65617a151aa220a82c2a2c5ad68d504abbccf/variables/variables' with MobilenetV1/Conv2d_4_depthwise/depthwise_weights\n"
     ]
    },
    {
     "name": "stdout",
     "output_type": "stream",
     "text": [
      "INFO:tensorflow:Initialize variable module/MobilenetV1/Conv2d_4_pointwise/BatchNorm/beta:0 from checkpoint b'/tmp/tfhub_modules/14d65617a151aa220a82c2a2c5ad68d504abbccf/variables/variables' with MobilenetV1/Conv2d_4_pointwise/BatchNorm/beta\n"
     ]
    },
    {
     "name": "stderr",
     "output_type": "stream",
     "text": [
      "INFO:tensorflow:Initialize variable module/MobilenetV1/Conv2d_4_pointwise/BatchNorm/beta:0 from checkpoint b'/tmp/tfhub_modules/14d65617a151aa220a82c2a2c5ad68d504abbccf/variables/variables' with MobilenetV1/Conv2d_4_pointwise/BatchNorm/beta\n"
     ]
    },
    {
     "name": "stdout",
     "output_type": "stream",
     "text": [
      "INFO:tensorflow:Initialize variable module/MobilenetV1/Conv2d_4_pointwise/BatchNorm/gamma:0 from checkpoint b'/tmp/tfhub_modules/14d65617a151aa220a82c2a2c5ad68d504abbccf/variables/variables' with MobilenetV1/Conv2d_4_pointwise/BatchNorm/gamma\n"
     ]
    },
    {
     "name": "stderr",
     "output_type": "stream",
     "text": [
      "INFO:tensorflow:Initialize variable module/MobilenetV1/Conv2d_4_pointwise/BatchNorm/gamma:0 from checkpoint b'/tmp/tfhub_modules/14d65617a151aa220a82c2a2c5ad68d504abbccf/variables/variables' with MobilenetV1/Conv2d_4_pointwise/BatchNorm/gamma\n"
     ]
    },
    {
     "name": "stdout",
     "output_type": "stream",
     "text": [
      "INFO:tensorflow:Initialize variable module/MobilenetV1/Conv2d_4_pointwise/BatchNorm/moving_mean:0 from checkpoint b'/tmp/tfhub_modules/14d65617a151aa220a82c2a2c5ad68d504abbccf/variables/variables' with MobilenetV1/Conv2d_4_pointwise/BatchNorm/moving_mean\n"
     ]
    },
    {
     "name": "stderr",
     "output_type": "stream",
     "text": [
      "INFO:tensorflow:Initialize variable module/MobilenetV1/Conv2d_4_pointwise/BatchNorm/moving_mean:0 from checkpoint b'/tmp/tfhub_modules/14d65617a151aa220a82c2a2c5ad68d504abbccf/variables/variables' with MobilenetV1/Conv2d_4_pointwise/BatchNorm/moving_mean\n"
     ]
    },
    {
     "name": "stdout",
     "output_type": "stream",
     "text": [
      "INFO:tensorflow:Initialize variable module/MobilenetV1/Conv2d_4_pointwise/BatchNorm/moving_variance:0 from checkpoint b'/tmp/tfhub_modules/14d65617a151aa220a82c2a2c5ad68d504abbccf/variables/variables' with MobilenetV1/Conv2d_4_pointwise/BatchNorm/moving_variance\n"
     ]
    },
    {
     "name": "stderr",
     "output_type": "stream",
     "text": [
      "INFO:tensorflow:Initialize variable module/MobilenetV1/Conv2d_4_pointwise/BatchNorm/moving_variance:0 from checkpoint b'/tmp/tfhub_modules/14d65617a151aa220a82c2a2c5ad68d504abbccf/variables/variables' with MobilenetV1/Conv2d_4_pointwise/BatchNorm/moving_variance\n"
     ]
    },
    {
     "name": "stdout",
     "output_type": "stream",
     "text": [
      "INFO:tensorflow:Initialize variable module/MobilenetV1/Conv2d_4_pointwise/weights:0 from checkpoint b'/tmp/tfhub_modules/14d65617a151aa220a82c2a2c5ad68d504abbccf/variables/variables' with MobilenetV1/Conv2d_4_pointwise/weights\n"
     ]
    },
    {
     "name": "stderr",
     "output_type": "stream",
     "text": [
      "INFO:tensorflow:Initialize variable module/MobilenetV1/Conv2d_4_pointwise/weights:0 from checkpoint b'/tmp/tfhub_modules/14d65617a151aa220a82c2a2c5ad68d504abbccf/variables/variables' with MobilenetV1/Conv2d_4_pointwise/weights\n"
     ]
    },
    {
     "name": "stdout",
     "output_type": "stream",
     "text": [
      "INFO:tensorflow:Initialize variable module/MobilenetV1/Conv2d_5_depthwise/BatchNorm/beta:0 from checkpoint b'/tmp/tfhub_modules/14d65617a151aa220a82c2a2c5ad68d504abbccf/variables/variables' with MobilenetV1/Conv2d_5_depthwise/BatchNorm/beta\n"
     ]
    },
    {
     "name": "stderr",
     "output_type": "stream",
     "text": [
      "INFO:tensorflow:Initialize variable module/MobilenetV1/Conv2d_5_depthwise/BatchNorm/beta:0 from checkpoint b'/tmp/tfhub_modules/14d65617a151aa220a82c2a2c5ad68d504abbccf/variables/variables' with MobilenetV1/Conv2d_5_depthwise/BatchNorm/beta\n"
     ]
    },
    {
     "name": "stdout",
     "output_type": "stream",
     "text": [
      "INFO:tensorflow:Initialize variable module/MobilenetV1/Conv2d_5_depthwise/BatchNorm/gamma:0 from checkpoint b'/tmp/tfhub_modules/14d65617a151aa220a82c2a2c5ad68d504abbccf/variables/variables' with MobilenetV1/Conv2d_5_depthwise/BatchNorm/gamma\n"
     ]
    },
    {
     "name": "stderr",
     "output_type": "stream",
     "text": [
      "INFO:tensorflow:Initialize variable module/MobilenetV1/Conv2d_5_depthwise/BatchNorm/gamma:0 from checkpoint b'/tmp/tfhub_modules/14d65617a151aa220a82c2a2c5ad68d504abbccf/variables/variables' with MobilenetV1/Conv2d_5_depthwise/BatchNorm/gamma\n"
     ]
    },
    {
     "name": "stdout",
     "output_type": "stream",
     "text": [
      "INFO:tensorflow:Initialize variable module/MobilenetV1/Conv2d_5_depthwise/BatchNorm/moving_mean:0 from checkpoint b'/tmp/tfhub_modules/14d65617a151aa220a82c2a2c5ad68d504abbccf/variables/variables' with MobilenetV1/Conv2d_5_depthwise/BatchNorm/moving_mean\n"
     ]
    },
    {
     "name": "stderr",
     "output_type": "stream",
     "text": [
      "INFO:tensorflow:Initialize variable module/MobilenetV1/Conv2d_5_depthwise/BatchNorm/moving_mean:0 from checkpoint b'/tmp/tfhub_modules/14d65617a151aa220a82c2a2c5ad68d504abbccf/variables/variables' with MobilenetV1/Conv2d_5_depthwise/BatchNorm/moving_mean\n"
     ]
    },
    {
     "name": "stdout",
     "output_type": "stream",
     "text": [
      "INFO:tensorflow:Initialize variable module/MobilenetV1/Conv2d_5_depthwise/BatchNorm/moving_variance:0 from checkpoint b'/tmp/tfhub_modules/14d65617a151aa220a82c2a2c5ad68d504abbccf/variables/variables' with MobilenetV1/Conv2d_5_depthwise/BatchNorm/moving_variance\n"
     ]
    },
    {
     "name": "stderr",
     "output_type": "stream",
     "text": [
      "INFO:tensorflow:Initialize variable module/MobilenetV1/Conv2d_5_depthwise/BatchNorm/moving_variance:0 from checkpoint b'/tmp/tfhub_modules/14d65617a151aa220a82c2a2c5ad68d504abbccf/variables/variables' with MobilenetV1/Conv2d_5_depthwise/BatchNorm/moving_variance\n"
     ]
    },
    {
     "name": "stdout",
     "output_type": "stream",
     "text": [
      "INFO:tensorflow:Initialize variable module/MobilenetV1/Conv2d_5_depthwise/depthwise_weights:0 from checkpoint b'/tmp/tfhub_modules/14d65617a151aa220a82c2a2c5ad68d504abbccf/variables/variables' with MobilenetV1/Conv2d_5_depthwise/depthwise_weights\n"
     ]
    },
    {
     "name": "stderr",
     "output_type": "stream",
     "text": [
      "INFO:tensorflow:Initialize variable module/MobilenetV1/Conv2d_5_depthwise/depthwise_weights:0 from checkpoint b'/tmp/tfhub_modules/14d65617a151aa220a82c2a2c5ad68d504abbccf/variables/variables' with MobilenetV1/Conv2d_5_depthwise/depthwise_weights\n"
     ]
    },
    {
     "name": "stdout",
     "output_type": "stream",
     "text": [
      "INFO:tensorflow:Initialize variable module/MobilenetV1/Conv2d_5_pointwise/BatchNorm/beta:0 from checkpoint b'/tmp/tfhub_modules/14d65617a151aa220a82c2a2c5ad68d504abbccf/variables/variables' with MobilenetV1/Conv2d_5_pointwise/BatchNorm/beta\n"
     ]
    },
    {
     "name": "stderr",
     "output_type": "stream",
     "text": [
      "INFO:tensorflow:Initialize variable module/MobilenetV1/Conv2d_5_pointwise/BatchNorm/beta:0 from checkpoint b'/tmp/tfhub_modules/14d65617a151aa220a82c2a2c5ad68d504abbccf/variables/variables' with MobilenetV1/Conv2d_5_pointwise/BatchNorm/beta\n"
     ]
    },
    {
     "name": "stdout",
     "output_type": "stream",
     "text": [
      "INFO:tensorflow:Initialize variable module/MobilenetV1/Conv2d_5_pointwise/BatchNorm/gamma:0 from checkpoint b'/tmp/tfhub_modules/14d65617a151aa220a82c2a2c5ad68d504abbccf/variables/variables' with MobilenetV1/Conv2d_5_pointwise/BatchNorm/gamma\n"
     ]
    },
    {
     "name": "stderr",
     "output_type": "stream",
     "text": [
      "INFO:tensorflow:Initialize variable module/MobilenetV1/Conv2d_5_pointwise/BatchNorm/gamma:0 from checkpoint b'/tmp/tfhub_modules/14d65617a151aa220a82c2a2c5ad68d504abbccf/variables/variables' with MobilenetV1/Conv2d_5_pointwise/BatchNorm/gamma\n"
     ]
    },
    {
     "name": "stdout",
     "output_type": "stream",
     "text": [
      "INFO:tensorflow:Initialize variable module/MobilenetV1/Conv2d_5_pointwise/BatchNorm/moving_mean:0 from checkpoint b'/tmp/tfhub_modules/14d65617a151aa220a82c2a2c5ad68d504abbccf/variables/variables' with MobilenetV1/Conv2d_5_pointwise/BatchNorm/moving_mean\n"
     ]
    },
    {
     "name": "stderr",
     "output_type": "stream",
     "text": [
      "INFO:tensorflow:Initialize variable module/MobilenetV1/Conv2d_5_pointwise/BatchNorm/moving_mean:0 from checkpoint b'/tmp/tfhub_modules/14d65617a151aa220a82c2a2c5ad68d504abbccf/variables/variables' with MobilenetV1/Conv2d_5_pointwise/BatchNorm/moving_mean\n"
     ]
    },
    {
     "name": "stdout",
     "output_type": "stream",
     "text": [
      "INFO:tensorflow:Initialize variable module/MobilenetV1/Conv2d_5_pointwise/BatchNorm/moving_variance:0 from checkpoint b'/tmp/tfhub_modules/14d65617a151aa220a82c2a2c5ad68d504abbccf/variables/variables' with MobilenetV1/Conv2d_5_pointwise/BatchNorm/moving_variance\n"
     ]
    },
    {
     "name": "stderr",
     "output_type": "stream",
     "text": [
      "INFO:tensorflow:Initialize variable module/MobilenetV1/Conv2d_5_pointwise/BatchNorm/moving_variance:0 from checkpoint b'/tmp/tfhub_modules/14d65617a151aa220a82c2a2c5ad68d504abbccf/variables/variables' with MobilenetV1/Conv2d_5_pointwise/BatchNorm/moving_variance\n"
     ]
    },
    {
     "name": "stdout",
     "output_type": "stream",
     "text": [
      "INFO:tensorflow:Initialize variable module/MobilenetV1/Conv2d_5_pointwise/weights:0 from checkpoint b'/tmp/tfhub_modules/14d65617a151aa220a82c2a2c5ad68d504abbccf/variables/variables' with MobilenetV1/Conv2d_5_pointwise/weights\n"
     ]
    },
    {
     "name": "stderr",
     "output_type": "stream",
     "text": [
      "INFO:tensorflow:Initialize variable module/MobilenetV1/Conv2d_5_pointwise/weights:0 from checkpoint b'/tmp/tfhub_modules/14d65617a151aa220a82c2a2c5ad68d504abbccf/variables/variables' with MobilenetV1/Conv2d_5_pointwise/weights\n"
     ]
    },
    {
     "name": "stdout",
     "output_type": "stream",
     "text": [
      "INFO:tensorflow:Initialize variable module/MobilenetV1/Conv2d_6_depthwise/BatchNorm/beta:0 from checkpoint b'/tmp/tfhub_modules/14d65617a151aa220a82c2a2c5ad68d504abbccf/variables/variables' with MobilenetV1/Conv2d_6_depthwise/BatchNorm/beta\n"
     ]
    },
    {
     "name": "stderr",
     "output_type": "stream",
     "text": [
      "INFO:tensorflow:Initialize variable module/MobilenetV1/Conv2d_6_depthwise/BatchNorm/beta:0 from checkpoint b'/tmp/tfhub_modules/14d65617a151aa220a82c2a2c5ad68d504abbccf/variables/variables' with MobilenetV1/Conv2d_6_depthwise/BatchNorm/beta\n"
     ]
    },
    {
     "name": "stdout",
     "output_type": "stream",
     "text": [
      "INFO:tensorflow:Initialize variable module/MobilenetV1/Conv2d_6_depthwise/BatchNorm/gamma:0 from checkpoint b'/tmp/tfhub_modules/14d65617a151aa220a82c2a2c5ad68d504abbccf/variables/variables' with MobilenetV1/Conv2d_6_depthwise/BatchNorm/gamma\n"
     ]
    },
    {
     "name": "stderr",
     "output_type": "stream",
     "text": [
      "INFO:tensorflow:Initialize variable module/MobilenetV1/Conv2d_6_depthwise/BatchNorm/gamma:0 from checkpoint b'/tmp/tfhub_modules/14d65617a151aa220a82c2a2c5ad68d504abbccf/variables/variables' with MobilenetV1/Conv2d_6_depthwise/BatchNorm/gamma\n"
     ]
    },
    {
     "name": "stdout",
     "output_type": "stream",
     "text": [
      "INFO:tensorflow:Initialize variable module/MobilenetV1/Conv2d_6_depthwise/BatchNorm/moving_mean:0 from checkpoint b'/tmp/tfhub_modules/14d65617a151aa220a82c2a2c5ad68d504abbccf/variables/variables' with MobilenetV1/Conv2d_6_depthwise/BatchNorm/moving_mean\n"
     ]
    },
    {
     "name": "stderr",
     "output_type": "stream",
     "text": [
      "INFO:tensorflow:Initialize variable module/MobilenetV1/Conv2d_6_depthwise/BatchNorm/moving_mean:0 from checkpoint b'/tmp/tfhub_modules/14d65617a151aa220a82c2a2c5ad68d504abbccf/variables/variables' with MobilenetV1/Conv2d_6_depthwise/BatchNorm/moving_mean\n"
     ]
    },
    {
     "name": "stdout",
     "output_type": "stream",
     "text": [
      "INFO:tensorflow:Initialize variable module/MobilenetV1/Conv2d_6_depthwise/BatchNorm/moving_variance:0 from checkpoint b'/tmp/tfhub_modules/14d65617a151aa220a82c2a2c5ad68d504abbccf/variables/variables' with MobilenetV1/Conv2d_6_depthwise/BatchNorm/moving_variance\n"
     ]
    },
    {
     "name": "stderr",
     "output_type": "stream",
     "text": [
      "INFO:tensorflow:Initialize variable module/MobilenetV1/Conv2d_6_depthwise/BatchNorm/moving_variance:0 from checkpoint b'/tmp/tfhub_modules/14d65617a151aa220a82c2a2c5ad68d504abbccf/variables/variables' with MobilenetV1/Conv2d_6_depthwise/BatchNorm/moving_variance\n"
     ]
    },
    {
     "name": "stdout",
     "output_type": "stream",
     "text": [
      "INFO:tensorflow:Initialize variable module/MobilenetV1/Conv2d_6_depthwise/depthwise_weights:0 from checkpoint b'/tmp/tfhub_modules/14d65617a151aa220a82c2a2c5ad68d504abbccf/variables/variables' with MobilenetV1/Conv2d_6_depthwise/depthwise_weights\n"
     ]
    },
    {
     "name": "stderr",
     "output_type": "stream",
     "text": [
      "INFO:tensorflow:Initialize variable module/MobilenetV1/Conv2d_6_depthwise/depthwise_weights:0 from checkpoint b'/tmp/tfhub_modules/14d65617a151aa220a82c2a2c5ad68d504abbccf/variables/variables' with MobilenetV1/Conv2d_6_depthwise/depthwise_weights\n"
     ]
    },
    {
     "name": "stdout",
     "output_type": "stream",
     "text": [
      "INFO:tensorflow:Initialize variable module/MobilenetV1/Conv2d_6_pointwise/BatchNorm/beta:0 from checkpoint b'/tmp/tfhub_modules/14d65617a151aa220a82c2a2c5ad68d504abbccf/variables/variables' with MobilenetV1/Conv2d_6_pointwise/BatchNorm/beta\n"
     ]
    },
    {
     "name": "stderr",
     "output_type": "stream",
     "text": [
      "INFO:tensorflow:Initialize variable module/MobilenetV1/Conv2d_6_pointwise/BatchNorm/beta:0 from checkpoint b'/tmp/tfhub_modules/14d65617a151aa220a82c2a2c5ad68d504abbccf/variables/variables' with MobilenetV1/Conv2d_6_pointwise/BatchNorm/beta\n"
     ]
    },
    {
     "name": "stdout",
     "output_type": "stream",
     "text": [
      "INFO:tensorflow:Initialize variable module/MobilenetV1/Conv2d_6_pointwise/BatchNorm/gamma:0 from checkpoint b'/tmp/tfhub_modules/14d65617a151aa220a82c2a2c5ad68d504abbccf/variables/variables' with MobilenetV1/Conv2d_6_pointwise/BatchNorm/gamma\n"
     ]
    },
    {
     "name": "stderr",
     "output_type": "stream",
     "text": [
      "INFO:tensorflow:Initialize variable module/MobilenetV1/Conv2d_6_pointwise/BatchNorm/gamma:0 from checkpoint b'/tmp/tfhub_modules/14d65617a151aa220a82c2a2c5ad68d504abbccf/variables/variables' with MobilenetV1/Conv2d_6_pointwise/BatchNorm/gamma\n"
     ]
    },
    {
     "name": "stdout",
     "output_type": "stream",
     "text": [
      "INFO:tensorflow:Initialize variable module/MobilenetV1/Conv2d_6_pointwise/BatchNorm/moving_mean:0 from checkpoint b'/tmp/tfhub_modules/14d65617a151aa220a82c2a2c5ad68d504abbccf/variables/variables' with MobilenetV1/Conv2d_6_pointwise/BatchNorm/moving_mean\n"
     ]
    },
    {
     "name": "stderr",
     "output_type": "stream",
     "text": [
      "INFO:tensorflow:Initialize variable module/MobilenetV1/Conv2d_6_pointwise/BatchNorm/moving_mean:0 from checkpoint b'/tmp/tfhub_modules/14d65617a151aa220a82c2a2c5ad68d504abbccf/variables/variables' with MobilenetV1/Conv2d_6_pointwise/BatchNorm/moving_mean\n"
     ]
    },
    {
     "name": "stdout",
     "output_type": "stream",
     "text": [
      "INFO:tensorflow:Initialize variable module/MobilenetV1/Conv2d_6_pointwise/BatchNorm/moving_variance:0 from checkpoint b'/tmp/tfhub_modules/14d65617a151aa220a82c2a2c5ad68d504abbccf/variables/variables' with MobilenetV1/Conv2d_6_pointwise/BatchNorm/moving_variance\n"
     ]
    },
    {
     "name": "stderr",
     "output_type": "stream",
     "text": [
      "INFO:tensorflow:Initialize variable module/MobilenetV1/Conv2d_6_pointwise/BatchNorm/moving_variance:0 from checkpoint b'/tmp/tfhub_modules/14d65617a151aa220a82c2a2c5ad68d504abbccf/variables/variables' with MobilenetV1/Conv2d_6_pointwise/BatchNorm/moving_variance\n"
     ]
    },
    {
     "name": "stdout",
     "output_type": "stream",
     "text": [
      "INFO:tensorflow:Initialize variable module/MobilenetV1/Conv2d_6_pointwise/weights:0 from checkpoint b'/tmp/tfhub_modules/14d65617a151aa220a82c2a2c5ad68d504abbccf/variables/variables' with MobilenetV1/Conv2d_6_pointwise/weights\n"
     ]
    },
    {
     "name": "stderr",
     "output_type": "stream",
     "text": [
      "INFO:tensorflow:Initialize variable module/MobilenetV1/Conv2d_6_pointwise/weights:0 from checkpoint b'/tmp/tfhub_modules/14d65617a151aa220a82c2a2c5ad68d504abbccf/variables/variables' with MobilenetV1/Conv2d_6_pointwise/weights\n"
     ]
    },
    {
     "name": "stdout",
     "output_type": "stream",
     "text": [
      "INFO:tensorflow:Initialize variable module/MobilenetV1/Conv2d_7_depthwise/BatchNorm/beta:0 from checkpoint b'/tmp/tfhub_modules/14d65617a151aa220a82c2a2c5ad68d504abbccf/variables/variables' with MobilenetV1/Conv2d_7_depthwise/BatchNorm/beta\n"
     ]
    },
    {
     "name": "stderr",
     "output_type": "stream",
     "text": [
      "INFO:tensorflow:Initialize variable module/MobilenetV1/Conv2d_7_depthwise/BatchNorm/beta:0 from checkpoint b'/tmp/tfhub_modules/14d65617a151aa220a82c2a2c5ad68d504abbccf/variables/variables' with MobilenetV1/Conv2d_7_depthwise/BatchNorm/beta\n"
     ]
    },
    {
     "name": "stdout",
     "output_type": "stream",
     "text": [
      "INFO:tensorflow:Initialize variable module/MobilenetV1/Conv2d_7_depthwise/BatchNorm/gamma:0 from checkpoint b'/tmp/tfhub_modules/14d65617a151aa220a82c2a2c5ad68d504abbccf/variables/variables' with MobilenetV1/Conv2d_7_depthwise/BatchNorm/gamma\n"
     ]
    },
    {
     "name": "stderr",
     "output_type": "stream",
     "text": [
      "INFO:tensorflow:Initialize variable module/MobilenetV1/Conv2d_7_depthwise/BatchNorm/gamma:0 from checkpoint b'/tmp/tfhub_modules/14d65617a151aa220a82c2a2c5ad68d504abbccf/variables/variables' with MobilenetV1/Conv2d_7_depthwise/BatchNorm/gamma\n"
     ]
    },
    {
     "name": "stdout",
     "output_type": "stream",
     "text": [
      "INFO:tensorflow:Initialize variable module/MobilenetV1/Conv2d_7_depthwise/BatchNorm/moving_mean:0 from checkpoint b'/tmp/tfhub_modules/14d65617a151aa220a82c2a2c5ad68d504abbccf/variables/variables' with MobilenetV1/Conv2d_7_depthwise/BatchNorm/moving_mean\n"
     ]
    },
    {
     "name": "stderr",
     "output_type": "stream",
     "text": [
      "INFO:tensorflow:Initialize variable module/MobilenetV1/Conv2d_7_depthwise/BatchNorm/moving_mean:0 from checkpoint b'/tmp/tfhub_modules/14d65617a151aa220a82c2a2c5ad68d504abbccf/variables/variables' with MobilenetV1/Conv2d_7_depthwise/BatchNorm/moving_mean\n"
     ]
    },
    {
     "name": "stdout",
     "output_type": "stream",
     "text": [
      "INFO:tensorflow:Initialize variable module/MobilenetV1/Conv2d_7_depthwise/BatchNorm/moving_variance:0 from checkpoint b'/tmp/tfhub_modules/14d65617a151aa220a82c2a2c5ad68d504abbccf/variables/variables' with MobilenetV1/Conv2d_7_depthwise/BatchNorm/moving_variance\n"
     ]
    },
    {
     "name": "stderr",
     "output_type": "stream",
     "text": [
      "INFO:tensorflow:Initialize variable module/MobilenetV1/Conv2d_7_depthwise/BatchNorm/moving_variance:0 from checkpoint b'/tmp/tfhub_modules/14d65617a151aa220a82c2a2c5ad68d504abbccf/variables/variables' with MobilenetV1/Conv2d_7_depthwise/BatchNorm/moving_variance\n"
     ]
    },
    {
     "name": "stdout",
     "output_type": "stream",
     "text": [
      "INFO:tensorflow:Initialize variable module/MobilenetV1/Conv2d_7_depthwise/depthwise_weights:0 from checkpoint b'/tmp/tfhub_modules/14d65617a151aa220a82c2a2c5ad68d504abbccf/variables/variables' with MobilenetV1/Conv2d_7_depthwise/depthwise_weights\n"
     ]
    },
    {
     "name": "stderr",
     "output_type": "stream",
     "text": [
      "INFO:tensorflow:Initialize variable module/MobilenetV1/Conv2d_7_depthwise/depthwise_weights:0 from checkpoint b'/tmp/tfhub_modules/14d65617a151aa220a82c2a2c5ad68d504abbccf/variables/variables' with MobilenetV1/Conv2d_7_depthwise/depthwise_weights\n"
     ]
    },
    {
     "name": "stdout",
     "output_type": "stream",
     "text": [
      "INFO:tensorflow:Initialize variable module/MobilenetV1/Conv2d_7_pointwise/BatchNorm/beta:0 from checkpoint b'/tmp/tfhub_modules/14d65617a151aa220a82c2a2c5ad68d504abbccf/variables/variables' with MobilenetV1/Conv2d_7_pointwise/BatchNorm/beta\n"
     ]
    },
    {
     "name": "stderr",
     "output_type": "stream",
     "text": [
      "INFO:tensorflow:Initialize variable module/MobilenetV1/Conv2d_7_pointwise/BatchNorm/beta:0 from checkpoint b'/tmp/tfhub_modules/14d65617a151aa220a82c2a2c5ad68d504abbccf/variables/variables' with MobilenetV1/Conv2d_7_pointwise/BatchNorm/beta\n"
     ]
    },
    {
     "name": "stdout",
     "output_type": "stream",
     "text": [
      "INFO:tensorflow:Initialize variable module/MobilenetV1/Conv2d_7_pointwise/BatchNorm/gamma:0 from checkpoint b'/tmp/tfhub_modules/14d65617a151aa220a82c2a2c5ad68d504abbccf/variables/variables' with MobilenetV1/Conv2d_7_pointwise/BatchNorm/gamma\n"
     ]
    },
    {
     "name": "stderr",
     "output_type": "stream",
     "text": [
      "INFO:tensorflow:Initialize variable module/MobilenetV1/Conv2d_7_pointwise/BatchNorm/gamma:0 from checkpoint b'/tmp/tfhub_modules/14d65617a151aa220a82c2a2c5ad68d504abbccf/variables/variables' with MobilenetV1/Conv2d_7_pointwise/BatchNorm/gamma\n"
     ]
    },
    {
     "name": "stdout",
     "output_type": "stream",
     "text": [
      "INFO:tensorflow:Initialize variable module/MobilenetV1/Conv2d_7_pointwise/BatchNorm/moving_mean:0 from checkpoint b'/tmp/tfhub_modules/14d65617a151aa220a82c2a2c5ad68d504abbccf/variables/variables' with MobilenetV1/Conv2d_7_pointwise/BatchNorm/moving_mean\n"
     ]
    },
    {
     "name": "stderr",
     "output_type": "stream",
     "text": [
      "INFO:tensorflow:Initialize variable module/MobilenetV1/Conv2d_7_pointwise/BatchNorm/moving_mean:0 from checkpoint b'/tmp/tfhub_modules/14d65617a151aa220a82c2a2c5ad68d504abbccf/variables/variables' with MobilenetV1/Conv2d_7_pointwise/BatchNorm/moving_mean\n"
     ]
    },
    {
     "name": "stdout",
     "output_type": "stream",
     "text": [
      "INFO:tensorflow:Initialize variable module/MobilenetV1/Conv2d_7_pointwise/BatchNorm/moving_variance:0 from checkpoint b'/tmp/tfhub_modules/14d65617a151aa220a82c2a2c5ad68d504abbccf/variables/variables' with MobilenetV1/Conv2d_7_pointwise/BatchNorm/moving_variance\n"
     ]
    },
    {
     "name": "stderr",
     "output_type": "stream",
     "text": [
      "INFO:tensorflow:Initialize variable module/MobilenetV1/Conv2d_7_pointwise/BatchNorm/moving_variance:0 from checkpoint b'/tmp/tfhub_modules/14d65617a151aa220a82c2a2c5ad68d504abbccf/variables/variables' with MobilenetV1/Conv2d_7_pointwise/BatchNorm/moving_variance\n"
     ]
    },
    {
     "name": "stdout",
     "output_type": "stream",
     "text": [
      "INFO:tensorflow:Initialize variable module/MobilenetV1/Conv2d_7_pointwise/weights:0 from checkpoint b'/tmp/tfhub_modules/14d65617a151aa220a82c2a2c5ad68d504abbccf/variables/variables' with MobilenetV1/Conv2d_7_pointwise/weights\n"
     ]
    },
    {
     "name": "stderr",
     "output_type": "stream",
     "text": [
      "INFO:tensorflow:Initialize variable module/MobilenetV1/Conv2d_7_pointwise/weights:0 from checkpoint b'/tmp/tfhub_modules/14d65617a151aa220a82c2a2c5ad68d504abbccf/variables/variables' with MobilenetV1/Conv2d_7_pointwise/weights\n"
     ]
    },
    {
     "name": "stdout",
     "output_type": "stream",
     "text": [
      "INFO:tensorflow:Initialize variable module/MobilenetV1/Conv2d_8_depthwise/BatchNorm/beta:0 from checkpoint b'/tmp/tfhub_modules/14d65617a151aa220a82c2a2c5ad68d504abbccf/variables/variables' with MobilenetV1/Conv2d_8_depthwise/BatchNorm/beta\n"
     ]
    },
    {
     "name": "stderr",
     "output_type": "stream",
     "text": [
      "INFO:tensorflow:Initialize variable module/MobilenetV1/Conv2d_8_depthwise/BatchNorm/beta:0 from checkpoint b'/tmp/tfhub_modules/14d65617a151aa220a82c2a2c5ad68d504abbccf/variables/variables' with MobilenetV1/Conv2d_8_depthwise/BatchNorm/beta\n"
     ]
    },
    {
     "name": "stdout",
     "output_type": "stream",
     "text": [
      "INFO:tensorflow:Initialize variable module/MobilenetV1/Conv2d_8_depthwise/BatchNorm/gamma:0 from checkpoint b'/tmp/tfhub_modules/14d65617a151aa220a82c2a2c5ad68d504abbccf/variables/variables' with MobilenetV1/Conv2d_8_depthwise/BatchNorm/gamma\n"
     ]
    },
    {
     "name": "stderr",
     "output_type": "stream",
     "text": [
      "INFO:tensorflow:Initialize variable module/MobilenetV1/Conv2d_8_depthwise/BatchNorm/gamma:0 from checkpoint b'/tmp/tfhub_modules/14d65617a151aa220a82c2a2c5ad68d504abbccf/variables/variables' with MobilenetV1/Conv2d_8_depthwise/BatchNorm/gamma\n"
     ]
    },
    {
     "name": "stdout",
     "output_type": "stream",
     "text": [
      "INFO:tensorflow:Initialize variable module/MobilenetV1/Conv2d_8_depthwise/BatchNorm/moving_mean:0 from checkpoint b'/tmp/tfhub_modules/14d65617a151aa220a82c2a2c5ad68d504abbccf/variables/variables' with MobilenetV1/Conv2d_8_depthwise/BatchNorm/moving_mean\n"
     ]
    },
    {
     "name": "stderr",
     "output_type": "stream",
     "text": [
      "INFO:tensorflow:Initialize variable module/MobilenetV1/Conv2d_8_depthwise/BatchNorm/moving_mean:0 from checkpoint b'/tmp/tfhub_modules/14d65617a151aa220a82c2a2c5ad68d504abbccf/variables/variables' with MobilenetV1/Conv2d_8_depthwise/BatchNorm/moving_mean\n"
     ]
    },
    {
     "name": "stdout",
     "output_type": "stream",
     "text": [
      "INFO:tensorflow:Initialize variable module/MobilenetV1/Conv2d_8_depthwise/BatchNorm/moving_variance:0 from checkpoint b'/tmp/tfhub_modules/14d65617a151aa220a82c2a2c5ad68d504abbccf/variables/variables' with MobilenetV1/Conv2d_8_depthwise/BatchNorm/moving_variance\n"
     ]
    },
    {
     "name": "stderr",
     "output_type": "stream",
     "text": [
      "INFO:tensorflow:Initialize variable module/MobilenetV1/Conv2d_8_depthwise/BatchNorm/moving_variance:0 from checkpoint b'/tmp/tfhub_modules/14d65617a151aa220a82c2a2c5ad68d504abbccf/variables/variables' with MobilenetV1/Conv2d_8_depthwise/BatchNorm/moving_variance\n"
     ]
    },
    {
     "name": "stdout",
     "output_type": "stream",
     "text": [
      "INFO:tensorflow:Initialize variable module/MobilenetV1/Conv2d_8_depthwise/depthwise_weights:0 from checkpoint b'/tmp/tfhub_modules/14d65617a151aa220a82c2a2c5ad68d504abbccf/variables/variables' with MobilenetV1/Conv2d_8_depthwise/depthwise_weights\n"
     ]
    },
    {
     "name": "stderr",
     "output_type": "stream",
     "text": [
      "INFO:tensorflow:Initialize variable module/MobilenetV1/Conv2d_8_depthwise/depthwise_weights:0 from checkpoint b'/tmp/tfhub_modules/14d65617a151aa220a82c2a2c5ad68d504abbccf/variables/variables' with MobilenetV1/Conv2d_8_depthwise/depthwise_weights\n"
     ]
    },
    {
     "name": "stdout",
     "output_type": "stream",
     "text": [
      "INFO:tensorflow:Initialize variable module/MobilenetV1/Conv2d_8_pointwise/BatchNorm/beta:0 from checkpoint b'/tmp/tfhub_modules/14d65617a151aa220a82c2a2c5ad68d504abbccf/variables/variables' with MobilenetV1/Conv2d_8_pointwise/BatchNorm/beta\n"
     ]
    },
    {
     "name": "stderr",
     "output_type": "stream",
     "text": [
      "INFO:tensorflow:Initialize variable module/MobilenetV1/Conv2d_8_pointwise/BatchNorm/beta:0 from checkpoint b'/tmp/tfhub_modules/14d65617a151aa220a82c2a2c5ad68d504abbccf/variables/variables' with MobilenetV1/Conv2d_8_pointwise/BatchNorm/beta\n"
     ]
    },
    {
     "name": "stdout",
     "output_type": "stream",
     "text": [
      "INFO:tensorflow:Initialize variable module/MobilenetV1/Conv2d_8_pointwise/BatchNorm/gamma:0 from checkpoint b'/tmp/tfhub_modules/14d65617a151aa220a82c2a2c5ad68d504abbccf/variables/variables' with MobilenetV1/Conv2d_8_pointwise/BatchNorm/gamma\n"
     ]
    },
    {
     "name": "stderr",
     "output_type": "stream",
     "text": [
      "INFO:tensorflow:Initialize variable module/MobilenetV1/Conv2d_8_pointwise/BatchNorm/gamma:0 from checkpoint b'/tmp/tfhub_modules/14d65617a151aa220a82c2a2c5ad68d504abbccf/variables/variables' with MobilenetV1/Conv2d_8_pointwise/BatchNorm/gamma\n"
     ]
    },
    {
     "name": "stdout",
     "output_type": "stream",
     "text": [
      "INFO:tensorflow:Initialize variable module/MobilenetV1/Conv2d_8_pointwise/BatchNorm/moving_mean:0 from checkpoint b'/tmp/tfhub_modules/14d65617a151aa220a82c2a2c5ad68d504abbccf/variables/variables' with MobilenetV1/Conv2d_8_pointwise/BatchNorm/moving_mean\n"
     ]
    },
    {
     "name": "stderr",
     "output_type": "stream",
     "text": [
      "INFO:tensorflow:Initialize variable module/MobilenetV1/Conv2d_8_pointwise/BatchNorm/moving_mean:0 from checkpoint b'/tmp/tfhub_modules/14d65617a151aa220a82c2a2c5ad68d504abbccf/variables/variables' with MobilenetV1/Conv2d_8_pointwise/BatchNorm/moving_mean\n"
     ]
    },
    {
     "name": "stdout",
     "output_type": "stream",
     "text": [
      "INFO:tensorflow:Initialize variable module/MobilenetV1/Conv2d_8_pointwise/BatchNorm/moving_variance:0 from checkpoint b'/tmp/tfhub_modules/14d65617a151aa220a82c2a2c5ad68d504abbccf/variables/variables' with MobilenetV1/Conv2d_8_pointwise/BatchNorm/moving_variance\n"
     ]
    },
    {
     "name": "stderr",
     "output_type": "stream",
     "text": [
      "INFO:tensorflow:Initialize variable module/MobilenetV1/Conv2d_8_pointwise/BatchNorm/moving_variance:0 from checkpoint b'/tmp/tfhub_modules/14d65617a151aa220a82c2a2c5ad68d504abbccf/variables/variables' with MobilenetV1/Conv2d_8_pointwise/BatchNorm/moving_variance\n"
     ]
    },
    {
     "name": "stdout",
     "output_type": "stream",
     "text": [
      "INFO:tensorflow:Initialize variable module/MobilenetV1/Conv2d_8_pointwise/weights:0 from checkpoint b'/tmp/tfhub_modules/14d65617a151aa220a82c2a2c5ad68d504abbccf/variables/variables' with MobilenetV1/Conv2d_8_pointwise/weights\n"
     ]
    },
    {
     "name": "stderr",
     "output_type": "stream",
     "text": [
      "INFO:tensorflow:Initialize variable module/MobilenetV1/Conv2d_8_pointwise/weights:0 from checkpoint b'/tmp/tfhub_modules/14d65617a151aa220a82c2a2c5ad68d504abbccf/variables/variables' with MobilenetV1/Conv2d_8_pointwise/weights\n"
     ]
    },
    {
     "name": "stdout",
     "output_type": "stream",
     "text": [
      "INFO:tensorflow:Initialize variable module/MobilenetV1/Conv2d_9_depthwise/BatchNorm/beta:0 from checkpoint b'/tmp/tfhub_modules/14d65617a151aa220a82c2a2c5ad68d504abbccf/variables/variables' with MobilenetV1/Conv2d_9_depthwise/BatchNorm/beta\n"
     ]
    },
    {
     "name": "stderr",
     "output_type": "stream",
     "text": [
      "INFO:tensorflow:Initialize variable module/MobilenetV1/Conv2d_9_depthwise/BatchNorm/beta:0 from checkpoint b'/tmp/tfhub_modules/14d65617a151aa220a82c2a2c5ad68d504abbccf/variables/variables' with MobilenetV1/Conv2d_9_depthwise/BatchNorm/beta\n"
     ]
    },
    {
     "name": "stdout",
     "output_type": "stream",
     "text": [
      "INFO:tensorflow:Initialize variable module/MobilenetV1/Conv2d_9_depthwise/BatchNorm/gamma:0 from checkpoint b'/tmp/tfhub_modules/14d65617a151aa220a82c2a2c5ad68d504abbccf/variables/variables' with MobilenetV1/Conv2d_9_depthwise/BatchNorm/gamma\n"
     ]
    },
    {
     "name": "stderr",
     "output_type": "stream",
     "text": [
      "INFO:tensorflow:Initialize variable module/MobilenetV1/Conv2d_9_depthwise/BatchNorm/gamma:0 from checkpoint b'/tmp/tfhub_modules/14d65617a151aa220a82c2a2c5ad68d504abbccf/variables/variables' with MobilenetV1/Conv2d_9_depthwise/BatchNorm/gamma\n"
     ]
    },
    {
     "name": "stdout",
     "output_type": "stream",
     "text": [
      "INFO:tensorflow:Initialize variable module/MobilenetV1/Conv2d_9_depthwise/BatchNorm/moving_mean:0 from checkpoint b'/tmp/tfhub_modules/14d65617a151aa220a82c2a2c5ad68d504abbccf/variables/variables' with MobilenetV1/Conv2d_9_depthwise/BatchNorm/moving_mean\n"
     ]
    },
    {
     "name": "stderr",
     "output_type": "stream",
     "text": [
      "INFO:tensorflow:Initialize variable module/MobilenetV1/Conv2d_9_depthwise/BatchNorm/moving_mean:0 from checkpoint b'/tmp/tfhub_modules/14d65617a151aa220a82c2a2c5ad68d504abbccf/variables/variables' with MobilenetV1/Conv2d_9_depthwise/BatchNorm/moving_mean\n"
     ]
    },
    {
     "name": "stdout",
     "output_type": "stream",
     "text": [
      "INFO:tensorflow:Initialize variable module/MobilenetV1/Conv2d_9_depthwise/BatchNorm/moving_variance:0 from checkpoint b'/tmp/tfhub_modules/14d65617a151aa220a82c2a2c5ad68d504abbccf/variables/variables' with MobilenetV1/Conv2d_9_depthwise/BatchNorm/moving_variance\n"
     ]
    },
    {
     "name": "stderr",
     "output_type": "stream",
     "text": [
      "INFO:tensorflow:Initialize variable module/MobilenetV1/Conv2d_9_depthwise/BatchNorm/moving_variance:0 from checkpoint b'/tmp/tfhub_modules/14d65617a151aa220a82c2a2c5ad68d504abbccf/variables/variables' with MobilenetV1/Conv2d_9_depthwise/BatchNorm/moving_variance\n"
     ]
    },
    {
     "name": "stdout",
     "output_type": "stream",
     "text": [
      "INFO:tensorflow:Initialize variable module/MobilenetV1/Conv2d_9_depthwise/depthwise_weights:0 from checkpoint b'/tmp/tfhub_modules/14d65617a151aa220a82c2a2c5ad68d504abbccf/variables/variables' with MobilenetV1/Conv2d_9_depthwise/depthwise_weights\n"
     ]
    },
    {
     "name": "stderr",
     "output_type": "stream",
     "text": [
      "INFO:tensorflow:Initialize variable module/MobilenetV1/Conv2d_9_depthwise/depthwise_weights:0 from checkpoint b'/tmp/tfhub_modules/14d65617a151aa220a82c2a2c5ad68d504abbccf/variables/variables' with MobilenetV1/Conv2d_9_depthwise/depthwise_weights\n"
     ]
    },
    {
     "name": "stdout",
     "output_type": "stream",
     "text": [
      "INFO:tensorflow:Initialize variable module/MobilenetV1/Conv2d_9_pointwise/BatchNorm/beta:0 from checkpoint b'/tmp/tfhub_modules/14d65617a151aa220a82c2a2c5ad68d504abbccf/variables/variables' with MobilenetV1/Conv2d_9_pointwise/BatchNorm/beta\n"
     ]
    },
    {
     "name": "stderr",
     "output_type": "stream",
     "text": [
      "INFO:tensorflow:Initialize variable module/MobilenetV1/Conv2d_9_pointwise/BatchNorm/beta:0 from checkpoint b'/tmp/tfhub_modules/14d65617a151aa220a82c2a2c5ad68d504abbccf/variables/variables' with MobilenetV1/Conv2d_9_pointwise/BatchNorm/beta\n"
     ]
    },
    {
     "name": "stdout",
     "output_type": "stream",
     "text": [
      "INFO:tensorflow:Initialize variable module/MobilenetV1/Conv2d_9_pointwise/BatchNorm/gamma:0 from checkpoint b'/tmp/tfhub_modules/14d65617a151aa220a82c2a2c5ad68d504abbccf/variables/variables' with MobilenetV1/Conv2d_9_pointwise/BatchNorm/gamma\n"
     ]
    },
    {
     "name": "stderr",
     "output_type": "stream",
     "text": [
      "INFO:tensorflow:Initialize variable module/MobilenetV1/Conv2d_9_pointwise/BatchNorm/gamma:0 from checkpoint b'/tmp/tfhub_modules/14d65617a151aa220a82c2a2c5ad68d504abbccf/variables/variables' with MobilenetV1/Conv2d_9_pointwise/BatchNorm/gamma\n"
     ]
    },
    {
     "name": "stdout",
     "output_type": "stream",
     "text": [
      "INFO:tensorflow:Initialize variable module/MobilenetV1/Conv2d_9_pointwise/BatchNorm/moving_mean:0 from checkpoint b'/tmp/tfhub_modules/14d65617a151aa220a82c2a2c5ad68d504abbccf/variables/variables' with MobilenetV1/Conv2d_9_pointwise/BatchNorm/moving_mean\n"
     ]
    },
    {
     "name": "stderr",
     "output_type": "stream",
     "text": [
      "INFO:tensorflow:Initialize variable module/MobilenetV1/Conv2d_9_pointwise/BatchNorm/moving_mean:0 from checkpoint b'/tmp/tfhub_modules/14d65617a151aa220a82c2a2c5ad68d504abbccf/variables/variables' with MobilenetV1/Conv2d_9_pointwise/BatchNorm/moving_mean\n"
     ]
    },
    {
     "name": "stdout",
     "output_type": "stream",
     "text": [
      "INFO:tensorflow:Initialize variable module/MobilenetV1/Conv2d_9_pointwise/BatchNorm/moving_variance:0 from checkpoint b'/tmp/tfhub_modules/14d65617a151aa220a82c2a2c5ad68d504abbccf/variables/variables' with MobilenetV1/Conv2d_9_pointwise/BatchNorm/moving_variance\n"
     ]
    },
    {
     "name": "stderr",
     "output_type": "stream",
     "text": [
      "INFO:tensorflow:Initialize variable module/MobilenetV1/Conv2d_9_pointwise/BatchNorm/moving_variance:0 from checkpoint b'/tmp/tfhub_modules/14d65617a151aa220a82c2a2c5ad68d504abbccf/variables/variables' with MobilenetV1/Conv2d_9_pointwise/BatchNorm/moving_variance\n"
     ]
    },
    {
     "name": "stdout",
     "output_type": "stream",
     "text": [
      "INFO:tensorflow:Initialize variable module/MobilenetV1/Conv2d_9_pointwise/weights:0 from checkpoint b'/tmp/tfhub_modules/14d65617a151aa220a82c2a2c5ad68d504abbccf/variables/variables' with MobilenetV1/Conv2d_9_pointwise/weights\n"
     ]
    },
    {
     "name": "stderr",
     "output_type": "stream",
     "text": [
      "INFO:tensorflow:Initialize variable module/MobilenetV1/Conv2d_9_pointwise/weights:0 from checkpoint b'/tmp/tfhub_modules/14d65617a151aa220a82c2a2c5ad68d504abbccf/variables/variables' with MobilenetV1/Conv2d_9_pointwise/weights\n"
     ]
    },
    {
     "name": "stdout",
     "output_type": "stream",
     "text": [
      "INFO:tensorflow:Restoring parameters from /tmp/_retrain_checkpoint\n"
     ]
    },
    {
     "name": "stderr",
     "output_type": "stream",
     "text": [
      "INFO:tensorflow:Restoring parameters from /tmp/_retrain_checkpoint\n"
     ]
    },
    {
     "name": "stdout",
     "output_type": "stream",
     "text": [
      "INFO:tensorflow:Final test accuracy = 100.0% (N=7)\n"
     ]
    },
    {
     "name": "stderr",
     "output_type": "stream",
     "text": [
      "INFO:tensorflow:Final test accuracy = 100.0% (N=7)\n"
     ]
    },
    {
     "name": "stdout",
     "output_type": "stream",
     "text": [
      "INFO:tensorflow:Save final result to : tmp/output_graph.pb\n"
     ]
    },
    {
     "name": "stderr",
     "output_type": "stream",
     "text": [
      "INFO:tensorflow:Save final result to : tmp/output_graph.pb\n"
     ]
    },
    {
     "name": "stdout",
     "output_type": "stream",
     "text": [
      "INFO:tensorflow:Initialize variable module/MobilenetV1/Conv2d_0/BatchNorm/beta:0 from checkpoint b'/tmp/tfhub_modules/14d65617a151aa220a82c2a2c5ad68d504abbccf/variables/variables' with MobilenetV1/Conv2d_0/BatchNorm/beta\n"
     ]
    },
    {
     "name": "stderr",
     "output_type": "stream",
     "text": [
      "INFO:tensorflow:Initialize variable module/MobilenetV1/Conv2d_0/BatchNorm/beta:0 from checkpoint b'/tmp/tfhub_modules/14d65617a151aa220a82c2a2c5ad68d504abbccf/variables/variables' with MobilenetV1/Conv2d_0/BatchNorm/beta\n"
     ]
    },
    {
     "name": "stdout",
     "output_type": "stream",
     "text": [
      "INFO:tensorflow:Initialize variable module/MobilenetV1/Conv2d_0/BatchNorm/gamma:0 from checkpoint b'/tmp/tfhub_modules/14d65617a151aa220a82c2a2c5ad68d504abbccf/variables/variables' with MobilenetV1/Conv2d_0/BatchNorm/gamma\n"
     ]
    },
    {
     "name": "stderr",
     "output_type": "stream",
     "text": [
      "INFO:tensorflow:Initialize variable module/MobilenetV1/Conv2d_0/BatchNorm/gamma:0 from checkpoint b'/tmp/tfhub_modules/14d65617a151aa220a82c2a2c5ad68d504abbccf/variables/variables' with MobilenetV1/Conv2d_0/BatchNorm/gamma\n"
     ]
    },
    {
     "name": "stdout",
     "output_type": "stream",
     "text": [
      "INFO:tensorflow:Initialize variable module/MobilenetV1/Conv2d_0/BatchNorm/moving_mean:0 from checkpoint b'/tmp/tfhub_modules/14d65617a151aa220a82c2a2c5ad68d504abbccf/variables/variables' with MobilenetV1/Conv2d_0/BatchNorm/moving_mean\n"
     ]
    },
    {
     "name": "stderr",
     "output_type": "stream",
     "text": [
      "INFO:tensorflow:Initialize variable module/MobilenetV1/Conv2d_0/BatchNorm/moving_mean:0 from checkpoint b'/tmp/tfhub_modules/14d65617a151aa220a82c2a2c5ad68d504abbccf/variables/variables' with MobilenetV1/Conv2d_0/BatchNorm/moving_mean\n"
     ]
    },
    {
     "name": "stdout",
     "output_type": "stream",
     "text": [
      "INFO:tensorflow:Initialize variable module/MobilenetV1/Conv2d_0/BatchNorm/moving_variance:0 from checkpoint b'/tmp/tfhub_modules/14d65617a151aa220a82c2a2c5ad68d504abbccf/variables/variables' with MobilenetV1/Conv2d_0/BatchNorm/moving_variance\n"
     ]
    },
    {
     "name": "stderr",
     "output_type": "stream",
     "text": [
      "INFO:tensorflow:Initialize variable module/MobilenetV1/Conv2d_0/BatchNorm/moving_variance:0 from checkpoint b'/tmp/tfhub_modules/14d65617a151aa220a82c2a2c5ad68d504abbccf/variables/variables' with MobilenetV1/Conv2d_0/BatchNorm/moving_variance\n"
     ]
    },
    {
     "name": "stdout",
     "output_type": "stream",
     "text": [
      "INFO:tensorflow:Initialize variable module/MobilenetV1/Conv2d_0/weights:0 from checkpoint b'/tmp/tfhub_modules/14d65617a151aa220a82c2a2c5ad68d504abbccf/variables/variables' with MobilenetV1/Conv2d_0/weights\n"
     ]
    },
    {
     "name": "stderr",
     "output_type": "stream",
     "text": [
      "INFO:tensorflow:Initialize variable module/MobilenetV1/Conv2d_0/weights:0 from checkpoint b'/tmp/tfhub_modules/14d65617a151aa220a82c2a2c5ad68d504abbccf/variables/variables' with MobilenetV1/Conv2d_0/weights\n"
     ]
    },
    {
     "name": "stdout",
     "output_type": "stream",
     "text": [
      "INFO:tensorflow:Initialize variable module/MobilenetV1/Conv2d_10_depthwise/BatchNorm/beta:0 from checkpoint b'/tmp/tfhub_modules/14d65617a151aa220a82c2a2c5ad68d504abbccf/variables/variables' with MobilenetV1/Conv2d_10_depthwise/BatchNorm/beta\n"
     ]
    },
    {
     "name": "stderr",
     "output_type": "stream",
     "text": [
      "INFO:tensorflow:Initialize variable module/MobilenetV1/Conv2d_10_depthwise/BatchNorm/beta:0 from checkpoint b'/tmp/tfhub_modules/14d65617a151aa220a82c2a2c5ad68d504abbccf/variables/variables' with MobilenetV1/Conv2d_10_depthwise/BatchNorm/beta\n"
     ]
    },
    {
     "name": "stdout",
     "output_type": "stream",
     "text": [
      "INFO:tensorflow:Initialize variable module/MobilenetV1/Conv2d_10_depthwise/BatchNorm/gamma:0 from checkpoint b'/tmp/tfhub_modules/14d65617a151aa220a82c2a2c5ad68d504abbccf/variables/variables' with MobilenetV1/Conv2d_10_depthwise/BatchNorm/gamma\n"
     ]
    },
    {
     "name": "stderr",
     "output_type": "stream",
     "text": [
      "INFO:tensorflow:Initialize variable module/MobilenetV1/Conv2d_10_depthwise/BatchNorm/gamma:0 from checkpoint b'/tmp/tfhub_modules/14d65617a151aa220a82c2a2c5ad68d504abbccf/variables/variables' with MobilenetV1/Conv2d_10_depthwise/BatchNorm/gamma\n"
     ]
    },
    {
     "name": "stdout",
     "output_type": "stream",
     "text": [
      "INFO:tensorflow:Initialize variable module/MobilenetV1/Conv2d_10_depthwise/BatchNorm/moving_mean:0 from checkpoint b'/tmp/tfhub_modules/14d65617a151aa220a82c2a2c5ad68d504abbccf/variables/variables' with MobilenetV1/Conv2d_10_depthwise/BatchNorm/moving_mean\n"
     ]
    },
    {
     "name": "stderr",
     "output_type": "stream",
     "text": [
      "INFO:tensorflow:Initialize variable module/MobilenetV1/Conv2d_10_depthwise/BatchNorm/moving_mean:0 from checkpoint b'/tmp/tfhub_modules/14d65617a151aa220a82c2a2c5ad68d504abbccf/variables/variables' with MobilenetV1/Conv2d_10_depthwise/BatchNorm/moving_mean\n"
     ]
    },
    {
     "name": "stdout",
     "output_type": "stream",
     "text": [
      "INFO:tensorflow:Initialize variable module/MobilenetV1/Conv2d_10_depthwise/BatchNorm/moving_variance:0 from checkpoint b'/tmp/tfhub_modules/14d65617a151aa220a82c2a2c5ad68d504abbccf/variables/variables' with MobilenetV1/Conv2d_10_depthwise/BatchNorm/moving_variance\n"
     ]
    },
    {
     "name": "stderr",
     "output_type": "stream",
     "text": [
      "INFO:tensorflow:Initialize variable module/MobilenetV1/Conv2d_10_depthwise/BatchNorm/moving_variance:0 from checkpoint b'/tmp/tfhub_modules/14d65617a151aa220a82c2a2c5ad68d504abbccf/variables/variables' with MobilenetV1/Conv2d_10_depthwise/BatchNorm/moving_variance\n"
     ]
    },
    {
     "name": "stdout",
     "output_type": "stream",
     "text": [
      "INFO:tensorflow:Initialize variable module/MobilenetV1/Conv2d_10_depthwise/depthwise_weights:0 from checkpoint b'/tmp/tfhub_modules/14d65617a151aa220a82c2a2c5ad68d504abbccf/variables/variables' with MobilenetV1/Conv2d_10_depthwise/depthwise_weights\n"
     ]
    },
    {
     "name": "stderr",
     "output_type": "stream",
     "text": [
      "INFO:tensorflow:Initialize variable module/MobilenetV1/Conv2d_10_depthwise/depthwise_weights:0 from checkpoint b'/tmp/tfhub_modules/14d65617a151aa220a82c2a2c5ad68d504abbccf/variables/variables' with MobilenetV1/Conv2d_10_depthwise/depthwise_weights\n"
     ]
    },
    {
     "name": "stdout",
     "output_type": "stream",
     "text": [
      "INFO:tensorflow:Initialize variable module/MobilenetV1/Conv2d_10_pointwise/BatchNorm/beta:0 from checkpoint b'/tmp/tfhub_modules/14d65617a151aa220a82c2a2c5ad68d504abbccf/variables/variables' with MobilenetV1/Conv2d_10_pointwise/BatchNorm/beta\n"
     ]
    },
    {
     "name": "stderr",
     "output_type": "stream",
     "text": [
      "INFO:tensorflow:Initialize variable module/MobilenetV1/Conv2d_10_pointwise/BatchNorm/beta:0 from checkpoint b'/tmp/tfhub_modules/14d65617a151aa220a82c2a2c5ad68d504abbccf/variables/variables' with MobilenetV1/Conv2d_10_pointwise/BatchNorm/beta\n"
     ]
    },
    {
     "name": "stdout",
     "output_type": "stream",
     "text": [
      "INFO:tensorflow:Initialize variable module/MobilenetV1/Conv2d_10_pointwise/BatchNorm/gamma:0 from checkpoint b'/tmp/tfhub_modules/14d65617a151aa220a82c2a2c5ad68d504abbccf/variables/variables' with MobilenetV1/Conv2d_10_pointwise/BatchNorm/gamma\n"
     ]
    },
    {
     "name": "stderr",
     "output_type": "stream",
     "text": [
      "INFO:tensorflow:Initialize variable module/MobilenetV1/Conv2d_10_pointwise/BatchNorm/gamma:0 from checkpoint b'/tmp/tfhub_modules/14d65617a151aa220a82c2a2c5ad68d504abbccf/variables/variables' with MobilenetV1/Conv2d_10_pointwise/BatchNorm/gamma\n"
     ]
    },
    {
     "name": "stdout",
     "output_type": "stream",
     "text": [
      "INFO:tensorflow:Initialize variable module/MobilenetV1/Conv2d_10_pointwise/BatchNorm/moving_mean:0 from checkpoint b'/tmp/tfhub_modules/14d65617a151aa220a82c2a2c5ad68d504abbccf/variables/variables' with MobilenetV1/Conv2d_10_pointwise/BatchNorm/moving_mean\n"
     ]
    },
    {
     "name": "stderr",
     "output_type": "stream",
     "text": [
      "INFO:tensorflow:Initialize variable module/MobilenetV1/Conv2d_10_pointwise/BatchNorm/moving_mean:0 from checkpoint b'/tmp/tfhub_modules/14d65617a151aa220a82c2a2c5ad68d504abbccf/variables/variables' with MobilenetV1/Conv2d_10_pointwise/BatchNorm/moving_mean\n"
     ]
    },
    {
     "name": "stdout",
     "output_type": "stream",
     "text": [
      "INFO:tensorflow:Initialize variable module/MobilenetV1/Conv2d_10_pointwise/BatchNorm/moving_variance:0 from checkpoint b'/tmp/tfhub_modules/14d65617a151aa220a82c2a2c5ad68d504abbccf/variables/variables' with MobilenetV1/Conv2d_10_pointwise/BatchNorm/moving_variance\n"
     ]
    },
    {
     "name": "stderr",
     "output_type": "stream",
     "text": [
      "INFO:tensorflow:Initialize variable module/MobilenetV1/Conv2d_10_pointwise/BatchNorm/moving_variance:0 from checkpoint b'/tmp/tfhub_modules/14d65617a151aa220a82c2a2c5ad68d504abbccf/variables/variables' with MobilenetV1/Conv2d_10_pointwise/BatchNorm/moving_variance\n"
     ]
    },
    {
     "name": "stdout",
     "output_type": "stream",
     "text": [
      "INFO:tensorflow:Initialize variable module/MobilenetV1/Conv2d_10_pointwise/weights:0 from checkpoint b'/tmp/tfhub_modules/14d65617a151aa220a82c2a2c5ad68d504abbccf/variables/variables' with MobilenetV1/Conv2d_10_pointwise/weights\n"
     ]
    },
    {
     "name": "stderr",
     "output_type": "stream",
     "text": [
      "INFO:tensorflow:Initialize variable module/MobilenetV1/Conv2d_10_pointwise/weights:0 from checkpoint b'/tmp/tfhub_modules/14d65617a151aa220a82c2a2c5ad68d504abbccf/variables/variables' with MobilenetV1/Conv2d_10_pointwise/weights\n"
     ]
    },
    {
     "name": "stdout",
     "output_type": "stream",
     "text": [
      "INFO:tensorflow:Initialize variable module/MobilenetV1/Conv2d_11_depthwise/BatchNorm/beta:0 from checkpoint b'/tmp/tfhub_modules/14d65617a151aa220a82c2a2c5ad68d504abbccf/variables/variables' with MobilenetV1/Conv2d_11_depthwise/BatchNorm/beta\n"
     ]
    },
    {
     "name": "stderr",
     "output_type": "stream",
     "text": [
      "INFO:tensorflow:Initialize variable module/MobilenetV1/Conv2d_11_depthwise/BatchNorm/beta:0 from checkpoint b'/tmp/tfhub_modules/14d65617a151aa220a82c2a2c5ad68d504abbccf/variables/variables' with MobilenetV1/Conv2d_11_depthwise/BatchNorm/beta\n"
     ]
    },
    {
     "name": "stdout",
     "output_type": "stream",
     "text": [
      "INFO:tensorflow:Initialize variable module/MobilenetV1/Conv2d_11_depthwise/BatchNorm/gamma:0 from checkpoint b'/tmp/tfhub_modules/14d65617a151aa220a82c2a2c5ad68d504abbccf/variables/variables' with MobilenetV1/Conv2d_11_depthwise/BatchNorm/gamma\n"
     ]
    },
    {
     "name": "stderr",
     "output_type": "stream",
     "text": [
      "INFO:tensorflow:Initialize variable module/MobilenetV1/Conv2d_11_depthwise/BatchNorm/gamma:0 from checkpoint b'/tmp/tfhub_modules/14d65617a151aa220a82c2a2c5ad68d504abbccf/variables/variables' with MobilenetV1/Conv2d_11_depthwise/BatchNorm/gamma\n"
     ]
    },
    {
     "name": "stdout",
     "output_type": "stream",
     "text": [
      "INFO:tensorflow:Initialize variable module/MobilenetV1/Conv2d_11_depthwise/BatchNorm/moving_mean:0 from checkpoint b'/tmp/tfhub_modules/14d65617a151aa220a82c2a2c5ad68d504abbccf/variables/variables' with MobilenetV1/Conv2d_11_depthwise/BatchNorm/moving_mean\n"
     ]
    },
    {
     "name": "stderr",
     "output_type": "stream",
     "text": [
      "INFO:tensorflow:Initialize variable module/MobilenetV1/Conv2d_11_depthwise/BatchNorm/moving_mean:0 from checkpoint b'/tmp/tfhub_modules/14d65617a151aa220a82c2a2c5ad68d504abbccf/variables/variables' with MobilenetV1/Conv2d_11_depthwise/BatchNorm/moving_mean\n"
     ]
    },
    {
     "name": "stdout",
     "output_type": "stream",
     "text": [
      "INFO:tensorflow:Initialize variable module/MobilenetV1/Conv2d_11_depthwise/BatchNorm/moving_variance:0 from checkpoint b'/tmp/tfhub_modules/14d65617a151aa220a82c2a2c5ad68d504abbccf/variables/variables' with MobilenetV1/Conv2d_11_depthwise/BatchNorm/moving_variance\n"
     ]
    },
    {
     "name": "stderr",
     "output_type": "stream",
     "text": [
      "INFO:tensorflow:Initialize variable module/MobilenetV1/Conv2d_11_depthwise/BatchNorm/moving_variance:0 from checkpoint b'/tmp/tfhub_modules/14d65617a151aa220a82c2a2c5ad68d504abbccf/variables/variables' with MobilenetV1/Conv2d_11_depthwise/BatchNorm/moving_variance\n"
     ]
    },
    {
     "name": "stdout",
     "output_type": "stream",
     "text": [
      "INFO:tensorflow:Initialize variable module/MobilenetV1/Conv2d_11_depthwise/depthwise_weights:0 from checkpoint b'/tmp/tfhub_modules/14d65617a151aa220a82c2a2c5ad68d504abbccf/variables/variables' with MobilenetV1/Conv2d_11_depthwise/depthwise_weights\n"
     ]
    },
    {
     "name": "stderr",
     "output_type": "stream",
     "text": [
      "INFO:tensorflow:Initialize variable module/MobilenetV1/Conv2d_11_depthwise/depthwise_weights:0 from checkpoint b'/tmp/tfhub_modules/14d65617a151aa220a82c2a2c5ad68d504abbccf/variables/variables' with MobilenetV1/Conv2d_11_depthwise/depthwise_weights\n"
     ]
    },
    {
     "name": "stdout",
     "output_type": "stream",
     "text": [
      "INFO:tensorflow:Initialize variable module/MobilenetV1/Conv2d_11_pointwise/BatchNorm/beta:0 from checkpoint b'/tmp/tfhub_modules/14d65617a151aa220a82c2a2c5ad68d504abbccf/variables/variables' with MobilenetV1/Conv2d_11_pointwise/BatchNorm/beta\n"
     ]
    },
    {
     "name": "stderr",
     "output_type": "stream",
     "text": [
      "INFO:tensorflow:Initialize variable module/MobilenetV1/Conv2d_11_pointwise/BatchNorm/beta:0 from checkpoint b'/tmp/tfhub_modules/14d65617a151aa220a82c2a2c5ad68d504abbccf/variables/variables' with MobilenetV1/Conv2d_11_pointwise/BatchNorm/beta\n"
     ]
    },
    {
     "name": "stdout",
     "output_type": "stream",
     "text": [
      "INFO:tensorflow:Initialize variable module/MobilenetV1/Conv2d_11_pointwise/BatchNorm/gamma:0 from checkpoint b'/tmp/tfhub_modules/14d65617a151aa220a82c2a2c5ad68d504abbccf/variables/variables' with MobilenetV1/Conv2d_11_pointwise/BatchNorm/gamma\n"
     ]
    },
    {
     "name": "stderr",
     "output_type": "stream",
     "text": [
      "INFO:tensorflow:Initialize variable module/MobilenetV1/Conv2d_11_pointwise/BatchNorm/gamma:0 from checkpoint b'/tmp/tfhub_modules/14d65617a151aa220a82c2a2c5ad68d504abbccf/variables/variables' with MobilenetV1/Conv2d_11_pointwise/BatchNorm/gamma\n"
     ]
    },
    {
     "name": "stdout",
     "output_type": "stream",
     "text": [
      "INFO:tensorflow:Initialize variable module/MobilenetV1/Conv2d_11_pointwise/BatchNorm/moving_mean:0 from checkpoint b'/tmp/tfhub_modules/14d65617a151aa220a82c2a2c5ad68d504abbccf/variables/variables' with MobilenetV1/Conv2d_11_pointwise/BatchNorm/moving_mean\n"
     ]
    },
    {
     "name": "stderr",
     "output_type": "stream",
     "text": [
      "INFO:tensorflow:Initialize variable module/MobilenetV1/Conv2d_11_pointwise/BatchNorm/moving_mean:0 from checkpoint b'/tmp/tfhub_modules/14d65617a151aa220a82c2a2c5ad68d504abbccf/variables/variables' with MobilenetV1/Conv2d_11_pointwise/BatchNorm/moving_mean\n"
     ]
    },
    {
     "name": "stdout",
     "output_type": "stream",
     "text": [
      "INFO:tensorflow:Initialize variable module/MobilenetV1/Conv2d_11_pointwise/BatchNorm/moving_variance:0 from checkpoint b'/tmp/tfhub_modules/14d65617a151aa220a82c2a2c5ad68d504abbccf/variables/variables' with MobilenetV1/Conv2d_11_pointwise/BatchNorm/moving_variance\n"
     ]
    },
    {
     "name": "stderr",
     "output_type": "stream",
     "text": [
      "INFO:tensorflow:Initialize variable module/MobilenetV1/Conv2d_11_pointwise/BatchNorm/moving_variance:0 from checkpoint b'/tmp/tfhub_modules/14d65617a151aa220a82c2a2c5ad68d504abbccf/variables/variables' with MobilenetV1/Conv2d_11_pointwise/BatchNorm/moving_variance\n"
     ]
    },
    {
     "name": "stdout",
     "output_type": "stream",
     "text": [
      "INFO:tensorflow:Initialize variable module/MobilenetV1/Conv2d_11_pointwise/weights:0 from checkpoint b'/tmp/tfhub_modules/14d65617a151aa220a82c2a2c5ad68d504abbccf/variables/variables' with MobilenetV1/Conv2d_11_pointwise/weights\n"
     ]
    },
    {
     "name": "stderr",
     "output_type": "stream",
     "text": [
      "INFO:tensorflow:Initialize variable module/MobilenetV1/Conv2d_11_pointwise/weights:0 from checkpoint b'/tmp/tfhub_modules/14d65617a151aa220a82c2a2c5ad68d504abbccf/variables/variables' with MobilenetV1/Conv2d_11_pointwise/weights\n"
     ]
    },
    {
     "name": "stdout",
     "output_type": "stream",
     "text": [
      "INFO:tensorflow:Initialize variable module/MobilenetV1/Conv2d_12_depthwise/BatchNorm/beta:0 from checkpoint b'/tmp/tfhub_modules/14d65617a151aa220a82c2a2c5ad68d504abbccf/variables/variables' with MobilenetV1/Conv2d_12_depthwise/BatchNorm/beta\n"
     ]
    },
    {
     "name": "stderr",
     "output_type": "stream",
     "text": [
      "INFO:tensorflow:Initialize variable module/MobilenetV1/Conv2d_12_depthwise/BatchNorm/beta:0 from checkpoint b'/tmp/tfhub_modules/14d65617a151aa220a82c2a2c5ad68d504abbccf/variables/variables' with MobilenetV1/Conv2d_12_depthwise/BatchNorm/beta\n"
     ]
    },
    {
     "name": "stdout",
     "output_type": "stream",
     "text": [
      "INFO:tensorflow:Initialize variable module/MobilenetV1/Conv2d_12_depthwise/BatchNorm/gamma:0 from checkpoint b'/tmp/tfhub_modules/14d65617a151aa220a82c2a2c5ad68d504abbccf/variables/variables' with MobilenetV1/Conv2d_12_depthwise/BatchNorm/gamma\n"
     ]
    },
    {
     "name": "stderr",
     "output_type": "stream",
     "text": [
      "INFO:tensorflow:Initialize variable module/MobilenetV1/Conv2d_12_depthwise/BatchNorm/gamma:0 from checkpoint b'/tmp/tfhub_modules/14d65617a151aa220a82c2a2c5ad68d504abbccf/variables/variables' with MobilenetV1/Conv2d_12_depthwise/BatchNorm/gamma\n"
     ]
    },
    {
     "name": "stdout",
     "output_type": "stream",
     "text": [
      "INFO:tensorflow:Initialize variable module/MobilenetV1/Conv2d_12_depthwise/BatchNorm/moving_mean:0 from checkpoint b'/tmp/tfhub_modules/14d65617a151aa220a82c2a2c5ad68d504abbccf/variables/variables' with MobilenetV1/Conv2d_12_depthwise/BatchNorm/moving_mean\n"
     ]
    },
    {
     "name": "stderr",
     "output_type": "stream",
     "text": [
      "INFO:tensorflow:Initialize variable module/MobilenetV1/Conv2d_12_depthwise/BatchNorm/moving_mean:0 from checkpoint b'/tmp/tfhub_modules/14d65617a151aa220a82c2a2c5ad68d504abbccf/variables/variables' with MobilenetV1/Conv2d_12_depthwise/BatchNorm/moving_mean\n"
     ]
    },
    {
     "name": "stdout",
     "output_type": "stream",
     "text": [
      "INFO:tensorflow:Initialize variable module/MobilenetV1/Conv2d_12_depthwise/BatchNorm/moving_variance:0 from checkpoint b'/tmp/tfhub_modules/14d65617a151aa220a82c2a2c5ad68d504abbccf/variables/variables' with MobilenetV1/Conv2d_12_depthwise/BatchNorm/moving_variance\n"
     ]
    },
    {
     "name": "stderr",
     "output_type": "stream",
     "text": [
      "INFO:tensorflow:Initialize variable module/MobilenetV1/Conv2d_12_depthwise/BatchNorm/moving_variance:0 from checkpoint b'/tmp/tfhub_modules/14d65617a151aa220a82c2a2c5ad68d504abbccf/variables/variables' with MobilenetV1/Conv2d_12_depthwise/BatchNorm/moving_variance\n"
     ]
    },
    {
     "name": "stdout",
     "output_type": "stream",
     "text": [
      "INFO:tensorflow:Initialize variable module/MobilenetV1/Conv2d_12_depthwise/depthwise_weights:0 from checkpoint b'/tmp/tfhub_modules/14d65617a151aa220a82c2a2c5ad68d504abbccf/variables/variables' with MobilenetV1/Conv2d_12_depthwise/depthwise_weights\n"
     ]
    },
    {
     "name": "stderr",
     "output_type": "stream",
     "text": [
      "INFO:tensorflow:Initialize variable module/MobilenetV1/Conv2d_12_depthwise/depthwise_weights:0 from checkpoint b'/tmp/tfhub_modules/14d65617a151aa220a82c2a2c5ad68d504abbccf/variables/variables' with MobilenetV1/Conv2d_12_depthwise/depthwise_weights\n"
     ]
    },
    {
     "name": "stdout",
     "output_type": "stream",
     "text": [
      "INFO:tensorflow:Initialize variable module/MobilenetV1/Conv2d_12_pointwise/BatchNorm/beta:0 from checkpoint b'/tmp/tfhub_modules/14d65617a151aa220a82c2a2c5ad68d504abbccf/variables/variables' with MobilenetV1/Conv2d_12_pointwise/BatchNorm/beta\n"
     ]
    },
    {
     "name": "stderr",
     "output_type": "stream",
     "text": [
      "INFO:tensorflow:Initialize variable module/MobilenetV1/Conv2d_12_pointwise/BatchNorm/beta:0 from checkpoint b'/tmp/tfhub_modules/14d65617a151aa220a82c2a2c5ad68d504abbccf/variables/variables' with MobilenetV1/Conv2d_12_pointwise/BatchNorm/beta\n"
     ]
    },
    {
     "name": "stdout",
     "output_type": "stream",
     "text": [
      "INFO:tensorflow:Initialize variable module/MobilenetV1/Conv2d_12_pointwise/BatchNorm/gamma:0 from checkpoint b'/tmp/tfhub_modules/14d65617a151aa220a82c2a2c5ad68d504abbccf/variables/variables' with MobilenetV1/Conv2d_12_pointwise/BatchNorm/gamma\n"
     ]
    },
    {
     "name": "stderr",
     "output_type": "stream",
     "text": [
      "INFO:tensorflow:Initialize variable module/MobilenetV1/Conv2d_12_pointwise/BatchNorm/gamma:0 from checkpoint b'/tmp/tfhub_modules/14d65617a151aa220a82c2a2c5ad68d504abbccf/variables/variables' with MobilenetV1/Conv2d_12_pointwise/BatchNorm/gamma\n"
     ]
    },
    {
     "name": "stdout",
     "output_type": "stream",
     "text": [
      "INFO:tensorflow:Initialize variable module/MobilenetV1/Conv2d_12_pointwise/BatchNorm/moving_mean:0 from checkpoint b'/tmp/tfhub_modules/14d65617a151aa220a82c2a2c5ad68d504abbccf/variables/variables' with MobilenetV1/Conv2d_12_pointwise/BatchNorm/moving_mean\n"
     ]
    },
    {
     "name": "stderr",
     "output_type": "stream",
     "text": [
      "INFO:tensorflow:Initialize variable module/MobilenetV1/Conv2d_12_pointwise/BatchNorm/moving_mean:0 from checkpoint b'/tmp/tfhub_modules/14d65617a151aa220a82c2a2c5ad68d504abbccf/variables/variables' with MobilenetV1/Conv2d_12_pointwise/BatchNorm/moving_mean\n"
     ]
    },
    {
     "name": "stdout",
     "output_type": "stream",
     "text": [
      "INFO:tensorflow:Initialize variable module/MobilenetV1/Conv2d_12_pointwise/BatchNorm/moving_variance:0 from checkpoint b'/tmp/tfhub_modules/14d65617a151aa220a82c2a2c5ad68d504abbccf/variables/variables' with MobilenetV1/Conv2d_12_pointwise/BatchNorm/moving_variance\n"
     ]
    },
    {
     "name": "stderr",
     "output_type": "stream",
     "text": [
      "INFO:tensorflow:Initialize variable module/MobilenetV1/Conv2d_12_pointwise/BatchNorm/moving_variance:0 from checkpoint b'/tmp/tfhub_modules/14d65617a151aa220a82c2a2c5ad68d504abbccf/variables/variables' with MobilenetV1/Conv2d_12_pointwise/BatchNorm/moving_variance\n"
     ]
    },
    {
     "name": "stdout",
     "output_type": "stream",
     "text": [
      "INFO:tensorflow:Initialize variable module/MobilenetV1/Conv2d_12_pointwise/weights:0 from checkpoint b'/tmp/tfhub_modules/14d65617a151aa220a82c2a2c5ad68d504abbccf/variables/variables' with MobilenetV1/Conv2d_12_pointwise/weights\n"
     ]
    },
    {
     "name": "stderr",
     "output_type": "stream",
     "text": [
      "INFO:tensorflow:Initialize variable module/MobilenetV1/Conv2d_12_pointwise/weights:0 from checkpoint b'/tmp/tfhub_modules/14d65617a151aa220a82c2a2c5ad68d504abbccf/variables/variables' with MobilenetV1/Conv2d_12_pointwise/weights\n"
     ]
    },
    {
     "name": "stdout",
     "output_type": "stream",
     "text": [
      "INFO:tensorflow:Initialize variable module/MobilenetV1/Conv2d_13_depthwise/BatchNorm/beta:0 from checkpoint b'/tmp/tfhub_modules/14d65617a151aa220a82c2a2c5ad68d504abbccf/variables/variables' with MobilenetV1/Conv2d_13_depthwise/BatchNorm/beta\n"
     ]
    },
    {
     "name": "stderr",
     "output_type": "stream",
     "text": [
      "INFO:tensorflow:Initialize variable module/MobilenetV1/Conv2d_13_depthwise/BatchNorm/beta:0 from checkpoint b'/tmp/tfhub_modules/14d65617a151aa220a82c2a2c5ad68d504abbccf/variables/variables' with MobilenetV1/Conv2d_13_depthwise/BatchNorm/beta\n"
     ]
    },
    {
     "name": "stdout",
     "output_type": "stream",
     "text": [
      "INFO:tensorflow:Initialize variable module/MobilenetV1/Conv2d_13_depthwise/BatchNorm/gamma:0 from checkpoint b'/tmp/tfhub_modules/14d65617a151aa220a82c2a2c5ad68d504abbccf/variables/variables' with MobilenetV1/Conv2d_13_depthwise/BatchNorm/gamma\n"
     ]
    },
    {
     "name": "stderr",
     "output_type": "stream",
     "text": [
      "INFO:tensorflow:Initialize variable module/MobilenetV1/Conv2d_13_depthwise/BatchNorm/gamma:0 from checkpoint b'/tmp/tfhub_modules/14d65617a151aa220a82c2a2c5ad68d504abbccf/variables/variables' with MobilenetV1/Conv2d_13_depthwise/BatchNorm/gamma\n"
     ]
    },
    {
     "name": "stdout",
     "output_type": "stream",
     "text": [
      "INFO:tensorflow:Initialize variable module/MobilenetV1/Conv2d_13_depthwise/BatchNorm/moving_mean:0 from checkpoint b'/tmp/tfhub_modules/14d65617a151aa220a82c2a2c5ad68d504abbccf/variables/variables' with MobilenetV1/Conv2d_13_depthwise/BatchNorm/moving_mean\n"
     ]
    },
    {
     "name": "stderr",
     "output_type": "stream",
     "text": [
      "INFO:tensorflow:Initialize variable module/MobilenetV1/Conv2d_13_depthwise/BatchNorm/moving_mean:0 from checkpoint b'/tmp/tfhub_modules/14d65617a151aa220a82c2a2c5ad68d504abbccf/variables/variables' with MobilenetV1/Conv2d_13_depthwise/BatchNorm/moving_mean\n"
     ]
    },
    {
     "name": "stdout",
     "output_type": "stream",
     "text": [
      "INFO:tensorflow:Initialize variable module/MobilenetV1/Conv2d_13_depthwise/BatchNorm/moving_variance:0 from checkpoint b'/tmp/tfhub_modules/14d65617a151aa220a82c2a2c5ad68d504abbccf/variables/variables' with MobilenetV1/Conv2d_13_depthwise/BatchNorm/moving_variance\n"
     ]
    },
    {
     "name": "stderr",
     "output_type": "stream",
     "text": [
      "INFO:tensorflow:Initialize variable module/MobilenetV1/Conv2d_13_depthwise/BatchNorm/moving_variance:0 from checkpoint b'/tmp/tfhub_modules/14d65617a151aa220a82c2a2c5ad68d504abbccf/variables/variables' with MobilenetV1/Conv2d_13_depthwise/BatchNorm/moving_variance\n"
     ]
    },
    {
     "name": "stdout",
     "output_type": "stream",
     "text": [
      "INFO:tensorflow:Initialize variable module/MobilenetV1/Conv2d_13_depthwise/depthwise_weights:0 from checkpoint b'/tmp/tfhub_modules/14d65617a151aa220a82c2a2c5ad68d504abbccf/variables/variables' with MobilenetV1/Conv2d_13_depthwise/depthwise_weights\n"
     ]
    },
    {
     "name": "stderr",
     "output_type": "stream",
     "text": [
      "INFO:tensorflow:Initialize variable module/MobilenetV1/Conv2d_13_depthwise/depthwise_weights:0 from checkpoint b'/tmp/tfhub_modules/14d65617a151aa220a82c2a2c5ad68d504abbccf/variables/variables' with MobilenetV1/Conv2d_13_depthwise/depthwise_weights\n"
     ]
    },
    {
     "name": "stdout",
     "output_type": "stream",
     "text": [
      "INFO:tensorflow:Initialize variable module/MobilenetV1/Conv2d_13_pointwise/BatchNorm/beta:0 from checkpoint b'/tmp/tfhub_modules/14d65617a151aa220a82c2a2c5ad68d504abbccf/variables/variables' with MobilenetV1/Conv2d_13_pointwise/BatchNorm/beta\n"
     ]
    },
    {
     "name": "stderr",
     "output_type": "stream",
     "text": [
      "INFO:tensorflow:Initialize variable module/MobilenetV1/Conv2d_13_pointwise/BatchNorm/beta:0 from checkpoint b'/tmp/tfhub_modules/14d65617a151aa220a82c2a2c5ad68d504abbccf/variables/variables' with MobilenetV1/Conv2d_13_pointwise/BatchNorm/beta\n"
     ]
    },
    {
     "name": "stdout",
     "output_type": "stream",
     "text": [
      "INFO:tensorflow:Initialize variable module/MobilenetV1/Conv2d_13_pointwise/BatchNorm/gamma:0 from checkpoint b'/tmp/tfhub_modules/14d65617a151aa220a82c2a2c5ad68d504abbccf/variables/variables' with MobilenetV1/Conv2d_13_pointwise/BatchNorm/gamma\n"
     ]
    },
    {
     "name": "stderr",
     "output_type": "stream",
     "text": [
      "INFO:tensorflow:Initialize variable module/MobilenetV1/Conv2d_13_pointwise/BatchNorm/gamma:0 from checkpoint b'/tmp/tfhub_modules/14d65617a151aa220a82c2a2c5ad68d504abbccf/variables/variables' with MobilenetV1/Conv2d_13_pointwise/BatchNorm/gamma\n"
     ]
    },
    {
     "name": "stdout",
     "output_type": "stream",
     "text": [
      "INFO:tensorflow:Initialize variable module/MobilenetV1/Conv2d_13_pointwise/BatchNorm/moving_mean:0 from checkpoint b'/tmp/tfhub_modules/14d65617a151aa220a82c2a2c5ad68d504abbccf/variables/variables' with MobilenetV1/Conv2d_13_pointwise/BatchNorm/moving_mean\n"
     ]
    },
    {
     "name": "stderr",
     "output_type": "stream",
     "text": [
      "INFO:tensorflow:Initialize variable module/MobilenetV1/Conv2d_13_pointwise/BatchNorm/moving_mean:0 from checkpoint b'/tmp/tfhub_modules/14d65617a151aa220a82c2a2c5ad68d504abbccf/variables/variables' with MobilenetV1/Conv2d_13_pointwise/BatchNorm/moving_mean\n"
     ]
    },
    {
     "name": "stdout",
     "output_type": "stream",
     "text": [
      "INFO:tensorflow:Initialize variable module/MobilenetV1/Conv2d_13_pointwise/BatchNorm/moving_variance:0 from checkpoint b'/tmp/tfhub_modules/14d65617a151aa220a82c2a2c5ad68d504abbccf/variables/variables' with MobilenetV1/Conv2d_13_pointwise/BatchNorm/moving_variance\n"
     ]
    },
    {
     "name": "stderr",
     "output_type": "stream",
     "text": [
      "INFO:tensorflow:Initialize variable module/MobilenetV1/Conv2d_13_pointwise/BatchNorm/moving_variance:0 from checkpoint b'/tmp/tfhub_modules/14d65617a151aa220a82c2a2c5ad68d504abbccf/variables/variables' with MobilenetV1/Conv2d_13_pointwise/BatchNorm/moving_variance\n"
     ]
    },
    {
     "name": "stdout",
     "output_type": "stream",
     "text": [
      "INFO:tensorflow:Initialize variable module/MobilenetV1/Conv2d_13_pointwise/weights:0 from checkpoint b'/tmp/tfhub_modules/14d65617a151aa220a82c2a2c5ad68d504abbccf/variables/variables' with MobilenetV1/Conv2d_13_pointwise/weights\n"
     ]
    },
    {
     "name": "stderr",
     "output_type": "stream",
     "text": [
      "INFO:tensorflow:Initialize variable module/MobilenetV1/Conv2d_13_pointwise/weights:0 from checkpoint b'/tmp/tfhub_modules/14d65617a151aa220a82c2a2c5ad68d504abbccf/variables/variables' with MobilenetV1/Conv2d_13_pointwise/weights\n"
     ]
    },
    {
     "name": "stdout",
     "output_type": "stream",
     "text": [
      "INFO:tensorflow:Initialize variable module/MobilenetV1/Conv2d_1_depthwise/BatchNorm/beta:0 from checkpoint b'/tmp/tfhub_modules/14d65617a151aa220a82c2a2c5ad68d504abbccf/variables/variables' with MobilenetV1/Conv2d_1_depthwise/BatchNorm/beta\n"
     ]
    },
    {
     "name": "stderr",
     "output_type": "stream",
     "text": [
      "INFO:tensorflow:Initialize variable module/MobilenetV1/Conv2d_1_depthwise/BatchNorm/beta:0 from checkpoint b'/tmp/tfhub_modules/14d65617a151aa220a82c2a2c5ad68d504abbccf/variables/variables' with MobilenetV1/Conv2d_1_depthwise/BatchNorm/beta\n"
     ]
    },
    {
     "name": "stdout",
     "output_type": "stream",
     "text": [
      "INFO:tensorflow:Initialize variable module/MobilenetV1/Conv2d_1_depthwise/BatchNorm/gamma:0 from checkpoint b'/tmp/tfhub_modules/14d65617a151aa220a82c2a2c5ad68d504abbccf/variables/variables' with MobilenetV1/Conv2d_1_depthwise/BatchNorm/gamma\n"
     ]
    },
    {
     "name": "stderr",
     "output_type": "stream",
     "text": [
      "INFO:tensorflow:Initialize variable module/MobilenetV1/Conv2d_1_depthwise/BatchNorm/gamma:0 from checkpoint b'/tmp/tfhub_modules/14d65617a151aa220a82c2a2c5ad68d504abbccf/variables/variables' with MobilenetV1/Conv2d_1_depthwise/BatchNorm/gamma\n"
     ]
    },
    {
     "name": "stdout",
     "output_type": "stream",
     "text": [
      "INFO:tensorflow:Initialize variable module/MobilenetV1/Conv2d_1_depthwise/BatchNorm/moving_mean:0 from checkpoint b'/tmp/tfhub_modules/14d65617a151aa220a82c2a2c5ad68d504abbccf/variables/variables' with MobilenetV1/Conv2d_1_depthwise/BatchNorm/moving_mean\n"
     ]
    },
    {
     "name": "stderr",
     "output_type": "stream",
     "text": [
      "INFO:tensorflow:Initialize variable module/MobilenetV1/Conv2d_1_depthwise/BatchNorm/moving_mean:0 from checkpoint b'/tmp/tfhub_modules/14d65617a151aa220a82c2a2c5ad68d504abbccf/variables/variables' with MobilenetV1/Conv2d_1_depthwise/BatchNorm/moving_mean\n"
     ]
    },
    {
     "name": "stdout",
     "output_type": "stream",
     "text": [
      "INFO:tensorflow:Initialize variable module/MobilenetV1/Conv2d_1_depthwise/BatchNorm/moving_variance:0 from checkpoint b'/tmp/tfhub_modules/14d65617a151aa220a82c2a2c5ad68d504abbccf/variables/variables' with MobilenetV1/Conv2d_1_depthwise/BatchNorm/moving_variance\n"
     ]
    },
    {
     "name": "stderr",
     "output_type": "stream",
     "text": [
      "INFO:tensorflow:Initialize variable module/MobilenetV1/Conv2d_1_depthwise/BatchNorm/moving_variance:0 from checkpoint b'/tmp/tfhub_modules/14d65617a151aa220a82c2a2c5ad68d504abbccf/variables/variables' with MobilenetV1/Conv2d_1_depthwise/BatchNorm/moving_variance\n"
     ]
    },
    {
     "name": "stdout",
     "output_type": "stream",
     "text": [
      "INFO:tensorflow:Initialize variable module/MobilenetV1/Conv2d_1_depthwise/depthwise_weights:0 from checkpoint b'/tmp/tfhub_modules/14d65617a151aa220a82c2a2c5ad68d504abbccf/variables/variables' with MobilenetV1/Conv2d_1_depthwise/depthwise_weights\n"
     ]
    },
    {
     "name": "stderr",
     "output_type": "stream",
     "text": [
      "INFO:tensorflow:Initialize variable module/MobilenetV1/Conv2d_1_depthwise/depthwise_weights:0 from checkpoint b'/tmp/tfhub_modules/14d65617a151aa220a82c2a2c5ad68d504abbccf/variables/variables' with MobilenetV1/Conv2d_1_depthwise/depthwise_weights\n"
     ]
    },
    {
     "name": "stdout",
     "output_type": "stream",
     "text": [
      "INFO:tensorflow:Initialize variable module/MobilenetV1/Conv2d_1_pointwise/BatchNorm/beta:0 from checkpoint b'/tmp/tfhub_modules/14d65617a151aa220a82c2a2c5ad68d504abbccf/variables/variables' with MobilenetV1/Conv2d_1_pointwise/BatchNorm/beta\n"
     ]
    },
    {
     "name": "stderr",
     "output_type": "stream",
     "text": [
      "INFO:tensorflow:Initialize variable module/MobilenetV1/Conv2d_1_pointwise/BatchNorm/beta:0 from checkpoint b'/tmp/tfhub_modules/14d65617a151aa220a82c2a2c5ad68d504abbccf/variables/variables' with MobilenetV1/Conv2d_1_pointwise/BatchNorm/beta\n"
     ]
    },
    {
     "name": "stdout",
     "output_type": "stream",
     "text": [
      "INFO:tensorflow:Initialize variable module/MobilenetV1/Conv2d_1_pointwise/BatchNorm/gamma:0 from checkpoint b'/tmp/tfhub_modules/14d65617a151aa220a82c2a2c5ad68d504abbccf/variables/variables' with MobilenetV1/Conv2d_1_pointwise/BatchNorm/gamma\n"
     ]
    },
    {
     "name": "stderr",
     "output_type": "stream",
     "text": [
      "INFO:tensorflow:Initialize variable module/MobilenetV1/Conv2d_1_pointwise/BatchNorm/gamma:0 from checkpoint b'/tmp/tfhub_modules/14d65617a151aa220a82c2a2c5ad68d504abbccf/variables/variables' with MobilenetV1/Conv2d_1_pointwise/BatchNorm/gamma\n"
     ]
    },
    {
     "name": "stdout",
     "output_type": "stream",
     "text": [
      "INFO:tensorflow:Initialize variable module/MobilenetV1/Conv2d_1_pointwise/BatchNorm/moving_mean:0 from checkpoint b'/tmp/tfhub_modules/14d65617a151aa220a82c2a2c5ad68d504abbccf/variables/variables' with MobilenetV1/Conv2d_1_pointwise/BatchNorm/moving_mean\n"
     ]
    },
    {
     "name": "stderr",
     "output_type": "stream",
     "text": [
      "INFO:tensorflow:Initialize variable module/MobilenetV1/Conv2d_1_pointwise/BatchNorm/moving_mean:0 from checkpoint b'/tmp/tfhub_modules/14d65617a151aa220a82c2a2c5ad68d504abbccf/variables/variables' with MobilenetV1/Conv2d_1_pointwise/BatchNorm/moving_mean\n"
     ]
    },
    {
     "name": "stdout",
     "output_type": "stream",
     "text": [
      "INFO:tensorflow:Initialize variable module/MobilenetV1/Conv2d_1_pointwise/BatchNorm/moving_variance:0 from checkpoint b'/tmp/tfhub_modules/14d65617a151aa220a82c2a2c5ad68d504abbccf/variables/variables' with MobilenetV1/Conv2d_1_pointwise/BatchNorm/moving_variance\n"
     ]
    },
    {
     "name": "stderr",
     "output_type": "stream",
     "text": [
      "INFO:tensorflow:Initialize variable module/MobilenetV1/Conv2d_1_pointwise/BatchNorm/moving_variance:0 from checkpoint b'/tmp/tfhub_modules/14d65617a151aa220a82c2a2c5ad68d504abbccf/variables/variables' with MobilenetV1/Conv2d_1_pointwise/BatchNorm/moving_variance\n"
     ]
    },
    {
     "name": "stdout",
     "output_type": "stream",
     "text": [
      "INFO:tensorflow:Initialize variable module/MobilenetV1/Conv2d_1_pointwise/weights:0 from checkpoint b'/tmp/tfhub_modules/14d65617a151aa220a82c2a2c5ad68d504abbccf/variables/variables' with MobilenetV1/Conv2d_1_pointwise/weights\n"
     ]
    },
    {
     "name": "stderr",
     "output_type": "stream",
     "text": [
      "INFO:tensorflow:Initialize variable module/MobilenetV1/Conv2d_1_pointwise/weights:0 from checkpoint b'/tmp/tfhub_modules/14d65617a151aa220a82c2a2c5ad68d504abbccf/variables/variables' with MobilenetV1/Conv2d_1_pointwise/weights\n"
     ]
    },
    {
     "name": "stdout",
     "output_type": "stream",
     "text": [
      "INFO:tensorflow:Initialize variable module/MobilenetV1/Conv2d_2_depthwise/BatchNorm/beta:0 from checkpoint b'/tmp/tfhub_modules/14d65617a151aa220a82c2a2c5ad68d504abbccf/variables/variables' with MobilenetV1/Conv2d_2_depthwise/BatchNorm/beta\n"
     ]
    },
    {
     "name": "stderr",
     "output_type": "stream",
     "text": [
      "INFO:tensorflow:Initialize variable module/MobilenetV1/Conv2d_2_depthwise/BatchNorm/beta:0 from checkpoint b'/tmp/tfhub_modules/14d65617a151aa220a82c2a2c5ad68d504abbccf/variables/variables' with MobilenetV1/Conv2d_2_depthwise/BatchNorm/beta\n"
     ]
    },
    {
     "name": "stdout",
     "output_type": "stream",
     "text": [
      "INFO:tensorflow:Initialize variable module/MobilenetV1/Conv2d_2_depthwise/BatchNorm/gamma:0 from checkpoint b'/tmp/tfhub_modules/14d65617a151aa220a82c2a2c5ad68d504abbccf/variables/variables' with MobilenetV1/Conv2d_2_depthwise/BatchNorm/gamma\n"
     ]
    },
    {
     "name": "stderr",
     "output_type": "stream",
     "text": [
      "INFO:tensorflow:Initialize variable module/MobilenetV1/Conv2d_2_depthwise/BatchNorm/gamma:0 from checkpoint b'/tmp/tfhub_modules/14d65617a151aa220a82c2a2c5ad68d504abbccf/variables/variables' with MobilenetV1/Conv2d_2_depthwise/BatchNorm/gamma\n"
     ]
    },
    {
     "name": "stdout",
     "output_type": "stream",
     "text": [
      "INFO:tensorflow:Initialize variable module/MobilenetV1/Conv2d_2_depthwise/BatchNorm/moving_mean:0 from checkpoint b'/tmp/tfhub_modules/14d65617a151aa220a82c2a2c5ad68d504abbccf/variables/variables' with MobilenetV1/Conv2d_2_depthwise/BatchNorm/moving_mean\n"
     ]
    },
    {
     "name": "stderr",
     "output_type": "stream",
     "text": [
      "INFO:tensorflow:Initialize variable module/MobilenetV1/Conv2d_2_depthwise/BatchNorm/moving_mean:0 from checkpoint b'/tmp/tfhub_modules/14d65617a151aa220a82c2a2c5ad68d504abbccf/variables/variables' with MobilenetV1/Conv2d_2_depthwise/BatchNorm/moving_mean\n"
     ]
    },
    {
     "name": "stdout",
     "output_type": "stream",
     "text": [
      "INFO:tensorflow:Initialize variable module/MobilenetV1/Conv2d_2_depthwise/BatchNorm/moving_variance:0 from checkpoint b'/tmp/tfhub_modules/14d65617a151aa220a82c2a2c5ad68d504abbccf/variables/variables' with MobilenetV1/Conv2d_2_depthwise/BatchNorm/moving_variance\n"
     ]
    },
    {
     "name": "stderr",
     "output_type": "stream",
     "text": [
      "INFO:tensorflow:Initialize variable module/MobilenetV1/Conv2d_2_depthwise/BatchNorm/moving_variance:0 from checkpoint b'/tmp/tfhub_modules/14d65617a151aa220a82c2a2c5ad68d504abbccf/variables/variables' with MobilenetV1/Conv2d_2_depthwise/BatchNorm/moving_variance\n"
     ]
    },
    {
     "name": "stdout",
     "output_type": "stream",
     "text": [
      "INFO:tensorflow:Initialize variable module/MobilenetV1/Conv2d_2_depthwise/depthwise_weights:0 from checkpoint b'/tmp/tfhub_modules/14d65617a151aa220a82c2a2c5ad68d504abbccf/variables/variables' with MobilenetV1/Conv2d_2_depthwise/depthwise_weights\n"
     ]
    },
    {
     "name": "stderr",
     "output_type": "stream",
     "text": [
      "INFO:tensorflow:Initialize variable module/MobilenetV1/Conv2d_2_depthwise/depthwise_weights:0 from checkpoint b'/tmp/tfhub_modules/14d65617a151aa220a82c2a2c5ad68d504abbccf/variables/variables' with MobilenetV1/Conv2d_2_depthwise/depthwise_weights\n"
     ]
    },
    {
     "name": "stdout",
     "output_type": "stream",
     "text": [
      "INFO:tensorflow:Initialize variable module/MobilenetV1/Conv2d_2_pointwise/BatchNorm/beta:0 from checkpoint b'/tmp/tfhub_modules/14d65617a151aa220a82c2a2c5ad68d504abbccf/variables/variables' with MobilenetV1/Conv2d_2_pointwise/BatchNorm/beta\n"
     ]
    },
    {
     "name": "stderr",
     "output_type": "stream",
     "text": [
      "INFO:tensorflow:Initialize variable module/MobilenetV1/Conv2d_2_pointwise/BatchNorm/beta:0 from checkpoint b'/tmp/tfhub_modules/14d65617a151aa220a82c2a2c5ad68d504abbccf/variables/variables' with MobilenetV1/Conv2d_2_pointwise/BatchNorm/beta\n"
     ]
    },
    {
     "name": "stdout",
     "output_type": "stream",
     "text": [
      "INFO:tensorflow:Initialize variable module/MobilenetV1/Conv2d_2_pointwise/BatchNorm/gamma:0 from checkpoint b'/tmp/tfhub_modules/14d65617a151aa220a82c2a2c5ad68d504abbccf/variables/variables' with MobilenetV1/Conv2d_2_pointwise/BatchNorm/gamma\n"
     ]
    },
    {
     "name": "stderr",
     "output_type": "stream",
     "text": [
      "INFO:tensorflow:Initialize variable module/MobilenetV1/Conv2d_2_pointwise/BatchNorm/gamma:0 from checkpoint b'/tmp/tfhub_modules/14d65617a151aa220a82c2a2c5ad68d504abbccf/variables/variables' with MobilenetV1/Conv2d_2_pointwise/BatchNorm/gamma\n"
     ]
    },
    {
     "name": "stdout",
     "output_type": "stream",
     "text": [
      "INFO:tensorflow:Initialize variable module/MobilenetV1/Conv2d_2_pointwise/BatchNorm/moving_mean:0 from checkpoint b'/tmp/tfhub_modules/14d65617a151aa220a82c2a2c5ad68d504abbccf/variables/variables' with MobilenetV1/Conv2d_2_pointwise/BatchNorm/moving_mean\n"
     ]
    },
    {
     "name": "stderr",
     "output_type": "stream",
     "text": [
      "INFO:tensorflow:Initialize variable module/MobilenetV1/Conv2d_2_pointwise/BatchNorm/moving_mean:0 from checkpoint b'/tmp/tfhub_modules/14d65617a151aa220a82c2a2c5ad68d504abbccf/variables/variables' with MobilenetV1/Conv2d_2_pointwise/BatchNorm/moving_mean\n"
     ]
    },
    {
     "name": "stdout",
     "output_type": "stream",
     "text": [
      "INFO:tensorflow:Initialize variable module/MobilenetV1/Conv2d_2_pointwise/BatchNorm/moving_variance:0 from checkpoint b'/tmp/tfhub_modules/14d65617a151aa220a82c2a2c5ad68d504abbccf/variables/variables' with MobilenetV1/Conv2d_2_pointwise/BatchNorm/moving_variance\n"
     ]
    },
    {
     "name": "stderr",
     "output_type": "stream",
     "text": [
      "INFO:tensorflow:Initialize variable module/MobilenetV1/Conv2d_2_pointwise/BatchNorm/moving_variance:0 from checkpoint b'/tmp/tfhub_modules/14d65617a151aa220a82c2a2c5ad68d504abbccf/variables/variables' with MobilenetV1/Conv2d_2_pointwise/BatchNorm/moving_variance\n"
     ]
    },
    {
     "name": "stdout",
     "output_type": "stream",
     "text": [
      "INFO:tensorflow:Initialize variable module/MobilenetV1/Conv2d_2_pointwise/weights:0 from checkpoint b'/tmp/tfhub_modules/14d65617a151aa220a82c2a2c5ad68d504abbccf/variables/variables' with MobilenetV1/Conv2d_2_pointwise/weights\n"
     ]
    },
    {
     "name": "stderr",
     "output_type": "stream",
     "text": [
      "INFO:tensorflow:Initialize variable module/MobilenetV1/Conv2d_2_pointwise/weights:0 from checkpoint b'/tmp/tfhub_modules/14d65617a151aa220a82c2a2c5ad68d504abbccf/variables/variables' with MobilenetV1/Conv2d_2_pointwise/weights\n"
     ]
    },
    {
     "name": "stdout",
     "output_type": "stream",
     "text": [
      "INFO:tensorflow:Initialize variable module/MobilenetV1/Conv2d_3_depthwise/BatchNorm/beta:0 from checkpoint b'/tmp/tfhub_modules/14d65617a151aa220a82c2a2c5ad68d504abbccf/variables/variables' with MobilenetV1/Conv2d_3_depthwise/BatchNorm/beta\n"
     ]
    },
    {
     "name": "stderr",
     "output_type": "stream",
     "text": [
      "INFO:tensorflow:Initialize variable module/MobilenetV1/Conv2d_3_depthwise/BatchNorm/beta:0 from checkpoint b'/tmp/tfhub_modules/14d65617a151aa220a82c2a2c5ad68d504abbccf/variables/variables' with MobilenetV1/Conv2d_3_depthwise/BatchNorm/beta\n"
     ]
    },
    {
     "name": "stdout",
     "output_type": "stream",
     "text": [
      "INFO:tensorflow:Initialize variable module/MobilenetV1/Conv2d_3_depthwise/BatchNorm/gamma:0 from checkpoint b'/tmp/tfhub_modules/14d65617a151aa220a82c2a2c5ad68d504abbccf/variables/variables' with MobilenetV1/Conv2d_3_depthwise/BatchNorm/gamma\n"
     ]
    },
    {
     "name": "stderr",
     "output_type": "stream",
     "text": [
      "INFO:tensorflow:Initialize variable module/MobilenetV1/Conv2d_3_depthwise/BatchNorm/gamma:0 from checkpoint b'/tmp/tfhub_modules/14d65617a151aa220a82c2a2c5ad68d504abbccf/variables/variables' with MobilenetV1/Conv2d_3_depthwise/BatchNorm/gamma\n"
     ]
    },
    {
     "name": "stdout",
     "output_type": "stream",
     "text": [
      "INFO:tensorflow:Initialize variable module/MobilenetV1/Conv2d_3_depthwise/BatchNorm/moving_mean:0 from checkpoint b'/tmp/tfhub_modules/14d65617a151aa220a82c2a2c5ad68d504abbccf/variables/variables' with MobilenetV1/Conv2d_3_depthwise/BatchNorm/moving_mean\n"
     ]
    },
    {
     "name": "stderr",
     "output_type": "stream",
     "text": [
      "INFO:tensorflow:Initialize variable module/MobilenetV1/Conv2d_3_depthwise/BatchNorm/moving_mean:0 from checkpoint b'/tmp/tfhub_modules/14d65617a151aa220a82c2a2c5ad68d504abbccf/variables/variables' with MobilenetV1/Conv2d_3_depthwise/BatchNorm/moving_mean\n"
     ]
    },
    {
     "name": "stdout",
     "output_type": "stream",
     "text": [
      "INFO:tensorflow:Initialize variable module/MobilenetV1/Conv2d_3_depthwise/BatchNorm/moving_variance:0 from checkpoint b'/tmp/tfhub_modules/14d65617a151aa220a82c2a2c5ad68d504abbccf/variables/variables' with MobilenetV1/Conv2d_3_depthwise/BatchNorm/moving_variance\n"
     ]
    },
    {
     "name": "stderr",
     "output_type": "stream",
     "text": [
      "INFO:tensorflow:Initialize variable module/MobilenetV1/Conv2d_3_depthwise/BatchNorm/moving_variance:0 from checkpoint b'/tmp/tfhub_modules/14d65617a151aa220a82c2a2c5ad68d504abbccf/variables/variables' with MobilenetV1/Conv2d_3_depthwise/BatchNorm/moving_variance\n"
     ]
    },
    {
     "name": "stdout",
     "output_type": "stream",
     "text": [
      "INFO:tensorflow:Initialize variable module/MobilenetV1/Conv2d_3_depthwise/depthwise_weights:0 from checkpoint b'/tmp/tfhub_modules/14d65617a151aa220a82c2a2c5ad68d504abbccf/variables/variables' with MobilenetV1/Conv2d_3_depthwise/depthwise_weights\n"
     ]
    },
    {
     "name": "stderr",
     "output_type": "stream",
     "text": [
      "INFO:tensorflow:Initialize variable module/MobilenetV1/Conv2d_3_depthwise/depthwise_weights:0 from checkpoint b'/tmp/tfhub_modules/14d65617a151aa220a82c2a2c5ad68d504abbccf/variables/variables' with MobilenetV1/Conv2d_3_depthwise/depthwise_weights\n"
     ]
    },
    {
     "name": "stdout",
     "output_type": "stream",
     "text": [
      "INFO:tensorflow:Initialize variable module/MobilenetV1/Conv2d_3_pointwise/BatchNorm/beta:0 from checkpoint b'/tmp/tfhub_modules/14d65617a151aa220a82c2a2c5ad68d504abbccf/variables/variables' with MobilenetV1/Conv2d_3_pointwise/BatchNorm/beta\n"
     ]
    },
    {
     "name": "stderr",
     "output_type": "stream",
     "text": [
      "INFO:tensorflow:Initialize variable module/MobilenetV1/Conv2d_3_pointwise/BatchNorm/beta:0 from checkpoint b'/tmp/tfhub_modules/14d65617a151aa220a82c2a2c5ad68d504abbccf/variables/variables' with MobilenetV1/Conv2d_3_pointwise/BatchNorm/beta\n"
     ]
    },
    {
     "name": "stdout",
     "output_type": "stream",
     "text": [
      "INFO:tensorflow:Initialize variable module/MobilenetV1/Conv2d_3_pointwise/BatchNorm/gamma:0 from checkpoint b'/tmp/tfhub_modules/14d65617a151aa220a82c2a2c5ad68d504abbccf/variables/variables' with MobilenetV1/Conv2d_3_pointwise/BatchNorm/gamma\n"
     ]
    },
    {
     "name": "stderr",
     "output_type": "stream",
     "text": [
      "INFO:tensorflow:Initialize variable module/MobilenetV1/Conv2d_3_pointwise/BatchNorm/gamma:0 from checkpoint b'/tmp/tfhub_modules/14d65617a151aa220a82c2a2c5ad68d504abbccf/variables/variables' with MobilenetV1/Conv2d_3_pointwise/BatchNorm/gamma\n"
     ]
    },
    {
     "name": "stdout",
     "output_type": "stream",
     "text": [
      "INFO:tensorflow:Initialize variable module/MobilenetV1/Conv2d_3_pointwise/BatchNorm/moving_mean:0 from checkpoint b'/tmp/tfhub_modules/14d65617a151aa220a82c2a2c5ad68d504abbccf/variables/variables' with MobilenetV1/Conv2d_3_pointwise/BatchNorm/moving_mean\n"
     ]
    },
    {
     "name": "stderr",
     "output_type": "stream",
     "text": [
      "INFO:tensorflow:Initialize variable module/MobilenetV1/Conv2d_3_pointwise/BatchNorm/moving_mean:0 from checkpoint b'/tmp/tfhub_modules/14d65617a151aa220a82c2a2c5ad68d504abbccf/variables/variables' with MobilenetV1/Conv2d_3_pointwise/BatchNorm/moving_mean\n"
     ]
    },
    {
     "name": "stdout",
     "output_type": "stream",
     "text": [
      "INFO:tensorflow:Initialize variable module/MobilenetV1/Conv2d_3_pointwise/BatchNorm/moving_variance:0 from checkpoint b'/tmp/tfhub_modules/14d65617a151aa220a82c2a2c5ad68d504abbccf/variables/variables' with MobilenetV1/Conv2d_3_pointwise/BatchNorm/moving_variance\n"
     ]
    },
    {
     "name": "stderr",
     "output_type": "stream",
     "text": [
      "INFO:tensorflow:Initialize variable module/MobilenetV1/Conv2d_3_pointwise/BatchNorm/moving_variance:0 from checkpoint b'/tmp/tfhub_modules/14d65617a151aa220a82c2a2c5ad68d504abbccf/variables/variables' with MobilenetV1/Conv2d_3_pointwise/BatchNorm/moving_variance\n"
     ]
    },
    {
     "name": "stdout",
     "output_type": "stream",
     "text": [
      "INFO:tensorflow:Initialize variable module/MobilenetV1/Conv2d_3_pointwise/weights:0 from checkpoint b'/tmp/tfhub_modules/14d65617a151aa220a82c2a2c5ad68d504abbccf/variables/variables' with MobilenetV1/Conv2d_3_pointwise/weights\n"
     ]
    },
    {
     "name": "stderr",
     "output_type": "stream",
     "text": [
      "INFO:tensorflow:Initialize variable module/MobilenetV1/Conv2d_3_pointwise/weights:0 from checkpoint b'/tmp/tfhub_modules/14d65617a151aa220a82c2a2c5ad68d504abbccf/variables/variables' with MobilenetV1/Conv2d_3_pointwise/weights\n"
     ]
    },
    {
     "name": "stdout",
     "output_type": "stream",
     "text": [
      "INFO:tensorflow:Initialize variable module/MobilenetV1/Conv2d_4_depthwise/BatchNorm/beta:0 from checkpoint b'/tmp/tfhub_modules/14d65617a151aa220a82c2a2c5ad68d504abbccf/variables/variables' with MobilenetV1/Conv2d_4_depthwise/BatchNorm/beta\n"
     ]
    },
    {
     "name": "stderr",
     "output_type": "stream",
     "text": [
      "INFO:tensorflow:Initialize variable module/MobilenetV1/Conv2d_4_depthwise/BatchNorm/beta:0 from checkpoint b'/tmp/tfhub_modules/14d65617a151aa220a82c2a2c5ad68d504abbccf/variables/variables' with MobilenetV1/Conv2d_4_depthwise/BatchNorm/beta\n"
     ]
    },
    {
     "name": "stdout",
     "output_type": "stream",
     "text": [
      "INFO:tensorflow:Initialize variable module/MobilenetV1/Conv2d_4_depthwise/BatchNorm/gamma:0 from checkpoint b'/tmp/tfhub_modules/14d65617a151aa220a82c2a2c5ad68d504abbccf/variables/variables' with MobilenetV1/Conv2d_4_depthwise/BatchNorm/gamma\n"
     ]
    },
    {
     "name": "stderr",
     "output_type": "stream",
     "text": [
      "INFO:tensorflow:Initialize variable module/MobilenetV1/Conv2d_4_depthwise/BatchNorm/gamma:0 from checkpoint b'/tmp/tfhub_modules/14d65617a151aa220a82c2a2c5ad68d504abbccf/variables/variables' with MobilenetV1/Conv2d_4_depthwise/BatchNorm/gamma\n"
     ]
    },
    {
     "name": "stdout",
     "output_type": "stream",
     "text": [
      "INFO:tensorflow:Initialize variable module/MobilenetV1/Conv2d_4_depthwise/BatchNorm/moving_mean:0 from checkpoint b'/tmp/tfhub_modules/14d65617a151aa220a82c2a2c5ad68d504abbccf/variables/variables' with MobilenetV1/Conv2d_4_depthwise/BatchNorm/moving_mean\n"
     ]
    },
    {
     "name": "stderr",
     "output_type": "stream",
     "text": [
      "INFO:tensorflow:Initialize variable module/MobilenetV1/Conv2d_4_depthwise/BatchNorm/moving_mean:0 from checkpoint b'/tmp/tfhub_modules/14d65617a151aa220a82c2a2c5ad68d504abbccf/variables/variables' with MobilenetV1/Conv2d_4_depthwise/BatchNorm/moving_mean\n"
     ]
    },
    {
     "name": "stdout",
     "output_type": "stream",
     "text": [
      "INFO:tensorflow:Initialize variable module/MobilenetV1/Conv2d_4_depthwise/BatchNorm/moving_variance:0 from checkpoint b'/tmp/tfhub_modules/14d65617a151aa220a82c2a2c5ad68d504abbccf/variables/variables' with MobilenetV1/Conv2d_4_depthwise/BatchNorm/moving_variance\n"
     ]
    },
    {
     "name": "stderr",
     "output_type": "stream",
     "text": [
      "INFO:tensorflow:Initialize variable module/MobilenetV1/Conv2d_4_depthwise/BatchNorm/moving_variance:0 from checkpoint b'/tmp/tfhub_modules/14d65617a151aa220a82c2a2c5ad68d504abbccf/variables/variables' with MobilenetV1/Conv2d_4_depthwise/BatchNorm/moving_variance\n"
     ]
    },
    {
     "name": "stdout",
     "output_type": "stream",
     "text": [
      "INFO:tensorflow:Initialize variable module/MobilenetV1/Conv2d_4_depthwise/depthwise_weights:0 from checkpoint b'/tmp/tfhub_modules/14d65617a151aa220a82c2a2c5ad68d504abbccf/variables/variables' with MobilenetV1/Conv2d_4_depthwise/depthwise_weights\n"
     ]
    },
    {
     "name": "stderr",
     "output_type": "stream",
     "text": [
      "INFO:tensorflow:Initialize variable module/MobilenetV1/Conv2d_4_depthwise/depthwise_weights:0 from checkpoint b'/tmp/tfhub_modules/14d65617a151aa220a82c2a2c5ad68d504abbccf/variables/variables' with MobilenetV1/Conv2d_4_depthwise/depthwise_weights\n"
     ]
    },
    {
     "name": "stdout",
     "output_type": "stream",
     "text": [
      "INFO:tensorflow:Initialize variable module/MobilenetV1/Conv2d_4_pointwise/BatchNorm/beta:0 from checkpoint b'/tmp/tfhub_modules/14d65617a151aa220a82c2a2c5ad68d504abbccf/variables/variables' with MobilenetV1/Conv2d_4_pointwise/BatchNorm/beta\n"
     ]
    },
    {
     "name": "stderr",
     "output_type": "stream",
     "text": [
      "INFO:tensorflow:Initialize variable module/MobilenetV1/Conv2d_4_pointwise/BatchNorm/beta:0 from checkpoint b'/tmp/tfhub_modules/14d65617a151aa220a82c2a2c5ad68d504abbccf/variables/variables' with MobilenetV1/Conv2d_4_pointwise/BatchNorm/beta\n"
     ]
    },
    {
     "name": "stdout",
     "output_type": "stream",
     "text": [
      "INFO:tensorflow:Initialize variable module/MobilenetV1/Conv2d_4_pointwise/BatchNorm/gamma:0 from checkpoint b'/tmp/tfhub_modules/14d65617a151aa220a82c2a2c5ad68d504abbccf/variables/variables' with MobilenetV1/Conv2d_4_pointwise/BatchNorm/gamma\n"
     ]
    },
    {
     "name": "stderr",
     "output_type": "stream",
     "text": [
      "INFO:tensorflow:Initialize variable module/MobilenetV1/Conv2d_4_pointwise/BatchNorm/gamma:0 from checkpoint b'/tmp/tfhub_modules/14d65617a151aa220a82c2a2c5ad68d504abbccf/variables/variables' with MobilenetV1/Conv2d_4_pointwise/BatchNorm/gamma\n"
     ]
    },
    {
     "name": "stdout",
     "output_type": "stream",
     "text": [
      "INFO:tensorflow:Initialize variable module/MobilenetV1/Conv2d_4_pointwise/BatchNorm/moving_mean:0 from checkpoint b'/tmp/tfhub_modules/14d65617a151aa220a82c2a2c5ad68d504abbccf/variables/variables' with MobilenetV1/Conv2d_4_pointwise/BatchNorm/moving_mean\n"
     ]
    },
    {
     "name": "stderr",
     "output_type": "stream",
     "text": [
      "INFO:tensorflow:Initialize variable module/MobilenetV1/Conv2d_4_pointwise/BatchNorm/moving_mean:0 from checkpoint b'/tmp/tfhub_modules/14d65617a151aa220a82c2a2c5ad68d504abbccf/variables/variables' with MobilenetV1/Conv2d_4_pointwise/BatchNorm/moving_mean\n"
     ]
    },
    {
     "name": "stdout",
     "output_type": "stream",
     "text": [
      "INFO:tensorflow:Initialize variable module/MobilenetV1/Conv2d_4_pointwise/BatchNorm/moving_variance:0 from checkpoint b'/tmp/tfhub_modules/14d65617a151aa220a82c2a2c5ad68d504abbccf/variables/variables' with MobilenetV1/Conv2d_4_pointwise/BatchNorm/moving_variance\n"
     ]
    },
    {
     "name": "stderr",
     "output_type": "stream",
     "text": [
      "INFO:tensorflow:Initialize variable module/MobilenetV1/Conv2d_4_pointwise/BatchNorm/moving_variance:0 from checkpoint b'/tmp/tfhub_modules/14d65617a151aa220a82c2a2c5ad68d504abbccf/variables/variables' with MobilenetV1/Conv2d_4_pointwise/BatchNorm/moving_variance\n"
     ]
    },
    {
     "name": "stdout",
     "output_type": "stream",
     "text": [
      "INFO:tensorflow:Initialize variable module/MobilenetV1/Conv2d_4_pointwise/weights:0 from checkpoint b'/tmp/tfhub_modules/14d65617a151aa220a82c2a2c5ad68d504abbccf/variables/variables' with MobilenetV1/Conv2d_4_pointwise/weights\n"
     ]
    },
    {
     "name": "stderr",
     "output_type": "stream",
     "text": [
      "INFO:tensorflow:Initialize variable module/MobilenetV1/Conv2d_4_pointwise/weights:0 from checkpoint b'/tmp/tfhub_modules/14d65617a151aa220a82c2a2c5ad68d504abbccf/variables/variables' with MobilenetV1/Conv2d_4_pointwise/weights\n"
     ]
    },
    {
     "name": "stdout",
     "output_type": "stream",
     "text": [
      "INFO:tensorflow:Initialize variable module/MobilenetV1/Conv2d_5_depthwise/BatchNorm/beta:0 from checkpoint b'/tmp/tfhub_modules/14d65617a151aa220a82c2a2c5ad68d504abbccf/variables/variables' with MobilenetV1/Conv2d_5_depthwise/BatchNorm/beta\n"
     ]
    },
    {
     "name": "stderr",
     "output_type": "stream",
     "text": [
      "INFO:tensorflow:Initialize variable module/MobilenetV1/Conv2d_5_depthwise/BatchNorm/beta:0 from checkpoint b'/tmp/tfhub_modules/14d65617a151aa220a82c2a2c5ad68d504abbccf/variables/variables' with MobilenetV1/Conv2d_5_depthwise/BatchNorm/beta\n"
     ]
    },
    {
     "name": "stdout",
     "output_type": "stream",
     "text": [
      "INFO:tensorflow:Initialize variable module/MobilenetV1/Conv2d_5_depthwise/BatchNorm/gamma:0 from checkpoint b'/tmp/tfhub_modules/14d65617a151aa220a82c2a2c5ad68d504abbccf/variables/variables' with MobilenetV1/Conv2d_5_depthwise/BatchNorm/gamma\n"
     ]
    },
    {
     "name": "stderr",
     "output_type": "stream",
     "text": [
      "INFO:tensorflow:Initialize variable module/MobilenetV1/Conv2d_5_depthwise/BatchNorm/gamma:0 from checkpoint b'/tmp/tfhub_modules/14d65617a151aa220a82c2a2c5ad68d504abbccf/variables/variables' with MobilenetV1/Conv2d_5_depthwise/BatchNorm/gamma\n"
     ]
    },
    {
     "name": "stdout",
     "output_type": "stream",
     "text": [
      "INFO:tensorflow:Initialize variable module/MobilenetV1/Conv2d_5_depthwise/BatchNorm/moving_mean:0 from checkpoint b'/tmp/tfhub_modules/14d65617a151aa220a82c2a2c5ad68d504abbccf/variables/variables' with MobilenetV1/Conv2d_5_depthwise/BatchNorm/moving_mean\n"
     ]
    },
    {
     "name": "stderr",
     "output_type": "stream",
     "text": [
      "INFO:tensorflow:Initialize variable module/MobilenetV1/Conv2d_5_depthwise/BatchNorm/moving_mean:0 from checkpoint b'/tmp/tfhub_modules/14d65617a151aa220a82c2a2c5ad68d504abbccf/variables/variables' with MobilenetV1/Conv2d_5_depthwise/BatchNorm/moving_mean\n"
     ]
    },
    {
     "name": "stdout",
     "output_type": "stream",
     "text": [
      "INFO:tensorflow:Initialize variable module/MobilenetV1/Conv2d_5_depthwise/BatchNorm/moving_variance:0 from checkpoint b'/tmp/tfhub_modules/14d65617a151aa220a82c2a2c5ad68d504abbccf/variables/variables' with MobilenetV1/Conv2d_5_depthwise/BatchNorm/moving_variance\n"
     ]
    },
    {
     "name": "stderr",
     "output_type": "stream",
     "text": [
      "INFO:tensorflow:Initialize variable module/MobilenetV1/Conv2d_5_depthwise/BatchNorm/moving_variance:0 from checkpoint b'/tmp/tfhub_modules/14d65617a151aa220a82c2a2c5ad68d504abbccf/variables/variables' with MobilenetV1/Conv2d_5_depthwise/BatchNorm/moving_variance\n"
     ]
    },
    {
     "name": "stdout",
     "output_type": "stream",
     "text": [
      "INFO:tensorflow:Initialize variable module/MobilenetV1/Conv2d_5_depthwise/depthwise_weights:0 from checkpoint b'/tmp/tfhub_modules/14d65617a151aa220a82c2a2c5ad68d504abbccf/variables/variables' with MobilenetV1/Conv2d_5_depthwise/depthwise_weights\n"
     ]
    },
    {
     "name": "stderr",
     "output_type": "stream",
     "text": [
      "INFO:tensorflow:Initialize variable module/MobilenetV1/Conv2d_5_depthwise/depthwise_weights:0 from checkpoint b'/tmp/tfhub_modules/14d65617a151aa220a82c2a2c5ad68d504abbccf/variables/variables' with MobilenetV1/Conv2d_5_depthwise/depthwise_weights\n"
     ]
    },
    {
     "name": "stdout",
     "output_type": "stream",
     "text": [
      "INFO:tensorflow:Initialize variable module/MobilenetV1/Conv2d_5_pointwise/BatchNorm/beta:0 from checkpoint b'/tmp/tfhub_modules/14d65617a151aa220a82c2a2c5ad68d504abbccf/variables/variables' with MobilenetV1/Conv2d_5_pointwise/BatchNorm/beta\n"
     ]
    },
    {
     "name": "stderr",
     "output_type": "stream",
     "text": [
      "INFO:tensorflow:Initialize variable module/MobilenetV1/Conv2d_5_pointwise/BatchNorm/beta:0 from checkpoint b'/tmp/tfhub_modules/14d65617a151aa220a82c2a2c5ad68d504abbccf/variables/variables' with MobilenetV1/Conv2d_5_pointwise/BatchNorm/beta\n"
     ]
    },
    {
     "name": "stdout",
     "output_type": "stream",
     "text": [
      "INFO:tensorflow:Initialize variable module/MobilenetV1/Conv2d_5_pointwise/BatchNorm/gamma:0 from checkpoint b'/tmp/tfhub_modules/14d65617a151aa220a82c2a2c5ad68d504abbccf/variables/variables' with MobilenetV1/Conv2d_5_pointwise/BatchNorm/gamma\n"
     ]
    },
    {
     "name": "stderr",
     "output_type": "stream",
     "text": [
      "INFO:tensorflow:Initialize variable module/MobilenetV1/Conv2d_5_pointwise/BatchNorm/gamma:0 from checkpoint b'/tmp/tfhub_modules/14d65617a151aa220a82c2a2c5ad68d504abbccf/variables/variables' with MobilenetV1/Conv2d_5_pointwise/BatchNorm/gamma\n"
     ]
    },
    {
     "name": "stdout",
     "output_type": "stream",
     "text": [
      "INFO:tensorflow:Initialize variable module/MobilenetV1/Conv2d_5_pointwise/BatchNorm/moving_mean:0 from checkpoint b'/tmp/tfhub_modules/14d65617a151aa220a82c2a2c5ad68d504abbccf/variables/variables' with MobilenetV1/Conv2d_5_pointwise/BatchNorm/moving_mean\n"
     ]
    },
    {
     "name": "stderr",
     "output_type": "stream",
     "text": [
      "INFO:tensorflow:Initialize variable module/MobilenetV1/Conv2d_5_pointwise/BatchNorm/moving_mean:0 from checkpoint b'/tmp/tfhub_modules/14d65617a151aa220a82c2a2c5ad68d504abbccf/variables/variables' with MobilenetV1/Conv2d_5_pointwise/BatchNorm/moving_mean\n"
     ]
    },
    {
     "name": "stdout",
     "output_type": "stream",
     "text": [
      "INFO:tensorflow:Initialize variable module/MobilenetV1/Conv2d_5_pointwise/BatchNorm/moving_variance:0 from checkpoint b'/tmp/tfhub_modules/14d65617a151aa220a82c2a2c5ad68d504abbccf/variables/variables' with MobilenetV1/Conv2d_5_pointwise/BatchNorm/moving_variance\n"
     ]
    },
    {
     "name": "stderr",
     "output_type": "stream",
     "text": [
      "INFO:tensorflow:Initialize variable module/MobilenetV1/Conv2d_5_pointwise/BatchNorm/moving_variance:0 from checkpoint b'/tmp/tfhub_modules/14d65617a151aa220a82c2a2c5ad68d504abbccf/variables/variables' with MobilenetV1/Conv2d_5_pointwise/BatchNorm/moving_variance\n"
     ]
    },
    {
     "name": "stdout",
     "output_type": "stream",
     "text": [
      "INFO:tensorflow:Initialize variable module/MobilenetV1/Conv2d_5_pointwise/weights:0 from checkpoint b'/tmp/tfhub_modules/14d65617a151aa220a82c2a2c5ad68d504abbccf/variables/variables' with MobilenetV1/Conv2d_5_pointwise/weights\n"
     ]
    },
    {
     "name": "stderr",
     "output_type": "stream",
     "text": [
      "INFO:tensorflow:Initialize variable module/MobilenetV1/Conv2d_5_pointwise/weights:0 from checkpoint b'/tmp/tfhub_modules/14d65617a151aa220a82c2a2c5ad68d504abbccf/variables/variables' with MobilenetV1/Conv2d_5_pointwise/weights\n"
     ]
    },
    {
     "name": "stdout",
     "output_type": "stream",
     "text": [
      "INFO:tensorflow:Initialize variable module/MobilenetV1/Conv2d_6_depthwise/BatchNorm/beta:0 from checkpoint b'/tmp/tfhub_modules/14d65617a151aa220a82c2a2c5ad68d504abbccf/variables/variables' with MobilenetV1/Conv2d_6_depthwise/BatchNorm/beta\n"
     ]
    },
    {
     "name": "stderr",
     "output_type": "stream",
     "text": [
      "INFO:tensorflow:Initialize variable module/MobilenetV1/Conv2d_6_depthwise/BatchNorm/beta:0 from checkpoint b'/tmp/tfhub_modules/14d65617a151aa220a82c2a2c5ad68d504abbccf/variables/variables' with MobilenetV1/Conv2d_6_depthwise/BatchNorm/beta\n"
     ]
    },
    {
     "name": "stdout",
     "output_type": "stream",
     "text": [
      "INFO:tensorflow:Initialize variable module/MobilenetV1/Conv2d_6_depthwise/BatchNorm/gamma:0 from checkpoint b'/tmp/tfhub_modules/14d65617a151aa220a82c2a2c5ad68d504abbccf/variables/variables' with MobilenetV1/Conv2d_6_depthwise/BatchNorm/gamma\n"
     ]
    },
    {
     "name": "stderr",
     "output_type": "stream",
     "text": [
      "INFO:tensorflow:Initialize variable module/MobilenetV1/Conv2d_6_depthwise/BatchNorm/gamma:0 from checkpoint b'/tmp/tfhub_modules/14d65617a151aa220a82c2a2c5ad68d504abbccf/variables/variables' with MobilenetV1/Conv2d_6_depthwise/BatchNorm/gamma\n"
     ]
    },
    {
     "name": "stdout",
     "output_type": "stream",
     "text": [
      "INFO:tensorflow:Initialize variable module/MobilenetV1/Conv2d_6_depthwise/BatchNorm/moving_mean:0 from checkpoint b'/tmp/tfhub_modules/14d65617a151aa220a82c2a2c5ad68d504abbccf/variables/variables' with MobilenetV1/Conv2d_6_depthwise/BatchNorm/moving_mean\n"
     ]
    },
    {
     "name": "stderr",
     "output_type": "stream",
     "text": [
      "INFO:tensorflow:Initialize variable module/MobilenetV1/Conv2d_6_depthwise/BatchNorm/moving_mean:0 from checkpoint b'/tmp/tfhub_modules/14d65617a151aa220a82c2a2c5ad68d504abbccf/variables/variables' with MobilenetV1/Conv2d_6_depthwise/BatchNorm/moving_mean\n"
     ]
    },
    {
     "name": "stdout",
     "output_type": "stream",
     "text": [
      "INFO:tensorflow:Initialize variable module/MobilenetV1/Conv2d_6_depthwise/BatchNorm/moving_variance:0 from checkpoint b'/tmp/tfhub_modules/14d65617a151aa220a82c2a2c5ad68d504abbccf/variables/variables' with MobilenetV1/Conv2d_6_depthwise/BatchNorm/moving_variance\n"
     ]
    },
    {
     "name": "stderr",
     "output_type": "stream",
     "text": [
      "INFO:tensorflow:Initialize variable module/MobilenetV1/Conv2d_6_depthwise/BatchNorm/moving_variance:0 from checkpoint b'/tmp/tfhub_modules/14d65617a151aa220a82c2a2c5ad68d504abbccf/variables/variables' with MobilenetV1/Conv2d_6_depthwise/BatchNorm/moving_variance\n"
     ]
    },
    {
     "name": "stdout",
     "output_type": "stream",
     "text": [
      "INFO:tensorflow:Initialize variable module/MobilenetV1/Conv2d_6_depthwise/depthwise_weights:0 from checkpoint b'/tmp/tfhub_modules/14d65617a151aa220a82c2a2c5ad68d504abbccf/variables/variables' with MobilenetV1/Conv2d_6_depthwise/depthwise_weights\n"
     ]
    },
    {
     "name": "stderr",
     "output_type": "stream",
     "text": [
      "INFO:tensorflow:Initialize variable module/MobilenetV1/Conv2d_6_depthwise/depthwise_weights:0 from checkpoint b'/tmp/tfhub_modules/14d65617a151aa220a82c2a2c5ad68d504abbccf/variables/variables' with MobilenetV1/Conv2d_6_depthwise/depthwise_weights\n"
     ]
    },
    {
     "name": "stdout",
     "output_type": "stream",
     "text": [
      "INFO:tensorflow:Initialize variable module/MobilenetV1/Conv2d_6_pointwise/BatchNorm/beta:0 from checkpoint b'/tmp/tfhub_modules/14d65617a151aa220a82c2a2c5ad68d504abbccf/variables/variables' with MobilenetV1/Conv2d_6_pointwise/BatchNorm/beta\n"
     ]
    },
    {
     "name": "stderr",
     "output_type": "stream",
     "text": [
      "INFO:tensorflow:Initialize variable module/MobilenetV1/Conv2d_6_pointwise/BatchNorm/beta:0 from checkpoint b'/tmp/tfhub_modules/14d65617a151aa220a82c2a2c5ad68d504abbccf/variables/variables' with MobilenetV1/Conv2d_6_pointwise/BatchNorm/beta\n"
     ]
    },
    {
     "name": "stdout",
     "output_type": "stream",
     "text": [
      "INFO:tensorflow:Initialize variable module/MobilenetV1/Conv2d_6_pointwise/BatchNorm/gamma:0 from checkpoint b'/tmp/tfhub_modules/14d65617a151aa220a82c2a2c5ad68d504abbccf/variables/variables' with MobilenetV1/Conv2d_6_pointwise/BatchNorm/gamma\n"
     ]
    },
    {
     "name": "stderr",
     "output_type": "stream",
     "text": [
      "INFO:tensorflow:Initialize variable module/MobilenetV1/Conv2d_6_pointwise/BatchNorm/gamma:0 from checkpoint b'/tmp/tfhub_modules/14d65617a151aa220a82c2a2c5ad68d504abbccf/variables/variables' with MobilenetV1/Conv2d_6_pointwise/BatchNorm/gamma\n"
     ]
    },
    {
     "name": "stdout",
     "output_type": "stream",
     "text": [
      "INFO:tensorflow:Initialize variable module/MobilenetV1/Conv2d_6_pointwise/BatchNorm/moving_mean:0 from checkpoint b'/tmp/tfhub_modules/14d65617a151aa220a82c2a2c5ad68d504abbccf/variables/variables' with MobilenetV1/Conv2d_6_pointwise/BatchNorm/moving_mean\n"
     ]
    },
    {
     "name": "stderr",
     "output_type": "stream",
     "text": [
      "INFO:tensorflow:Initialize variable module/MobilenetV1/Conv2d_6_pointwise/BatchNorm/moving_mean:0 from checkpoint b'/tmp/tfhub_modules/14d65617a151aa220a82c2a2c5ad68d504abbccf/variables/variables' with MobilenetV1/Conv2d_6_pointwise/BatchNorm/moving_mean\n"
     ]
    },
    {
     "name": "stdout",
     "output_type": "stream",
     "text": [
      "INFO:tensorflow:Initialize variable module/MobilenetV1/Conv2d_6_pointwise/BatchNorm/moving_variance:0 from checkpoint b'/tmp/tfhub_modules/14d65617a151aa220a82c2a2c5ad68d504abbccf/variables/variables' with MobilenetV1/Conv2d_6_pointwise/BatchNorm/moving_variance\n"
     ]
    },
    {
     "name": "stderr",
     "output_type": "stream",
     "text": [
      "INFO:tensorflow:Initialize variable module/MobilenetV1/Conv2d_6_pointwise/BatchNorm/moving_variance:0 from checkpoint b'/tmp/tfhub_modules/14d65617a151aa220a82c2a2c5ad68d504abbccf/variables/variables' with MobilenetV1/Conv2d_6_pointwise/BatchNorm/moving_variance\n"
     ]
    },
    {
     "name": "stdout",
     "output_type": "stream",
     "text": [
      "INFO:tensorflow:Initialize variable module/MobilenetV1/Conv2d_6_pointwise/weights:0 from checkpoint b'/tmp/tfhub_modules/14d65617a151aa220a82c2a2c5ad68d504abbccf/variables/variables' with MobilenetV1/Conv2d_6_pointwise/weights\n"
     ]
    },
    {
     "name": "stderr",
     "output_type": "stream",
     "text": [
      "INFO:tensorflow:Initialize variable module/MobilenetV1/Conv2d_6_pointwise/weights:0 from checkpoint b'/tmp/tfhub_modules/14d65617a151aa220a82c2a2c5ad68d504abbccf/variables/variables' with MobilenetV1/Conv2d_6_pointwise/weights\n"
     ]
    },
    {
     "name": "stdout",
     "output_type": "stream",
     "text": [
      "INFO:tensorflow:Initialize variable module/MobilenetV1/Conv2d_7_depthwise/BatchNorm/beta:0 from checkpoint b'/tmp/tfhub_modules/14d65617a151aa220a82c2a2c5ad68d504abbccf/variables/variables' with MobilenetV1/Conv2d_7_depthwise/BatchNorm/beta\n"
     ]
    },
    {
     "name": "stderr",
     "output_type": "stream",
     "text": [
      "INFO:tensorflow:Initialize variable module/MobilenetV1/Conv2d_7_depthwise/BatchNorm/beta:0 from checkpoint b'/tmp/tfhub_modules/14d65617a151aa220a82c2a2c5ad68d504abbccf/variables/variables' with MobilenetV1/Conv2d_7_depthwise/BatchNorm/beta\n"
     ]
    },
    {
     "name": "stdout",
     "output_type": "stream",
     "text": [
      "INFO:tensorflow:Initialize variable module/MobilenetV1/Conv2d_7_depthwise/BatchNorm/gamma:0 from checkpoint b'/tmp/tfhub_modules/14d65617a151aa220a82c2a2c5ad68d504abbccf/variables/variables' with MobilenetV1/Conv2d_7_depthwise/BatchNorm/gamma\n"
     ]
    },
    {
     "name": "stderr",
     "output_type": "stream",
     "text": [
      "INFO:tensorflow:Initialize variable module/MobilenetV1/Conv2d_7_depthwise/BatchNorm/gamma:0 from checkpoint b'/tmp/tfhub_modules/14d65617a151aa220a82c2a2c5ad68d504abbccf/variables/variables' with MobilenetV1/Conv2d_7_depthwise/BatchNorm/gamma\n"
     ]
    },
    {
     "name": "stdout",
     "output_type": "stream",
     "text": [
      "INFO:tensorflow:Initialize variable module/MobilenetV1/Conv2d_7_depthwise/BatchNorm/moving_mean:0 from checkpoint b'/tmp/tfhub_modules/14d65617a151aa220a82c2a2c5ad68d504abbccf/variables/variables' with MobilenetV1/Conv2d_7_depthwise/BatchNorm/moving_mean\n"
     ]
    },
    {
     "name": "stderr",
     "output_type": "stream",
     "text": [
      "INFO:tensorflow:Initialize variable module/MobilenetV1/Conv2d_7_depthwise/BatchNorm/moving_mean:0 from checkpoint b'/tmp/tfhub_modules/14d65617a151aa220a82c2a2c5ad68d504abbccf/variables/variables' with MobilenetV1/Conv2d_7_depthwise/BatchNorm/moving_mean\n"
     ]
    },
    {
     "name": "stdout",
     "output_type": "stream",
     "text": [
      "INFO:tensorflow:Initialize variable module/MobilenetV1/Conv2d_7_depthwise/BatchNorm/moving_variance:0 from checkpoint b'/tmp/tfhub_modules/14d65617a151aa220a82c2a2c5ad68d504abbccf/variables/variables' with MobilenetV1/Conv2d_7_depthwise/BatchNorm/moving_variance\n"
     ]
    },
    {
     "name": "stderr",
     "output_type": "stream",
     "text": [
      "INFO:tensorflow:Initialize variable module/MobilenetV1/Conv2d_7_depthwise/BatchNorm/moving_variance:0 from checkpoint b'/tmp/tfhub_modules/14d65617a151aa220a82c2a2c5ad68d504abbccf/variables/variables' with MobilenetV1/Conv2d_7_depthwise/BatchNorm/moving_variance\n"
     ]
    },
    {
     "name": "stdout",
     "output_type": "stream",
     "text": [
      "INFO:tensorflow:Initialize variable module/MobilenetV1/Conv2d_7_depthwise/depthwise_weights:0 from checkpoint b'/tmp/tfhub_modules/14d65617a151aa220a82c2a2c5ad68d504abbccf/variables/variables' with MobilenetV1/Conv2d_7_depthwise/depthwise_weights\n"
     ]
    },
    {
     "name": "stderr",
     "output_type": "stream",
     "text": [
      "INFO:tensorflow:Initialize variable module/MobilenetV1/Conv2d_7_depthwise/depthwise_weights:0 from checkpoint b'/tmp/tfhub_modules/14d65617a151aa220a82c2a2c5ad68d504abbccf/variables/variables' with MobilenetV1/Conv2d_7_depthwise/depthwise_weights\n"
     ]
    },
    {
     "name": "stdout",
     "output_type": "stream",
     "text": [
      "INFO:tensorflow:Initialize variable module/MobilenetV1/Conv2d_7_pointwise/BatchNorm/beta:0 from checkpoint b'/tmp/tfhub_modules/14d65617a151aa220a82c2a2c5ad68d504abbccf/variables/variables' with MobilenetV1/Conv2d_7_pointwise/BatchNorm/beta\n"
     ]
    },
    {
     "name": "stderr",
     "output_type": "stream",
     "text": [
      "INFO:tensorflow:Initialize variable module/MobilenetV1/Conv2d_7_pointwise/BatchNorm/beta:0 from checkpoint b'/tmp/tfhub_modules/14d65617a151aa220a82c2a2c5ad68d504abbccf/variables/variables' with MobilenetV1/Conv2d_7_pointwise/BatchNorm/beta\n"
     ]
    },
    {
     "name": "stdout",
     "output_type": "stream",
     "text": [
      "INFO:tensorflow:Initialize variable module/MobilenetV1/Conv2d_7_pointwise/BatchNorm/gamma:0 from checkpoint b'/tmp/tfhub_modules/14d65617a151aa220a82c2a2c5ad68d504abbccf/variables/variables' with MobilenetV1/Conv2d_7_pointwise/BatchNorm/gamma\n"
     ]
    },
    {
     "name": "stderr",
     "output_type": "stream",
     "text": [
      "INFO:tensorflow:Initialize variable module/MobilenetV1/Conv2d_7_pointwise/BatchNorm/gamma:0 from checkpoint b'/tmp/tfhub_modules/14d65617a151aa220a82c2a2c5ad68d504abbccf/variables/variables' with MobilenetV1/Conv2d_7_pointwise/BatchNorm/gamma\n"
     ]
    },
    {
     "name": "stdout",
     "output_type": "stream",
     "text": [
      "INFO:tensorflow:Initialize variable module/MobilenetV1/Conv2d_7_pointwise/BatchNorm/moving_mean:0 from checkpoint b'/tmp/tfhub_modules/14d65617a151aa220a82c2a2c5ad68d504abbccf/variables/variables' with MobilenetV1/Conv2d_7_pointwise/BatchNorm/moving_mean\n"
     ]
    },
    {
     "name": "stderr",
     "output_type": "stream",
     "text": [
      "INFO:tensorflow:Initialize variable module/MobilenetV1/Conv2d_7_pointwise/BatchNorm/moving_mean:0 from checkpoint b'/tmp/tfhub_modules/14d65617a151aa220a82c2a2c5ad68d504abbccf/variables/variables' with MobilenetV1/Conv2d_7_pointwise/BatchNorm/moving_mean\n"
     ]
    },
    {
     "name": "stdout",
     "output_type": "stream",
     "text": [
      "INFO:tensorflow:Initialize variable module/MobilenetV1/Conv2d_7_pointwise/BatchNorm/moving_variance:0 from checkpoint b'/tmp/tfhub_modules/14d65617a151aa220a82c2a2c5ad68d504abbccf/variables/variables' with MobilenetV1/Conv2d_7_pointwise/BatchNorm/moving_variance\n"
     ]
    },
    {
     "name": "stderr",
     "output_type": "stream",
     "text": [
      "INFO:tensorflow:Initialize variable module/MobilenetV1/Conv2d_7_pointwise/BatchNorm/moving_variance:0 from checkpoint b'/tmp/tfhub_modules/14d65617a151aa220a82c2a2c5ad68d504abbccf/variables/variables' with MobilenetV1/Conv2d_7_pointwise/BatchNorm/moving_variance\n"
     ]
    },
    {
     "name": "stdout",
     "output_type": "stream",
     "text": [
      "INFO:tensorflow:Initialize variable module/MobilenetV1/Conv2d_7_pointwise/weights:0 from checkpoint b'/tmp/tfhub_modules/14d65617a151aa220a82c2a2c5ad68d504abbccf/variables/variables' with MobilenetV1/Conv2d_7_pointwise/weights\n"
     ]
    },
    {
     "name": "stderr",
     "output_type": "stream",
     "text": [
      "INFO:tensorflow:Initialize variable module/MobilenetV1/Conv2d_7_pointwise/weights:0 from checkpoint b'/tmp/tfhub_modules/14d65617a151aa220a82c2a2c5ad68d504abbccf/variables/variables' with MobilenetV1/Conv2d_7_pointwise/weights\n"
     ]
    },
    {
     "name": "stdout",
     "output_type": "stream",
     "text": [
      "INFO:tensorflow:Initialize variable module/MobilenetV1/Conv2d_8_depthwise/BatchNorm/beta:0 from checkpoint b'/tmp/tfhub_modules/14d65617a151aa220a82c2a2c5ad68d504abbccf/variables/variables' with MobilenetV1/Conv2d_8_depthwise/BatchNorm/beta\n"
     ]
    },
    {
     "name": "stderr",
     "output_type": "stream",
     "text": [
      "INFO:tensorflow:Initialize variable module/MobilenetV1/Conv2d_8_depthwise/BatchNorm/beta:0 from checkpoint b'/tmp/tfhub_modules/14d65617a151aa220a82c2a2c5ad68d504abbccf/variables/variables' with MobilenetV1/Conv2d_8_depthwise/BatchNorm/beta\n"
     ]
    },
    {
     "name": "stdout",
     "output_type": "stream",
     "text": [
      "INFO:tensorflow:Initialize variable module/MobilenetV1/Conv2d_8_depthwise/BatchNorm/gamma:0 from checkpoint b'/tmp/tfhub_modules/14d65617a151aa220a82c2a2c5ad68d504abbccf/variables/variables' with MobilenetV1/Conv2d_8_depthwise/BatchNorm/gamma\n"
     ]
    },
    {
     "name": "stderr",
     "output_type": "stream",
     "text": [
      "INFO:tensorflow:Initialize variable module/MobilenetV1/Conv2d_8_depthwise/BatchNorm/gamma:0 from checkpoint b'/tmp/tfhub_modules/14d65617a151aa220a82c2a2c5ad68d504abbccf/variables/variables' with MobilenetV1/Conv2d_8_depthwise/BatchNorm/gamma\n"
     ]
    },
    {
     "name": "stdout",
     "output_type": "stream",
     "text": [
      "INFO:tensorflow:Initialize variable module/MobilenetV1/Conv2d_8_depthwise/BatchNorm/moving_mean:0 from checkpoint b'/tmp/tfhub_modules/14d65617a151aa220a82c2a2c5ad68d504abbccf/variables/variables' with MobilenetV1/Conv2d_8_depthwise/BatchNorm/moving_mean\n"
     ]
    },
    {
     "name": "stderr",
     "output_type": "stream",
     "text": [
      "INFO:tensorflow:Initialize variable module/MobilenetV1/Conv2d_8_depthwise/BatchNorm/moving_mean:0 from checkpoint b'/tmp/tfhub_modules/14d65617a151aa220a82c2a2c5ad68d504abbccf/variables/variables' with MobilenetV1/Conv2d_8_depthwise/BatchNorm/moving_mean\n"
     ]
    },
    {
     "name": "stdout",
     "output_type": "stream",
     "text": [
      "INFO:tensorflow:Initialize variable module/MobilenetV1/Conv2d_8_depthwise/BatchNorm/moving_variance:0 from checkpoint b'/tmp/tfhub_modules/14d65617a151aa220a82c2a2c5ad68d504abbccf/variables/variables' with MobilenetV1/Conv2d_8_depthwise/BatchNorm/moving_variance\n"
     ]
    },
    {
     "name": "stderr",
     "output_type": "stream",
     "text": [
      "INFO:tensorflow:Initialize variable module/MobilenetV1/Conv2d_8_depthwise/BatchNorm/moving_variance:0 from checkpoint b'/tmp/tfhub_modules/14d65617a151aa220a82c2a2c5ad68d504abbccf/variables/variables' with MobilenetV1/Conv2d_8_depthwise/BatchNorm/moving_variance\n"
     ]
    },
    {
     "name": "stdout",
     "output_type": "stream",
     "text": [
      "INFO:tensorflow:Initialize variable module/MobilenetV1/Conv2d_8_depthwise/depthwise_weights:0 from checkpoint b'/tmp/tfhub_modules/14d65617a151aa220a82c2a2c5ad68d504abbccf/variables/variables' with MobilenetV1/Conv2d_8_depthwise/depthwise_weights\n"
     ]
    },
    {
     "name": "stderr",
     "output_type": "stream",
     "text": [
      "INFO:tensorflow:Initialize variable module/MobilenetV1/Conv2d_8_depthwise/depthwise_weights:0 from checkpoint b'/tmp/tfhub_modules/14d65617a151aa220a82c2a2c5ad68d504abbccf/variables/variables' with MobilenetV1/Conv2d_8_depthwise/depthwise_weights\n"
     ]
    },
    {
     "name": "stdout",
     "output_type": "stream",
     "text": [
      "INFO:tensorflow:Initialize variable module/MobilenetV1/Conv2d_8_pointwise/BatchNorm/beta:0 from checkpoint b'/tmp/tfhub_modules/14d65617a151aa220a82c2a2c5ad68d504abbccf/variables/variables' with MobilenetV1/Conv2d_8_pointwise/BatchNorm/beta\n"
     ]
    },
    {
     "name": "stderr",
     "output_type": "stream",
     "text": [
      "INFO:tensorflow:Initialize variable module/MobilenetV1/Conv2d_8_pointwise/BatchNorm/beta:0 from checkpoint b'/tmp/tfhub_modules/14d65617a151aa220a82c2a2c5ad68d504abbccf/variables/variables' with MobilenetV1/Conv2d_8_pointwise/BatchNorm/beta\n"
     ]
    },
    {
     "name": "stdout",
     "output_type": "stream",
     "text": [
      "INFO:tensorflow:Initialize variable module/MobilenetV1/Conv2d_8_pointwise/BatchNorm/gamma:0 from checkpoint b'/tmp/tfhub_modules/14d65617a151aa220a82c2a2c5ad68d504abbccf/variables/variables' with MobilenetV1/Conv2d_8_pointwise/BatchNorm/gamma\n"
     ]
    },
    {
     "name": "stderr",
     "output_type": "stream",
     "text": [
      "INFO:tensorflow:Initialize variable module/MobilenetV1/Conv2d_8_pointwise/BatchNorm/gamma:0 from checkpoint b'/tmp/tfhub_modules/14d65617a151aa220a82c2a2c5ad68d504abbccf/variables/variables' with MobilenetV1/Conv2d_8_pointwise/BatchNorm/gamma\n"
     ]
    },
    {
     "name": "stdout",
     "output_type": "stream",
     "text": [
      "INFO:tensorflow:Initialize variable module/MobilenetV1/Conv2d_8_pointwise/BatchNorm/moving_mean:0 from checkpoint b'/tmp/tfhub_modules/14d65617a151aa220a82c2a2c5ad68d504abbccf/variables/variables' with MobilenetV1/Conv2d_8_pointwise/BatchNorm/moving_mean\n"
     ]
    },
    {
     "name": "stderr",
     "output_type": "stream",
     "text": [
      "INFO:tensorflow:Initialize variable module/MobilenetV1/Conv2d_8_pointwise/BatchNorm/moving_mean:0 from checkpoint b'/tmp/tfhub_modules/14d65617a151aa220a82c2a2c5ad68d504abbccf/variables/variables' with MobilenetV1/Conv2d_8_pointwise/BatchNorm/moving_mean\n"
     ]
    },
    {
     "name": "stdout",
     "output_type": "stream",
     "text": [
      "INFO:tensorflow:Initialize variable module/MobilenetV1/Conv2d_8_pointwise/BatchNorm/moving_variance:0 from checkpoint b'/tmp/tfhub_modules/14d65617a151aa220a82c2a2c5ad68d504abbccf/variables/variables' with MobilenetV1/Conv2d_8_pointwise/BatchNorm/moving_variance\n"
     ]
    },
    {
     "name": "stderr",
     "output_type": "stream",
     "text": [
      "INFO:tensorflow:Initialize variable module/MobilenetV1/Conv2d_8_pointwise/BatchNorm/moving_variance:0 from checkpoint b'/tmp/tfhub_modules/14d65617a151aa220a82c2a2c5ad68d504abbccf/variables/variables' with MobilenetV1/Conv2d_8_pointwise/BatchNorm/moving_variance\n"
     ]
    },
    {
     "name": "stdout",
     "output_type": "stream",
     "text": [
      "INFO:tensorflow:Initialize variable module/MobilenetV1/Conv2d_8_pointwise/weights:0 from checkpoint b'/tmp/tfhub_modules/14d65617a151aa220a82c2a2c5ad68d504abbccf/variables/variables' with MobilenetV1/Conv2d_8_pointwise/weights\n"
     ]
    },
    {
     "name": "stderr",
     "output_type": "stream",
     "text": [
      "INFO:tensorflow:Initialize variable module/MobilenetV1/Conv2d_8_pointwise/weights:0 from checkpoint b'/tmp/tfhub_modules/14d65617a151aa220a82c2a2c5ad68d504abbccf/variables/variables' with MobilenetV1/Conv2d_8_pointwise/weights\n"
     ]
    },
    {
     "name": "stdout",
     "output_type": "stream",
     "text": [
      "INFO:tensorflow:Initialize variable module/MobilenetV1/Conv2d_9_depthwise/BatchNorm/beta:0 from checkpoint b'/tmp/tfhub_modules/14d65617a151aa220a82c2a2c5ad68d504abbccf/variables/variables' with MobilenetV1/Conv2d_9_depthwise/BatchNorm/beta\n"
     ]
    },
    {
     "name": "stderr",
     "output_type": "stream",
     "text": [
      "INFO:tensorflow:Initialize variable module/MobilenetV1/Conv2d_9_depthwise/BatchNorm/beta:0 from checkpoint b'/tmp/tfhub_modules/14d65617a151aa220a82c2a2c5ad68d504abbccf/variables/variables' with MobilenetV1/Conv2d_9_depthwise/BatchNorm/beta\n"
     ]
    },
    {
     "name": "stdout",
     "output_type": "stream",
     "text": [
      "INFO:tensorflow:Initialize variable module/MobilenetV1/Conv2d_9_depthwise/BatchNorm/gamma:0 from checkpoint b'/tmp/tfhub_modules/14d65617a151aa220a82c2a2c5ad68d504abbccf/variables/variables' with MobilenetV1/Conv2d_9_depthwise/BatchNorm/gamma\n"
     ]
    },
    {
     "name": "stderr",
     "output_type": "stream",
     "text": [
      "INFO:tensorflow:Initialize variable module/MobilenetV1/Conv2d_9_depthwise/BatchNorm/gamma:0 from checkpoint b'/tmp/tfhub_modules/14d65617a151aa220a82c2a2c5ad68d504abbccf/variables/variables' with MobilenetV1/Conv2d_9_depthwise/BatchNorm/gamma\n"
     ]
    },
    {
     "name": "stdout",
     "output_type": "stream",
     "text": [
      "INFO:tensorflow:Initialize variable module/MobilenetV1/Conv2d_9_depthwise/BatchNorm/moving_mean:0 from checkpoint b'/tmp/tfhub_modules/14d65617a151aa220a82c2a2c5ad68d504abbccf/variables/variables' with MobilenetV1/Conv2d_9_depthwise/BatchNorm/moving_mean\n"
     ]
    },
    {
     "name": "stderr",
     "output_type": "stream",
     "text": [
      "INFO:tensorflow:Initialize variable module/MobilenetV1/Conv2d_9_depthwise/BatchNorm/moving_mean:0 from checkpoint b'/tmp/tfhub_modules/14d65617a151aa220a82c2a2c5ad68d504abbccf/variables/variables' with MobilenetV1/Conv2d_9_depthwise/BatchNorm/moving_mean\n"
     ]
    },
    {
     "name": "stdout",
     "output_type": "stream",
     "text": [
      "INFO:tensorflow:Initialize variable module/MobilenetV1/Conv2d_9_depthwise/BatchNorm/moving_variance:0 from checkpoint b'/tmp/tfhub_modules/14d65617a151aa220a82c2a2c5ad68d504abbccf/variables/variables' with MobilenetV1/Conv2d_9_depthwise/BatchNorm/moving_variance\n"
     ]
    },
    {
     "name": "stderr",
     "output_type": "stream",
     "text": [
      "INFO:tensorflow:Initialize variable module/MobilenetV1/Conv2d_9_depthwise/BatchNorm/moving_variance:0 from checkpoint b'/tmp/tfhub_modules/14d65617a151aa220a82c2a2c5ad68d504abbccf/variables/variables' with MobilenetV1/Conv2d_9_depthwise/BatchNorm/moving_variance\n"
     ]
    },
    {
     "name": "stdout",
     "output_type": "stream",
     "text": [
      "INFO:tensorflow:Initialize variable module/MobilenetV1/Conv2d_9_depthwise/depthwise_weights:0 from checkpoint b'/tmp/tfhub_modules/14d65617a151aa220a82c2a2c5ad68d504abbccf/variables/variables' with MobilenetV1/Conv2d_9_depthwise/depthwise_weights\n"
     ]
    },
    {
     "name": "stderr",
     "output_type": "stream",
     "text": [
      "INFO:tensorflow:Initialize variable module/MobilenetV1/Conv2d_9_depthwise/depthwise_weights:0 from checkpoint b'/tmp/tfhub_modules/14d65617a151aa220a82c2a2c5ad68d504abbccf/variables/variables' with MobilenetV1/Conv2d_9_depthwise/depthwise_weights\n"
     ]
    },
    {
     "name": "stdout",
     "output_type": "stream",
     "text": [
      "INFO:tensorflow:Initialize variable module/MobilenetV1/Conv2d_9_pointwise/BatchNorm/beta:0 from checkpoint b'/tmp/tfhub_modules/14d65617a151aa220a82c2a2c5ad68d504abbccf/variables/variables' with MobilenetV1/Conv2d_9_pointwise/BatchNorm/beta\n"
     ]
    },
    {
     "name": "stderr",
     "output_type": "stream",
     "text": [
      "INFO:tensorflow:Initialize variable module/MobilenetV1/Conv2d_9_pointwise/BatchNorm/beta:0 from checkpoint b'/tmp/tfhub_modules/14d65617a151aa220a82c2a2c5ad68d504abbccf/variables/variables' with MobilenetV1/Conv2d_9_pointwise/BatchNorm/beta\n"
     ]
    },
    {
     "name": "stdout",
     "output_type": "stream",
     "text": [
      "INFO:tensorflow:Initialize variable module/MobilenetV1/Conv2d_9_pointwise/BatchNorm/gamma:0 from checkpoint b'/tmp/tfhub_modules/14d65617a151aa220a82c2a2c5ad68d504abbccf/variables/variables' with MobilenetV1/Conv2d_9_pointwise/BatchNorm/gamma\n"
     ]
    },
    {
     "name": "stderr",
     "output_type": "stream",
     "text": [
      "INFO:tensorflow:Initialize variable module/MobilenetV1/Conv2d_9_pointwise/BatchNorm/gamma:0 from checkpoint b'/tmp/tfhub_modules/14d65617a151aa220a82c2a2c5ad68d504abbccf/variables/variables' with MobilenetV1/Conv2d_9_pointwise/BatchNorm/gamma\n"
     ]
    },
    {
     "name": "stdout",
     "output_type": "stream",
     "text": [
      "INFO:tensorflow:Initialize variable module/MobilenetV1/Conv2d_9_pointwise/BatchNorm/moving_mean:0 from checkpoint b'/tmp/tfhub_modules/14d65617a151aa220a82c2a2c5ad68d504abbccf/variables/variables' with MobilenetV1/Conv2d_9_pointwise/BatchNorm/moving_mean\n"
     ]
    },
    {
     "name": "stderr",
     "output_type": "stream",
     "text": [
      "INFO:tensorflow:Initialize variable module/MobilenetV1/Conv2d_9_pointwise/BatchNorm/moving_mean:0 from checkpoint b'/tmp/tfhub_modules/14d65617a151aa220a82c2a2c5ad68d504abbccf/variables/variables' with MobilenetV1/Conv2d_9_pointwise/BatchNorm/moving_mean\n"
     ]
    },
    {
     "name": "stdout",
     "output_type": "stream",
     "text": [
      "INFO:tensorflow:Initialize variable module/MobilenetV1/Conv2d_9_pointwise/BatchNorm/moving_variance:0 from checkpoint b'/tmp/tfhub_modules/14d65617a151aa220a82c2a2c5ad68d504abbccf/variables/variables' with MobilenetV1/Conv2d_9_pointwise/BatchNorm/moving_variance\n"
     ]
    },
    {
     "name": "stderr",
     "output_type": "stream",
     "text": [
      "INFO:tensorflow:Initialize variable module/MobilenetV1/Conv2d_9_pointwise/BatchNorm/moving_variance:0 from checkpoint b'/tmp/tfhub_modules/14d65617a151aa220a82c2a2c5ad68d504abbccf/variables/variables' with MobilenetV1/Conv2d_9_pointwise/BatchNorm/moving_variance\n"
     ]
    },
    {
     "name": "stdout",
     "output_type": "stream",
     "text": [
      "INFO:tensorflow:Initialize variable module/MobilenetV1/Conv2d_9_pointwise/weights:0 from checkpoint b'/tmp/tfhub_modules/14d65617a151aa220a82c2a2c5ad68d504abbccf/variables/variables' with MobilenetV1/Conv2d_9_pointwise/weights\n"
     ]
    },
    {
     "name": "stderr",
     "output_type": "stream",
     "text": [
      "INFO:tensorflow:Initialize variable module/MobilenetV1/Conv2d_9_pointwise/weights:0 from checkpoint b'/tmp/tfhub_modules/14d65617a151aa220a82c2a2c5ad68d504abbccf/variables/variables' with MobilenetV1/Conv2d_9_pointwise/weights\n"
     ]
    },
    {
     "name": "stdout",
     "output_type": "stream",
     "text": [
      "INFO:tensorflow:Restoring parameters from /tmp/_retrain_checkpoint\n"
     ]
    },
    {
     "name": "stderr",
     "output_type": "stream",
     "text": [
      "INFO:tensorflow:Restoring parameters from /tmp/_retrain_checkpoint\n"
     ]
    },
    {
     "name": "stdout",
     "output_type": "stream",
     "text": [
      "INFO:tensorflow:Froze 137 variables.\n"
     ]
    },
    {
     "name": "stderr",
     "output_type": "stream",
     "text": [
      "INFO:tensorflow:Froze 137 variables.\n"
     ]
    },
    {
     "name": "stdout",
     "output_type": "stream",
     "text": [
      "Converted 137 variables to const ops.\n"
     ]
    }
   ],
   "source": [
    "# %%capture capt\n",
    "\n",
    "%run -i scripts/retrain.py --image_dir ../additional/data/train \\\n",
    "    --tfhub_module https://tfhub.dev/google/imagenet/mobilenet_v1_075_160/feature_vector/1 \\\n",
    "    --how_many_training_steps 1000 \\\n",
    "    --train_batch_size 25 \\\n",
    "    --summaries_dir tmp/retrain_logs \\\n",
    "    --output_graph tmp/output_graph.pb \\\n",
    "    --output_labels tmp/output_labels.txt"
   ]
  },
  {
   "cell_type": "code",
   "execution_count": 10,
   "metadata": {},
   "outputs": [
    {
     "name": "stdout",
     "output_type": "stream",
     "text": [
      "/home/jharmse/anaconda3/lib/python3.6/site-packages/h5py/__init__.py:36: FutureWarning: Conversion of the second argument of issubdtype from `float` to `np.floating` is deprecated. In future, it will be treated as `np.float64 == np.dtype(float).type`.\n",
      "  from ._conv import register_converters as _register_converters\n",
      "2018-09-09 15:40:45.187848: I tensorflow/core/platform/cpu_feature_guard.cc:140] Your CPU supports instructions that this TensorFlow binary was not compiled to use: SSE4.1 SSE4.2 AVX AVX2 FMA\n",
      "2018-09-09 15:40:45.275377: I tensorflow/stream_executor/cuda/cuda_gpu_executor.cc:898] successful NUMA node read from SysFS had negative value (-1), but there must be at least one NUMA node, so returning NUMA node zero\n",
      "2018-09-09 15:40:45.276107: I tensorflow/core/common_runtime/gpu/gpu_device.cc:1356] Found device 0 with properties: \n",
      "name: GeForce GTX 1050 major: 6 minor: 1 memoryClockRate(GHz): 1.493\n",
      "pciBusID: 0000:01:00.0\n",
      "totalMemory: 3.95GiB freeMemory: 234.44MiB\n",
      "2018-09-09 15:40:45.276123: I tensorflow/core/common_runtime/gpu/gpu_device.cc:1435] Adding visible gpu devices: 0\n",
      "2018-09-09 15:40:45.950331: I tensorflow/core/common_runtime/gpu/gpu_device.cc:923] Device interconnect StreamExecutor with strength 1 edge matrix:\n",
      "2018-09-09 15:40:45.950409: I tensorflow/core/common_runtime/gpu/gpu_device.cc:929]      0 \n",
      "2018-09-09 15:40:45.950420: I tensorflow/core/common_runtime/gpu/gpu_device.cc:942] 0:   N \n",
      "TensorBoard 1.8.0 at http://jharmse:6006 (Press CTRL+C to quit)\n",
      "^C\n"
     ]
    }
   ],
   "source": [
    "! tensorboard --logdir tmp/retrain_logs"
   ]
  },
  {
   "cell_type": "code",
   "execution_count": 17,
   "metadata": {},
   "outputs": [
    {
     "name": "stdout",
     "output_type": "stream",
     "text": [
      "dog 0.99888855\n",
      "cat 0.0011114081\n"
     ]
    }
   ],
   "source": [
    "%run -i scripts/label_image.py --image ../additional/data/test/4.jpg \\\n",
    "    --graph tmp/output_graph.pb \\\n",
    "    --labels tmp/output_labels.txt \\\n",
    "    --input_height 160 \\\n",
    "    --input_width 160 \\\n",
    "    --input_layer Placeholder \\\n",
    "    --output_layer final_result"
   ]
  },
  {
   "cell_type": "markdown",
   "metadata": {},
   "source": [
    "## Predictions using Trained Model\n",
    "\n",
    "**Responsible Person: Akshi**\n",
    "\n",
    "**Estimated Duration: 15 mins**\n",
    "\n",
    "#### Notes\n",
    "\n",
    "* Use ~3 image examples (2 good, 1 ambiguous)\n",
    "\n",
    "* Talk about interpreting the class probabilities."
   ]
  },
  {
   "cell_type": "markdown",
   "metadata": {},
   "source": [
    "## Hyperparameter Tuning (Optional)\n",
    "\n",
    "**Responsible Person: Xinbin**\n",
    "\n",
    "**Estimated Duration: TBD**"
   ]
  },
  {
   "cell_type": "markdown",
   "metadata": {},
   "source": [
    "## Using Different Image Dataset (Optional)\n",
    "\n",
    "**Responsible Person: Akshi**\n",
    "\n",
    "**Estimated Duration: TBD**"
   ]
  },
  {
   "cell_type": "markdown",
   "metadata": {},
   "source": [
    "## Conclusion\n",
    "\n",
    "**Responsible Person: Johannes**\n",
    "\n",
    "**Estimated Duration: 15 mins**\n",
    "\n",
    "#### Notes\n",
    "\n",
    "* Talk about coding challenge\n",
    "\n",
    "* Give a taster for the theory to be covered in the next meetup"
   ]
  }
 ],
 "metadata": {
  "kernelspec": {
   "display_name": "Python 3",
   "language": "python",
   "name": "python3"
  },
  "language_info": {
   "codemirror_mode": {
    "name": "ipython",
    "version": 3
   },
   "file_extension": ".py",
   "mimetype": "text/x-python",
   "name": "python",
   "nbconvert_exporter": "python",
   "pygments_lexer": "ipython3",
   "version": "3.6.4"
  }
 },
 "nbformat": 4,
 "nbformat_minor": 2
}
