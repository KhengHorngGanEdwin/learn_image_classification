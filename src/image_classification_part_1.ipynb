{
 "cells": [
  {
   "cell_type": "markdown",
   "metadata": {},
   "source": [
    "# Image Classification"
   ]
  },
  {
   "cell_type": "markdown",
   "metadata": {},
   "source": [
    "## Intro to Image Classification\n",
    "\n",
    "**Responsible Person: Akshi**\n",
    "\n",
    "**Estimated Duration: 15 mins**\n",
    "\n",
    "### What is Image Classification?\n",
    "\n",
    "Image classification is the process of determining what is shown in an image.\n",
    "\n",
    "[Silicon Valley - Hot Dog Not Hot Dog](https://www.youtube.com/watch?v=ACmydtFDTGs)\n",
    "\n",
    "We can use deep learning to do this for us. When classifying images using deep learning, we use a convolutional neural network (CNN). CNNs are specifically designed to process images. For this session, we will steer clear of the theory behind CNN's and focus on the practical stuff.\n",
    "\n",
    "![https://www.google.ca/url?sa=i&rct=j&q=&esrc=s&source=images&cd=&cad=rja&uact=8&ved=2ahUKEwi5gPbtgofdAhUVIDQIHaWvCvgQjRx6BAgBEAU&url=https%3A%2F%2Fgithub.com%2Ftavgreen%2Flanduse_classification&psig=AOvVaw0a9VXQ-t1Hm1QcJnpfawaa&ust=1535245687702429](../additional/img/number_3_cnn.png)\n",
    "\n",
    "## How do CNNs learn to classify?\n",
    "\n",
    "First we need to decide what we want to teach our model.\n",
    "\n",
    "Do we want our model to correctly identify:\n",
    "\n",
    "* Cats and dogs?\n",
    "\n",
    "* Different types of cats?\n",
    "\n",
    "* Different types of dogs?\n",
    "\n",
    "* Different types of flowers?\n",
    "\n",
    "* Everything?\n",
    "\n",
    "CNNs work in a similar way as a human brain (inspired by the way the visual cortex works). If we, as humans, are exposed to something new, it takes time for us to learn what it is.\n",
    "\n",
    "### Can you identify this berry?\n",
    "\n",
    "![](../additional/img/Wild_red_baneberry_1.jpg)\n",
    "\n",
    "If our brain hasn't been exposed to to something, classification becomes a guessing game. This applies to deep learning as well.\n",
    "\n",
    "We need to teach our model what different berries look like.\n",
    "\n",
    "\n",
    "\n",
    "\n",
    "We need to train our model what the difference is between the different classes.\n",
    "\n",
    "After training, when the model is faced with a new image that it hasn't seen before, it needs to decide for itself what is most likely shown in the image.\n",
    "\n",
    "![](../additional/img/cat_dog.png)\n",
    "\n",
    "![](../additional/img/cat_dog_2.jpg)"
   ]
  },
  {
   "cell_type": "markdown",
   "metadata": {},
   "source": [
    "## Model Training / Retraining\n",
    "\n",
    "**Responsible Person: Xinbin**\n",
    "\n",
    "**Estimated Duration: 15 mins**\n",
    "\n",
    "### Notes\n",
    "\n",
    "* All attendees to image same image dataset\n",
    "\n",
    "* Hyperparameters to be constant\n",
    "\n",
    "* Explain pretrained architechture\n",
    "\n",
    "* Explain transfer learning (how general image features are being used)\n",
    "\n",
    "* Give a simplified explanation of the bottleneck layer and softmamx. Can talk about how it relates to probabilities and how the class with the highest probability is most likely the correct class."
   ]
  },
  {
   "cell_type": "markdown",
   "metadata": {},
   "source": [
    "## Tensorboard\n",
    "\n",
    "**Responsible Person: Johannes**\n",
    "\n",
    "**Estimated Duration: 10 mins**\n",
    "\n"
   ]
  },
  {
   "cell_type": "markdown",
   "metadata": {},
   "source": [
    "## Predictions using Trained Model\n",
    "\n",
    "**Responsible Person: Akshi**\n",
    "\n",
    "**Estimated Duration: 15 mins**\n",
    "\n",
    "#### Notes\n",
    "\n",
    "* Use ~3 image examples (2 good, 1 ambiguous)\n",
    "\n",
    "* Talk about interpreting the class probabilities."
   ]
  },
  {
   "cell_type": "markdown",
   "metadata": {},
   "source": [
    "## Hyperparameter Tuning (Optional)\n",
    "\n",
    "**Responsible Person: Xinbin**\n",
    "\n",
    "**Estimated Duration: TBD**"
   ]
  },
  {
   "cell_type": "markdown",
   "metadata": {},
   "source": [
    "## Using Different Image Dataset (Optional)\n",
    "\n",
    "**Responsible Person: Akshi**\n",
    "\n",
    "**Estimated Duration: TBD**"
   ]
  },
  {
   "cell_type": "markdown",
   "metadata": {},
   "source": [
    "## Conclusion\n",
    "\n",
    "**Responsible Person: Johannes**\n",
    "\n",
    "**Estimated Duration: 15 mins**\n",
    "\n",
    "#### Notes\n",
    "\n",
    "* Talk about coding challenge\n",
    "\n",
    "* Give a taster for the theory to be covered in the next meetup"
   ]
  }
 ],
 "metadata": {
  "kernelspec": {
   "display_name": "Python 3",
   "language": "python",
   "name": "python3"
  },
  "language_info": {
   "codemirror_mode": {
    "name": "ipython",
    "version": 3
   },
   "file_extension": ".py",
   "mimetype": "text/x-python",
   "name": "python",
   "nbconvert_exporter": "python",
   "pygments_lexer": "ipython3",
   "version": "3.6.4"
  }
 },
 "nbformat": 4,
 "nbformat_minor": 2
}
